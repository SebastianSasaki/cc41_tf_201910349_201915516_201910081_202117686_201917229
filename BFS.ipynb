{
  "nbformat": 4,
  "nbformat_minor": 0,
  "metadata": {
    "colab": {
      "name": "BFS.ipynb",
      "provenance": [],
      "authorship_tag": "ABX9TyMiHUAgfPBsR00RSFPujJ+C",
      "include_colab_link": true
    },
    "kernelspec": {
      "name": "python3",
      "display_name": "Python 3"
    },
    "language_info": {
      "name": "python"
    }
  },
  "cells": [
    {
      "cell_type": "markdown",
      "metadata": {
        "id": "view-in-github",
        "colab_type": "text"
      },
      "source": [
        "<a href=\"https://colab.research.google.com/github/SebastianSasaki/cc41_tf_201910349_201915516_201910081_202117686_201917229/blob/main/BFS.ipynb\" target=\"_parent\"><img src=\"https://colab.research.google.com/assets/colab-badge.svg\" alt=\"Open In Colab\"/></a>"
      ]
    },
    {
      "cell_type": "code",
      "metadata": {
        "id": "sFanIzhwumqo"
      },
      "source": [
        "import graphviz as gv #Graficos\n",
        "import numpy as np\n",
        "import heapq as hq\n",
        "import pandas as pd #Leer CSV\n",
        "import matplotlib.pyplot as plt # Gragicos final\n",
        "import math as math #Operaciones matematicas\n",
        "from timeit import timeit\n",
        "\n",
        "def readAdjl(fn, haslabels=False, weighted=False, sep=\"|\"):\n",
        "  with open(fn) as f:\n",
        "    labels = None\n",
        "    if haslabels:\n",
        "      labels = f.readline().strip().split()\n",
        "    L = []\n",
        "    for line in f:\n",
        "      if weighted:\n",
        "        L.append([tuple(map(int, p.split(sep))) for p in line.strip().split()])\n",
        "        # line => \"1|3 2|5 4|4\" ==> [(1, 3), (2, 5), (4, 4)]\n",
        "      else: \n",
        "        L.append(list(map(int, line.strip().split()))) # \"1 3 5\" => [1, 3, 5]\n",
        "        # L.append([int(x) for x in line.strip().split()])\n",
        "  return L, labels\n",
        "\n",
        "def adjlShow(L, labels=None, directed=False, weighted=False, path=[],\n",
        "             layout=\"sfdp\"):\n",
        "  g = gv.Digraph(\"G\") if directed else gv.Graph(\"G\")\n",
        "  g.graph_attr[\"layout\"] = layout\n",
        "  g.edge_attr[\"color\"] = \"gray\"\n",
        "  g.node_attr[\"color\"] = \"orangered\"\n",
        "  g.node_attr[\"width\"] = \"0.1\"\n",
        "  g.node_attr[\"height\"] = \"0.1\"\n",
        "  g.node_attr[\"fontsize\"] = \"8\"\n",
        "  g.node_attr[\"fontcolor\"] = \"mediumslateblue\"\n",
        "  g.node_attr[\"fontname\"] = \"monospace\"\n",
        "  n = len(L)\n",
        "  for u in range(n):\n",
        "    g.node(str(u), labels[u] if labels else str(u))\n",
        "  added = set()\n",
        "  for v, u in enumerate(path):\n",
        "    if u != None:\n",
        "      g.edge(str(u), str(v), dir=\"forward\", penwidth=\"2\", color=\"orange\")\n",
        "      added.add(f\"{u},{v}\")\n",
        "      added.add(f\"{v},{u}\")\n",
        "  if weighted:\n",
        "    for u in range(n):\n",
        "      for v, w in L[u]:\n",
        "        if not directed and not f\"{u},{v}\" in added:\n",
        "          added.add(f\"{u},{v}\")\n",
        "          added.add(f\"{v},{u}\")\n",
        "          g.edge(str(u), str(v), str(w))\n",
        "        elif directed:\n",
        "          g.edge(str(u), str(v), str(w))\n",
        "  else:\n",
        "    for u in range(n):\n",
        "      for v in L[u]:\n",
        "        if not directed and not f\"{u},{v}\" in added:\n",
        "          added.add(f\"{u},{v}\")\n",
        "          added.add(f\"{v},{u}\")\n",
        "          g.edge(str(u), str(v))\n",
        "        elif directed:\n",
        "          g.edge(str(u), str(v))\n",
        "  return g"
      ],
      "execution_count": 7,
      "outputs": []
    },
    {
      "cell_type": "markdown",
      "metadata": {
        "id": "DPn8mR7-wJv4"
      },
      "source": [
        "Arreglo de prueba"
      ]
    },
    {
      "cell_type": "code",
      "metadata": {
        "colab": {
          "base_uri": "https://localhost:8080/"
        },
        "id": "rUIcvUpawIRx",
        "outputId": "44574e2f-b91e-440d-cb96-826f083f7030"
      },
      "source": [
        "%%file 1.in\n",
        "1 2 4 7\n",
        "0 5\n",
        "0 12\n",
        "6 10\n",
        "0 \n",
        "1 4 6 8\n",
        "3 5 9\n",
        "0 8 14\n",
        "5 7\n",
        "6 10 12 13\n",
        "3 9 13 17\n",
        "12 15\n",
        "2 9 11 15 16\n",
        "9 10\n",
        "7 15\n",
        "11 12 14 16\n",
        "12 15 17\n",
        "10 16"
      ],
      "execution_count": 3,
      "outputs": [
        {
          "output_type": "stream",
          "name": "stdout",
          "text": [
            "Writing 1.in\n"
          ]
        }
      ]
    },
    {
      "cell_type": "code",
      "metadata": {
        "colab": {
          "base_uri": "https://localhost:8080/",
          "height": 757
        },
        "id": "8I3xA8UPwSAl",
        "outputId": "df08fd24-7b63-4bcb-c35d-a09f0069af55"
      },
      "source": [
        "G, _ = readAdjl(\"1.in\")\n",
        "for i, edges in enumerate(G):\n",
        "  print(f\"{i:2}: {edges}\")\n",
        "adjlShow(G)"
      ],
      "execution_count": 41,
      "outputs": [
        {
          "output_type": "stream",
          "name": "stdout",
          "text": [
            " 0: [1, 2, 4, 7]\n",
            " 1: [0, 5]\n",
            " 2: [0, 12]\n",
            " 3: [6, 10]\n",
            " 4: [0]\n",
            " 5: [1, 4, 6, 8]\n",
            " 6: [3, 5, 9]\n",
            " 7: [0, 8, 14]\n",
            " 8: [5, 7]\n",
            " 9: [6, 10, 12, 13]\n",
            "10: [3, 9, 13, 17]\n",
            "11: [12, 15]\n",
            "12: [2, 9, 11, 15, 16]\n",
            "13: [9, 10]\n",
            "14: [7, 15]\n",
            "15: [11, 12, 14, 16]\n",
            "16: [12, 15, 17]\n",
            "17: [10, 16]\n"
          ]
        },
        {
          "output_type": "execute_result",
          "data": {
            "text/plain": [
              "<graphviz.dot.Graph at 0x7fc2bc33ead0>"
            ],
            "image/svg+xml": "<?xml version=\"1.0\" encoding=\"UTF-8\" standalone=\"no\"?>\n<!DOCTYPE svg PUBLIC \"-//W3C//DTD SVG 1.1//EN\"\n \"http://www.w3.org/Graphics/SVG/1.1/DTD/svg11.dtd\">\n<!-- Generated by graphviz version 2.40.1 (20161225.0304)\n -->\n<!-- Title: G Pages: 1 -->\n<svg width=\"424pt\" height=\"310pt\"\n viewBox=\"0.00 0.00 424.13 310.03\" xmlns=\"http://www.w3.org/2000/svg\" xmlns:xlink=\"http://www.w3.org/1999/xlink\">\n<g id=\"graph0\" class=\"graph\" transform=\"scale(1 1) rotate(0) translate(4 306.0315)\">\n<title>G</title>\n<polygon fill=\"#ffffff\" stroke=\"transparent\" points=\"-4,4 -4,-306.0315 420.1326,-306.0315 420.1326,4 -4,4\"/>\n<!-- 0 -->\n<g id=\"node1\" class=\"node\">\n<title>0</title>\n<ellipse fill=\"none\" stroke=\"#ff4500\" cx=\"362.2534\" cy=\"-150.8476\" rx=\"15.6129\" ry=\"12.0417\"/>\n<text text-anchor=\"middle\" x=\"362.2534\" y=\"-148.9476\" font-family=\"monospace\" font-size=\"8.00\" fill=\"#7b68ee\">0</text>\n</g>\n<!-- 1 -->\n<g id=\"node2\" class=\"node\">\n<title>1</title>\n<ellipse fill=\"none\" stroke=\"#ff4500\" cx=\"400.5763\" cy=\"-92.2735\" rx=\"15.6129\" ry=\"12.0417\"/>\n<text text-anchor=\"middle\" x=\"400.5763\" y=\"-90.3735\" font-family=\"monospace\" font-size=\"8.00\" fill=\"#7b68ee\">1</text>\n</g>\n<!-- 0&#45;&#45;1 -->\n<g id=\"edge1\" class=\"edge\">\n<title>0&#45;&#45;1</title>\n<path fill=\"none\" stroke=\"#c0c0c0\" d=\"M369.2824,-140.1042C376.1106,-129.6677 386.4308,-113.894 393.3314,-103.3468\"/>\n</g>\n<!-- 2 -->\n<g id=\"node3\" class=\"node\">\n<title>2</title>\n<ellipse fill=\"none\" stroke=\"#ff4500\" cx=\"257.4394\" cy=\"-184.8039\" rx=\"15.6129\" ry=\"12.0417\"/>\n<text text-anchor=\"middle\" x=\"257.4394\" y=\"-182.9039\" font-family=\"monospace\" font-size=\"8.00\" fill=\"#7b68ee\">2</text>\n</g>\n<!-- 0&#45;&#45;2 -->\n<g id=\"edge2\" class=\"edge\">\n<title>0&#45;&#45;2</title>\n<path fill=\"none\" stroke=\"#c0c0c0\" d=\"M347.6795,-155.5691C327.6545,-162.0565 291.8493,-173.6562 271.8896,-180.1225\"/>\n</g>\n<!-- 4 -->\n<g id=\"node5\" class=\"node\">\n<title>4</title>\n<ellipse fill=\"none\" stroke=\"#ff4500\" cx=\"379.9342\" cy=\"-62.0354\" rx=\"15.6129\" ry=\"12.0417\"/>\n<text text-anchor=\"middle\" x=\"379.9342\" y=\"-60.1354\" font-family=\"monospace\" font-size=\"8.00\" fill=\"#7b68ee\">4</text>\n</g>\n<!-- 0&#45;&#45;4 -->\n<g id=\"edge3\" class=\"edge\">\n<title>0&#45;&#45;4</title>\n<path fill=\"none\" stroke=\"#c0c0c0\" d=\"M364.6379,-138.87C368.0124,-121.9196 374.1464,-91.1083 377.531,-74.1069\"/>\n</g>\n<!-- 7 -->\n<g id=\"node8\" class=\"node\">\n<title>7</title>\n<ellipse fill=\"none\" stroke=\"#ff4500\" cx=\"336.5937\" cy=\"-221.7349\" rx=\"15.6129\" ry=\"12.0417\"/>\n<text text-anchor=\"middle\" x=\"336.5937\" y=\"-219.8349\" font-family=\"monospace\" font-size=\"8.00\" fill=\"#7b68ee\">7</text>\n</g>\n<!-- 0&#45;&#45;7 -->\n<g id=\"edge4\" class=\"edge\">\n<title>0&#45;&#45;7</title>\n<path fill=\"none\" stroke=\"#c0c0c0\" d=\"M358.0162,-162.5532C353.2903,-175.6088 345.6858,-196.6172 340.9229,-209.775\"/>\n</g>\n<!-- 5 -->\n<g id=\"node6\" class=\"node\">\n<title>5</title>\n<ellipse fill=\"none\" stroke=\"#ff4500\" cx=\"314.4073\" cy=\"-60.1079\" rx=\"15.6129\" ry=\"12.0417\"/>\n<text text-anchor=\"middle\" x=\"314.4073\" y=\"-58.2079\" font-family=\"monospace\" font-size=\"8.00\" fill=\"#7b68ee\">5</text>\n</g>\n<!-- 1&#45;&#45;5 -->\n<g id=\"edge5\" class=\"edge\">\n<title>1&#45;&#45;5</title>\n<path fill=\"none\" stroke=\"#c0c0c0\" d=\"M386.3472,-86.962C370.3815,-81.0022 344.6318,-71.3903 328.6575,-65.4273\"/>\n</g>\n<!-- 12 -->\n<g id=\"node13\" class=\"node\">\n<title>12</title>\n<ellipse fill=\"none\" stroke=\"#ff4500\" cx=\"148.3543\" cy=\"-203.5034\" rx=\"19.1842\" ry=\"12.0417\"/>\n<text text-anchor=\"middle\" x=\"148.3543\" y=\"-201.6034\" font-family=\"monospace\" font-size=\"8.00\" fill=\"#7b68ee\">12</text>\n</g>\n<!-- 2&#45;&#45;12 -->\n<g id=\"edge6\" class=\"edge\">\n<title>2&#45;&#45;12</title>\n<path fill=\"none\" stroke=\"#c0c0c0\" d=\"M241.8102,-187.4831C222.0157,-190.8763 187.9534,-196.7153 166.8745,-200.3287\"/>\n</g>\n<!-- 3 -->\n<g id=\"node4\" class=\"node\">\n<title>3</title>\n<ellipse fill=\"none\" stroke=\"#ff4500\" cx=\"110.4763\" cy=\"-12.0208\" rx=\"15.6129\" ry=\"12.0417\"/>\n<text text-anchor=\"middle\" x=\"110.4763\" y=\"-10.1208\" font-family=\"monospace\" font-size=\"8.00\" fill=\"#7b68ee\">3</text>\n</g>\n<!-- 6 -->\n<g id=\"node7\" class=\"node\">\n<title>6</title>\n<ellipse fill=\"none\" stroke=\"#ff4500\" cx=\"194.3882\" cy=\"-37.8019\" rx=\"15.6129\" ry=\"12.0417\"/>\n<text text-anchor=\"middle\" x=\"194.3882\" y=\"-35.9019\" font-family=\"monospace\" font-size=\"8.00\" fill=\"#7b68ee\">6</text>\n</g>\n<!-- 3&#45;&#45;6 -->\n<g id=\"edge7\" class=\"edge\">\n<title>3&#45;&#45;6</title>\n<path fill=\"none\" stroke=\"#c0c0c0\" d=\"M125.0926,-16.5115C140.4002,-21.2146 164.3077,-28.5599 179.6578,-33.2761\"/>\n</g>\n<!-- 10 -->\n<g id=\"node11\" class=\"node\">\n<title>10</title>\n<ellipse fill=\"none\" stroke=\"#ff4500\" cx=\"47.7609\" cy=\"-76.2303\" rx=\"19.1842\" ry=\"12.0417\"/>\n<text text-anchor=\"middle\" x=\"47.7609\" y=\"-74.3303\" font-family=\"monospace\" font-size=\"8.00\" fill=\"#7b68ee\">10</text>\n</g>\n<!-- 3&#45;&#45;10 -->\n<g id=\"edge8\" class=\"edge\">\n<title>3&#45;&#45;10</title>\n<path fill=\"none\" stroke=\"#c0c0c0\" d=\"M100.9512,-21.7729C89.3006,-33.701 69.6677,-53.8017 57.7916,-65.9607\"/>\n</g>\n<!-- 5&#45;&#45;4 -->\n<g id=\"edge9\" class=\"edge\">\n<title>5&#45;&#45;4</title>\n<path fill=\"none\" stroke=\"#c0c0c0\" d=\"M330.2695,-60.5745C340.572,-60.8775 353.9448,-61.2709 364.2181,-61.5731\"/>\n</g>\n<!-- 5&#45;&#45;6 -->\n<g id=\"edge10\" class=\"edge\">\n<title>5&#45;&#45;6</title>\n<path fill=\"none\" stroke=\"#c0c0c0\" d=\"M299.2068,-57.2828C276.2467,-53.0156 232.9543,-44.9695 209.8443,-40.6744\"/>\n</g>\n<!-- 8 -->\n<g id=\"node9\" class=\"node\">\n<title>8</title>\n<ellipse fill=\"none\" stroke=\"#ff4500\" cx=\"331.7777\" cy=\"-137.6153\" rx=\"15.6129\" ry=\"12.0417\"/>\n<text text-anchor=\"middle\" x=\"331.7777\" y=\"-135.7153\" font-family=\"monospace\" font-size=\"8.00\" fill=\"#7b68ee\">8</text>\n</g>\n<!-- 5&#45;&#45;8 -->\n<g id=\"edge11\" class=\"edge\">\n<title>5&#45;&#45;8</title>\n<path fill=\"none\" stroke=\"#c0c0c0\" d=\"M317.1214,-72.2184C320.3847,-86.7794 325.8278,-111.0668 329.0826,-125.5898\"/>\n</g>\n<!-- 9 -->\n<g id=\"node10\" class=\"node\">\n<title>9</title>\n<ellipse fill=\"none\" stroke=\"#ff4500\" cx=\"110.7536\" cy=\"-91.8416\" rx=\"15.6129\" ry=\"12.0417\"/>\n<text text-anchor=\"middle\" x=\"110.7536\" y=\"-89.9416\" font-family=\"monospace\" font-size=\"8.00\" fill=\"#7b68ee\">9</text>\n</g>\n<!-- 6&#45;&#45;9 -->\n<g id=\"edge12\" class=\"edge\">\n<title>6&#45;&#45;9</title>\n<path fill=\"none\" stroke=\"#c0c0c0\" d=\"M182.4054,-45.5444C166.5065,-55.8174 138.6019,-73.8477 122.7142,-84.1134\"/>\n</g>\n<!-- 7&#45;&#45;8 -->\n<g id=\"edge13\" class=\"edge\">\n<title>7&#45;&#45;8</title>\n<path fill=\"none\" stroke=\"#c0c0c0\" d=\"M335.9037,-209.6827C334.9881,-193.6915 333.3813,-165.6251 332.4664,-149.6453\"/>\n</g>\n<!-- 14 -->\n<g id=\"node15\" class=\"node\">\n<title>14</title>\n<ellipse fill=\"none\" stroke=\"#ff4500\" cx=\"262.4364\" cy=\"-285.682\" rx=\"19.1842\" ry=\"12.0417\"/>\n<text text-anchor=\"middle\" x=\"262.4364\" y=\"-283.782\" font-family=\"monospace\" font-size=\"8.00\" fill=\"#7b68ee\">14</text>\n</g>\n<!-- 7&#45;&#45;14 -->\n<g id=\"edge14\" class=\"edge\">\n<title>7&#45;&#45;14</title>\n<path fill=\"none\" stroke=\"#c0c0c0\" d=\"M325.9687,-230.897C312.1918,-242.777 288.2481,-263.4241 274.0184,-275.6946\"/>\n</g>\n<!-- 9&#45;&#45;10 -->\n<g id=\"edge15\" class=\"edge\">\n<title>9&#45;&#45;10</title>\n<path fill=\"none\" stroke=\"#c0c0c0\" d=\"M95.8252,-88.1419C86.8024,-85.9058 75.2436,-83.0412 65.7225,-80.6817\"/>\n</g>\n<!-- 9&#45;&#45;12 -->\n<g id=\"edge16\" class=\"edge\">\n<title>9&#45;&#45;12</title>\n<path fill=\"none\" stroke=\"#c0c0c0\" d=\"M114.7775,-103.7913C122.0146,-125.2831 137.1433,-170.2104 144.3593,-191.6396\"/>\n</g>\n<!-- 13 -->\n<g id=\"node14\" class=\"node\">\n<title>13</title>\n<ellipse fill=\"none\" stroke=\"#ff4500\" cx=\"34.7717\" cy=\"-34.9767\" rx=\"19.1842\" ry=\"12.0417\"/>\n<text text-anchor=\"middle\" x=\"34.7717\" y=\"-33.0767\" font-family=\"monospace\" font-size=\"8.00\" fill=\"#7b68ee\">13</text>\n</g>\n<!-- 9&#45;&#45;13 -->\n<g id=\"edge17\" class=\"edge\">\n<title>9&#45;&#45;13</title>\n<path fill=\"none\" stroke=\"#c0c0c0\" d=\"M99.5422,-83.451C85.5894,-73.0087 61.8312,-55.228 47.2946,-44.3488\"/>\n</g>\n<!-- 10&#45;&#45;13 -->\n<g id=\"edge18\" class=\"edge\">\n<title>10&#45;&#45;13</title>\n<path fill=\"none\" stroke=\"#c0c0c0\" d=\"M43.934,-64.076C42.2278,-58.657 40.2242,-52.2939 38.5265,-46.902\"/>\n</g>\n<!-- 17 -->\n<g id=\"node18\" class=\"node\">\n<title>17</title>\n<ellipse fill=\"none\" stroke=\"#ff4500\" cx=\"19.0919\" cy=\"-161.1457\" rx=\"19.1842\" ry=\"12.0417\"/>\n<text text-anchor=\"middle\" x=\"19.0919\" y=\"-159.2457\" font-family=\"monospace\" font-size=\"8.00\" fill=\"#7b68ee\">17</text>\n</g>\n<!-- 10&#45;&#45;17 -->\n<g id=\"edge19\" class=\"edge\">\n<title>10&#45;&#45;17</title>\n<path fill=\"none\" stroke=\"#c0c0c0\" d=\"M43.7746,-88.0374C38.3281,-104.1696 28.6137,-132.9429 23.1368,-149.1651\"/>\n</g>\n<!-- 11 -->\n<g id=\"node12\" class=\"node\">\n<title>11</title>\n<ellipse fill=\"none\" stroke=\"#ff4500\" cx=\"118.5714\" cy=\"-290.0107\" rx=\"19.1842\" ry=\"12.0417\"/>\n<text text-anchor=\"middle\" x=\"118.5714\" y=\"-288.1107\" font-family=\"monospace\" font-size=\"8.00\" fill=\"#7b68ee\">11</text>\n</g>\n<!-- 11&#45;&#45;12 -->\n<g id=\"edge20\" class=\"edge\">\n<title>11&#45;&#45;12</title>\n<path fill=\"none\" stroke=\"#c0c0c0\" d=\"M122.7126,-277.9822C128.4027,-261.4548 138.5767,-231.9033 144.2483,-215.4297\"/>\n</g>\n<!-- 15 -->\n<g id=\"node16\" class=\"node\">\n<title>15</title>\n<ellipse fill=\"none\" stroke=\"#ff4500\" cx=\"162.9814\" cy=\"-271.8486\" rx=\"19.1842\" ry=\"12.0417\"/>\n<text text-anchor=\"middle\" x=\"162.9814\" y=\"-269.9486\" font-family=\"monospace\" font-size=\"8.00\" fill=\"#7b68ee\">15</text>\n</g>\n<!-- 11&#45;&#45;15 -->\n<g id=\"edge21\" class=\"edge\">\n<title>11&#45;&#45;15</title>\n<path fill=\"none\" stroke=\"#c0c0c0\" d=\"M134.6044,-283.4537C138.5796,-281.828 142.8415,-280.085 146.8227,-278.4569\"/>\n</g>\n<!-- 12&#45;&#45;15 -->\n<g id=\"edge22\" class=\"edge\">\n<title>12&#45;&#45;15</title>\n<path fill=\"none\" stroke=\"#c0c0c0\" d=\"M150.9693,-215.7222C153.6317,-228.1623 157.7348,-247.3338 160.389,-259.7356\"/>\n</g>\n<!-- 16 -->\n<g id=\"node17\" class=\"node\">\n<title>16</title>\n<ellipse fill=\"none\" stroke=\"#ff4500\" cx=\"81.2984\" cy=\"-227.5319\" rx=\"19.1842\" ry=\"12.0417\"/>\n<text text-anchor=\"middle\" x=\"81.2984\" y=\"-225.6319\" font-family=\"monospace\" font-size=\"8.00\" fill=\"#7b68ee\">16</text>\n</g>\n<!-- 12&#45;&#45;16 -->\n<g id=\"edge23\" class=\"edge\">\n<title>12&#45;&#45;16</title>\n<path fill=\"none\" stroke=\"#c0c0c0\" d=\"M131.4332,-209.5668C121.1905,-213.2372 108.1813,-217.8988 97.9817,-221.5537\"/>\n</g>\n<!-- 14&#45;&#45;15 -->\n<g id=\"edge24\" class=\"edge\">\n<title>14&#45;&#45;15</title>\n<path fill=\"none\" stroke=\"#c0c0c0\" d=\"M243.7297,-283.08C226.0612,-280.6225 199.6937,-276.955 181.9424,-274.4859\"/>\n</g>\n<!-- 15&#45;&#45;16 -->\n<g id=\"edge25\" class=\"edge\">\n<title>15&#45;&#45;16</title>\n<path fill=\"none\" stroke=\"#c0c0c0\" d=\"M148.3781,-263.9256C133.5102,-255.8591 110.5973,-243.4279 95.7753,-235.3863\"/>\n</g>\n<!-- 16&#45;&#45;17 -->\n<g id=\"edge26\" class=\"edge\">\n<title>16&#45;&#45;17</title>\n<path fill=\"none\" stroke=\"#c0c0c0\" d=\"M71.5786,-217.1591C59.9605,-204.7603 40.6271,-184.1279 28.9487,-171.6648\"/>\n</g>\n</g>\n</svg>\n"
          },
          "metadata": {},
          "execution_count": 41
        }
      ]
    },
    {
      "cell_type": "markdown",
      "metadata": {
        "id": "OSack7Jxuqzl"
      },
      "source": [
        "# En el presente analisaremos el codigo del Algoritmo BFS, para comprobar la efectividad que tendría en la aplicación del grafo final, para la hallar la ruta mas corta de los almacenes hacia los puntos de entrega"
      ]
    },
    {
      "cell_type": "code",
      "metadata": {
        "id": "TjQ3GObEuYp7"
      },
      "source": [
        "#Donde V es el numero de vertices, y A es el numero de Aristas\n",
        "\n",
        "def bfs(G, s):\n",
        "  n = len(G)          #2\n",
        "  visited = [False]*n #1\n",
        "  parent = [None]*n   #1\n",
        "  queue = [s]         #1\n",
        "  visited[s] = True   #2\n",
        "\n",
        "  while queue:              #V * (        ---------------------->  O(V)\n",
        "    u = queue.pop(0)          #2 +\n",
        "    for v in G[u]:            #A (        ---------->A(6)--------> O(A)\n",
        "      if not visited[v]:          #1 + (\n",
        "        visited[v] = True           #2\n",
        "        parent[v] = u               #2\n",
        "        queue.append(v)             #1))\n",
        "\n",
        "  \n",
        "  #Por lo cual :O(V+A)\n",
        "\n",
        "  return parent"
      ],
      "execution_count": 22,
      "outputs": []
    },
    {
      "cell_type": "markdown",
      "metadata": {
        "id": "mRVVPg0LPPIP"
      },
      "source": [
        "# Teniendo la notación O(V+A) podemos apreciar que este depende de la cantidad de vertices y de Aristas presentes en el grafo. Por lo cual podemos apreciar que el tiempo de ejecución aumentara proporcionalmente con el tamaño del grafo y las aristas que este presente"
      ]
    },
    {
      "cell_type": "markdown",
      "metadata": {
        "id": "hUBraBLRRLzy"
      },
      "source": [
        "Veremos cuantos Vertices y Aristas presenta el grafo utilizado en este proyecto\n",
        "\n",
        "*   Vertices: 1000000\n",
        "*   Aristas Esquinas(4): 4 * **2** = 8 \n",
        "*   Aristas Centrales (1000000-3996): 99604 *  **4** = 3984016\n",
        "*   Aristas Laterales (396):3969 * **3** -8  = 11980\n",
        "\n",
        "Aproximadamente la notación siguiendo el caso real : O (1000000 + 3996004)\n",
        "\n",
        "Además teniendo en cuenta que el algoritmo debe repetirse unas 60 veces (una por cada almacen existente) hace de este algoritmo una solución no tan optima\n",
        "\n"
      ]
    },
    {
      "cell_type": "markdown",
      "metadata": {
        "id": "q1q9th49Zjbh"
      },
      "source": [
        "# Por lo cual, tal vez,  una forma de mejorar este algoritmo es que se detenga cuando halla recorrido atravez de todos los puntos de entrega. Lo cual veremos a continuación: "
      ]
    },
    {
      "cell_type": "code",
      "metadata": {
        "colab": {
          "base_uri": "https://localhost:8080/"
        },
        "id": "jGqqAl73emec",
        "outputId": "d883df0c-2124-4ced-eca2-4e336d17e15a"
      },
      "source": [
        "#Crear un arreglo en donde marcaremos las posiciones en donde queremos que el algoritmo se detenga\n",
        "\n",
        "Limitvisited = [False]*10\n",
        "K = [3, 9]\n",
        "\n",
        "for i in K:\n",
        "  Limitvisited[i] = True\n",
        "\n",
        "print(Limitvisited)"
      ],
      "execution_count": 59,
      "outputs": [
        {
          "output_type": "stream",
          "name": "stdout",
          "text": [
            "[False, False, False, True, False, False, False, False, False, True]\n"
          ]
        }
      ]
    },
    {
      "cell_type": "code",
      "metadata": {
        "id": "oHIEcPX_bGTC"
      },
      "source": [
        "def bfs2(G, s):\n",
        "  n = len(G)          #2\n",
        "  visited = [False]*n #1\n",
        "  parent = [None]*n   #1\n",
        "  queue = [s]         #1\n",
        "  visited[s] = True   #2\n",
        "  count = 0\n",
        "  \n",
        "\n",
        "\n",
        "  while queue:              #V * (        ---------------------->  O(V)\n",
        "    u = queue.pop(0)          #2 +\n",
        "    for v in G[u]:            #A (        ---------->A(6)--------> O(A)\n",
        "      if not visited[v]:          #1 + (\n",
        "        visited[v] = True           #2\n",
        "        parent[v] = u               #2\n",
        "        queue.append(v)             #1))\n",
        "      for n in visited:\n",
        "        if(visited[n] == Limitvisited[n] and visited[n] == True):       \n",
        "          count = count + 1\n",
        "        if(count == len(K)):\n",
        "          print(\"a\")\n",
        "  #Por lo cual :O(V+A)\n",
        "\n",
        "  return parent"
      ],
      "execution_count": 58,
      "outputs": []
    },
    {
      "cell_type": "code",
      "metadata": {
        "colab": {
          "base_uri": "https://localhost:8080/"
        },
        "id": "f8c3axB-a2qr",
        "outputId": "55166bf1-d83d-4cde-aba5-4a5b7b639443"
      },
      "source": [
        "\n",
        "#path = bfs(G, 6)\n",
        "#print(path)\n",
        "#adjlShow(G, path=path)\n",
        "bfs2(G, 6)\n"
      ],
      "execution_count": 60,
      "outputs": [
        {
          "output_type": "execute_result",
          "data": {
            "text/plain": [
              "[1, 5, 12, 6, 5, 6, None, 8, 5, 6, 3, 12, 9, 9, 7, 12, 12, 10]"
            ]
          },
          "metadata": {},
          "execution_count": 60
        }
      ]
    },
    {
      "cell_type": "code",
      "metadata": {
        "id": "_c0eMEzObPjf"
      },
      "source": [
        "K = [False]*10\n",
        "Y = [False]*19\n",
        "\n",
        "if (K == Y):  \n",
        "  print(\"HOLA\")"
      ],
      "execution_count": 40,
      "outputs": []
    }
  ]
}