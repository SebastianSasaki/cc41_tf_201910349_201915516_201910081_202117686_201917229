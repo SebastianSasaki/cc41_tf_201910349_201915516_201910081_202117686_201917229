{
  "nbformat": 4,
  "nbformat_minor": 0,
  "metadata": {
    "colab": {
      "name": "Analisis Dijkstra",
      "provenance": []
    },
    "kernelspec": {
      "name": "python3",
      "display_name": "Python 3"
    },
    "language_info": {
      "name": "python"
    }
  },
  "cells": [
    {
      "cell_type": "code",
      "metadata": {
        "id": "cWYDU8rRzhz_"
      },
      "source": [
        "import graphviz as gv #Graficos\n",
        "import numpy as np\n",
        "import heapq as hq\n",
        "import pandas as pd #Leer CSV\n",
        "import matplotlib.pyplot as plt # Gragicos final\n",
        "import math as math #Operaciones matematicas\n",
        "from timeit import timeit\n",
        "\n",
        "def readAdjl(fn, haslabels=False, weighted=False, sep=\"|\"):\n",
        "  with open(fn) as f:\n",
        "    labels = None\n",
        "    if haslabels:\n",
        "      labels = f.readline().strip().split()\n",
        "    L = []\n",
        "    for line in f:\n",
        "      if weighted:\n",
        "        L.append([tuple(map(int, p.split(sep))) for p in line.strip().split()])\n",
        "        # line => \"1|3 2|5 4|4\" ==> [(1, 3), (2, 5), (4, 4)]\n",
        "      else: \n",
        "        L.append(list(map(int, line.strip().split()))) # \"1 3 5\" => [1, 3, 5]\n",
        "        # L.append([int(x) for x in line.strip().split()])\n",
        "  return L, labels\n",
        "\n",
        "def adjlShow(L, labels=None, directed=False, weighted=False, path=[],\n",
        "             layout=\"sfdp\"):\n",
        "  g = gv.Digraph(\"G\") if directed else gv.Graph(\"G\")\n",
        "  g.graph_attr[\"layout\"] = layout\n",
        "  g.edge_attr[\"color\"] = \"gray\"\n",
        "  g.node_attr[\"color\"] = \"orangered\"\n",
        "  g.node_attr[\"width\"] = \"0.1\"\n",
        "  g.node_attr[\"height\"] = \"0.1\"\n",
        "  g.node_attr[\"fontsize\"] = \"8\"\n",
        "  g.node_attr[\"fontcolor\"] = \"mediumslateblue\"\n",
        "  g.node_attr[\"fontname\"] = \"monospace\"\n",
        "  n = len(L)\n",
        "  for u in range(n):\n",
        "    g.node(str(u), labels[u] if labels else str(u))\n",
        "  added = set()\n",
        "  for v, u in enumerate(path):\n",
        "    if u != None:\n",
        "      g.edge(str(u), str(v), dir=\"forward\", penwidth=\"2\", color=\"orange\")\n",
        "      added.add(f\"{u},{v}\")\n",
        "      added.add(f\"{v},{u}\")\n",
        "  if weighted:\n",
        "    for u in range(n):\n",
        "      for v, w in L[u]:\n",
        "        if not directed and not f\"{u},{v}\" in added:\n",
        "          added.add(f\"{u},{v}\")\n",
        "          added.add(f\"{v},{u}\")\n",
        "          g.edge(str(u), str(v), str(w))\n",
        "        elif directed:\n",
        "          g.edge(str(u), str(v), str(w))\n",
        "  else:\n",
        "    for u in range(n):\n",
        "      for v in L[u]:\n",
        "        if not directed and not f\"{u},{v}\" in added:\n",
        "          added.add(f\"{u},{v}\")\n",
        "          added.add(f\"{v},{u}\")\n",
        "          g.edge(str(u), str(v))\n",
        "        elif directed:\n",
        "          g.edge(str(u), str(v))\n",
        "  return g"
      ],
      "execution_count": 2,
      "outputs": []
    },
    {
      "cell_type": "markdown",
      "metadata": {
        "id": "hrFVmjFyz2rH"
      },
      "source": [
        "# Cosas Extras(pero necesarias)"
      ]
    },
    {
      "cell_type": "code",
      "metadata": {
        "id": "8G9b5lzfz8ve"
      },
      "source": [
        "def toPosition(x, y, n):\n",
        "  return x + y*n;\n",
        "\n",
        "def adjacents(x, y, n):\n",
        "  dir = []\n",
        "  coords = [[x, y-1],[x-1, y],[x+1, y],[x, y+1]]\n",
        "  for c in coords:\n",
        "    if c[0] != -1 and c[0] != n and c[1] != -1 and c[1] != n:\n",
        "      dir.append(toPosition(c[0], c[1], n))\n",
        "  return dir"
      ],
      "execution_count": 5,
      "outputs": []
    },
    {
      "cell_type": "code",
      "metadata": {
        "id": "zUGewZlMz-9W"
      },
      "source": [
        "# st = data almacenes, dp = data puntos de entrega\n",
        "# n = tamaño de la matriz cuadrada\n",
        "def get_ls(st, dp, n):\n",
        "  ls = []\n",
        "  locals = []\n",
        "  for y in range(n): #Caso optimizado -> Y menor - al Y Mayor\n",
        "    for x in range(n): \n",
        "      tp = 0      \n",
        "      if [x,y] in st:\n",
        "        tp = 1        \n",
        "      if [x,y] in dp:\n",
        "        tp = 2\n",
        "      ls.append(adjacents(x, y, n))\n",
        "      locals.append(tp)\n",
        "  return ls, locals"
      ],
      "execution_count": 6,
      "outputs": []
    },
    {
      "cell_type": "code",
      "metadata": {
        "id": "h_T9Qrd-0CLE"
      },
      "source": [
        "def toListWithCosts(G):\n",
        "  new_list = []\n",
        "  for c in G:\n",
        "    l = []\n",
        "    for n in c:\n",
        "      l.append((n,1))\n",
        "    new_list.append(l)\n",
        "  return new_list"
      ],
      "execution_count": 7,
      "outputs": []
    },
    {
      "cell_type": "code",
      "metadata": {
        "colab": {
          "base_uri": "https://localhost:8080/"
        },
        "id": "APr8n45ByIRT",
        "outputId": "66288892-c93e-4c35-ac39-ebdb36273056"
      },
      "source": [
        "almac = [[0,0],[2,1]]\n",
        "pts_entreg = [[1,0],[0,2]]\n",
        "\n",
        "ls,loc = get_ls(almac, pts_entreg, 3)\n",
        "\n",
        "print(ls)\n",
        "print(loc)"
      ],
      "execution_count": 8,
      "outputs": [
        {
          "output_type": "stream",
          "name": "stdout",
          "text": [
            "[[1, 3], [0, 2, 4], [1, 5], [0, 4, 6], [1, 3, 5, 7], [2, 4, 8], [3, 7], [4, 6, 8], [5, 7]]\n",
            "[1, 2, 0, 0, 0, 1, 2, 0, 0]\n"
          ]
        }
      ]
    },
    {
      "cell_type": "markdown",
      "metadata": {
        "id": "Sd0IGxOWyX_R"
      },
      "source": [
        "Estas funciones sirven para dos cosas. La primera es para ver los vertices adyacentes de un mismo vertice. Y la segunda cosa que revela la funcion es saber que tipo de local es ese vertice. 0 es que es un vertice vacio, 1 que es un almacen y 2 que es un punto de entrega.\n",
        "\n",
        "Esto va servir para modificar el algortimo de Dijkstra y que recorra solo hacia los puntos que nosotros queramos."
      ]
    },
    {
      "cell_type": "markdown",
      "metadata": {
        "id": "0OQOeEoMzFaS"
      },
      "source": [
        "# Algoritmo Dijkstra"
      ]
    },
    {
      "cell_type": "markdown",
      "metadata": {
        "id": "-481fpqVzsY3"
      },
      "source": [
        "Analisaremos el algoritmo Dijkstra, tambien llamado \"Algoritmo de caminos minimos\" y veremos su efectividad que tendria en la aplicación del grafo final.\n",
        "\n",
        "El Algoritmo de Dijkstra tiene una notación O(V^2) por lo que me da a entender que mientras vertices tenga el grafo más sera su notación. Y que el tiempo de ejecución sera más grande mientras más grande sea el grafo.\n",
        "\n",
        "Vertices: 1000000. Notación Algoritmo Dijkstra: O(1000000^2). Y tenemos que tener en cuenta que se repetira 60 veces, 1 por cada almacen que hay. Todo esto hace que este algoritmo no sea una solución tan óptima.\n",
        "\n",
        "Este algortimo por la notación que posee no es la ideal para trabajar con grafos grandes. Existen mejores opciones como el algoritmo Kruskal, Bellman-Ford o Floyd Warshall. Pero eso no significa que el algortimo sea inutil, se le pueden hacer algunas modificaciones para que sea más efectivo"
      ]
    },
    {
      "cell_type": "code",
      "metadata": {
        "id": "6LMbUdBqzI3V"
      },
      "source": [
        "def dijkstraB(G, s):\n",
        "  n = len(G)          \n",
        "  visited = [False]*n \n",
        "  path = [None]*n     \n",
        "  cost = [math.inf]*n \n",
        "  cost[s] = 0         \n",
        "  queue = [(0, s)]    \n",
        "  while queue:\n",
        "    g_u, u = hq.heappop(queue) \n",
        "    if not visited[u]:\n",
        "      visited[u] = True \n",
        "      for v, w in G[u]:\n",
        "        f = g_u + w \n",
        "        if f < cost[v]:\n",
        "          cost[v] = f \n",
        "          path[v] = u \n",
        "          hq.heappush(queue, (f, v)) \n",
        "\n",
        "  return path, cost"
      ],
      "execution_count": 11,
      "outputs": []
    },
    {
      "cell_type": "markdown",
      "metadata": {
        "id": "7lnKv5g40Nvv"
      },
      "source": [
        "# Algoritmo Dijkstra Mejorado"
      ]
    },
    {
      "cell_type": "markdown",
      "metadata": {
        "id": "eEQufZ9SnNj9"
      },
      "source": [
        "Para que el Algoritmo de Dijkstra pueda cumplir todas las condiciones que nosotros como equipo necesitamos, se tuvo que hacer algunas modificaciones.\n",
        "\n",
        "Las modificaciones que se realizaron al algortimo para que cumpla con los requisitos que nosotros necesitamos fue el de agregar una parte extra de codigo, este codigo basicamente es un filtro y solo deja que algoritmo encuentre el camino menos pesado solo a ciertos puntos y no todos los puntos del grafo.\n",
        "\n",
        "Esta modificacion va ayudar mucho a reducir el tiempo de compilación ya que lo que hace el Algoritmo de Dijkstra es encontrar el camino menos pesado a cada nodo del grafo, esto significa que mientras más grande el grafo más se va a demorar en sacar una respuesta. Con nuestra respuesta el tiempo va a ser menor porque no le pediremos que encuentre el camino a todos los nodos sino solo a los que nostros queramos."
      ]
    },
    {
      "cell_type": "code",
      "metadata": {
        "id": "eNEDu7Ry0Rjn"
      },
      "source": [
        "def dijkstra(G, L, s):\n",
        "  n = len(G)          \n",
        "  visited = [False]*n \n",
        "  path = [None]*n     \n",
        "  cost = [math.inf]*n \n",
        "  cost[s] = 0         \n",
        "  queue = [(0, s)]    \n",
        "  while queue:\n",
        "    g_u, u = hq.heappop(queue) \n",
        "    if not visited[u]:\n",
        "      visited[u] = True \n",
        "      for v, w in G[u]:\n",
        "        f = g_u + w \n",
        "        if f < cost[v]:\n",
        "          cost[v] = f  \n",
        "          path[v] = u \n",
        "          hq.heappush(queue, (f, v)) \n",
        "\n",
        "  min_path = [None]*n\n",
        "  for i, v in enumerate(L):\n",
        "      if v == 2:\n",
        "        min_path[i] = path[i] \n",
        "        m = path[i] \n",
        "        while m != s:          \n",
        "          min_path[m] = path[m] \n",
        "          m = path[m] \n",
        "\n",
        "  return min_path, cost"
      ],
      "execution_count": 12,
      "outputs": []
    },
    {
      "cell_type": "markdown",
      "metadata": {
        "id": "PDOWUx_n0YlC"
      },
      "source": [
        "# Funcionamiento Algoritmo Mejorado"
      ]
    },
    {
      "cell_type": "code",
      "metadata": {
        "id": "JQoVcC_E0ba6"
      },
      "source": [
        "almac = [[0,0],[2,1]]\n",
        "pts_entreg = [[1,0],[0,2]]\n",
        "\n",
        "ls, loc = get_ls(almac, pts_entreg, 3)\n",
        "G = toListWithCosts(ls)\n",
        "G, loc"
      ],
      "execution_count": null,
      "outputs": []
    },
    {
      "cell_type": "code",
      "metadata": {
        "id": "QqkVDxCC0k9E",
        "colab": {
          "base_uri": "https://localhost:8080/",
          "height": 536
        },
        "outputId": "5d596a70-c537-4d50-d147-78fffd05c446"
      },
      "source": [
        "path, cost = dijkstra(G, loc, 5)\n",
        "print(path)\n",
        "print(cost)\n",
        "# path = [None, 0, None, 0, None, None, 3, None, None] -> 0\n",
        "# path = [None, 2, 5, 4, 5, None, 3, None, None]       -> 5\n",
        "adjlShow(G, weighted=True, path=path)"
      ],
      "execution_count": 16,
      "outputs": [
        {
          "output_type": "stream",
          "name": "stdout",
          "text": [
            "[None, 2, 5, 4, 5, None, 3, None, None]\n",
            "[3, 2, 1, 2, 1, 0, 3, 2, 1]\n"
          ]
        },
        {
          "output_type": "execute_result",
          "data": {
            "text/plain": [
              "<graphviz.dot.Graph at 0x7f9d7f703650>"
            ],
            "image/svg+xml": "<?xml version=\"1.0\" encoding=\"UTF-8\" standalone=\"no\"?>\n<!DOCTYPE svg PUBLIC \"-//W3C//DTD SVG 1.1//EN\"\n \"http://www.w3.org/Graphics/SVG/1.1/DTD/svg11.dtd\">\n<!-- Generated by graphviz version 2.40.1 (20161225.0304)\n -->\n<!-- Title: G Pages: 1 -->\n<svg width=\"368pt\" height=\"360pt\"\n viewBox=\"0.00 0.00 367.60 359.90\" xmlns=\"http://www.w3.org/2000/svg\" xmlns:xlink=\"http://www.w3.org/1999/xlink\">\n<g id=\"graph0\" class=\"graph\" transform=\"scale(1 1) rotate(0) translate(4 355.9038)\">\n<title>G</title>\n<polygon fill=\"#ffffff\" stroke=\"transparent\" points=\"-4,4 -4,-355.9038 363.6016,-355.9038 363.6016,4 -4,4\"/>\n<!-- 0 -->\n<g id=\"node1\" class=\"node\">\n<title>0</title>\n<ellipse fill=\"none\" stroke=\"#ff4500\" cx=\"344.0452\" cy=\"-150.661\" rx=\"15.6129\" ry=\"12.0417\"/>\n<text text-anchor=\"middle\" x=\"344.0452\" y=\"-148.761\" font-family=\"monospace\" font-size=\"8.00\" fill=\"#7b68ee\">0</text>\n</g>\n<!-- 1 -->\n<g id=\"node2\" class=\"node\">\n<title>1</title>\n<ellipse fill=\"none\" stroke=\"#ff4500\" cx=\"251.4781\" cy=\"-78.1721\" rx=\"15.6129\" ry=\"12.0417\"/>\n<text text-anchor=\"middle\" x=\"251.4781\" y=\"-76.2721\" font-family=\"monospace\" font-size=\"8.00\" fill=\"#7b68ee\">1</text>\n</g>\n<!-- 0&#45;&#45;1 -->\n<g id=\"edge6\" class=\"edge\">\n<title>0&#45;&#45;1</title>\n<path fill=\"none\" stroke=\"#c0c0c0\" d=\"M333.063,-142.0609C315.2477,-128.1098 280.2521,-100.7049 262.4459,-86.761\"/>\n<text text-anchor=\"middle\" x=\"293.7545\" y=\"-118.2109\" font-family=\"Times,serif\" font-size=\"14.00\" fill=\"#000000\">1</text>\n</g>\n<!-- 3 -->\n<g id=\"node4\" class=\"node\">\n<title>3</title>\n<ellipse fill=\"none\" stroke=\"#ff4500\" cx=\"277.5719\" cy=\"-247.4405\" rx=\"15.6129\" ry=\"12.0417\"/>\n<text text-anchor=\"middle\" x=\"277.5719\" y=\"-245.5405\" font-family=\"monospace\" font-size=\"8.00\" fill=\"#7b68ee\">3</text>\n</g>\n<!-- 0&#45;&#45;3 -->\n<g id=\"edge7\" class=\"edge\">\n<title>0&#45;&#45;3</title>\n<path fill=\"none\" stroke=\"#c0c0c0\" d=\"M336.6774,-161.3879C323.8999,-179.9909 297.7732,-218.0292 284.9727,-236.6656\"/>\n<text text-anchor=\"middle\" x=\"306.8251\" y=\"-202.8267\" font-family=\"Times,serif\" font-size=\"14.00\" fill=\"#000000\">1</text>\n</g>\n<!-- 4 -->\n<g id=\"node5\" class=\"node\">\n<title>4</title>\n<ellipse fill=\"none\" stroke=\"#ff4500\" cx=\"179.8381\" cy=\"-175.8304\" rx=\"15.6129\" ry=\"12.0417\"/>\n<text text-anchor=\"middle\" x=\"179.8381\" y=\"-173.9304\" font-family=\"monospace\" font-size=\"8.00\" fill=\"#7b68ee\">4</text>\n</g>\n<!-- 1&#45;&#45;4 -->\n<g id=\"edge8\" class=\"edge\">\n<title>1&#45;&#45;4</title>\n<path fill=\"none\" stroke=\"#c0c0c0\" d=\"M243.5376,-88.9964C229.6941,-107.8676 201.3112,-146.5587 187.5964,-165.2545\"/>\n<text text-anchor=\"middle\" x=\"211.567\" y=\"-130.9254\" font-family=\"Times,serif\" font-size=\"14.00\" fill=\"#000000\">1</text>\n</g>\n<!-- 2 -->\n<g id=\"node3\" class=\"node\">\n<title>2</title>\n<ellipse fill=\"none\" stroke=\"#ff4500\" cx=\"154.2872\" cy=\"-12.0208\" rx=\"15.6129\" ry=\"12.0417\"/>\n<text text-anchor=\"middle\" x=\"154.2872\" y=\"-10.1208\" font-family=\"monospace\" font-size=\"8.00\" fill=\"#7b68ee\">2</text>\n</g>\n<!-- 2&#45;&#45;1 -->\n<g id=\"edge1\" class=\"edge\">\n<title>2&#45;&#45;1</title>\n<path fill=\"none\" stroke=\"#ffa500\" stroke-width=\"2\" d=\"M166.2047,-20.1323C182.4687,-31.2021 211.8372,-51.1912 231.4982,-64.5732\"/>\n<polygon fill=\"#ffa500\" stroke=\"#ffa500\" stroke-width=\"2\" points=\"229.5305,-67.4676 239.7667,-70.2009 233.4692,-61.6808 229.5305,-67.4676\"/>\n</g>\n<!-- 6 -->\n<g id=\"node7\" class=\"node\">\n<title>6</title>\n<ellipse fill=\"none\" stroke=\"#ff4500\" cx=\"205.1602\" cy=\"-339.8829\" rx=\"15.6129\" ry=\"12.0417\"/>\n<text text-anchor=\"middle\" x=\"205.1602\" y=\"-337.9829\" font-family=\"monospace\" font-size=\"8.00\" fill=\"#7b68ee\">6</text>\n</g>\n<!-- 3&#45;&#45;6 -->\n<g id=\"edge5\" class=\"edge\">\n<title>3&#45;&#45;6</title>\n<path fill=\"none\" stroke=\"#ffa500\" stroke-width=\"2\" d=\"M269.2654,-258.0449C257.1525,-273.5084 234.4687,-302.4671 219.5905,-321.4609\"/>\n<polygon fill=\"#ffa500\" stroke=\"#ffa500\" stroke-width=\"2\" points=\"216.7811,-319.3716 213.3699,-329.4023 222.2918,-323.6882 216.7811,-319.3716\"/>\n</g>\n<!-- 4&#45;&#45;3 -->\n<g id=\"edge3\" class=\"edge\">\n<title>4&#45;&#45;3</title>\n<path fill=\"none\" stroke=\"#ffa500\" stroke-width=\"2\" d=\"M191.4333,-184.3262C207.8183,-196.3316 237.9674,-218.4221 257.8945,-233.0228\"/>\n<polygon fill=\"#ffa500\" stroke=\"#ffa500\" stroke-width=\"2\" points=\"255.8567,-235.8686 265.9918,-238.9558 259.994,-230.2221 255.8567,-235.8686\"/>\n</g>\n<!-- 7 -->\n<g id=\"node8\" class=\"node\">\n<title>7</title>\n<ellipse fill=\"none\" stroke=\"#ff4500\" cx=\"108.0851\" cy=\"-273.557\" rx=\"15.6129\" ry=\"12.0417\"/>\n<text text-anchor=\"middle\" x=\"108.0851\" y=\"-271.657\" font-family=\"monospace\" font-size=\"8.00\" fill=\"#7b68ee\">7</text>\n</g>\n<!-- 4&#45;&#45;7 -->\n<g id=\"edge9\" class=\"edge\">\n<title>4&#45;&#45;7</title>\n<path fill=\"none\" stroke=\"#c0c0c0\" d=\"M172.1593,-186.2888C158.4212,-205 129.7808,-244.0077 115.9262,-262.8774\"/>\n<text text-anchor=\"middle\" x=\"140.0427\" y=\"-228.3831\" font-family=\"Times,serif\" font-size=\"14.00\" fill=\"#000000\">1</text>\n</g>\n<!-- 5 -->\n<g id=\"node6\" class=\"node\">\n<title>5</title>\n<ellipse fill=\"none\" stroke=\"#ff4500\" cx=\"81.9439\" cy=\"-104.4241\" rx=\"15.6129\" ry=\"12.0417\"/>\n<text text-anchor=\"middle\" x=\"81.9439\" y=\"-102.5241\" font-family=\"monospace\" font-size=\"8.00\" fill=\"#7b68ee\">5</text>\n</g>\n<!-- 5&#45;&#45;2 -->\n<g id=\"edge2\" class=\"edge\">\n<title>5&#45;&#45;2</title>\n<path fill=\"none\" stroke=\"#ffa500\" stroke-width=\"2\" d=\"M90.2426,-93.8243C102.344,-78.3673 125.0064,-49.4208 139.8705,-30.4351\"/>\n<polygon fill=\"#ffa500\" stroke=\"#ffa500\" stroke-width=\"2\" points=\"142.6765,-32.5286 146.0852,-22.497 137.1648,-28.2133 142.6765,-32.5286\"/>\n</g>\n<!-- 5&#45;&#45;4 -->\n<g id=\"edge4\" class=\"edge\">\n<title>5&#45;&#45;4</title>\n<path fill=\"none\" stroke=\"#ffa500\" stroke-width=\"2\" d=\"M93.5581,-112.8957C109.97,-124.867 140.1686,-146.8945 160.1284,-161.4537\"/>\n<polygon fill=\"#ffa500\" stroke=\"#ffa500\" stroke-width=\"2\" points=\"158.0974,-164.3043 168.2391,-167.3698 162.2225,-158.649 158.0974,-164.3043\"/>\n</g>\n<!-- 8 -->\n<g id=\"node9\" class=\"node\">\n<title>8</title>\n<ellipse fill=\"none\" stroke=\"#ff4500\" cx=\"15.5563\" cy=\"-201.3188\" rx=\"15.6129\" ry=\"12.0417\"/>\n<text text-anchor=\"middle\" x=\"15.5563\" y=\"-199.4188\" font-family=\"monospace\" font-size=\"8.00\" fill=\"#7b68ee\">8</text>\n</g>\n<!-- 5&#45;&#45;8 -->\n<g id=\"edge10\" class=\"edge\">\n<title>5&#45;&#45;8</title>\n<path fill=\"none\" stroke=\"#c0c0c0\" d=\"M74.5856,-115.1637C61.8246,-133.7889 35.7316,-171.8725 22.9476,-190.5311\"/>\n<text text-anchor=\"middle\" x=\"44.7666\" y=\"-156.6474\" font-family=\"Times,serif\" font-size=\"14.00\" fill=\"#000000\">1</text>\n</g>\n<!-- 6&#45;&#45;7 -->\n<g id=\"edge11\" class=\"edge\">\n<title>6&#45;&#45;7</title>\n<path fill=\"none\" stroke=\"#c0c0c0\" d=\"M193.2569,-331.7501C174.5243,-318.9512 138.3867,-294.2604 119.7825,-281.5492\"/>\n<text text-anchor=\"middle\" x=\"152.5197\" y=\"-310.4496\" font-family=\"Times,serif\" font-size=\"14.00\" fill=\"#000000\">1</text>\n</g>\n<!-- 7&#45;&#45;8 -->\n<g id=\"edge12\" class=\"edge\">\n<title>7&#45;&#45;8</title>\n<path fill=\"none\" stroke=\"#c0c0c0\" d=\"M97.1074,-264.9866C79.2995,-251.0838 44.3185,-223.7737 26.5197,-209.878\"/>\n<text text-anchor=\"middle\" x=\"57.8136\" y=\"-241.2323\" font-family=\"Times,serif\" font-size=\"14.00\" fill=\"#000000\">1</text>\n</g>\n</g>\n</svg>\n"
          },
          "metadata": {},
          "execution_count": 16
        }
      ]
    },
    {
      "cell_type": "markdown",
      "metadata": {
        "id": "ByMr--d06Sjp"
      },
      "source": [
        "Como podemos ver en el grafico de arriba, el algortimo de Dijkstra encuentra los caminos menos pesado solo a dos nodos, esto es porque en el bloque de codigo de arriba sale un arreglo clasificando cada nodo. Se puede ver que el nodo 1 y 6 son puntos de entrega son puntos de entrega mientras que el nodo 5 es un almacen. En el algortimo ponemos como punto de partida un nodo que sea almacen, mientras que solo tiene que ir a los nodos que sean considerados puntos de entrega, los que no lo son solo los ignora.\n",
        "\n",
        "Si no hubieramos realizados estos cambios el grafico habria salido muy diferente, literalmente lleno de flechas apuntando el camino menos pesado a cada nodo del grafo."
      ]
    }
  ]
}
