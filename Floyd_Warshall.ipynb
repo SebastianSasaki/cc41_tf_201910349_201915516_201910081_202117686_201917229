{
  "nbformat": 4,
  "nbformat_minor": 0,
  "metadata": {
    "colab": {
      "name": "Floyd-Warshall",
      "provenance": [],
      "collapsed_sections": []
    },
    "kernelspec": {
      "name": "python3",
      "display_name": "Python 3"
    },
    "language_info": {
      "name": "python"
    }
  },
  "cells": [
    {
      "cell_type": "code",
      "metadata": {
        "id": "8zOmy8C2CPmZ"
      },
      "source": [
        "import graphviz as gv #Graficos\n",
        "import numpy as np\n",
        "import heapq as hq\n",
        "import pandas as pd #Leer CSV\n",
        "import matplotlib.pyplot as plt # Gragicos final\n",
        "import math as math #Operaciones matematicas\n",
        "\n",
        "def readAdjl(fn, haslabels=False, weighted=False, sep=\"|\"):\n",
        "  with open(fn) as f:\n",
        "    labels = None\n",
        "    if haslabels:\n",
        "      labels = f.readline().strip().split()\n",
        "    L = []\n",
        "    for line in f:\n",
        "      if weighted:\n",
        "        L.append([tuple(map(int, p.split(sep))) for p in line.strip().split()])\n",
        "        # line => \"1|3 2|5 4|4\" ==> [(1, 3), (2, 5), (4, 4)]\n",
        "      else: \n",
        "        L.append(list(map(int, line.strip().split()))) # \"1 3 5\" => [1, 3, 5]\n",
        "        # L.append([int(x) for x in line.strip().split()])\n",
        "  return L, labels\n",
        "\n",
        "def adjlShow(L, labels=None, directed=False, weighted=False, path=[],\n",
        "             layout=\"sfdp\"):\n",
        "  g = gv.Digraph(\"G\") if directed else gv.Graph(\"G\")\n",
        "  g.graph_attr[\"layout\"] = layout\n",
        "  g.edge_attr[\"color\"] = \"gray\"\n",
        "  g.node_attr[\"color\"] = \"orangered\"\n",
        "  g.node_attr[\"width\"] = \"0.1\"\n",
        "  g.node_attr[\"height\"] = \"0.1\"\n",
        "  g.node_attr[\"fontsize\"] = \"8\"\n",
        "  g.node_attr[\"fontcolor\"] = \"mediumslateblue\"\n",
        "  g.node_attr[\"fontname\"] = \"monospace\"\n",
        "  n = len(L)\n",
        "  for u in range(n):\n",
        "    g.node(str(u), labels[u] if labels else str(u))\n",
        "  added = set()\n",
        "  for v, u in enumerate(path):\n",
        "    if u != None:\n",
        "      g.edge(str(u), str(v), dir=\"forward\", penwidth=\"2\", color=\"orange\")\n",
        "      added.add(f\"{u},{v}\")\n",
        "      added.add(f\"{v},{u}\")\n",
        "  if weighted:\n",
        "    for u in range(n):\n",
        "      for v, w in L[u]:\n",
        "        if not directed and not f\"{u},{v}\" in added:\n",
        "          added.add(f\"{u},{v}\")\n",
        "          added.add(f\"{v},{u}\")\n",
        "          g.edge(str(u), str(v), str(w))\n",
        "        elif directed:\n",
        "          g.edge(str(u), str(v), str(w))\n",
        "  else:\n",
        "    for u in range(n):\n",
        "      for v in L[u]:\n",
        "        if not directed and not f\"{u},{v}\" in added:\n",
        "          added.add(f\"{u},{v}\")\n",
        "          added.add(f\"{v},{u}\")\n",
        "          g.edge(str(u), str(v))\n",
        "        elif directed:\n",
        "          g.edge(str(u), str(v))\n",
        "  return g"
      ],
      "execution_count": null,
      "outputs": []
    },
    {
      "cell_type": "markdown",
      "metadata": {
        "id": "NCVKYzyOjV_m"
      },
      "source": [
        "Vamos a analizar el código del Algoritmo Floyd Warshall para aproximar los tiempos que tendría para hallar la ruta mas corta de los almacenes hacia los puntos de entrega en el trabajo final. -> O(n^2 log n)"
      ]
    },
    {
      "cell_type": "code",
      "metadata": {
        "id": "lYQ6hT0RCYPy"
      },
      "source": [
        "# O(n^2 log n), pues los 'for' no dependen uno del otro\n",
        "def floydWarshall(G):\n",
        "  n = len(G) # 2\n",
        "\n",
        "  cost = [[float('inf')]*n for _ in range(n)] # crea matriz, n  es numero de filas y por cada uno hay un arreglo con n elementos infinitos\n",
        "  path = [[-1]*n for _ in range(n)] # lo mismo, pero con -1 en vez de infinitos\n",
        "\n",
        "\n",
        "  for u in range(n): # armas la matriz inicial, 0 si fila == columna, el peso si hay llegada directa a ese nodo, y inf si no hay # n\n",
        "    cost[u][u] = 0 # 2 + 2\n",
        "    for v, w in G[u]: # n*n\n",
        "      cost[u][v] = w # 2\n",
        "      path[u][v] = u # 2\n",
        "\n",
        "  for k in range(n): #COLUMNA # n\n",
        "    for i in range(n): #FILA # n * n\n",
        "      if i == k: continue # 1\n",
        "      for j in range(n): # columna iterativa # n * n * log n\n",
        "        if i == j or j == k: continue # 2\n",
        "        f = cost[i][k] + cost[k][j] # 4\n",
        "        if f < cost[i][j]: # si el costo es menor # 2\n",
        "          cost[i][j] = f   # lo remplazas # 2\n",
        "          path[i][j] = path[k][j] # agaregas el ultimo camino # 3\n",
        "\n",
        "  return path, cost"
      ],
      "execution_count": 8,
      "outputs": []
    },
    {
      "cell_type": "code",
      "metadata": {
        "id": "KSTSYJe_EcVG"
      },
      "source": [
        "# Matriz de prueba\n",
        "matriz = [[[0,0],[1,2],[2,1], [4, 3]],\n",
        "          [[1, 0], [3, 4]],\n",
        "          [[1, 1], [2, 0], [4, 1]],\n",
        "          [[0, 1], [2, 3], [3, 0], [4, 5]],\n",
        "          [[4, 0]]]\n",
        "          "
      ],
      "execution_count": 7,
      "outputs": []
    },
    {
      "cell_type": "code",
      "metadata": {
        "colab": {
          "base_uri": "https://localhost:8080/"
        },
        "id": "fChvL-2-D6tu",
        "outputId": "414370b4-d3ec-43f7-f085-3f41f9da043d"
      },
      "source": [
        "#G, _ = readAdjl(\"1.in\")\n",
        "p, c = floydWarshall(matriz)\n",
        "c"
      ],
      "execution_count": 10,
      "outputs": [
        {
          "output_type": "execute_result",
          "data": {
            "text/plain": [
              "[[0, 2, 1, 6, 2],\n",
              " [5, 0, 6, 4, 7],\n",
              " [6, 1, 0, 5, 1],\n",
              " [1, 3, 2, 0, 3],\n",
              " [inf, inf, inf, inf, 0]]"
            ]
          },
          "metadata": {},
          "execution_count": 10
        }
      ]
    },
    {
      "cell_type": "markdown",
      "metadata": {
        "id": "2pRVelS7mw1X"
      },
      "source": [
        "![fw_inicial](https://i.postimg.cc/MTxQCSGH/fw-inicio.png)\n",
        "![fw_final](https://i.postimg.cc/KcfPyRB2/fw-fin.png)\n"
      ]
    },
    {
      "cell_type": "code",
      "metadata": {
        "colab": {
          "base_uri": "https://localhost:8080/"
        },
        "id": "qAoe-5x8QFvN",
        "outputId": "b4856d36-186e-4780-cf33-d120ce576bcc"
      },
      "source": [
        "%%file 1.in\n",
        "1 2 4 7\n",
        "0 5\n",
        "0 12\n",
        "6 10\n",
        "0 \n",
        "1 4 6 8\n",
        "3 5 9\n",
        "0 8 14\n",
        "5 7\n",
        "6 10 12 13\n",
        "3 9 13 17\n",
        "12 15\n",
        "2 9 11 15 16\n",
        "9 10\n",
        "7 15\n",
        "11 12 14 16\n",
        "12 15 17\n",
        "10 16"
      ],
      "execution_count": 4,
      "outputs": [
        {
          "output_type": "stream",
          "name": "stdout",
          "text": [
            "Writing 1.in\n"
          ]
        }
      ]
    }
  ]
}