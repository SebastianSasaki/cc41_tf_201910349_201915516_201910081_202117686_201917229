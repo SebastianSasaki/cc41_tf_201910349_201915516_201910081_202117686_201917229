{
  "nbformat": 4,
  "nbformat_minor": 0,
  "metadata": {
    "colab": {
      "name": "Algoritmo Bellman-Form (Hugo Quispe Chavez).ipynb",
      "provenance": []
    },
    "kernelspec": {
      "name": "python3",
      "display_name": "Python 3"
    },
    "language_info": {
      "name": "python"
    }
  },
  "cells": [
    {
      "cell_type": "code",
      "metadata": {
        "id": "Pd0Brp-epRqc"
      },
      "source": [
        "import graphviz as gv #Graficos\n",
        "import numpy as np\n",
        "import heapq as hq\n",
        "import pandas as pd #Leer CSV\n",
        "import matplotlib.pyplot as plt # Gragicos final\n",
        "import math as math #Operaciones matematicas\n",
        "from timeit import timeit\n",
        "\n",
        "def readAdjl(fn, haslabels=False, weighted=False, sep=\"|\"):\n",
        "  with open(fn) as f:\n",
        "    labels = None\n",
        "    if haslabels:\n",
        "      labels = f.readline().strip().split()\n",
        "    L = []\n",
        "    for line in f:\n",
        "      if weighted:\n",
        "        L.append([tuple(map(int, p.split(sep))) for p in line.strip().split()])\n",
        "        # line => \"1|3 2|5 4|4\" ==> [(1, 3), (2, 5), (4, 4)]\n",
        "      else: \n",
        "        L.append(list(map(int, line.strip().split()))) # \"1 3 5\" => [1, 3, 5]\n",
        "        # L.append([int(x) for x in line.strip().split()])\n",
        "  return L, labels\n",
        "\n",
        "def adjlShow(L, labels=None, directed=False, weighted=False, path=[],\n",
        "             layout=\"sfdp\"):\n",
        "  g = gv.Digraph(\"G\") if directed else gv.Graph(\"G\")\n",
        "  g.graph_attr[\"layout\"] = layout\n",
        "  g.edge_attr[\"color\"] = \"gray\"\n",
        "  g.node_attr[\"color\"] = \"orangered\"\n",
        "  g.node_attr[\"width\"] = \"0.1\"\n",
        "  g.node_attr[\"height\"] = \"0.1\"\n",
        "  g.node_attr[\"fontsize\"] = \"8\"\n",
        "  g.node_attr[\"fontcolor\"] = \"mediumslateblue\"\n",
        "  g.node_attr[\"fontname\"] = \"monospace\"\n",
        "  n = len(L)\n",
        "  for u in range(n):\n",
        "    g.node(str(u), labels[u] if labels else str(u))\n",
        "  added = set()\n",
        "  for v, u in enumerate(path):\n",
        "    if u != None:\n",
        "      g.edge(str(u), str(v), dir=\"forward\", penwidth=\"2\", color=\"orange\")\n",
        "      added.add(f\"{u},{v}\")\n",
        "      added.add(f\"{v},{u}\")\n",
        "  if weighted:\n",
        "    for u in range(n):\n",
        "      for v, w in L[u]:\n",
        "        if not directed and not f\"{u},{v}\" in added:\n",
        "          added.add(f\"{u},{v}\")\n",
        "          added.add(f\"{v},{u}\")\n",
        "          g.edge(str(u), str(v), str(w))\n",
        "        elif directed:\n",
        "          g.edge(str(u), str(v), str(w))\n",
        "  else:\n",
        "    for u in range(n):\n",
        "      for v in L[u]:\n",
        "        if not directed and not f\"{u},{v}\" in added:\n",
        "          added.add(f\"{u},{v}\")\n",
        "          added.add(f\"{v},{u}\")\n",
        "          g.edge(str(u), str(v))\n",
        "        elif directed:\n",
        "          g.edge(str(u), str(v))\n",
        "  return g"
      ],
      "execution_count": 1,
      "outputs": []
    },
    {
      "cell_type": "code",
      "metadata": {
        "colab": {
          "base_uri": "https://localhost:8080/"
        },
        "id": "tRqwP7eJvxS_",
        "outputId": "cf66946f-1f26-46cf-90d1-30ed5c798c40"
      },
      "source": [
        "%%file 1.in\n",
        "1|4 7|8 14|3\n",
        "2|7 5|7\n",
        "5|4 1|7 3|5 6|1\n",
        "2|5\n",
        "7|7\n",
        "1|7 6|1 8|5\n",
        "2|1 5|1\n",
        "0|8 4|7 8|8\n",
        "5|5 7|8 9|8 11|9 12|6\n",
        "8|8 10|8 12|9 13|7\n",
        "9|8 13|3\n",
        "8|9\n",
        "8|6 9|9 13|2 15|5\n",
        "9|7 10|13 12|2 16|9\n",
        "0|3 15|9\n",
        "12|5 14|9 17|7\n",
        "13|9 17|8\n",
        "15|7 16|8\n"
      ],
      "execution_count": 2,
      "outputs": [
        {
          "output_type": "stream",
          "name": "stdout",
          "text": [
            "Writing 1.in\n"
          ]
        }
      ]
    },
    {
      "cell_type": "code",
      "metadata": {
        "colab": {
          "base_uri": "https://localhost:8080/",
          "height": 696
        },
        "id": "F12IWI9Qv0n4",
        "outputId": "8e1d8a3f-bab0-4b51-df86-3b79e97a8c0e"
      },
      "source": [
        "G, _ = readAdjl(\"1.in\", weighted=True)\n",
        "for i, edges in enumerate(G):\n",
        "  print(f\"{i:2}: {edges}\")\n",
        "adjlShow(G, weighted=True)"
      ],
      "execution_count": 3,
      "outputs": [
        {
          "output_type": "stream",
          "name": "stdout",
          "text": [
            " 0: [(1, 4), (7, 8), (14, 3)]\n",
            " 1: [(2, 7), (5, 7)]\n",
            " 2: [(5, 4), (1, 7), (3, 5), (6, 1)]\n",
            " 3: [(2, 5)]\n",
            " 4: [(7, 7)]\n",
            " 5: [(1, 7), (6, 1), (8, 5)]\n",
            " 6: [(2, 1), (5, 1)]\n",
            " 7: [(0, 8), (4, 7), (8, 8)]\n",
            " 8: [(5, 5), (7, 8), (9, 8), (11, 9), (12, 6)]\n",
            " 9: [(8, 8), (10, 8), (12, 9), (13, 7)]\n",
            "10: [(9, 8), (13, 3)]\n",
            "11: [(8, 9)]\n",
            "12: [(8, 6), (9, 9), (13, 2), (15, 5)]\n",
            "13: [(9, 7), (10, 13), (12, 2), (16, 9)]\n",
            "14: [(0, 3), (15, 9)]\n",
            "15: [(12, 5), (14, 9), (17, 7)]\n",
            "16: [(13, 9), (17, 8)]\n",
            "17: [(15, 7), (16, 8)]\n"
          ]
        },
        {
          "output_type": "execute_result",
          "data": {
            "text/plain": [
              "<graphviz.dot.Graph at 0x7f9abfbccdd0>"
            ],
            "image/svg+xml": "<?xml version=\"1.0\" encoding=\"UTF-8\" standalone=\"no\"?>\n<!DOCTYPE svg PUBLIC \"-//W3C//DTD SVG 1.1//EN\"\n \"http://www.w3.org/Graphics/SVG/1.1/DTD/svg11.dtd\">\n<!-- Generated by graphviz version 2.40.1 (20161225.0304)\n -->\n<!-- Title: G Pages: 1 -->\n<svg width=\"527pt\" height=\"272pt\"\n viewBox=\"0.00 0.00 527.13 272.13\" xmlns=\"http://www.w3.org/2000/svg\" xmlns:xlink=\"http://www.w3.org/1999/xlink\">\n<g id=\"graph0\" class=\"graph\" transform=\"scale(1 1) rotate(0) translate(4 268.1275)\">\n<title>G</title>\n<polygon fill=\"#ffffff\" stroke=\"transparent\" points=\"-4,4 -4,-268.1275 523.1349,-268.1275 523.1349,4 -4,4\"/>\n<!-- 0 -->\n<g id=\"node1\" class=\"node\">\n<title>0</title>\n<ellipse fill=\"none\" stroke=\"#ff4500\" cx=\"296.8844\" cy=\"-187.2971\" rx=\"15.6129\" ry=\"12.0417\"/>\n<text text-anchor=\"middle\" x=\"296.8844\" y=\"-185.3971\" font-family=\"monospace\" font-size=\"8.00\" fill=\"#7b68ee\">0</text>\n</g>\n<!-- 1 -->\n<g id=\"node2\" class=\"node\">\n<title>1</title>\n<ellipse fill=\"none\" stroke=\"#ff4500\" cx=\"376.8788\" cy=\"-193.6246\" rx=\"15.6129\" ry=\"12.0417\"/>\n<text text-anchor=\"middle\" x=\"376.8788\" y=\"-191.7246\" font-family=\"monospace\" font-size=\"8.00\" fill=\"#7b68ee\">1</text>\n</g>\n<!-- 0&#45;&#45;1 -->\n<g id=\"edge1\" class=\"edge\">\n<title>0&#45;&#45;1</title>\n<path fill=\"none\" stroke=\"#c0c0c0\" d=\"M312.6887,-188.5472C326.8039,-189.6637 347.3581,-191.2895 361.3795,-192.3986\"/>\n<text text-anchor=\"middle\" x=\"333.0341\" y=\"-194.2729\" font-family=\"Times,serif\" font-size=\"14.00\" fill=\"#000000\">4</text>\n</g>\n<!-- 7 -->\n<g id=\"node8\" class=\"node\">\n<title>7</title>\n<ellipse fill=\"none\" stroke=\"#ff4500\" cx=\"302.6959\" cy=\"-91.1385\" rx=\"15.6129\" ry=\"12.0417\"/>\n<text text-anchor=\"middle\" x=\"302.6959\" y=\"-89.2385\" font-family=\"monospace\" font-size=\"8.00\" fill=\"#7b68ee\">7</text>\n</g>\n<!-- 0&#45;&#45;7 -->\n<g id=\"edge2\" class=\"edge\">\n<title>0&#45;&#45;7</title>\n<path fill=\"none\" stroke=\"#c0c0c0\" d=\"M297.6205,-175.1185C298.7383,-156.622 300.8515,-121.6558 301.9658,-103.2182\"/>\n<text text-anchor=\"middle\" x=\"295.7931\" y=\"-142.9683\" font-family=\"Times,serif\" font-size=\"14.00\" fill=\"#000000\">8</text>\n</g>\n<!-- 14 -->\n<g id=\"node15\" class=\"node\">\n<title>14</title>\n<ellipse fill=\"none\" stroke=\"#ff4500\" cx=\"216.8608\" cy=\"-238.7782\" rx=\"19.1842\" ry=\"12.0417\"/>\n<text text-anchor=\"middle\" x=\"216.8608\" y=\"-236.8782\" font-family=\"monospace\" font-size=\"8.00\" fill=\"#7b68ee\">14</text>\n</g>\n<!-- 0&#45;&#45;14 -->\n<g id=\"edge3\" class=\"edge\">\n<title>0&#45;&#45;14</title>\n<path fill=\"none\" stroke=\"#c0c0c0\" d=\"M284.7306,-195.1159C270.127,-204.5108 245.6943,-220.2289 230.4711,-230.0223\"/>\n<text text-anchor=\"middle\" x=\"253.6008\" y=\"-216.3691\" font-family=\"Times,serif\" font-size=\"14.00\" fill=\"#000000\">3</text>\n</g>\n<!-- 2 -->\n<g id=\"node3\" class=\"node\">\n<title>2</title>\n<ellipse fill=\"none\" stroke=\"#ff4500\" cx=\"440.8389\" cy=\"-180.0237\" rx=\"15.6129\" ry=\"12.0417\"/>\n<text text-anchor=\"middle\" x=\"440.8389\" y=\"-178.1237\" font-family=\"monospace\" font-size=\"8.00\" fill=\"#7b68ee\">2</text>\n</g>\n<!-- 1&#45;&#45;2 -->\n<g id=\"edge4\" class=\"edge\">\n<title>1&#45;&#45;2</title>\n<path fill=\"none\" stroke=\"#c0c0c0\" d=\"M392.0364,-190.4014C402.2322,-188.2333 415.6171,-185.387 425.7901,-183.2238\"/>\n<text text-anchor=\"middle\" x=\"404.9132\" y=\"-190.6126\" font-family=\"Times,serif\" font-size=\"14.00\" fill=\"#000000\">7</text>\n</g>\n<!-- 5 -->\n<g id=\"node6\" class=\"node\">\n<title>5</title>\n<ellipse fill=\"none\" stroke=\"#ff4500\" cx=\"363.713\" cy=\"-134.9473\" rx=\"15.6129\" ry=\"12.0417\"/>\n<text text-anchor=\"middle\" x=\"363.713\" y=\"-133.0473\" font-family=\"monospace\" font-size=\"8.00\" fill=\"#7b68ee\">5</text>\n</g>\n<!-- 1&#45;&#45;5 -->\n<g id=\"edge5\" class=\"edge\">\n<title>1&#45;&#45;5</title>\n<path fill=\"none\" stroke=\"#c0c0c0\" d=\"M374.2145,-181.7504C371.9303,-171.5701 368.6564,-156.979 366.3733,-146.8038\"/>\n<text text-anchor=\"middle\" x=\"366.2939\" y=\"-168.0771\" font-family=\"Times,serif\" font-size=\"14.00\" fill=\"#000000\">7</text>\n</g>\n<!-- 3 -->\n<g id=\"node4\" class=\"node\">\n<title>3</title>\n<ellipse fill=\"none\" stroke=\"#ff4500\" cx=\"503.5786\" cy=\"-222.0023\" rx=\"15.6129\" ry=\"12.0417\"/>\n<text text-anchor=\"middle\" x=\"503.5786\" y=\"-220.1023\" font-family=\"monospace\" font-size=\"8.00\" fill=\"#7b68ee\">3</text>\n</g>\n<!-- 2&#45;&#45;3 -->\n<g id=\"edge7\" class=\"edge\">\n<title>2&#45;&#45;3</title>\n<path fill=\"none\" stroke=\"#c0c0c0\" d=\"M452.6398,-187.9196C463.7146,-195.3297 480.2075,-206.3649 491.4027,-213.8555\"/>\n<text text-anchor=\"middle\" x=\"468.0212\" y=\"-204.6876\" font-family=\"Times,serif\" font-size=\"14.00\" fill=\"#000000\">5</text>\n</g>\n<!-- 2&#45;&#45;5 -->\n<g id=\"edge6\" class=\"edge\">\n<title>2&#45;&#45;5</title>\n<path fill=\"none\" stroke=\"#c0c0c0\" d=\"M428.1031,-172.5802C413.7274,-164.1783 390.4893,-150.5967 376.2118,-142.2522\"/>\n<text text-anchor=\"middle\" x=\"398.1575\" y=\"-161.2162\" font-family=\"Times,serif\" font-size=\"14.00\" fill=\"#000000\">4</text>\n</g>\n<!-- 6 -->\n<g id=\"node7\" class=\"node\">\n<title>6</title>\n<ellipse fill=\"none\" stroke=\"#ff4500\" cx=\"445.4042\" cy=\"-127.5198\" rx=\"15.6129\" ry=\"12.0417\"/>\n<text text-anchor=\"middle\" x=\"445.4042\" y=\"-125.6198\" font-family=\"monospace\" font-size=\"8.00\" fill=\"#7b68ee\">6</text>\n</g>\n<!-- 2&#45;&#45;6 -->\n<g id=\"edge8\" class=\"edge\">\n<title>2&#45;&#45;6</title>\n<path fill=\"none\" stroke=\"#c0c0c0\" d=\"M441.8977,-167.8463C442.6353,-159.3642 443.6148,-148.0988 444.3511,-139.6312\"/>\n<text text-anchor=\"middle\" x=\"439.1244\" y=\"-157.5388\" font-family=\"Times,serif\" font-size=\"14.00\" fill=\"#000000\">1</text>\n</g>\n<!-- 4 -->\n<g id=\"node5\" class=\"node\">\n<title>4</title>\n<ellipse fill=\"none\" stroke=\"#ff4500\" cx=\"343.6981\" cy=\"-15.8644\" rx=\"15.6129\" ry=\"12.0417\"/>\n<text text-anchor=\"middle\" x=\"343.6981\" y=\"-13.9644\" font-family=\"monospace\" font-size=\"8.00\" fill=\"#7b68ee\">4</text>\n</g>\n<!-- 4&#45;&#45;7 -->\n<g id=\"edge9\" class=\"edge\">\n<title>4&#45;&#45;7</title>\n<path fill=\"none\" stroke=\"#c0c0c0\" d=\"M337.6481,-26.9713C329.8959,-41.2031 316.5348,-65.7322 308.7707,-79.986\"/>\n<text text-anchor=\"middle\" x=\"319.2094\" y=\"-57.2786\" font-family=\"Times,serif\" font-size=\"14.00\" fill=\"#000000\">7</text>\n</g>\n<!-- 5&#45;&#45;6 -->\n<g id=\"edge10\" class=\"edge\">\n<title>5&#45;&#45;6</title>\n<path fill=\"none\" stroke=\"#c0c0c0\" d=\"M379.4639,-133.5152C393.9295,-132.1999 415.2513,-130.2614 429.7016,-128.9475\"/>\n<text text-anchor=\"middle\" x=\"400.5828\" y=\"-135.0314\" font-family=\"Times,serif\" font-size=\"14.00\" fill=\"#000000\">1</text>\n</g>\n<!-- 8 -->\n<g id=\"node9\" class=\"node\">\n<title>8</title>\n<ellipse fill=\"none\" stroke=\"#ff4500\" cx=\"233.4343\" cy=\"-95.172\" rx=\"15.6129\" ry=\"12.0417\"/>\n<text text-anchor=\"middle\" x=\"233.4343\" y=\"-93.272\" font-family=\"monospace\" font-size=\"8.00\" fill=\"#7b68ee\">8</text>\n</g>\n<!-- 5&#45;&#45;8 -->\n<g id=\"edge11\" class=\"edge\">\n<title>5&#45;&#45;8</title>\n<path fill=\"none\" stroke=\"#c0c0c0\" d=\"M349.0216,-130.4618C324.0006,-122.8227 273.3922,-107.3715 248.2719,-99.702\"/>\n<text text-anchor=\"middle\" x=\"294.6468\" y=\"-118.8819\" font-family=\"Times,serif\" font-size=\"14.00\" fill=\"#000000\">5</text>\n</g>\n<!-- 7&#45;&#45;8 -->\n<g id=\"edge12\" class=\"edge\">\n<title>7&#45;&#45;8</title>\n<path fill=\"none\" stroke=\"#c0c0c0\" d=\"M286.9793,-92.0537C275.6443,-92.7138 260.4094,-93.6011 249.0887,-94.2603\"/>\n<text text-anchor=\"middle\" x=\"264.034\" y=\"-96.957\" font-family=\"Times,serif\" font-size=\"14.00\" fill=\"#000000\">8</text>\n</g>\n<!-- 9 -->\n<g id=\"node10\" class=\"node\">\n<title>9</title>\n<ellipse fill=\"none\" stroke=\"#ff4500\" cx=\"126.1055\" cy=\"-87.6853\" rx=\"15.6129\" ry=\"12.0417\"/>\n<text text-anchor=\"middle\" x=\"126.1055\" y=\"-85.7853\" font-family=\"monospace\" font-size=\"8.00\" fill=\"#7b68ee\">9</text>\n</g>\n<!-- 8&#45;&#45;9 -->\n<g id=\"edge13\" class=\"edge\">\n<title>8&#45;&#45;9</title>\n<path fill=\"none\" stroke=\"#c0c0c0\" d=\"M217.5976,-94.0673C197.1887,-92.6437 161.9283,-90.1841 141.6582,-88.7702\"/>\n<text text-anchor=\"middle\" x=\"175.6279\" y=\"-95.2187\" font-family=\"Times,serif\" font-size=\"14.00\" fill=\"#000000\">8</text>\n</g>\n<!-- 11 -->\n<g id=\"node12\" class=\"node\">\n<title>11</title>\n<ellipse fill=\"none\" stroke=\"#ff4500\" cx=\"223.7805\" cy=\"-12.0208\" rx=\"19.1842\" ry=\"12.0417\"/>\n<text text-anchor=\"middle\" x=\"223.7805\" y=\"-10.1208\" font-family=\"monospace\" font-size=\"8.00\" fill=\"#7b68ee\">11</text>\n</g>\n<!-- 8&#45;&#45;11 -->\n<g id=\"edge14\" class=\"edge\">\n<title>8&#45;&#45;11</title>\n<path fill=\"none\" stroke=\"#c0c0c0\" d=\"M232.0099,-82.9027C230.1742,-67.0913 227.0026,-39.7739 225.1794,-24.07\"/>\n<text text-anchor=\"middle\" x=\"224.5946\" y=\"-57.2864\" font-family=\"Times,serif\" font-size=\"14.00\" fill=\"#000000\">9</text>\n</g>\n<!-- 12 -->\n<g id=\"node13\" class=\"node\">\n<title>12</title>\n<ellipse fill=\"none\" stroke=\"#ff4500\" cx=\"141.455\" cy=\"-141.0183\" rx=\"19.1842\" ry=\"12.0417\"/>\n<text text-anchor=\"middle\" x=\"141.455\" y=\"-139.1183\" font-family=\"monospace\" font-size=\"8.00\" fill=\"#7b68ee\">12</text>\n</g>\n<!-- 8&#45;&#45;12 -->\n<g id=\"edge15\" class=\"edge\">\n<title>8&#45;&#45;12</title>\n<path fill=\"none\" stroke=\"#c0c0c0\" d=\"M220.2559,-101.7406C203.3668,-110.1589 174.159,-124.7173 156.441,-133.5487\"/>\n<text text-anchor=\"middle\" x=\"184.3485\" y=\"-121.4447\" font-family=\"Times,serif\" font-size=\"14.00\" fill=\"#000000\">6</text>\n</g>\n<!-- 10 -->\n<g id=\"node11\" class=\"node\">\n<title>10</title>\n<ellipse fill=\"none\" stroke=\"#ff4500\" cx=\"53.3207\" cy=\"-64.4765\" rx=\"19.1842\" ry=\"12.0417\"/>\n<text text-anchor=\"middle\" x=\"53.3207\" y=\"-62.5765\" font-family=\"monospace\" font-size=\"8.00\" fill=\"#7b68ee\">10</text>\n</g>\n<!-- 9&#45;&#45;10 -->\n<g id=\"edge16\" class=\"edge\">\n<title>9&#45;&#45;10</title>\n<path fill=\"none\" stroke=\"#c0c0c0\" d=\"M111.3764,-82.9886C99.5793,-79.2269 83.0072,-73.9426 70.587,-69.9822\"/>\n<text text-anchor=\"middle\" x=\"86.9817\" y=\"-80.2854\" font-family=\"Times,serif\" font-size=\"14.00\" fill=\"#000000\">8</text>\n</g>\n<!-- 9&#45;&#45;12 -->\n<g id=\"edge17\" class=\"edge\">\n<title>9&#45;&#45;12</title>\n<path fill=\"none\" stroke=\"#c0c0c0\" d=\"M129.512,-99.5216C132.0204,-108.2371 135.4206,-120.0515 137.9515,-128.8453\"/>\n<text text-anchor=\"middle\" x=\"129.7318\" y=\"-102.9835\" font-family=\"Times,serif\" font-size=\"14.00\" fill=\"#000000\">9</text>\n</g>\n<!-- 13 -->\n<g id=\"node14\" class=\"node\">\n<title>13</title>\n<ellipse fill=\"none\" stroke=\"#ff4500\" cx=\"64.354\" cy=\"-124.9584\" rx=\"19.1842\" ry=\"12.0417\"/>\n<text text-anchor=\"middle\" x=\"64.354\" y=\"-123.0584\" font-family=\"monospace\" font-size=\"8.00\" fill=\"#7b68ee\">13</text>\n</g>\n<!-- 9&#45;&#45;13 -->\n<g id=\"edge18\" class=\"edge\">\n<title>9&#45;&#45;13</title>\n<path fill=\"none\" stroke=\"#c0c0c0\" d=\"M113.6091,-95.2281C103.4594,-101.3544 89.1435,-109.9955 78.5598,-116.3838\"/>\n<text text-anchor=\"middle\" x=\"92.0845\" y=\"-109.606\" font-family=\"Times,serif\" font-size=\"14.00\" fill=\"#000000\">7</text>\n</g>\n<!-- 10&#45;&#45;13 -->\n<g id=\"edge19\" class=\"edge\">\n<title>10&#45;&#45;13</title>\n<path fill=\"none\" stroke=\"#c0c0c0\" d=\"M55.5006,-76.4258C57.4097,-86.8914 60.173,-102.0387 62.103,-112.6187\"/>\n<text text-anchor=\"middle\" x=\"54.8018\" y=\"-98.3222\" font-family=\"Times,serif\" font-size=\"14.00\" fill=\"#000000\">3</text>\n</g>\n<!-- 12&#45;&#45;13 -->\n<g id=\"edge20\" class=\"edge\">\n<title>12&#45;&#45;13</title>\n<path fill=\"none\" stroke=\"#c0c0c0\" d=\"M123.1831,-137.2124C110.8926,-134.6523 94.7578,-131.2914 82.4947,-128.7371\"/>\n<text text-anchor=\"middle\" x=\"98.8389\" y=\"-136.7747\" font-family=\"Times,serif\" font-size=\"14.00\" fill=\"#000000\">2</text>\n</g>\n<!-- 15 -->\n<g id=\"node16\" class=\"node\">\n<title>15</title>\n<ellipse fill=\"none\" stroke=\"#ff4500\" cx=\"128.8952\" cy=\"-229.1181\" rx=\"19.1842\" ry=\"12.0417\"/>\n<text text-anchor=\"middle\" x=\"128.8952\" y=\"-227.2181\" font-family=\"monospace\" font-size=\"8.00\" fill=\"#7b68ee\">15</text>\n</g>\n<!-- 12&#45;&#45;15 -->\n<g id=\"edge21\" class=\"edge\">\n<title>12&#45;&#45;15</title>\n<path fill=\"none\" stroke=\"#c0c0c0\" d=\"M139.7086,-153.2682C137.309,-170.1 133.0185,-200.1954 130.6267,-216.9723\"/>\n<text text-anchor=\"middle\" x=\"131.1677\" y=\"-188.9203\" font-family=\"Times,serif\" font-size=\"14.00\" fill=\"#000000\">5</text>\n</g>\n<!-- 16 -->\n<g id=\"node17\" class=\"node\">\n<title>16</title>\n<ellipse fill=\"none\" stroke=\"#ff4500\" cx=\"19.0919\" cy=\"-193.3835\" rx=\"19.1842\" ry=\"12.0417\"/>\n<text text-anchor=\"middle\" x=\"19.0919\" y=\"-191.4835\" font-family=\"monospace\" font-size=\"8.00\" fill=\"#7b68ee\">16</text>\n</g>\n<!-- 13&#45;&#45;16 -->\n<g id=\"edge22\" class=\"edge\">\n<title>13&#45;&#45;16</title>\n<path fill=\"none\" stroke=\"#c0c0c0\" d=\"M56.8799,-136.2575C48.5438,-148.8596 35.1298,-169.1382 26.7284,-181.839\"/>\n<text text-anchor=\"middle\" x=\"37.8042\" y=\"-162.8482\" font-family=\"Times,serif\" font-size=\"14.00\" fill=\"#000000\">9</text>\n</g>\n<!-- 14&#45;&#45;15 -->\n<g id=\"edge23\" class=\"edge\">\n<title>14&#45;&#45;15</title>\n<path fill=\"none\" stroke=\"#c0c0c0\" d=\"M197.7735,-236.6821C183.0188,-235.0618 162.6905,-232.8294 147.9451,-231.2101\"/>\n<text text-anchor=\"middle\" x=\"168.8593\" y=\"-237.7461\" font-family=\"Times,serif\" font-size=\"14.00\" fill=\"#000000\">9</text>\n</g>\n<!-- 17 -->\n<g id=\"node18\" class=\"node\">\n<title>17</title>\n<ellipse fill=\"none\" stroke=\"#ff4500\" cx=\"48.1193\" cy=\"-252.1067\" rx=\"19.1842\" ry=\"12.0417\"/>\n<text text-anchor=\"middle\" x=\"48.1193\" y=\"-250.2067\" font-family=\"monospace\" font-size=\"8.00\" fill=\"#7b68ee\">17</text>\n</g>\n<!-- 15&#45;&#45;17 -->\n<g id=\"edge24\" class=\"edge\">\n<title>15&#45;&#45;17</title>\n<path fill=\"none\" stroke=\"#c0c0c0\" d=\"M111.368,-234.1063C97.8192,-237.9623 79.1525,-243.2747 65.6123,-247.1282\"/>\n<text text-anchor=\"middle\" x=\"84.4901\" y=\"-244.4173\" font-family=\"Times,serif\" font-size=\"14.00\" fill=\"#000000\">7</text>\n</g>\n<!-- 16&#45;&#45;17 -->\n<g id=\"edge25\" class=\"edge\">\n<title>16&#45;&#45;17</title>\n<path fill=\"none\" stroke=\"#c0c0c0\" d=\"M24.8268,-204.9853C29.9157,-215.2803 37.3111,-230.2413 42.3964,-240.529\"/>\n<text text-anchor=\"middle\" x=\"29.6116\" y=\"-226.5572\" font-family=\"Times,serif\" font-size=\"14.00\" fill=\"#000000\">8</text>\n</g>\n</g>\n</svg>\n"
          },
          "metadata": {},
          "execution_count": 3
        }
      ]
    },
    {
      "cell_type": "markdown",
      "metadata": {
        "id": "IUCfN54o2Qho"
      },
      "source": [
        "### Hugo Quispe Chavez (Bellman Ford)\n",
        "\n",
        "\n",
        "\n"
      ]
    },
    {
      "cell_type": "markdown",
      "metadata": {
        "id": "uG1M3UfP2TpJ"
      },
      "source": [
        "Es un algoritmo para grafos cíclicos y su peculiaridad es que funciona para aristas negativas (caminos con valor negativo)\n",
        "\n",
        "Si este algoritmo encuentra ciclos alcanzables para el origen, lanza un mensaje que no es posible hallar un SP."
      ]
    },
    {
      "cell_type": "markdown",
      "metadata": {
        "id": "ad07tN_o2qst"
      },
      "source": [
        "El algoritmo de bellman-Form la funsion especifica es calcular la ruta mas corta de un digrafo ponderado desde un vertice de origen,\n",
        "Analisando la complejidad de este algoritmo podemos percarnos que es O(n^3)"
      ]
    },
    {
      "cell_type": "code",
      "metadata": {
        "id": "Y7KSge3jv9Gk"
      },
      "source": [
        "def bellmanFord(G, s):\n",
        "  n = len(G)                            # 1                           # Del arreglo que obtuviste de los parametros sacas su tamaño\n",
        "  cost = [float('inf')]*n               # 2                           # creas un arreglo vacio con valores super altos con tamaño de n\n",
        "  cost[s] = 0                           # 1                           # en la pos de S le das costo 0 para que inicie de ahi\n",
        "  path = [-1]*n                         # 1                           # y un arreglo de caminos con valor -1 para poder almacenar los \n",
        "                                                                   # valores reales de los nodos.\n",
        "\n",
        "  for _ in range(n-1):                  # n * ( ...                   # crear un for para recorrer el arreglo\n",
        "    for u in range(n):                    # n * ( ...                 # para recorrer los nodos del arreglo\n",
        "      for v, w in G[u]:                     # n * ( ...               # para obtener los valores de los nodos (nodo, valor)\n",
        "        if cost[u] + w < cost[v]:       # 4                           # condicional para ver si el peso supera o no al otro camino de v\n",
        "          cost[v] = cost[u] + w         # 4                           # si es asi... actualiza el costo\n",
        "          path[v] = u                   # 2                           # y actualiza al padre\n",
        "\n",
        "  for u in range(n):                    # n * ( ...                   # este for es para ver si tiene caminos negativos\n",
        "    for v, w in G[u]:                     # n * ( ...                 # para obterner los valores de los nodos\n",
        "      if cost[u] + w < cost[v]:             # n * ( ...               # si ese canimo es mayor o no\n",
        "        return None, None                      # 1                     # retorna el none para decir que no es posible\n",
        "\n",
        "  return path, cost                            # 2                    # retorna el path y cost"
      ],
      "execution_count": 4,
      "outputs": []
    }
  ]
}