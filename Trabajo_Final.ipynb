{
  "nbformat": 4,
  "nbformat_minor": 0,
  "metadata": {
    "colab": {
      "name": "Trabajo_Final",
      "provenance": [],
      "collapsed_sections": [
        "VrZhTIOd-8Et"
      ],
      "include_colab_link": true
    },
    "kernelspec": {
      "name": "python3",
      "display_name": "Python 3"
    },
    "language_info": {
      "name": "python"
    }
  },
  "cells": [
    {
      "cell_type": "markdown",
      "metadata": {
        "id": "view-in-github",
        "colab_type": "text"
      },
      "source": [
        "<a href=\"https://colab.research.google.com/github/SebastianSasaki/cc41_tf_201910349_201915516_201910081_202117686_201917229/blob/main/Trabajo_Final.ipynb\" target=\"_parent\"><img src=\"https://colab.research.google.com/assets/colab-badge.svg\" alt=\"Open In Colab\"/></a>"
      ]
    },
    {
      "cell_type": "code",
      "metadata": {
        "id": "oOFKYQUX4wqe"
      },
      "source": [
        "import graphviz as gv #Graficos\n",
        "import numpy as np\n",
        "import pandas as pd #Leer CSV\n",
        "import matplotlib.pyplot as plt # Gragicos final\n",
        "import math as math #Operaciones matematicas\n",
        "\n",
        "def readAdjl(fn, haslabels=False, weighted=False, sep=\"|\"):\n",
        "  with open(fn) as f:\n",
        "    labels = None\n",
        "    if haslabels:\n",
        "      labels = f.readline().strip().split()\n",
        "    L = []\n",
        "    for line in f:\n",
        "      if weighted:\n",
        "        L.append([tuple(map(int, p.split(sep))) for p in line.strip().split()])\n",
        "        # line => \"1|3 2|5 4|4\" ==> [(1, 3), (2, 5), (4, 4)]\n",
        "      else: \n",
        "        L.append(list(map(int, line.strip().split()))) # \"1 3 5\" => [1, 3, 5]\n",
        "        # L.append([int(x) for x in line.strip().split()])\n",
        "  return L, labels\n",
        "\n",
        "def adjlShow(L, labels=None, directed=False, weighted=False, path=[],\n",
        "             layout=\"sfdp\"):\n",
        "  g = gv.Digraph(\"G\") if directed else gv.Graph(\"G\")\n",
        "  g.graph_attr[\"layout\"] = layout\n",
        "  g.edge_attr[\"color\"] = \"gray\"\n",
        "  g.node_attr[\"color\"] = \"orangered\"\n",
        "  g.node_attr[\"width\"] = \"0.1\"\n",
        "  g.node_attr[\"height\"] = \"0.1\"\n",
        "  g.node_attr[\"fontsize\"] = \"8\"\n",
        "  g.node_attr[\"fontcolor\"] = \"mediumslateblue\"\n",
        "  g.node_attr[\"fontname\"] = \"monospace\"\n",
        "  n = len(L)\n",
        "  for u in range(n):\n",
        "    g.node(str(u), labels[u] if labels else str(u))\n",
        "  added = set()\n",
        "  for v, u in enumerate(path):\n",
        "    if u != None:\n",
        "      g.edge(str(u), str(v), dir=\"forward\", penwidth=\"2\", color=\"orange\")\n",
        "      added.add(f\"{u},{v}\")\n",
        "      added.add(f\"{v},{u}\")\n",
        "  if weighted:\n",
        "    for u in range(n):\n",
        "      for v, w in L[u]:\n",
        "        if not directed and not f\"{u},{v}\" in added:\n",
        "          added.add(f\"{u},{v}\")\n",
        "          added.add(f\"{v},{u}\")\n",
        "          g.edge(str(u), str(v), str(w))\n",
        "        elif directed:\n",
        "          g.edge(str(u), str(v), str(w))\n",
        "  else:\n",
        "    for u in range(n):\n",
        "      for v in L[u]:\n",
        "        if not directed and not f\"{u},{v}\" in added:\n",
        "          added.add(f\"{u},{v}\")\n",
        "          added.add(f\"{v},{u}\")\n",
        "          g.edge(str(u), str(v))\n",
        "        elif directed:\n",
        "          g.edge(str(u), str(v))\n",
        "  return g"
      ],
      "execution_count": null,
      "outputs": []
    },
    {
      "cell_type": "markdown",
      "metadata": {
        "id": "ZygvTjbRBk58"
      },
      "source": [
        "# Stores (Almacenes)"
      ]
    },
    {
      "cell_type": "code",
      "metadata": {
        "id": "5aAVXLWw78vk"
      },
      "source": [
        "coords_str = pd.read_csv(\"almacenes.csv\")   #AQUI SE LEE EL CSV DE LOS ALMACENES\n",
        "coords_str #SE LOS GUARDA EN LA VARIABLE"
      ],
      "execution_count": null,
      "outputs": []
    },
    {
      "cell_type": "code",
      "metadata": {
        "id": "I4KKLPf39INA"
      },
      "source": [
        "coord_sx = coords_str['coordenada X']   \n",
        "coord_sy = coords_str['coordenada Y']\n",
        "stores = []\n",
        "\n",
        "for i in range(len(coord_sx)):\n",
        "  stores.append([coord_sx[i], coord_sy[i]])\n",
        "\n",
        "stores"
      ],
      "execution_count": null,
      "outputs": []
    },
    {
      "cell_type": "markdown",
      "metadata": {
        "id": "YViKAu_6BwaD"
      },
      "source": [
        "#  Delivery Points (Puntos de entrega)"
      ]
    },
    {
      "cell_type": "code",
      "metadata": {
        "id": "vOloydErBpwL"
      },
      "source": [
        "coords_dp = pd.read_csv(\"puntos_entrega.csv\")\n",
        "coords_dp"
      ],
      "execution_count": null,
      "outputs": []
    },
    {
      "cell_type": "code",
      "metadata": {
        "id": "aF2_u4FICCML"
      },
      "source": [
        "coord_dx = coords_dp['coordenada X']\n",
        "coord_dy = coords_dp['coordenada Y']\n",
        "delivery_points = []\n",
        "\n",
        "for i in range(len(coord_dx)):\n",
        "  delivery_points.append([coord_dx[i], coord_dy[i]])\n",
        "\n",
        "delivery_points"
      ],
      "execution_count": null,
      "outputs": []
    },
    {
      "cell_type": "markdown",
      "metadata": {
        "id": "NmJUw4mKvQZI"
      },
      "source": [
        "## CALCULO DE DISTANCIAS ENTRE COORDENADAS"
      ]
    },
    {
      "cell_type": "code",
      "metadata": {
        "id": "1ZCTuICLvX3S"
      },
      "source": [
        "def distancia(x1, y1, x2, y2):\n",
        "  return math.sqrt( (x2-x1)**2 + (y2-y1)**2 )\n",
        "  "
      ],
      "execution_count": null,
      "outputs": []
    },
    {
      "cell_type": "code",
      "metadata": {
        "colab": {
          "base_uri": "https://localhost:8080/"
        },
        "id": "yCuWt_NKwEVw",
        "outputId": "1f995aa5-ec28-4956-bc14-c3b2ecbb2099"
      },
      "source": [
        "print(distancia(-4, 0, 5, 0))  #PRUEBA DE FUNCIONAMIENTO"
      ],
      "execution_count": null,
      "outputs": [
        {
          "output_type": "stream",
          "name": "stdout",
          "text": [
            "9.0\n"
          ]
        }
      ]
    },
    {
      "cell_type": "markdown",
      "metadata": {
        "id": "VrZhTIOd-8Et"
      },
      "source": [
        "## REPRESENTACIÓN 1\n"
      ]
    },
    {
      "cell_type": "code",
      "metadata": {
        "id": "Vk37lVQOFQQW"
      },
      "source": [
        "#Sebastian Gonzales \n",
        "NS = len(stores)\n",
        "NDP = len(delivery_points)\n",
        "Total = 1000000 - (NS+NDP+1)\n",
        "print(Total)\n",
        "\n",
        "arr = []\n",
        "for _ in range(Total):\n",
        "  arr.append([0]*3)\n",
        "\n",
        "#ALMACENES\n",
        "coord_sx = coords_str['coordenada X']   \n",
        "coord_sy = coords_str['coordenada Y']\n",
        "\n",
        "#DELIVERY POINTS\n",
        "coord_dx = coords_dp['coordenada X']\n",
        "coord_dy = coords_dp['coordenada Y']\n",
        "\n",
        "\n",
        "#1's para Storages\n",
        "for i in range(len(coord_sx)):\n",
        "  arr.append([coord_sx[i], coord_sy[i], 1])\n",
        "\n",
        "\n",
        "#-1's para Delivery Points\n",
        "for i in range(len(coord_dx)):\n",
        "  arr.append([coord_dx[i], coord_dy[i], -1] )\n",
        "\n",
        "arr"
      ],
      "execution_count": null,
      "outputs": []
    },
    {
      "cell_type": "markdown",
      "metadata": {
        "id": "d0z26UO44km8"
      },
      "source": [
        "## REPRESENTACION 2"
      ]
    },
    {
      "cell_type": "code",
      "metadata": {
        "id": "oqWx-TVx4pKD",
        "colab": {
          "base_uri": "https://localhost:8080/",
          "height": 129
        },
        "outputId": "fc3dc119-13c4-4355-e93b-6b82eada2da3"
      },
      "source": [
        "#PLAYGROUND DE FICHEROS\n",
        "\n",
        "f= open(\"prueba.txt\",\"w+\")\n",
        "for i in range(10):\n",
        "  for j in range(5):\n",
        "    f.write(\"Primero esto %d  Fila %d \" % ((j+1), (i+1) )  \n",
        "  f.write(\"\\n\")\n",
        "f.close()\n"
      ],
      "execution_count": null,
      "outputs": [
        {
          "output_type": "error",
          "ename": "SyntaxError",
          "evalue": "ignored",
          "traceback": [
            "\u001b[0;36m  File \u001b[0;32m\"<ipython-input-82-416bd4cf95e8>\"\u001b[0;36m, line \u001b[0;32m7\u001b[0m\n\u001b[0;31m    f.write(\"\\n\")\u001b[0m\n\u001b[0m    ^\u001b[0m\n\u001b[0;31mSyntaxError\u001b[0m\u001b[0;31m:\u001b[0m invalid syntax\n"
          ]
        }
      ]
    },
    {
      "cell_type": "code",
      "metadata": {
        "id": "bui7820IRf3K"
      },
      "source": [
        "#Crear una lista de adyacencia parecida a la trabajada en clase\n",
        "#2|4 4|3\n",
        "\n",
        "NS = len(stores)\n",
        "NDP = len(delivery_points)\n",
        "\n",
        "f=open(\"Adyacencia.txt\", \"w+\")\n",
        "\n",
        "#Son 60 Almacenes y 2539 Entregas\n",
        "#En la primera iteracion: Almacen1(nodo 0) = 60|distancia[0,60] 61|distancia[0,61]\n",
        "\n",
        "for i in range(NS-1):\n",
        "  for j in range(NDP-1):\n",
        "    dis = distancia(stores[i][0], stores[i][1], delivery_points[j][0], delivery_points[j][1]) #Distancia \n",
        "    # Se tiene que escribir: \"NS+i|dis \"\n",
        "  #Se tiene que dar el salto de linea\n",
        "\n",
        "\n"
      ],
      "execution_count": null,
      "outputs": []
    },
    {
      "cell_type": "markdown",
      "metadata": {
        "id": "Ezzu2eJQ_ENH"
      },
      "source": [
        "## REPRESENTACIÓN GRAFICA"
      ]
    },
    {
      "cell_type": "code",
      "metadata": {
        "colab": {
          "base_uri": "https://localhost:8080/",
          "height": 296
        },
        "id": "wlNncRPqDBPt",
        "outputId": "ec61de6e-49a4-46fe-8772-b2649018b27f"
      },
      "source": [
        "plt.xlabel('x')\n",
        "plt.ylabel('y')\n",
        "\n",
        "plt.scatter(coords_str['coordenada X'], coords_str['coordenada Y'])\n",
        "plt.scatter(coords_dp['coordenada X'], coords_dp['coordenada Y'])"
      ],
      "execution_count": null,
      "outputs": [
        {
          "output_type": "execute_result",
          "data": {
            "text/plain": [
              "<matplotlib.collections.PathCollection at 0x7f301b482f50>"
            ]
          },
          "metadata": {},
          "execution_count": 84
        },
        {
          "output_type": "display_data",
          "data": {
            "image/png": "[encoded data removed]",
            "text/plain": [
              "<Figure size 432x288 with 1 Axes>"
            ]
          },
          "metadata": {
            "needs_background": "light"
          }
        }
      ]
    },
    {
      "cell_type": "code",
      "metadata": {
        "id": "jgY8136LDWtW",
        "colab": {
          "base_uri": "https://localhost:8080/",
          "height": 282
        },
        "outputId": "14856dd6-51f1-41bb-ee49-d6ff442d007d"
      },
      "source": [
        "plt.scatter(coords_dp['coordenada X'], coords_dp['coordenada Y'])"
      ],
      "execution_count": null,
      "outputs": [
        {
          "output_type": "execute_result",
          "data": {
            "text/plain": [
              "<matplotlib.collections.PathCollection at 0x7f301afe2cd0>"
            ]
          },
          "metadata": {},
          "execution_count": 85
        },
        {
          "output_type": "display_data",
          "data": {
            "image/png": "[encoded data removed]",
            "text/plain": [
              "<Figure size 432x288 with 1 Axes>"
            ]
          },
          "metadata": {
            "needs_background": "light"
          }
        }
      ]
    },
    {
      "cell_type": "code",
      "metadata": {
        "id": "l55H5aoN_7V0"
      },
      "source": [
        "plt.scatter(coords_)"
      ],
      "execution_count": null,
      "outputs": []
    },
    {
      "cell_type": "markdown",
      "metadata": {
        "id": "UVzJWBUA_yxS"
      },
      "source": [
        "## ZONA DE PRUBAS"
      ]
    },
    {
      "cell_type": "code",
      "metadata": {
        "id": "OyHFkuOqHX62"
      },
      "source": [
        "import random as rd\n",
        "\n",
        "points = []\n",
        "\n",
        "while len(points) < 2560:\n",
        "  x = rd.randint(0,2000)\n",
        "  y = rd.randint(0,2000)\n",
        "  if [x, y] not in points:\n",
        "    points.append([x, y])"
      ],
      "execution_count": null,
      "outputs": []
    },
    {
      "cell_type": "code",
      "metadata": {
        "id": "Cj_tQVCZMmGF"
      },
      "source": [
        "entregas = points[0:2500]\n",
        "almacenes = points[2500:]"
      ],
      "execution_count": null,
      "outputs": []
    },
    {
      "cell_type": "code",
      "metadata": {
        "id": "FY4h8CYbPY1H"
      },
      "source": [
        "data_test = [[9,10], [17,18], [4,12], [1,2], [9,11]]"
      ],
      "execution_count": null,
      "outputs": []
    },
    {
      "cell_type": "code",
      "metadata": {
        "id": "akWHB7Tca1j2"
      },
      "source": [
        "st = [[1,5], [1,4], [2,6], [3,8], [4,8], [7,2], [8,3]]\n",
        "dp = [[1,1], [1,3], [3,4], [4,5], [5,2], [9,9]]"
      ],
      "execution_count": null,
      "outputs": []
    },
    {
      "cell_type": "code",
      "metadata": {
        "id": "_zZy3GWVT4wr"
      },
      "source": [
        "def toPosition(x, y, n):\n",
        "  return x + y*n;"
      ],
      "execution_count": null,
      "outputs": []
    },
    {
      "cell_type": "code",
      "metadata": {
        "id": "Ts7asLlyRmg5"
      },
      "source": [
        "def makeAdjList(st, dp):\n",
        "  ls = []     \n",
        "  n = 10\n",
        "\n",
        "  for x in range(n):\n",
        "    for y in range(n):      \n",
        "      tp = 0\n",
        "      directions = [-1]*4\n",
        "      \n",
        "      if [x,y] in st:\n",
        "        tp = 1\n",
        "      if [x,y] in dp:\n",
        "        tp = 2\n",
        "\n",
        "      if [x-1,y] in st:\n",
        "        directions[0] = ((x-1)*y)\n",
        "      if [x-1,y] in dp:\n",
        "        directions[0] = ((x-1)*y)   \n",
        "\n",
        "      if [x,y-1] in st:\n",
        "        directions[1] = (x*(y-1))\n",
        "      if [x,y-1] in dp:\n",
        "        directions[1] = (x*(y-1))\n",
        "\n",
        "      if [x+1,y] in st:\n",
        "        directions[2] = ((x+1)*y)\n",
        "      if [x+1,y] in dp:\n",
        "        directions[2] = ((x+1)*y)\n",
        "\n",
        "      if [x,y-1] in st:\n",
        "        directions[3] = (x*(y+1))\n",
        "      if [x,y-1] in dp:\n",
        "        directions[3] = (x*(y+1))\n",
        "\n",
        "      ls.append([tp,[x,y], directions])\n",
        "\n",
        "  return ls"
      ],
      "execution_count": null,
      "outputs": []
    },
    {
      "cell_type": "code",
      "metadata": {
        "id": "AJoDD4LsahqQ"
      },
      "source": [
        "f = makeAdjList(st, dp)\n",
        "f"
      ],
      "execution_count": null,
      "outputs": []
    },
    {
      "cell_type": "markdown",
      "metadata": {
        "id": "AteGBApq3f2f"
      },
      "source": [
        "#Representacion Lista de Adyacencia"
      ]
    },
    {
      "cell_type": "code",
      "metadata": {
        "id": "ShXMDlLQ3knr"
      },
      "source": [
        "def toPosition(x, y, n):\n",
        "  return x + y*n;\n",
        "\n",
        "def adjacents(x, y, n, st, dp):\n",
        "  dir = [-1]*4\n",
        "  coords = [[x-1, y],[x, y-1],[x+1, y],[x, y+1]]\n",
        "  for i, c in enumerate(coords):\n",
        "    if c in st or c in dp:\n",
        "      dir[i] = toPosition(c[0], c[1], n)\n",
        "  return dir"
      ],
      "execution_count": null,
      "outputs": []
    },
    {
      "cell_type": "code",
      "metadata": {
        "id": "tMDfneUE3nHT"
      },
      "source": [
        "def makeAdjList(st, dp, n):\n",
        "  ls = []\n",
        "  for x in range(n):\n",
        "    for y in range(n):\n",
        "      tp = 0\n",
        "      if [x,y] in st:\n",
        "        tp = 1        \n",
        "      if [x,y] in dp:\n",
        "        tp = 2\n",
        "      directions = adjacents(x, y, n, st, dp)\n",
        "      ls.append([tp,[x,y], directions])\n",
        "  return ls"
      ],
      "execution_count": null,
      "outputs": []
    },
    {
      "cell_type": "code",
      "metadata": {
        "id": "MiagiI693nJs"
      },
      "source": [
        "import random as rd\n",
        "\n",
        "points = []\n",
        "\n",
        "while len(points) < 1500:\n",
        "  x = rd.randint(0,100)\n",
        "  y = rd.randint(0,100)\n",
        "  if [x, y] not in points:\n",
        "    points.append([x, y])\n",
        "\n",
        "entregas = points[0:1000]\n",
        "almacenes = points[1000:]"
      ],
      "execution_count": null,
      "outputs": []
    },
    {
      "cell_type": "code",
      "metadata": {
        "id": "FzHuaKAUKAgV"
      },
      "source": [
        "makeAdjList(almacenes, entregas, 100)"
      ],
      "execution_count": null,
      "outputs": []
    }
  ]
}