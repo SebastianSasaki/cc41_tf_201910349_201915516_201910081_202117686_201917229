{
  "nbformat": 4,
  "nbformat_minor": 0,
  "metadata": {
    "colab": {
      "name": "Trabajo_Final",
      "provenance": [],
      "collapsed_sections": [
        "VrZhTIOd-8Et",
        "iXjTl-nFkBA4"
      ],
      "include_colab_link": true
    },
    "kernelspec": {
      "name": "python3",
      "display_name": "Python 3"
    },
    "language_info": {
      "name": "python"
    }
  },
  "cells": [
    {
      "cell_type": "markdown",
      "metadata": {
        "id": "view-in-github",
        "colab_type": "text"
      },
      "source": [
        "<a href=\"https://colab.research.google.com/github/SebastianSasaki/cc41_tf_201910349_201915516_201910081_202117686_201917229/blob/main/Trabajo_Final.ipynb\" target=\"_parent\"><img src=\"https://colab.research.google.com/assets/colab-badge.svg\" alt=\"Open In Colab\"/></a>"
      ]
    },
    {
      "cell_type": "code",
      "metadata": {
        "id": "oOFKYQUX4wqe"
      },
      "source": [
        "import graphviz as gv #Graficos\n",
        "import numpy as np\n",
        "import heapq as hq\n",
        "import pandas as pd #Leer CSV\n",
        "import matplotlib.pyplot as plt # Gragicos final\n",
        "import math as math #Operaciones matematicas\n",
        "\n",
        "def readAdjl(fn, haslabels=False, weighted=False, sep=\"|\"):\n",
        "  with open(fn) as f:\n",
        "    labels = None\n",
        "    if haslabels:\n",
        "      labels = f.readline().strip().split()\n",
        "    L = []\n",
        "    for line in f:\n",
        "      if weighted:\n",
        "        L.append([tuple(map(int, p.split(sep))) for p in line.strip().split()])\n",
        "        # line => \"1|3 2|5 4|4\" ==> [(1, 3), (2, 5), (4, 4)]\n",
        "      else: \n",
        "        L.append(list(map(int, line.strip().split()))) # \"1 3 5\" => [1, 3, 5]\n",
        "        # L.append([int(x) for x in line.strip().split()])\n",
        "  return L, labels\n",
        "\n",
        "def adjlShow(L, labels=None, directed=False, weighted=False, path=[],\n",
        "             layout=\"sfdp\"):\n",
        "  g = gv.Digraph(\"G\") if directed else gv.Graph(\"G\")\n",
        "  g.graph_attr[\"layout\"] = layout\n",
        "  g.edge_attr[\"color\"] = \"gray\"\n",
        "  g.node_attr[\"color\"] = \"orangered\"\n",
        "  g.node_attr[\"width\"] = \"0.1\"\n",
        "  g.node_attr[\"height\"] = \"0.1\"\n",
        "  g.node_attr[\"fontsize\"] = \"8\"\n",
        "  g.node_attr[\"fontcolor\"] = \"mediumslateblue\"\n",
        "  g.node_attr[\"fontname\"] = \"monospace\"\n",
        "  n = len(L)\n",
        "  for u in range(n):\n",
        "    g.node(str(u), labels[u] if labels else str(u))\n",
        "  added = set()\n",
        "  for v, u in enumerate(path):\n",
        "    if u != None:\n",
        "      g.edge(str(u), str(v), dir=\"forward\", penwidth=\"2\", color=\"orange\")\n",
        "      added.add(f\"{u},{v}\")\n",
        "      added.add(f\"{v},{u}\")\n",
        "  if weighted:\n",
        "    for u in range(n):\n",
        "      for v, w in L[u]:\n",
        "        if not directed and not f\"{u},{v}\" in added:\n",
        "          added.add(f\"{u},{v}\")\n",
        "          added.add(f\"{v},{u}\")\n",
        "          g.edge(str(u), str(v), str(w))\n",
        "        elif directed:\n",
        "          g.edge(str(u), str(v), str(w))\n",
        "  else:\n",
        "    for u in range(n):\n",
        "      for v in L[u]:\n",
        "        if not directed and not f\"{u},{v}\" in added:\n",
        "          added.add(f\"{u},{v}\")\n",
        "          added.add(f\"{v},{u}\")\n",
        "          g.edge(str(u), str(v))\n",
        "        elif directed:\n",
        "          g.edge(str(u), str(v))\n",
        "  return g"
      ],
      "execution_count": 4,
      "outputs": []
    },
    {
      "cell_type": "markdown",
      "metadata": {
        "id": "ZygvTjbRBk58"
      },
      "source": [
        "# Stores (Almacenes)"
      ]
    },
    {
      "cell_type": "code",
      "metadata": {
        "id": "5aAVXLWw78vk",
        "colab": {
          "base_uri": "https://localhost:8080/",
          "height": 412
        },
        "outputId": "11653c8a-2b68-478f-e48e-a00538d8c68a"
      },
      "source": [
        "coords_str = pd.read_csv(\"almacenes.csv\")   #AQUI SE LEE EL CSV DE LOS ALMACENES\n",
        "coords_str #SE LOS GUARDA EN LA VARIABLE"
      ],
      "execution_count": 5,
      "outputs": [
        {
          "output_type": "error",
          "ename": "FileNotFoundError",
          "evalue": "ignored",
          "traceback": [
            "\u001b[0;31m---------------------------------------------------------------------------\u001b[0m",
            "\u001b[0;31mFileNotFoundError\u001b[0m                         Traceback (most recent call last)",
            "\u001b[0;32m<ipython-input-5-9c221d43539b>\u001b[0m in \u001b[0;36m<module>\u001b[0;34m()\u001b[0m\n\u001b[0;32m----> 1\u001b[0;31m \u001b[0mcoords_str\u001b[0m \u001b[0;34m=\u001b[0m \u001b[0mpd\u001b[0m\u001b[0;34m.\u001b[0m\u001b[0mread_csv\u001b[0m\u001b[0;34m(\u001b[0m\u001b[0;34m\"almacenes.csv\"\u001b[0m\u001b[0;34m)\u001b[0m   \u001b[0;31m#AQUI SE LEE EL CSV DE LOS ALMACENES\u001b[0m\u001b[0;34m\u001b[0m\u001b[0;34m\u001b[0m\u001b[0m\n\u001b[0m\u001b[1;32m      2\u001b[0m \u001b[0mcoords_str\u001b[0m \u001b[0;31m#SE LOS GUARDA EN LA VARIABLE\u001b[0m\u001b[0;34m\u001b[0m\u001b[0;34m\u001b[0m\u001b[0m\n",
            "\u001b[0;32m/usr/local/lib/python3.7/dist-packages/pandas/io/parsers.py\u001b[0m in \u001b[0;36mread_csv\u001b[0;34m(filepath_or_buffer, sep, delimiter, header, names, index_col, usecols, squeeze, prefix, mangle_dupe_cols, dtype, engine, converters, true_values, false_values, skipinitialspace, skiprows, skipfooter, nrows, na_values, keep_default_na, na_filter, verbose, skip_blank_lines, parse_dates, infer_datetime_format, keep_date_col, date_parser, dayfirst, cache_dates, iterator, chunksize, compression, thousands, decimal, lineterminator, quotechar, quoting, doublequote, escapechar, comment, encoding, dialect, error_bad_lines, warn_bad_lines, delim_whitespace, low_memory, memory_map, float_precision)\u001b[0m\n\u001b[1;32m    686\u001b[0m     )\n\u001b[1;32m    687\u001b[0m \u001b[0;34m\u001b[0m\u001b[0m\n\u001b[0;32m--> 688\u001b[0;31m     \u001b[0;32mreturn\u001b[0m \u001b[0m_read\u001b[0m\u001b[0;34m(\u001b[0m\u001b[0mfilepath_or_buffer\u001b[0m\u001b[0;34m,\u001b[0m \u001b[0mkwds\u001b[0m\u001b[0;34m)\u001b[0m\u001b[0;34m\u001b[0m\u001b[0;34m\u001b[0m\u001b[0m\n\u001b[0m\u001b[1;32m    689\u001b[0m \u001b[0;34m\u001b[0m\u001b[0m\n\u001b[1;32m    690\u001b[0m \u001b[0;34m\u001b[0m\u001b[0m\n",
            "\u001b[0;32m/usr/local/lib/python3.7/dist-packages/pandas/io/parsers.py\u001b[0m in \u001b[0;36m_read\u001b[0;34m(filepath_or_buffer, kwds)\u001b[0m\n\u001b[1;32m    452\u001b[0m \u001b[0;34m\u001b[0m\u001b[0m\n\u001b[1;32m    453\u001b[0m     \u001b[0;31m# Create the parser.\u001b[0m\u001b[0;34m\u001b[0m\u001b[0;34m\u001b[0m\u001b[0;34m\u001b[0m\u001b[0m\n\u001b[0;32m--> 454\u001b[0;31m     \u001b[0mparser\u001b[0m \u001b[0;34m=\u001b[0m \u001b[0mTextFileReader\u001b[0m\u001b[0;34m(\u001b[0m\u001b[0mfp_or_buf\u001b[0m\u001b[0;34m,\u001b[0m \u001b[0;34m**\u001b[0m\u001b[0mkwds\u001b[0m\u001b[0;34m)\u001b[0m\u001b[0;34m\u001b[0m\u001b[0;34m\u001b[0m\u001b[0m\n\u001b[0m\u001b[1;32m    455\u001b[0m \u001b[0;34m\u001b[0m\u001b[0m\n\u001b[1;32m    456\u001b[0m     \u001b[0;32mif\u001b[0m \u001b[0mchunksize\u001b[0m \u001b[0;32mor\u001b[0m \u001b[0miterator\u001b[0m\u001b[0;34m:\u001b[0m\u001b[0;34m\u001b[0m\u001b[0;34m\u001b[0m\u001b[0m\n",
            "\u001b[0;32m/usr/local/lib/python3.7/dist-packages/pandas/io/parsers.py\u001b[0m in \u001b[0;36m__init__\u001b[0;34m(self, f, engine, **kwds)\u001b[0m\n\u001b[1;32m    946\u001b[0m             \u001b[0mself\u001b[0m\u001b[0;34m.\u001b[0m\u001b[0moptions\u001b[0m\u001b[0;34m[\u001b[0m\u001b[0;34m\"has_index_names\"\u001b[0m\u001b[0;34m]\u001b[0m \u001b[0;34m=\u001b[0m \u001b[0mkwds\u001b[0m\u001b[0;34m[\u001b[0m\u001b[0;34m\"has_index_names\"\u001b[0m\u001b[0;34m]\u001b[0m\u001b[0;34m\u001b[0m\u001b[0;34m\u001b[0m\u001b[0m\n\u001b[1;32m    947\u001b[0m \u001b[0;34m\u001b[0m\u001b[0m\n\u001b[0;32m--> 948\u001b[0;31m         \u001b[0mself\u001b[0m\u001b[0;34m.\u001b[0m\u001b[0m_make_engine\u001b[0m\u001b[0;34m(\u001b[0m\u001b[0mself\u001b[0m\u001b[0;34m.\u001b[0m\u001b[0mengine\u001b[0m\u001b[0;34m)\u001b[0m\u001b[0;34m\u001b[0m\u001b[0;34m\u001b[0m\u001b[0m\n\u001b[0m\u001b[1;32m    949\u001b[0m \u001b[0;34m\u001b[0m\u001b[0m\n\u001b[1;32m    950\u001b[0m     \u001b[0;32mdef\u001b[0m \u001b[0mclose\u001b[0m\u001b[0;34m(\u001b[0m\u001b[0mself\u001b[0m\u001b[0;34m)\u001b[0m\u001b[0;34m:\u001b[0m\u001b[0;34m\u001b[0m\u001b[0;34m\u001b[0m\u001b[0m\n",
            "\u001b[0;32m/usr/local/lib/python3.7/dist-packages/pandas/io/parsers.py\u001b[0m in \u001b[0;36m_make_engine\u001b[0;34m(self, engine)\u001b[0m\n\u001b[1;32m   1178\u001b[0m     \u001b[0;32mdef\u001b[0m \u001b[0m_make_engine\u001b[0m\u001b[0;34m(\u001b[0m\u001b[0mself\u001b[0m\u001b[0;34m,\u001b[0m \u001b[0mengine\u001b[0m\u001b[0;34m=\u001b[0m\u001b[0;34m\"c\"\u001b[0m\u001b[0;34m)\u001b[0m\u001b[0;34m:\u001b[0m\u001b[0;34m\u001b[0m\u001b[0;34m\u001b[0m\u001b[0m\n\u001b[1;32m   1179\u001b[0m         \u001b[0;32mif\u001b[0m \u001b[0mengine\u001b[0m \u001b[0;34m==\u001b[0m \u001b[0;34m\"c\"\u001b[0m\u001b[0;34m:\u001b[0m\u001b[0;34m\u001b[0m\u001b[0;34m\u001b[0m\u001b[0m\n\u001b[0;32m-> 1180\u001b[0;31m             \u001b[0mself\u001b[0m\u001b[0;34m.\u001b[0m\u001b[0m_engine\u001b[0m \u001b[0;34m=\u001b[0m \u001b[0mCParserWrapper\u001b[0m\u001b[0;34m(\u001b[0m\u001b[0mself\u001b[0m\u001b[0;34m.\u001b[0m\u001b[0mf\u001b[0m\u001b[0;34m,\u001b[0m \u001b[0;34m**\u001b[0m\u001b[0mself\u001b[0m\u001b[0;34m.\u001b[0m\u001b[0moptions\u001b[0m\u001b[0;34m)\u001b[0m\u001b[0;34m\u001b[0m\u001b[0;34m\u001b[0m\u001b[0m\n\u001b[0m\u001b[1;32m   1181\u001b[0m         \u001b[0;32melse\u001b[0m\u001b[0;34m:\u001b[0m\u001b[0;34m\u001b[0m\u001b[0;34m\u001b[0m\u001b[0m\n\u001b[1;32m   1182\u001b[0m             \u001b[0;32mif\u001b[0m \u001b[0mengine\u001b[0m \u001b[0;34m==\u001b[0m \u001b[0;34m\"python\"\u001b[0m\u001b[0;34m:\u001b[0m\u001b[0;34m\u001b[0m\u001b[0;34m\u001b[0m\u001b[0m\n",
            "\u001b[0;32m/usr/local/lib/python3.7/dist-packages/pandas/io/parsers.py\u001b[0m in \u001b[0;36m__init__\u001b[0;34m(self, src, **kwds)\u001b[0m\n\u001b[1;32m   2008\u001b[0m         \u001b[0mkwds\u001b[0m\u001b[0;34m[\u001b[0m\u001b[0;34m\"usecols\"\u001b[0m\u001b[0;34m]\u001b[0m \u001b[0;34m=\u001b[0m \u001b[0mself\u001b[0m\u001b[0;34m.\u001b[0m\u001b[0musecols\u001b[0m\u001b[0;34m\u001b[0m\u001b[0;34m\u001b[0m\u001b[0m\n\u001b[1;32m   2009\u001b[0m \u001b[0;34m\u001b[0m\u001b[0m\n\u001b[0;32m-> 2010\u001b[0;31m         \u001b[0mself\u001b[0m\u001b[0;34m.\u001b[0m\u001b[0m_reader\u001b[0m \u001b[0;34m=\u001b[0m \u001b[0mparsers\u001b[0m\u001b[0;34m.\u001b[0m\u001b[0mTextReader\u001b[0m\u001b[0;34m(\u001b[0m\u001b[0msrc\u001b[0m\u001b[0;34m,\u001b[0m \u001b[0;34m**\u001b[0m\u001b[0mkwds\u001b[0m\u001b[0;34m)\u001b[0m\u001b[0;34m\u001b[0m\u001b[0;34m\u001b[0m\u001b[0m\n\u001b[0m\u001b[1;32m   2011\u001b[0m         \u001b[0mself\u001b[0m\u001b[0;34m.\u001b[0m\u001b[0munnamed_cols\u001b[0m \u001b[0;34m=\u001b[0m \u001b[0mself\u001b[0m\u001b[0;34m.\u001b[0m\u001b[0m_reader\u001b[0m\u001b[0;34m.\u001b[0m\u001b[0munnamed_cols\u001b[0m\u001b[0;34m\u001b[0m\u001b[0;34m\u001b[0m\u001b[0m\n\u001b[1;32m   2012\u001b[0m \u001b[0;34m\u001b[0m\u001b[0m\n",
            "\u001b[0;32mpandas/_libs/parsers.pyx\u001b[0m in \u001b[0;36mpandas._libs.parsers.TextReader.__cinit__\u001b[0;34m()\u001b[0m\n",
            "\u001b[0;32mpandas/_libs/parsers.pyx\u001b[0m in \u001b[0;36mpandas._libs.parsers.TextReader._setup_parser_source\u001b[0;34m()\u001b[0m\n",
            "\u001b[0;31mFileNotFoundError\u001b[0m: [Errno 2] No such file or directory: 'almacenes.csv'"
          ]
        }
      ]
    },
    {
      "cell_type": "code",
      "metadata": {
        "id": "I4KKLPf39INA"
      },
      "source": [
        "coord_sx = coords_str['coordenada X']   \n",
        "coord_sy = coords_str['coordenada Y']\n",
        "stores = []\n",
        "\n",
        "\n",
        "for i in range(len(coord_sx)):\n",
        "  stores.append([coord_sx[i], coord_sy[i]])\n",
        "\n",
        "stores"
      ],
      "execution_count": null,
      "outputs": []
    },
    {
      "cell_type": "markdown",
      "metadata": {
        "id": "YViKAu_6BwaD"
      },
      "source": [
        "#  Delivery Points (Puntos de entrega)"
      ]
    },
    {
      "cell_type": "code",
      "metadata": {
        "id": "vOloydErBpwL"
      },
      "source": [
        "coords_dp = pd.read_csv(\"puntos_entrega.csv\")\n",
        "coords_dp"
      ],
      "execution_count": null,
      "outputs": []
    },
    {
      "cell_type": "code",
      "metadata": {
        "id": "aF2_u4FICCML"
      },
      "source": [
        "coord_dx = coords_dp['coordenada X']\n",
        "coord_dy = coords_dp['coordenada Y']\n",
        "delivery_points = []\n",
        "\n",
        "for i in range(len(coord_dx)):\n",
        "  delivery_points.append([coord_dx[i], coord_dy[i]])\n",
        "\n",
        "delivery_points\n"
      ],
      "execution_count": null,
      "outputs": []
    },
    {
      "cell_type": "markdown",
      "metadata": {
        "id": "VrZhTIOd-8Et"
      },
      "source": [
        "## REPRESENTACIÓN 1\n"
      ]
    },
    {
      "cell_type": "code",
      "metadata": {
        "id": "Vk37lVQOFQQW"
      },
      "source": [
        "#Sebastian Gonzales \n",
        "NS = len(stores)\n",
        "NDP = len(delivery_points)\n",
        "Total = 1000000 - (NS+NDP+1)\n",
        "print(Total)\n",
        "\n",
        "arr = []\n",
        "for _ in range(Total):\n",
        "  arr.append([0]*3)\n",
        "\n",
        "#ALMACENES\n",
        "coord_sx = coords_str['coordenada X']   \n",
        "coord_sy = coords_str['coordenada Y']\n",
        "\n",
        "#DELIVERY POINTS\n",
        "coord_dx = coords_dp['coordenada X']\n",
        "coord_dy = coords_dp['coordenada Y']\n",
        "\n",
        "\n",
        "#1's para Storages\n",
        "for i in range(len(coord_sx)):\n",
        "  arr.append([coord_sx[i], coord_sy[i], 1])\n",
        "\n",
        "\n",
        "#-1's para Delivery Points\n",
        "for i in range(len(coord_dx)):\n",
        "  arr.append([coord_dx[i], coord_dy[i], -1] )\n",
        "\n",
        "arr"
      ],
      "execution_count": null,
      "outputs": []
    },
    {
      "cell_type": "markdown",
      "metadata": {
        "id": "iXjTl-nFkBA4"
      },
      "source": [
        "# REPRESENTACION 3"
      ]
    },
    {
      "cell_type": "code",
      "metadata": {
        "id": "rn2xS7cdkDoP"
      },
      "source": [
        "def toPosition(x, y, n):\n",
        "  return x + y*n;\n",
        "\n",
        "def adjacents(x, y, n, st, dp):\n",
        "  dir = [-1]*4\n",
        "  coords = [[x-1, y],[x, y-1],[x+1, y],[x, y+1]]\n",
        "  for i, c in enumerate(coords):\n",
        "    if c in st or c in dp:\n",
        "      dir[i] = toPosition(c[0], c[1], n)\n",
        "  return dir"
      ],
      "execution_count": null,
      "outputs": []
    },
    {
      "cell_type": "code",
      "metadata": {
        "id": "9WRy-MdSkKjZ"
      },
      "source": [
        "def makeAdjList(st, dp, n):\n",
        "  ls = []\n",
        "  for x in range(n):\n",
        "    for y in range(n):\n",
        "      tp = 0\n",
        "      if [x,y] in st:\n",
        "        tp = 1        \n",
        "      if [x,y] in dp:\n",
        "        tp = 2\n",
        "      directions = adjacents(x, y, n, st, dp)\n",
        "      ls.append([tp,[x,y], directions])\n",
        "  return ls"
      ],
      "execution_count": null,
      "outputs": []
    },
    {
      "cell_type": "markdown",
      "metadata": {
        "id": "r84qU_Nelvqy"
      },
      "source": [
        "#REPRESENTACION 4"
      ]
    },
    {
      "cell_type": "code",
      "metadata": {
        "id": "epaM-RdPl0iZ"
      },
      "source": [
        "def toPosition(x, y, n):\n",
        "  return x + y*n;\n",
        "\n",
        "def adjacents(x, y, n):\n",
        "  dir = []\n",
        "  coords = [[x, y-1],[x-1, y],[x+1, y],[x, y+1]]\n",
        "  for c in coords:\n",
        "    if c[0] != -1 and c[0] != n and c[1] != -1 and c[1] != n:\n",
        "      dir.append(toPosition(c[0], c[1], n))\n",
        "  return dir"
      ],
      "execution_count": null,
      "outputs": []
    },
    {
      "cell_type": "code",
      "metadata": {
        "id": "AhZmoxgfl3sy"
      },
      "source": [
        "# st = data almacenes, sp = data puntos de entrega\n",
        "# n = tamaño de la matriz cuadrada\n",
        "def get_ls(st, dp, n):\n",
        "  ls = []\n",
        "  locals = []\n",
        "  for y in range(n): #Caso optimizado -> Y menor - al Y Mayor\n",
        "    for x in range(n): \n",
        "      tp = 0      \n",
        "      if [x,y] in st:\n",
        "        tp = 1        \n",
        "      if [x,y] in dp:\n",
        "        tp = 2\n",
        "      ls.append(adjacents(x, y, n))\n",
        "      locals.append(tp)\n",
        "  return ls, locals"
      ],
      "execution_count": null,
      "outputs": []
    },
    {
      "cell_type": "markdown",
      "metadata": {
        "id": "UVzJWBUA_yxS"
      },
      "source": [
        "## ZONA DE PRUBAS"
      ]
    },
    {
      "cell_type": "code",
      "metadata": {
        "id": "OyHFkuOqHX62"
      },
      "source": [
        "import random as rd\n",
        "\n",
        "points = []\n",
        "\n",
        "while len(points) < 15:\n",
        "  x = rd.randint(0,5)\n",
        "  y = rd.randint(0,5)\n",
        "  if [x, y] not in points:\n",
        "    points.append([x, y])"
      ],
      "execution_count": null,
      "outputs": []
    },
    {
      "cell_type": "code",
      "metadata": {
        "id": "Cj_tQVCZMmGF"
      },
      "source": [
        "entregas = points[0:5]\n",
        "almacenes = points[5:]"
      ],
      "execution_count": null,
      "outputs": []
    },
    {
      "cell_type": "code",
      "metadata": {
        "id": "FY4h8CYbPY1H"
      },
      "source": [
        "data_test = [[9,10], [17,18], [4,12], [1,2], [9,11]]"
      ],
      "execution_count": null,
      "outputs": []
    },
    {
      "cell_type": "code",
      "metadata": {
        "id": "akWHB7Tca1j2"
      },
      "source": [
        "st = [[1,5], [1,4], [2,6], [3,8], [4,8], [7,2], [8,3]]\n",
        "dp = [[1,1], [1,3], [3,4], [4,5], [5,2], [9,9]]"
      ],
      "execution_count": null,
      "outputs": []
    },
    {
      "cell_type": "code",
      "metadata": {
        "id": "MiagiI693nJs"
      },
      "source": [
        "import random as rd\n",
        "\n",
        "points = []\n",
        "\n",
        "while len(points) < 1500:\n",
        "  x = rd.randint(0,100)\n",
        "  y = rd.randint(0,100)\n",
        "  if [x, y] not in points:\n",
        "    points.append([x, y])\n",
        "\n",
        "entregas = points[0:1000]\n",
        "almacenes = points[1000:]"
      ],
      "execution_count": null,
      "outputs": []
    },
    {
      "cell_type": "code",
      "metadata": {
        "id": "FzHuaKAUKAgV"
      },
      "source": [
        "makeAdjList(almacenes, entregas, 100)"
      ],
      "execution_count": null,
      "outputs": []
    },
    {
      "cell_type": "code",
      "metadata": {
        "colab": {
          "base_uri": "https://localhost:8080/",
          "height": 244
        },
        "id": "B6l7vi6dmCbK",
        "outputId": "88e407e3-6e6d-4c16-c364-4b5728156991"
      },
      "source": [
        "almac = [[0,0],[2,1]]\n",
        "pts_entreg = [[1,0],[0,2]]\n",
        "\n",
        "ls,loc = get_ls(almac, pts_entreg, 3)\n",
        "\n",
        "print(ls)\n",
        "print(loc)"
      ],
      "execution_count": 3,
      "outputs": [
        {
          "output_type": "error",
          "ename": "NameError",
          "evalue": "ignored",
          "traceback": [
            "\u001b[0;31m---------------------------------------------------------------------------\u001b[0m",
            "\u001b[0;31mNameError\u001b[0m                                 Traceback (most recent call last)",
            "\u001b[0;32m<ipython-input-3-51c3246f760c>\u001b[0m in \u001b[0;36m<module>\u001b[0;34m()\u001b[0m\n\u001b[1;32m      2\u001b[0m \u001b[0mpts_entreg\u001b[0m \u001b[0;34m=\u001b[0m \u001b[0;34m[\u001b[0m\u001b[0;34m[\u001b[0m\u001b[0;36m1\u001b[0m\u001b[0;34m,\u001b[0m\u001b[0;36m0\u001b[0m\u001b[0;34m]\u001b[0m\u001b[0;34m,\u001b[0m\u001b[0;34m[\u001b[0m\u001b[0;36m0\u001b[0m\u001b[0;34m,\u001b[0m\u001b[0;36m2\u001b[0m\u001b[0;34m]\u001b[0m\u001b[0;34m]\u001b[0m\u001b[0;34m\u001b[0m\u001b[0;34m\u001b[0m\u001b[0m\n\u001b[1;32m      3\u001b[0m \u001b[0;34m\u001b[0m\u001b[0m\n\u001b[0;32m----> 4\u001b[0;31m \u001b[0mls\u001b[0m\u001b[0;34m,\u001b[0m\u001b[0mloc\u001b[0m \u001b[0;34m=\u001b[0m \u001b[0mget_ls\u001b[0m\u001b[0;34m(\u001b[0m\u001b[0malmac\u001b[0m\u001b[0;34m,\u001b[0m \u001b[0mpts_entreg\u001b[0m\u001b[0;34m,\u001b[0m \u001b[0;36m3\u001b[0m\u001b[0;34m)\u001b[0m\u001b[0;34m\u001b[0m\u001b[0;34m\u001b[0m\u001b[0m\n\u001b[0m\u001b[1;32m      5\u001b[0m \u001b[0;34m\u001b[0m\u001b[0m\n\u001b[1;32m      6\u001b[0m \u001b[0mprint\u001b[0m\u001b[0;34m(\u001b[0m\u001b[0mls\u001b[0m\u001b[0;34m)\u001b[0m\u001b[0;34m\u001b[0m\u001b[0;34m\u001b[0m\u001b[0m\n",
            "\u001b[0;31mNameError\u001b[0m: name 'get_ls' is not defined"
          ]
        }
      ]
    },
    {
      "cell_type": "markdown",
      "metadata": {
        "id": "Ezzu2eJQ_ENH"
      },
      "source": [
        "## REPRESENTACIÓN GRAFICA (Hito 2 - Dijkstra)"
      ]
    },
    {
      "cell_type": "code",
      "metadata": {
        "id": "s3tLiDPfECZW"
      },
      "source": [
        "def toListWithCosts(G):\n",
        "  new_list = []\n",
        "  for c in G:\n",
        "    l = []\n",
        "    for n in c:\n",
        "      l.append((n,1))\n",
        "    new_list.append(l)\n",
        "  return new_list"
      ],
      "execution_count": null,
      "outputs": []
    },
    {
      "cell_type": "code",
      "metadata": {
        "id": "hlcfYtjT4K8h"
      },
      "source": [
        "def dijkstra(G, s):\n",
        "  n = len(G)\n",
        "  visited = [False]*n\n",
        "  path = [None]*n\n",
        "  cost = [math.inf]*n\n",
        "  cost[s] = 0\n",
        "  queue = [(0, s)]\n",
        "  while queue:\n",
        "    g_u, u = hq.heappop(queue)\n",
        "    if not visited[u]:\n",
        "      visited[u] = True\n",
        "      for v, w in G[u]:\n",
        "        f = g_u + w\n",
        "        if f < cost[v]:\n",
        "          cost[v] = f\n",
        "          path[v] = u\n",
        "          hq.heappush(queue, (f, v))\n",
        "\n",
        "  return path, cost"
      ],
      "execution_count": null,
      "outputs": []
    },
    {
      "cell_type": "code",
      "metadata": {
        "id": "foyHnKxc4Pyp",
        "colab": {
          "base_uri": "https://localhost:8080/"
        },
        "outputId": "dcae45e0-4365-49fb-a987-516c49a6896d"
      },
      "source": [
        "almac = [[0,0],[2,1]]\n",
        "pts_entreg = [[1,0],[0,2]]\n",
        "\n",
        "ls, loc = get_ls(almac, pts_entreg, 4)\n",
        "G = toListWithCosts(ls)\n",
        "print(G)"
      ],
      "execution_count": null,
      "outputs": [
        {
          "output_type": "stream",
          "name": "stdout",
          "text": [
            "[[(1, 1), (4, 1)], [(0, 1), (2, 1), (5, 1)], [(1, 1), (3, 1), (6, 1)], [(2, 1), (7, 1)], [(0, 1), (5, 1), (8, 1)], [(1, 1), (4, 1), (6, 1), (9, 1)], [(2, 1), (5, 1), (7, 1), (10, 1)], [(3, 1), (6, 1), (11, 1)], [(4, 1), (9, 1), (12, 1)], [(5, 1), (8, 1), (10, 1), (13, 1)], [(6, 1), (9, 1), (11, 1), (14, 1)], [(7, 1), (10, 1), (15, 1)], [(8, 1), (13, 1)], [(9, 1), (12, 1), (14, 1)], [(10, 1), (13, 1), (15, 1)], [(11, 1), (14, 1)]]\n"
          ]
        }
      ]
    },
    {
      "cell_type": "code",
      "metadata": {
        "id": "Y6Ku0rCe4VZx",
        "colab": {
          "base_uri": "https://localhost:8080/"
        },
        "outputId": "64e9917b-05e1-4843-9905-01ab429368e3"
      },
      "source": [
        "path, cost = dijkstra(G, 5)\n",
        "print(path[:40])\n",
        "print(cost[:40])\n",
        "# path = [None, 0, None, 0, None, None, 3, None, None] -> 0\n",
        "# path = [None, 2, 5, 4, 5, None, 3, None, None]       -> 5\n",
        "#adjlShow(G, weighted=True, path=path)"
      ],
      "execution_count": null,
      "outputs": [
        {
          "output_type": "stream",
          "name": "stdout",
          "text": [
            "[1, 2, 3, 4, 5, None, 5, 6, 7, 8, 9, 10, 11, 12, 13, 14, 15, 16, 17, 18, 19, 20, 21, 22, 23, 24, 25, 26, 27, 28, 29, 30, 31, 32, 33, 34, 35, 36, 37, 38]\n",
            "[5, 4, 3, 2, 1, 0, 1, 2, 3, 4, 5, 6, 7, 8, 9, 10, 11, 12, 13, 14, 15, 16, 17, 18, 19, 20, 21, 22, 23, 24, 25, 26, 27, 28, 29, 30, 31, 32, 33, 34]\n"
          ]
        }
      ]
    },
    {
      "cell_type": "markdown",
      "metadata": {
        "id": "qw5YBHJs1nS5"
      },
      "source": [
        "# Dijkstra Alternativo"
      ]
    },
    {
      "cell_type": "code",
      "metadata": {
        "id": "VSDyzN781U7x"
      },
      "source": [
        "def dijkstraAlt(G, L, s):\n",
        "  n = len(G)\n",
        "  visited = [False]*n\n",
        "  path = [None]*n\n",
        "  cost = [math.inf]*n\n",
        "  cost[s] = 0\n",
        "  queue = [(0, s)]\n",
        "  while queue:\n",
        "    g_u, u = hq.heappop(queue)\n",
        "    if not visited[u]:\n",
        "      visited[u] = True\n",
        "      for v, w in G[u]:\n",
        "        f = g_u + w\n",
        "        if f < cost[v]:\n",
        "          cost[v] = f          \n",
        "          path[v] = u\n",
        "          hq.heappush(queue, (f, v))\n",
        "\n",
        "  min_path = [None]*n\n",
        "  for i, v in enumerate(L):\n",
        "      if v == 2:\n",
        "        min_path[i] = path[i]\n",
        "        m = path[i]\n",
        "        while m != s:          \n",
        "          min_path[m] = path[m]\n",
        "          m = path[m]\n",
        "\n",
        "  return min_path, cost"
      ],
      "execution_count": null,
      "outputs": []
    },
    {
      "cell_type": "code",
      "metadata": {
        "id": "SCW_Wb681cwI",
        "colab": {
          "base_uri": "https://localhost:8080/",
          "height": 244
        },
        "outputId": "bd8d3659-bfe2-4133-8826-446ac82ac714"
      },
      "source": [
        "almac = [[0,0],[2,1]]\n",
        "pts_entreg = [[1,0],[0,2]]\n",
        "\n",
        "ls, loc = get_ls(almac, pts_entreg, 3)\n",
        "G = toListWithCosts(ls)\n",
        "G, loc"
      ],
      "execution_count": 2,
      "outputs": [
        {
          "output_type": "error",
          "ename": "NameError",
          "evalue": "ignored",
          "traceback": [
            "\u001b[0;31m---------------------------------------------------------------------------\u001b[0m",
            "\u001b[0;31mNameError\u001b[0m                                 Traceback (most recent call last)",
            "\u001b[0;32m<ipython-input-2-02f9abfa2328>\u001b[0m in \u001b[0;36m<module>\u001b[0;34m()\u001b[0m\n\u001b[1;32m      2\u001b[0m \u001b[0mpts_entreg\u001b[0m \u001b[0;34m=\u001b[0m \u001b[0;34m[\u001b[0m\u001b[0;34m[\u001b[0m\u001b[0;36m1\u001b[0m\u001b[0;34m,\u001b[0m\u001b[0;36m0\u001b[0m\u001b[0;34m]\u001b[0m\u001b[0;34m,\u001b[0m\u001b[0;34m[\u001b[0m\u001b[0;36m0\u001b[0m\u001b[0;34m,\u001b[0m\u001b[0;36m2\u001b[0m\u001b[0;34m]\u001b[0m\u001b[0;34m]\u001b[0m\u001b[0;34m\u001b[0m\u001b[0;34m\u001b[0m\u001b[0m\n\u001b[1;32m      3\u001b[0m \u001b[0;34m\u001b[0m\u001b[0m\n\u001b[0;32m----> 4\u001b[0;31m \u001b[0mls\u001b[0m\u001b[0;34m,\u001b[0m \u001b[0mloc\u001b[0m \u001b[0;34m=\u001b[0m \u001b[0mget_ls\u001b[0m\u001b[0;34m(\u001b[0m\u001b[0malmac\u001b[0m\u001b[0;34m,\u001b[0m \u001b[0mpts_entreg\u001b[0m\u001b[0;34m,\u001b[0m \u001b[0;36m3\u001b[0m\u001b[0;34m)\u001b[0m\u001b[0;34m\u001b[0m\u001b[0;34m\u001b[0m\u001b[0m\n\u001b[0m\u001b[1;32m      5\u001b[0m \u001b[0mG\u001b[0m \u001b[0;34m=\u001b[0m \u001b[0mtoListWithCosts\u001b[0m\u001b[0;34m(\u001b[0m\u001b[0mls\u001b[0m\u001b[0;34m)\u001b[0m\u001b[0;34m\u001b[0m\u001b[0;34m\u001b[0m\u001b[0m\n\u001b[1;32m      6\u001b[0m \u001b[0mG\u001b[0m\u001b[0;34m,\u001b[0m \u001b[0mloc\u001b[0m\u001b[0;34m\u001b[0m\u001b[0;34m\u001b[0m\u001b[0m\n",
            "\u001b[0;31mNameError\u001b[0m: name 'get_ls' is not defined"
          ]
        }
      ]
    },
    {
      "cell_type": "code",
      "metadata": {
        "id": "_z_RL3yu1ion",
        "colab": {
          "base_uri": "https://localhost:8080/",
          "height": 534
        },
        "outputId": "ced2acec-821d-43ee-9841-ca884413b4b1"
      },
      "source": [
        "path, cost = dijkstraAlt(G, loc, 5)\n",
        "print(path)\n",
        "print(cost)\n",
        "# path = [None, 0, None, 0, None, None, 3, None, None] -> 0\n",
        "# path = [None, 2, 5, 4, 5, None, 3, None, None]       -> 5\n",
        "adjlShow(G, weighted=True, path=path)"
      ],
      "execution_count": null,
      "outputs": [
        {
          "output_type": "stream",
          "name": "stdout",
          "text": [
            "[None, 2, 5, 4, 5, None, 3, None, None]\n",
            "[3, 2, 1, 2, 1, 0, 3, 2, 1]\n"
          ]
        },
        {
          "output_type": "execute_result",
          "data": {
            "text/plain": [
              "<graphviz.dot.Graph at 0x7fe8ac759550>"
            ],
            "image/svg+xml": "<?xml version=\"1.0\" encoding=\"UTF-8\" standalone=\"no\"?>\n<!DOCTYPE svg PUBLIC \"-//W3C//DTD SVG 1.1//EN\"\n \"http://www.w3.org/Graphics/SVG/1.1/DTD/svg11.dtd\">\n<!-- Generated by graphviz version 2.40.1 (20161225.0304)\n -->\n<!-- Title: G Pages: 1 -->\n<svg width=\"368pt\" height=\"360pt\"\n viewBox=\"0.00 0.00 367.60 359.90\" xmlns=\"http://www.w3.org/2000/svg\" xmlns:xlink=\"http://www.w3.org/1999/xlink\">\n<g id=\"graph0\" class=\"graph\" transform=\"scale(1 1) rotate(0) translate(4 355.9038)\">\n<title>G</title>\n<polygon fill=\"#ffffff\" stroke=\"transparent\" points=\"-4,4 -4,-355.9038 363.6016,-355.9038 363.6016,4 -4,4\"/>\n<!-- 0 -->\n<g id=\"node1\" class=\"node\">\n<title>0</title>\n<ellipse fill=\"none\" stroke=\"#ff4500\" cx=\"344.0452\" cy=\"-150.661\" rx=\"15.6129\" ry=\"12.0417\"/>\n<text text-anchor=\"middle\" x=\"344.0452\" y=\"-148.761\" font-family=\"monospace\" font-size=\"8.00\" fill=\"#7b68ee\">0</text>\n</g>\n<!-- 1 -->\n<g id=\"node2\" class=\"node\">\n<title>1</title>\n<ellipse fill=\"none\" stroke=\"#ff4500\" cx=\"251.4781\" cy=\"-78.1721\" rx=\"15.6129\" ry=\"12.0417\"/>\n<text text-anchor=\"middle\" x=\"251.4781\" y=\"-76.2721\" font-family=\"monospace\" font-size=\"8.00\" fill=\"#7b68ee\">1</text>\n</g>\n<!-- 0&#45;&#45;1 -->\n<g id=\"edge6\" class=\"edge\">\n<title>0&#45;&#45;1</title>\n<path fill=\"none\" stroke=\"#c0c0c0\" d=\"M333.063,-142.0609C315.2477,-128.1098 280.2521,-100.7049 262.4459,-86.761\"/>\n<text text-anchor=\"middle\" x=\"293.7545\" y=\"-118.2109\" font-family=\"Times,serif\" font-size=\"14.00\" fill=\"#000000\">1</text>\n</g>\n<!-- 3 -->\n<g id=\"node4\" class=\"node\">\n<title>3</title>\n<ellipse fill=\"none\" stroke=\"#ff4500\" cx=\"277.5719\" cy=\"-247.4405\" rx=\"15.6129\" ry=\"12.0417\"/>\n<text text-anchor=\"middle\" x=\"277.5719\" y=\"-245.5405\" font-family=\"monospace\" font-size=\"8.00\" fill=\"#7b68ee\">3</text>\n</g>\n<!-- 0&#45;&#45;3 -->\n<g id=\"edge7\" class=\"edge\">\n<title>0&#45;&#45;3</title>\n<path fill=\"none\" stroke=\"#c0c0c0\" d=\"M336.6774,-161.3879C323.8999,-179.9909 297.7732,-218.0292 284.9727,-236.6656\"/>\n<text text-anchor=\"middle\" x=\"306.8251\" y=\"-202.8267\" font-family=\"Times,serif\" font-size=\"14.00\" fill=\"#000000\">1</text>\n</g>\n<!-- 4 -->\n<g id=\"node5\" class=\"node\">\n<title>4</title>\n<ellipse fill=\"none\" stroke=\"#ff4500\" cx=\"179.8381\" cy=\"-175.8304\" rx=\"15.6129\" ry=\"12.0417\"/>\n<text text-anchor=\"middle\" x=\"179.8381\" y=\"-173.9304\" font-family=\"monospace\" font-size=\"8.00\" fill=\"#7b68ee\">4</text>\n</g>\n<!-- 1&#45;&#45;4 -->\n<g id=\"edge8\" class=\"edge\">\n<title>1&#45;&#45;4</title>\n<path fill=\"none\" stroke=\"#c0c0c0\" d=\"M243.5376,-88.9964C229.6941,-107.8676 201.3112,-146.5587 187.5964,-165.2545\"/>\n<text text-anchor=\"middle\" x=\"211.567\" y=\"-130.9254\" font-family=\"Times,serif\" font-size=\"14.00\" fill=\"#000000\">1</text>\n</g>\n<!-- 2 -->\n<g id=\"node3\" class=\"node\">\n<title>2</title>\n<ellipse fill=\"none\" stroke=\"#ff4500\" cx=\"154.2872\" cy=\"-12.0208\" rx=\"15.6129\" ry=\"12.0417\"/>\n<text text-anchor=\"middle\" x=\"154.2872\" y=\"-10.1208\" font-family=\"monospace\" font-size=\"8.00\" fill=\"#7b68ee\">2</text>\n</g>\n<!-- 2&#45;&#45;1 -->\n<g id=\"edge1\" class=\"edge\">\n<title>2&#45;&#45;1</title>\n<path fill=\"none\" stroke=\"#ffa500\" stroke-width=\"2\" d=\"M166.2047,-20.1323C182.4687,-31.2021 211.8372,-51.1912 231.4982,-64.5732\"/>\n<polygon fill=\"#ffa500\" stroke=\"#ffa500\" stroke-width=\"2\" points=\"229.5305,-67.4676 239.7667,-70.2009 233.4692,-61.6808 229.5305,-67.4676\"/>\n</g>\n<!-- 6 -->\n<g id=\"node7\" class=\"node\">\n<title>6</title>\n<ellipse fill=\"none\" stroke=\"#ff4500\" cx=\"205.1602\" cy=\"-339.8829\" rx=\"15.6129\" ry=\"12.0417\"/>\n<text text-anchor=\"middle\" x=\"205.1602\" y=\"-337.9829\" font-family=\"monospace\" font-size=\"8.00\" fill=\"#7b68ee\">6</text>\n</g>\n<!-- 3&#45;&#45;6 -->\n<g id=\"edge5\" class=\"edge\">\n<title>3&#45;&#45;6</title>\n<path fill=\"none\" stroke=\"#ffa500\" stroke-width=\"2\" d=\"M269.2654,-258.0449C257.1525,-273.5084 234.4687,-302.4671 219.5905,-321.4609\"/>\n<polygon fill=\"#ffa500\" stroke=\"#ffa500\" stroke-width=\"2\" points=\"216.7811,-319.3716 213.3699,-329.4023 222.2918,-323.6882 216.7811,-319.3716\"/>\n</g>\n<!-- 4&#45;&#45;3 -->\n<g id=\"edge3\" class=\"edge\">\n<title>4&#45;&#45;3</title>\n<path fill=\"none\" stroke=\"#ffa500\" stroke-width=\"2\" d=\"M191.4333,-184.3262C207.8183,-196.3316 237.9674,-218.4221 257.8945,-233.0228\"/>\n<polygon fill=\"#ffa500\" stroke=\"#ffa500\" stroke-width=\"2\" points=\"255.8567,-235.8686 265.9918,-238.9558 259.994,-230.2221 255.8567,-235.8686\"/>\n</g>\n<!-- 7 -->\n<g id=\"node8\" class=\"node\">\n<title>7</title>\n<ellipse fill=\"none\" stroke=\"#ff4500\" cx=\"108.0851\" cy=\"-273.557\" rx=\"15.6129\" ry=\"12.0417\"/>\n<text text-anchor=\"middle\" x=\"108.0851\" y=\"-271.657\" font-family=\"monospace\" font-size=\"8.00\" fill=\"#7b68ee\">7</text>\n</g>\n<!-- 4&#45;&#45;7 -->\n<g id=\"edge9\" class=\"edge\">\n<title>4&#45;&#45;7</title>\n<path fill=\"none\" stroke=\"#c0c0c0\" d=\"M172.1593,-186.2888C158.4212,-205 129.7808,-244.0077 115.9262,-262.8774\"/>\n<text text-anchor=\"middle\" x=\"140.0427\" y=\"-228.3831\" font-family=\"Times,serif\" font-size=\"14.00\" fill=\"#000000\">1</text>\n</g>\n<!-- 5 -->\n<g id=\"node6\" class=\"node\">\n<title>5</title>\n<ellipse fill=\"none\" stroke=\"#ff4500\" cx=\"81.9439\" cy=\"-104.4241\" rx=\"15.6129\" ry=\"12.0417\"/>\n<text text-anchor=\"middle\" x=\"81.9439\" y=\"-102.5241\" font-family=\"monospace\" font-size=\"8.00\" fill=\"#7b68ee\">5</text>\n</g>\n<!-- 5&#45;&#45;2 -->\n<g id=\"edge2\" class=\"edge\">\n<title>5&#45;&#45;2</title>\n<path fill=\"none\" stroke=\"#ffa500\" stroke-width=\"2\" d=\"M90.2426,-93.8243C102.344,-78.3673 125.0064,-49.4208 139.8705,-30.4351\"/>\n<polygon fill=\"#ffa500\" stroke=\"#ffa500\" stroke-width=\"2\" points=\"142.6765,-32.5286 146.0852,-22.497 137.1648,-28.2133 142.6765,-32.5286\"/>\n</g>\n<!-- 5&#45;&#45;4 -->\n<g id=\"edge4\" class=\"edge\">\n<title>5&#45;&#45;4</title>\n<path fill=\"none\" stroke=\"#ffa500\" stroke-width=\"2\" d=\"M93.5581,-112.8957C109.97,-124.867 140.1686,-146.8945 160.1284,-161.4537\"/>\n<polygon fill=\"#ffa500\" stroke=\"#ffa500\" stroke-width=\"2\" points=\"158.0974,-164.3043 168.2391,-167.3698 162.2225,-158.649 158.0974,-164.3043\"/>\n</g>\n<!-- 8 -->\n<g id=\"node9\" class=\"node\">\n<title>8</title>\n<ellipse fill=\"none\" stroke=\"#ff4500\" cx=\"15.5563\" cy=\"-201.3188\" rx=\"15.6129\" ry=\"12.0417\"/>\n<text text-anchor=\"middle\" x=\"15.5563\" y=\"-199.4188\" font-family=\"monospace\" font-size=\"8.00\" fill=\"#7b68ee\">8</text>\n</g>\n<!-- 5&#45;&#45;8 -->\n<g id=\"edge10\" class=\"edge\">\n<title>5&#45;&#45;8</title>\n<path fill=\"none\" stroke=\"#c0c0c0\" d=\"M74.5856,-115.1637C61.8246,-133.7889 35.7316,-171.8725 22.9476,-190.5311\"/>\n<text text-anchor=\"middle\" x=\"44.7666\" y=\"-156.6474\" font-family=\"Times,serif\" font-size=\"14.00\" fill=\"#000000\">1</text>\n</g>\n<!-- 6&#45;&#45;7 -->\n<g id=\"edge11\" class=\"edge\">\n<title>6&#45;&#45;7</title>\n<path fill=\"none\" stroke=\"#c0c0c0\" d=\"M193.2569,-331.7501C174.5243,-318.9512 138.3867,-294.2604 119.7825,-281.5492\"/>\n<text text-anchor=\"middle\" x=\"152.5197\" y=\"-310.4496\" font-family=\"Times,serif\" font-size=\"14.00\" fill=\"#000000\">1</text>\n</g>\n<!-- 7&#45;&#45;8 -->\n<g id=\"edge12\" class=\"edge\">\n<title>7&#45;&#45;8</title>\n<path fill=\"none\" stroke=\"#c0c0c0\" d=\"M97.1074,-264.9866C79.2995,-251.0838 44.3185,-223.7737 26.5197,-209.878\"/>\n<text text-anchor=\"middle\" x=\"57.8136\" y=\"-241.2323\" font-family=\"Times,serif\" font-size=\"14.00\" fill=\"#000000\">1</text>\n</g>\n</g>\n</svg>\n"
          },
          "metadata": {},
          "execution_count": 13
        }
      ]
    },
    {
      "cell_type": "markdown",
      "metadata": {
        "id": "2_56UR1JIr5f"
      },
      "source": [
        "# Hito 3"
      ]
    },
    {
      "cell_type": "code",
      "metadata": {
        "id": "lra02xGYIp-n"
      },
      "source": [
        "# Fuerza Bruta\n",
        "def distance(st, dev):\n",
        "  return abs(st[0]-dev[0])  + abs(st[1]-dev[1])\n",
        "\n",
        "\n",
        "def clustering(almacenes, pnts_entrega):\n",
        "  clusters = []\n",
        "\n",
        "  for points in pnts_entrega:\n",
        "    store = []\n",
        "    a = math.inf\n",
        "    x = []\n",
        "    for strs in almacenes:      \n",
        "      b = distance(points, strs) \n",
        "      if b < a:\n",
        "        a = b\n",
        "        x = points\n",
        "    \n",
        "    store.append(x)\n",
        "    clusters.append(store)"
      ],
      "execution_count": null,
      "outputs": []
    },
    {
      "cell_type": "markdown",
      "metadata": {
        "id": "KJ9ou8RH3l5q"
      },
      "source": [
        "BFS(Sebastian Gonzales)"
      ]
    },
    {
      "cell_type": "code",
      "metadata": {
        "id": "qynfxqhp3gJj"
      },
      "source": [
        "def bfs(G, s):\n",
        "  n = len(G)\n",
        "  visited = [False]*n\n",
        "  parent = [None]*n\n",
        "  queue = [s]\n",
        "  visited[s] = True\n",
        "\n",
        "  while queue:\n",
        "    u = queue.pop(0)\n",
        "    for v in G[u]:\n",
        "      if not visited[v]:\n",
        "        visited[v] = True\n",
        "        parent[v] = u\n",
        "        queue.append(v)\n",
        "\n",
        "  return parent\n",
        "  "
      ],
      "execution_count": 1,
      "outputs": []
    },
    {
      "cell_type": "code",
      "metadata": {
        "id": "RJs6a0Lp4YDS"
      },
      "source": [
        ""
      ],
      "execution_count": null,
      "outputs": []
    }
  ]
}