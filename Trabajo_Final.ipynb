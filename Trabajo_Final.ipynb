{
  "nbformat": 4,
  "nbformat_minor": 0,
  "metadata": {
    "colab": {
      "name": "Trabajo_Final",
      "provenance": [],
      "collapsed_sections": [
        "VrZhTIOd-8Et",
        "d0z26UO44km8",
        "iXjTl-nFkBA4"
      ],
      "include_colab_link": true
    },
    "kernelspec": {
      "name": "python3",
      "display_name": "Python 3"
    },
    "language_info": {
      "name": "python"
    }
  },
  "cells": [
    {
      "cell_type": "markdown",
      "metadata": {
        "id": "view-in-github",
        "colab_type": "text"
      },
      "source": [
        "<a href=\"https://colab.research.google.com/github/SebastianSasaki/cc41_tf_201910349_201915516_201910081_202117686_201917229/blob/main/Trabajo_Final.ipynb\" target=\"_parent\"><img src=\"https://colab.research.google.com/assets/colab-badge.svg\" alt=\"Open In Colab\"/></a>"
      ]
    },
    {
      "cell_type": "code",
      "metadata": {
        "id": "oOFKYQUX4wqe"
      },
      "source": [
        "import graphviz as gv #Graficos\n",
        "import numpy as np\n",
        "import heapq as hq\n",
        "import pandas as pd #Leer CSV\n",
        "import matplotlib.pyplot as plt # Gragicos final\n",
        "import math as math #Operaciones matematicas\n",
        "\n",
        "def readAdjl(fn, haslabels=False, weighted=False, sep=\"|\"):\n",
        "  with open(fn) as f:\n",
        "    labels = None\n",
        "    if haslabels:\n",
        "      labels = f.readline().strip().split()\n",
        "    L = []\n",
        "    for line in f:\n",
        "      if weighted:\n",
        "        L.append([tuple(map(int, p.split(sep))) for p in line.strip().split()])\n",
        "        # line => \"1|3 2|5 4|4\" ==> [(1, 3), (2, 5), (4, 4)]\n",
        "      else: \n",
        "        L.append(list(map(int, line.strip().split()))) # \"1 3 5\" => [1, 3, 5]\n",
        "        # L.append([int(x) for x in line.strip().split()])\n",
        "  return L, labels\n",
        "\n",
        "def adjlShow(L, labels=None, directed=False, weighted=False, path=[],\n",
        "             layout=\"sfdp\"):\n",
        "  g = gv.Digraph(\"G\") if directed else gv.Graph(\"G\")\n",
        "  g.graph_attr[\"layout\"] = layout\n",
        "  g.edge_attr[\"color\"] = \"gray\"\n",
        "  g.node_attr[\"color\"] = \"orangered\"\n",
        "  g.node_attr[\"width\"] = \"0.1\"\n",
        "  g.node_attr[\"height\"] = \"0.1\"\n",
        "  g.node_attr[\"fontsize\"] = \"8\"\n",
        "  g.node_attr[\"fontcolor\"] = \"mediumslateblue\"\n",
        "  g.node_attr[\"fontname\"] = \"monospace\"\n",
        "  n = len(L)\n",
        "  for u in range(n):\n",
        "    g.node(str(u), labels[u] if labels else str(u))\n",
        "  added = set()\n",
        "  for v, u in enumerate(path):\n",
        "    if u != None:\n",
        "      g.edge(str(u), str(v), dir=\"forward\", penwidth=\"2\", color=\"orange\")\n",
        "      added.add(f\"{u},{v}\")\n",
        "      added.add(f\"{v},{u}\")\n",
        "  if weighted:\n",
        "    for u in range(n):\n",
        "      for v, w in L[u]:\n",
        "        if not directed and not f\"{u},{v}\" in added:\n",
        "          added.add(f\"{u},{v}\")\n",
        "          added.add(f\"{v},{u}\")\n",
        "          g.edge(str(u), str(v), str(w))\n",
        "        elif directed:\n",
        "          g.edge(str(u), str(v), str(w))\n",
        "  else:\n",
        "    for u in range(n):\n",
        "      for v in L[u]:\n",
        "        if not directed and not f\"{u},{v}\" in added:\n",
        "          added.add(f\"{u},{v}\")\n",
        "          added.add(f\"{v},{u}\")\n",
        "          g.edge(str(u), str(v))\n",
        "        elif directed:\n",
        "          g.edge(str(u), str(v))\n",
        "  return g"
      ],
      "execution_count": null,
      "outputs": []
    },
    {
      "cell_type": "markdown",
      "metadata": {
        "id": "ZygvTjbRBk58"
      },
      "source": [
        "# Stores (Almacenes)"
      ]
    },
    {
      "cell_type": "code",
      "metadata": {
        "id": "5aAVXLWw78vk",
        "colab": {
          "base_uri": "https://localhost:8080/",
          "height": 387
        },
        "outputId": "0b41c8f1-3827-4336-b1bf-5d1a80426691"
      },
      "source": [
        "coords_str = pd.read_csv(\"almacenes.csv\")   #AQUI SE LEE EL CSV DE LOS ALMACENES\n",
        "coords_str #SE LOS GUARDA EN LA VARIABLE"
      ],
      "execution_count": null,
      "outputs": [
        {
          "output_type": "error",
          "ename": "FileNotFoundError",
          "evalue": "ignored",
          "traceback": [
            "\u001b[0;31m---------------------------------------------------------------------------\u001b[0m",
            "\u001b[0;31mFileNotFoundError\u001b[0m                         Traceback (most recent call last)",
            "\u001b[0;32m<ipython-input-12-9c221d43539b>\u001b[0m in \u001b[0;36m<module>\u001b[0;34m()\u001b[0m\n\u001b[0;32m----> 1\u001b[0;31m \u001b[0mcoords_str\u001b[0m \u001b[0;34m=\u001b[0m \u001b[0mpd\u001b[0m\u001b[0;34m.\u001b[0m\u001b[0mread_csv\u001b[0m\u001b[0;34m(\u001b[0m\u001b[0;34m\"almacenes.csv\"\u001b[0m\u001b[0;34m)\u001b[0m   \u001b[0;31m#AQUI SE LEE EL CSV DE LOS ALMACENES\u001b[0m\u001b[0;34m\u001b[0m\u001b[0;34m\u001b[0m\u001b[0m\n\u001b[0m\u001b[1;32m      2\u001b[0m \u001b[0mcoords_str\u001b[0m \u001b[0;31m#SE LOS GUARDA EN LA VARIABLE\u001b[0m\u001b[0;34m\u001b[0m\u001b[0;34m\u001b[0m\u001b[0m\n",
            "\u001b[0;32m/usr/local/lib/python3.7/dist-packages/pandas/io/parsers.py\u001b[0m in \u001b[0;36mread_csv\u001b[0;34m(filepath_or_buffer, sep, delimiter, header, names, index_col, usecols, squeeze, prefix, mangle_dupe_cols, dtype, engine, converters, true_values, false_values, skipinitialspace, skiprows, skipfooter, nrows, na_values, keep_default_na, na_filter, verbose, skip_blank_lines, parse_dates, infer_datetime_format, keep_date_col, date_parser, dayfirst, cache_dates, iterator, chunksize, compression, thousands, decimal, lineterminator, quotechar, quoting, doublequote, escapechar, comment, encoding, dialect, error_bad_lines, warn_bad_lines, delim_whitespace, low_memory, memory_map, float_precision)\u001b[0m\n\u001b[1;32m    686\u001b[0m     )\n\u001b[1;32m    687\u001b[0m \u001b[0;34m\u001b[0m\u001b[0m\n\u001b[0;32m--> 688\u001b[0;31m     \u001b[0;32mreturn\u001b[0m \u001b[0m_read\u001b[0m\u001b[0;34m(\u001b[0m\u001b[0mfilepath_or_buffer\u001b[0m\u001b[0;34m,\u001b[0m \u001b[0mkwds\u001b[0m\u001b[0;34m)\u001b[0m\u001b[0;34m\u001b[0m\u001b[0;34m\u001b[0m\u001b[0m\n\u001b[0m\u001b[1;32m    689\u001b[0m \u001b[0;34m\u001b[0m\u001b[0m\n\u001b[1;32m    690\u001b[0m \u001b[0;34m\u001b[0m\u001b[0m\n",
            "\u001b[0;32m/usr/local/lib/python3.7/dist-packages/pandas/io/parsers.py\u001b[0m in \u001b[0;36m_read\u001b[0;34m(filepath_or_buffer, kwds)\u001b[0m\n\u001b[1;32m    452\u001b[0m \u001b[0;34m\u001b[0m\u001b[0m\n\u001b[1;32m    453\u001b[0m     \u001b[0;31m# Create the parser.\u001b[0m\u001b[0;34m\u001b[0m\u001b[0;34m\u001b[0m\u001b[0;34m\u001b[0m\u001b[0m\n\u001b[0;32m--> 454\u001b[0;31m     \u001b[0mparser\u001b[0m \u001b[0;34m=\u001b[0m \u001b[0mTextFileReader\u001b[0m\u001b[0;34m(\u001b[0m\u001b[0mfp_or_buf\u001b[0m\u001b[0;34m,\u001b[0m \u001b[0;34m**\u001b[0m\u001b[0mkwds\u001b[0m\u001b[0;34m)\u001b[0m\u001b[0;34m\u001b[0m\u001b[0;34m\u001b[0m\u001b[0m\n\u001b[0m\u001b[1;32m    455\u001b[0m \u001b[0;34m\u001b[0m\u001b[0m\n\u001b[1;32m    456\u001b[0m     \u001b[0;32mif\u001b[0m \u001b[0mchunksize\u001b[0m \u001b[0;32mor\u001b[0m \u001b[0miterator\u001b[0m\u001b[0;34m:\u001b[0m\u001b[0;34m\u001b[0m\u001b[0;34m\u001b[0m\u001b[0m\n",
            "\u001b[0;32m/usr/local/lib/python3.7/dist-packages/pandas/io/parsers.py\u001b[0m in \u001b[0;36m__init__\u001b[0;34m(self, f, engine, **kwds)\u001b[0m\n\u001b[1;32m    946\u001b[0m             \u001b[0mself\u001b[0m\u001b[0;34m.\u001b[0m\u001b[0moptions\u001b[0m\u001b[0;34m[\u001b[0m\u001b[0;34m\"has_index_names\"\u001b[0m\u001b[0;34m]\u001b[0m \u001b[0;34m=\u001b[0m \u001b[0mkwds\u001b[0m\u001b[0;34m[\u001b[0m\u001b[0;34m\"has_index_names\"\u001b[0m\u001b[0;34m]\u001b[0m\u001b[0;34m\u001b[0m\u001b[0;34m\u001b[0m\u001b[0m\n\u001b[1;32m    947\u001b[0m \u001b[0;34m\u001b[0m\u001b[0m\n\u001b[0;32m--> 948\u001b[0;31m         \u001b[0mself\u001b[0m\u001b[0;34m.\u001b[0m\u001b[0m_make_engine\u001b[0m\u001b[0;34m(\u001b[0m\u001b[0mself\u001b[0m\u001b[0;34m.\u001b[0m\u001b[0mengine\u001b[0m\u001b[0;34m)\u001b[0m\u001b[0;34m\u001b[0m\u001b[0;34m\u001b[0m\u001b[0m\n\u001b[0m\u001b[1;32m    949\u001b[0m \u001b[0;34m\u001b[0m\u001b[0m\n\u001b[1;32m    950\u001b[0m     \u001b[0;32mdef\u001b[0m \u001b[0mclose\u001b[0m\u001b[0;34m(\u001b[0m\u001b[0mself\u001b[0m\u001b[0;34m)\u001b[0m\u001b[0;34m:\u001b[0m\u001b[0;34m\u001b[0m\u001b[0;34m\u001b[0m\u001b[0m\n",
            "\u001b[0;32m/usr/local/lib/python3.7/dist-packages/pandas/io/parsers.py\u001b[0m in \u001b[0;36m_make_engine\u001b[0;34m(self, engine)\u001b[0m\n\u001b[1;32m   1178\u001b[0m     \u001b[0;32mdef\u001b[0m \u001b[0m_make_engine\u001b[0m\u001b[0;34m(\u001b[0m\u001b[0mself\u001b[0m\u001b[0;34m,\u001b[0m \u001b[0mengine\u001b[0m\u001b[0;34m=\u001b[0m\u001b[0;34m\"c\"\u001b[0m\u001b[0;34m)\u001b[0m\u001b[0;34m:\u001b[0m\u001b[0;34m\u001b[0m\u001b[0;34m\u001b[0m\u001b[0m\n\u001b[1;32m   1179\u001b[0m         \u001b[0;32mif\u001b[0m \u001b[0mengine\u001b[0m \u001b[0;34m==\u001b[0m \u001b[0;34m\"c\"\u001b[0m\u001b[0;34m:\u001b[0m\u001b[0;34m\u001b[0m\u001b[0;34m\u001b[0m\u001b[0m\n\u001b[0;32m-> 1180\u001b[0;31m             \u001b[0mself\u001b[0m\u001b[0;34m.\u001b[0m\u001b[0m_engine\u001b[0m \u001b[0;34m=\u001b[0m \u001b[0mCParserWrapper\u001b[0m\u001b[0;34m(\u001b[0m\u001b[0mself\u001b[0m\u001b[0;34m.\u001b[0m\u001b[0mf\u001b[0m\u001b[0;34m,\u001b[0m \u001b[0;34m**\u001b[0m\u001b[0mself\u001b[0m\u001b[0;34m.\u001b[0m\u001b[0moptions\u001b[0m\u001b[0;34m)\u001b[0m\u001b[0;34m\u001b[0m\u001b[0;34m\u001b[0m\u001b[0m\n\u001b[0m\u001b[1;32m   1181\u001b[0m         \u001b[0;32melse\u001b[0m\u001b[0;34m:\u001b[0m\u001b[0;34m\u001b[0m\u001b[0;34m\u001b[0m\u001b[0m\n\u001b[1;32m   1182\u001b[0m             \u001b[0;32mif\u001b[0m \u001b[0mengine\u001b[0m \u001b[0;34m==\u001b[0m \u001b[0;34m\"python\"\u001b[0m\u001b[0;34m:\u001b[0m\u001b[0;34m\u001b[0m\u001b[0;34m\u001b[0m\u001b[0m\n",
            "\u001b[0;32m/usr/local/lib/python3.7/dist-packages/pandas/io/parsers.py\u001b[0m in \u001b[0;36m__init__\u001b[0;34m(self, src, **kwds)\u001b[0m\n\u001b[1;32m   2008\u001b[0m         \u001b[0mkwds\u001b[0m\u001b[0;34m[\u001b[0m\u001b[0;34m\"usecols\"\u001b[0m\u001b[0;34m]\u001b[0m \u001b[0;34m=\u001b[0m \u001b[0mself\u001b[0m\u001b[0;34m.\u001b[0m\u001b[0musecols\u001b[0m\u001b[0;34m\u001b[0m\u001b[0;34m\u001b[0m\u001b[0m\n\u001b[1;32m   2009\u001b[0m \u001b[0;34m\u001b[0m\u001b[0m\n\u001b[0;32m-> 2010\u001b[0;31m         \u001b[0mself\u001b[0m\u001b[0;34m.\u001b[0m\u001b[0m_reader\u001b[0m \u001b[0;34m=\u001b[0m \u001b[0mparsers\u001b[0m\u001b[0;34m.\u001b[0m\u001b[0mTextReader\u001b[0m\u001b[0;34m(\u001b[0m\u001b[0msrc\u001b[0m\u001b[0;34m,\u001b[0m \u001b[0;34m**\u001b[0m\u001b[0mkwds\u001b[0m\u001b[0;34m)\u001b[0m\u001b[0;34m\u001b[0m\u001b[0;34m\u001b[0m\u001b[0m\n\u001b[0m\u001b[1;32m   2011\u001b[0m         \u001b[0mself\u001b[0m\u001b[0;34m.\u001b[0m\u001b[0munnamed_cols\u001b[0m \u001b[0;34m=\u001b[0m \u001b[0mself\u001b[0m\u001b[0;34m.\u001b[0m\u001b[0m_reader\u001b[0m\u001b[0;34m.\u001b[0m\u001b[0munnamed_cols\u001b[0m\u001b[0;34m\u001b[0m\u001b[0;34m\u001b[0m\u001b[0m\n\u001b[1;32m   2012\u001b[0m \u001b[0;34m\u001b[0m\u001b[0m\n",
            "\u001b[0;32mpandas/_libs/parsers.pyx\u001b[0m in \u001b[0;36mpandas._libs.parsers.TextReader.__cinit__\u001b[0;34m()\u001b[0m\n",
            "\u001b[0;32mpandas/_libs/parsers.pyx\u001b[0m in \u001b[0;36mpandas._libs.parsers.TextReader._setup_parser_source\u001b[0;34m()\u001b[0m\n",
            "\u001b[0;31mFileNotFoundError\u001b[0m: [Errno 2] No such file or directory: 'almacenes.csv'"
          ]
        }
      ]
    },
    {
      "cell_type": "code",
      "metadata": {
        "id": "I4KKLPf39INA"
      },
      "source": [
        "coord_sx = coords_str['coordenada X']   \n",
        "coord_sy = coords_str['coordenada Y']\n",
        "stores = []\n",
        "\n",
        "\n",
        "for i in range(len(coord_sx)):\n",
        "  stores.append([coord_sx[i], coord_sy[i]])\n",
        "\n",
        "stores"
      ],
      "execution_count": null,
      "outputs": []
    },
    {
      "cell_type": "code",
      "metadata": {
        "colab": {
          "base_uri": "https://localhost:8080/",
          "height": 229
        },
        "id": "1Mc8kotngMdS",
        "outputId": "0d3ada36-d4d4-4ee0-99b9-00b3e85e0492"
      },
      "source": [
        "x = []\n",
        "y = []\n",
        "\n",
        "for i in range(len(stores)):\n",
        "  x.append(stores[i][0])\n",
        "  y.append(stores[i][1])\n",
        "\n",
        "print(\"MAXIMO X: \")\n",
        "print(max(x))\n",
        "print(\"MAXIMO Y: \")\n",
        "print(max(y))\n",
        "\n",
        "print(\"MINIMO X: \")\n",
        "print(min(x))\n",
        "print(\"MINIMO Y: \")\n",
        "print(min(y))\n"
      ],
      "execution_count": null,
      "outputs": [
        {
          "output_type": "error",
          "ename": "NameError",
          "evalue": "ignored",
          "traceback": [
            "\u001b[0;31m---------------------------------------------------------------------------\u001b[0m",
            "\u001b[0;31mNameError\u001b[0m                                 Traceback (most recent call last)",
            "\u001b[0;32m<ipython-input-10-5a3807558045>\u001b[0m in \u001b[0;36m<module>\u001b[0;34m()\u001b[0m\n\u001b[1;32m      2\u001b[0m \u001b[0my\u001b[0m \u001b[0;34m=\u001b[0m \u001b[0;34m[\u001b[0m\u001b[0;34m]\u001b[0m\u001b[0;34m\u001b[0m\u001b[0;34m\u001b[0m\u001b[0m\n\u001b[1;32m      3\u001b[0m \u001b[0;34m\u001b[0m\u001b[0m\n\u001b[0;32m----> 4\u001b[0;31m \u001b[0;32mfor\u001b[0m \u001b[0mi\u001b[0m \u001b[0;32min\u001b[0m \u001b[0mrange\u001b[0m\u001b[0;34m(\u001b[0m\u001b[0mlen\u001b[0m\u001b[0;34m(\u001b[0m\u001b[0mstores\u001b[0m\u001b[0;34m)\u001b[0m\u001b[0;34m)\u001b[0m\u001b[0;34m:\u001b[0m\u001b[0;34m\u001b[0m\u001b[0;34m\u001b[0m\u001b[0m\n\u001b[0m\u001b[1;32m      5\u001b[0m   \u001b[0mx\u001b[0m\u001b[0;34m.\u001b[0m\u001b[0mappend\u001b[0m\u001b[0;34m(\u001b[0m\u001b[0mstores\u001b[0m\u001b[0;34m[\u001b[0m\u001b[0mi\u001b[0m\u001b[0;34m]\u001b[0m\u001b[0;34m[\u001b[0m\u001b[0;36m0\u001b[0m\u001b[0;34m]\u001b[0m\u001b[0;34m)\u001b[0m\u001b[0;34m\u001b[0m\u001b[0;34m\u001b[0m\u001b[0m\n\u001b[1;32m      6\u001b[0m   \u001b[0my\u001b[0m\u001b[0;34m.\u001b[0m\u001b[0mappend\u001b[0m\u001b[0;34m(\u001b[0m\u001b[0mstores\u001b[0m\u001b[0;34m[\u001b[0m\u001b[0mi\u001b[0m\u001b[0;34m]\u001b[0m\u001b[0;34m[\u001b[0m\u001b[0;36m1\u001b[0m\u001b[0;34m]\u001b[0m\u001b[0;34m)\u001b[0m\u001b[0;34m\u001b[0m\u001b[0;34m\u001b[0m\u001b[0m\n",
            "\u001b[0;31mNameError\u001b[0m: name 'stores' is not defined"
          ]
        }
      ]
    },
    {
      "cell_type": "markdown",
      "metadata": {
        "id": "YViKAu_6BwaD"
      },
      "source": [
        "#  Delivery Points (Puntos de entrega)"
      ]
    },
    {
      "cell_type": "code",
      "metadata": {
        "id": "vOloydErBpwL"
      },
      "source": [
        "coords_dp = pd.read_csv(\"puntos_entrega.csv\")\n",
        "coords_dp"
      ],
      "execution_count": null,
      "outputs": []
    },
    {
      "cell_type": "code",
      "metadata": {
        "id": "aF2_u4FICCML",
        "colab": {
          "base_uri": "https://localhost:8080/"
        },
        "outputId": "0bed139b-54f3-4eda-b4fe-ddf899f1e3d3"
      },
      "source": [
        "coord_dx = coords_dp['coordenada X']\n",
        "coord_dy = coords_dp['coordenada Y']\n",
        "delivery_points = []\n",
        "\n",
        "for i in range(len(coord_dx)):\n",
        "  delivery_points.append([coord_dx[i], coord_dy[i]])\n",
        "\n",
        "delivery_points\n"
      ],
      "execution_count": null,
      "outputs": [
        {
          "output_type": "stream",
          "name": "stdout",
          "text": [
            "[999, 524]\n"
          ]
        }
      ]
    },
    {
      "cell_type": "code",
      "metadata": {
        "colab": {
          "base_uri": "https://localhost:8080/"
        },
        "id": "U1bVSHfkiFRO",
        "outputId": "5be3fd8f-6dd6-497e-b13c-67ce54ec4f8f"
      },
      "source": [
        "x1 = []\n",
        "y1 = []\n",
        "\n",
        "for i in range(len(delivery_points)):\n",
        "  x1.append(delivery_points[i][0])\n",
        "  y1.append(delivery_points[i][1])\n",
        "\n",
        "print(\"MAXIMO X: \")\n",
        "print(max(x1))\n",
        "print(\"MAXIMO Y: \")\n",
        "print(max(y1))\n",
        "\n",
        "print(\"MINIMO X: \")\n",
        "print(min(x1))\n",
        "print(\"MINIMO Y: \")\n",
        "print(min(y1))"
      ],
      "execution_count": null,
      "outputs": [
        {
          "output_type": "stream",
          "name": "stdout",
          "text": [
            "MAXIMO X: \n",
            "999\n",
            "MAXIMO Y: \n",
            "999\n",
            "MINIMO X: \n",
            "1\n",
            "MINIMO Y: \n",
            "1\n"
          ]
        }
      ]
    },
    {
      "cell_type": "markdown",
      "metadata": {
        "id": "NmJUw4mKvQZI"
      },
      "source": [
        "## CALCULO DE DISTANCIAS ENTRE COORDENADAS"
      ]
    },
    {
      "cell_type": "code",
      "metadata": {
        "id": "1ZCTuICLvX3S"
      },
      "source": [
        "def distancia(x1, y1, x2, y2):\n",
        "  return math.sqrt( (x2-x1)**2 + (y2-y1)**2 )\n",
        "  "
      ],
      "execution_count": null,
      "outputs": []
    },
    {
      "cell_type": "code",
      "metadata": {
        "colab": {
          "base_uri": "https://localhost:8080/"
        },
        "id": "yCuWt_NKwEVw",
        "outputId": "1f995aa5-ec28-4956-bc14-c3b2ecbb2099"
      },
      "source": [
        "print(distancia(-4, 0, 5, 0))  #PRUEBA DE FUNCIONAMIENTO"
      ],
      "execution_count": null,
      "outputs": [
        {
          "output_type": "stream",
          "name": "stdout",
          "text": [
            "9.0\n"
          ]
        }
      ]
    },
    {
      "cell_type": "markdown",
      "metadata": {
        "id": "VrZhTIOd-8Et"
      },
      "source": [
        "## REPRESENTACIÓN 1\n"
      ]
    },
    {
      "cell_type": "code",
      "metadata": {
        "id": "Vk37lVQOFQQW"
      },
      "source": [
        "#Sebastian Gonzales \n",
        "NS = len(stores)\n",
        "NDP = len(delivery_points)\n",
        "Total = 1000000 - (NS+NDP+1)\n",
        "print(Total)\n",
        "\n",
        "arr = []\n",
        "for _ in range(Total):\n",
        "  arr.append([0]*3)\n",
        "\n",
        "#ALMACENES\n",
        "coord_sx = coords_str['coordenada X']   \n",
        "coord_sy = coords_str['coordenada Y']\n",
        "\n",
        "#DELIVERY POINTS\n",
        "coord_dx = coords_dp['coordenada X']\n",
        "coord_dy = coords_dp['coordenada Y']\n",
        "\n",
        "\n",
        "#1's para Storages\n",
        "for i in range(len(coord_sx)):\n",
        "  arr.append([coord_sx[i], coord_sy[i], 1])\n",
        "\n",
        "\n",
        "#-1's para Delivery Points\n",
        "for i in range(len(coord_dx)):\n",
        "  arr.append([coord_dx[i], coord_dy[i], -1] )\n",
        "\n",
        "arr"
      ],
      "execution_count": null,
      "outputs": []
    },
    {
      "cell_type": "markdown",
      "metadata": {
        "id": "d0z26UO44km8"
      },
      "source": [
        "## REPRESENTACION 2"
      ]
    },
    {
      "cell_type": "code",
      "metadata": {
        "id": "oqWx-TVx4pKD"
      },
      "source": [
        "#PLAYGROUND DE FICHEROS\n",
        "\n",
        "f= open(\"prueba.txt\",\"w+\")\n",
        "for i in range(10):\n",
        "  for j in range(5):\n",
        "    f.write(\"Primero esto %d  Fila %d \" % ((j+1), (i+1) )  \n",
        "  f.write(\"\\n\")\n",
        "f.close()\n"
      ],
      "execution_count": null,
      "outputs": []
    },
    {
      "cell_type": "code",
      "metadata": {
        "id": "bui7820IRf3K"
      },
      "source": [
        "#Crear una lista de adyacencia parecida a la trabajada en clase\n",
        "#2|4 4|3\n",
        "\n",
        "NS = len(stores)\n",
        "NDP = len(delivery_points)\n",
        "\n",
        "f=open(\"Adyacencia.txt\", \"w+\")\n",
        "\n",
        "#Son 60 Almacenes y 2539 Entregas\n",
        "#En la primera iteracion: Almacen1(nodo 0) = 60|distancia[0,60] 61|distancia[0,61]\n",
        "\n",
        "for i in range(NS-1):\n",
        "  for j in range(NDP-1):\n",
        "    dis = distancia(stores[i][0], stores[i][1], delivery_points[j][0], delivery_points[j][1]) #Distancia \n",
        "    # Se tiene que escribir: \"NS+i|dis \"\n",
        "  #Se tiene que dar el salto de linea\n",
        "\n",
        "\n"
      ],
      "execution_count": null,
      "outputs": []
    },
    {
      "cell_type": "markdown",
      "metadata": {
        "id": "iXjTl-nFkBA4"
      },
      "source": [
        "# REPRESENTACION 3"
      ]
    },
    {
      "cell_type": "code",
      "metadata": {
        "id": "rn2xS7cdkDoP"
      },
      "source": [
        "def toPosition(x, y, n):\n",
        "  return x + y*n;\n",
        "\n",
        "def adjacents(x, y, n, st, dp):\n",
        "  dir = [-1]*4\n",
        "  coords = [[x-1, y],[x, y-1],[x+1, y],[x, y+1]]\n",
        "  for i, c in enumerate(coords):\n",
        "    if c in st or c in dp:\n",
        "      dir[i] = toPosition(c[0], c[1], n)\n",
        "  return dir"
      ],
      "execution_count": null,
      "outputs": []
    },
    {
      "cell_type": "code",
      "metadata": {
        "id": "9WRy-MdSkKjZ"
      },
      "source": [
        "def makeAdjList(st, dp, n):\n",
        "  ls = []\n",
        "  for x in range(n):\n",
        "    for y in range(n):\n",
        "      tp = 0\n",
        "      if [x,y] in st:\n",
        "        tp = 1        \n",
        "      if [x,y] in dp:\n",
        "        tp = 2\n",
        "      directions = adjacents(x, y, n, st, dp)\n",
        "      ls.append([tp,[x,y], directions])\n",
        "  return ls"
      ],
      "execution_count": null,
      "outputs": []
    },
    {
      "cell_type": "markdown",
      "metadata": {
        "id": "r84qU_Nelvqy"
      },
      "source": [
        "#REPRESENTACION 4"
      ]
    },
    {
      "cell_type": "code",
      "metadata": {
        "id": "epaM-RdPl0iZ"
      },
      "source": [
        "def toPosition(x, y, n):\n",
        "  return x + y*n;\n",
        "\n",
        "def adjacents(x, y, n):\n",
        "  dir = []\n",
        "  coords = [[x, y-1],[x-1, y],[x+1, y],[x, y+1]]\n",
        "  for c in coords:\n",
        "    if c[0] != -1 and c[0] != n and c[1] != -1 and c[1] != n:\n",
        "      dir.append(toPosition(c[0], c[1], n))\n",
        "  return dir"
      ],
      "execution_count": null,
      "outputs": []
    },
    {
      "cell_type": "code",
      "metadata": {
        "id": "AhZmoxgfl3sy"
      },
      "source": [
        "# st = data almacenes, sp = data puntos de entrega\n",
        "# n = tamaño de la matriz cuadrada\n",
        "def get_ls(st, dp, n):\n",
        "  ls = []\n",
        "  locals = []\n",
        "  for y in range(n): #Caso optimizado -> Y menor - al Y Mayor\n",
        "    for x in range(n): \n",
        "      tp = 0      \n",
        "      if [x,y] in st:\n",
        "        tp = 1        \n",
        "      if [x,y] in dp:\n",
        "        tp = 2\n",
        "      ls.append(adjacents(x, y, n))\n",
        "      locals.append(tp)\n",
        "  return ls, locals"
      ],
      "execution_count": null,
      "outputs": []
    },
    {
      "cell_type": "markdown",
      "metadata": {
        "id": "UVzJWBUA_yxS"
      },
      "source": [
        "## ZONA DE PRUBAS"
      ]
    },
    {
      "cell_type": "code",
      "metadata": {
        "id": "OyHFkuOqHX62"
      },
      "source": [
        "import random as rd\n",
        "\n",
        "points = []\n",
        "\n",
        "while len(points) < 15:\n",
        "  x = rd.randint(0,5)\n",
        "  y = rd.randint(0,5)\n",
        "  if [x, y] not in points:\n",
        "    points.append([x, y])"
      ],
      "execution_count": null,
      "outputs": []
    },
    {
      "cell_type": "code",
      "metadata": {
        "id": "Cj_tQVCZMmGF",
        "colab": {
          "base_uri": "https://localhost:8080/",
          "height": 178
        },
        "outputId": "1a6a41e4-f27f-4288-ccc6-812ca3e7b802"
      },
      "source": [
        "entregas = points[0:5]\n",
        "almacenes = points[5:]"
      ],
      "execution_count": null,
      "outputs": [
        {
          "output_type": "error",
          "ename": "NameError",
          "evalue": "ignored",
          "traceback": [
            "\u001b[0;31m---------------------------------------------------------------------------\u001b[0m",
            "\u001b[0;31mNameError\u001b[0m                                 Traceback (most recent call last)",
            "\u001b[0;32m<ipython-input-8-3b38146371f6>\u001b[0m in \u001b[0;36m<module>\u001b[0;34m()\u001b[0m\n\u001b[0;32m----> 1\u001b[0;31m \u001b[0mentregas\u001b[0m \u001b[0;34m=\u001b[0m \u001b[0mpoints\u001b[0m\u001b[0;34m[\u001b[0m\u001b[0;36m0\u001b[0m\u001b[0;34m:\u001b[0m\u001b[0;36m5\u001b[0m\u001b[0;34m]\u001b[0m\u001b[0;34m\u001b[0m\u001b[0;34m\u001b[0m\u001b[0m\n\u001b[0m\u001b[1;32m      2\u001b[0m \u001b[0malmacenes\u001b[0m \u001b[0;34m=\u001b[0m \u001b[0mpoints\u001b[0m\u001b[0;34m[\u001b[0m\u001b[0;36m5\u001b[0m\u001b[0;34m:\u001b[0m\u001b[0;34m]\u001b[0m\u001b[0;34m\u001b[0m\u001b[0;34m\u001b[0m\u001b[0m\n",
            "\u001b[0;31mNameError\u001b[0m: name 'points' is not defined"
          ]
        }
      ]
    },
    {
      "cell_type": "code",
      "metadata": {
        "id": "FY4h8CYbPY1H"
      },
      "source": [
        "data_test = [[9,10], [17,18], [4,12], [1,2], [9,11]]"
      ],
      "execution_count": null,
      "outputs": []
    },
    {
      "cell_type": "code",
      "metadata": {
        "id": "akWHB7Tca1j2"
      },
      "source": [
        "st = [[1,5], [1,4], [2,6], [3,8], [4,8], [7,2], [8,3]]\n",
        "dp = [[1,1], [1,3], [3,4], [4,5], [5,2], [9,9]]"
      ],
      "execution_count": null,
      "outputs": []
    },
    {
      "cell_type": "code",
      "metadata": {
        "id": "MiagiI693nJs"
      },
      "source": [
        "import random as rd\n",
        "\n",
        "points = []\n",
        "\n",
        "while len(points) < 1500:\n",
        "  x = rd.randint(0,100)\n",
        "  y = rd.randint(0,100)\n",
        "  if [x, y] not in points:\n",
        "    points.append([x, y])\n",
        "\n",
        "entregas = points[0:1000]\n",
        "almacenes = points[1000:]"
      ],
      "execution_count": null,
      "outputs": []
    },
    {
      "cell_type": "code",
      "metadata": {
        "id": "FzHuaKAUKAgV"
      },
      "source": [
        "makeAdjList(almacenes, entregas, 100)"
      ],
      "execution_count": null,
      "outputs": []
    },
    {
      "cell_type": "code",
      "metadata": {
        "colab": {
          "base_uri": "https://localhost:8080/"
        },
        "id": "B6l7vi6dmCbK",
        "outputId": "c0c1105f-ea3a-4e7a-d162-3ec4c3280442"
      },
      "source": [
        "almac = [[0,0],[2,1]]\n",
        "pts_entreg = [[1,0],[0,2]]\n",
        "\n",
        "ls,loc = get_ls(almac, pts_entreg, 3)\n",
        "\n",
        "print(ls)\n",
        "print(loc)"
      ],
      "execution_count": null,
      "outputs": [
        {
          "output_type": "stream",
          "name": "stdout",
          "text": [
            "[[1, 3], [0, 2, 4], [1, 5], [0, 4, 6], [1, 3, 5, 7], [2, 4, 8], [3, 7], [4, 6, 8], [5, 7]]\n",
            "[1, 2, 0, 0, 0, 1, 2, 0, 0]\n"
          ]
        }
      ]
    },
    {
      "cell_type": "markdown",
      "metadata": {
        "id": "Ezzu2eJQ_ENH"
      },
      "source": [
        "## REPRESENTACIÓN GRAFICA (Hito 2 - Dijkstra)"
      ]
    },
    {
      "cell_type": "code",
      "metadata": {
        "id": "s3tLiDPfECZW"
      },
      "source": [
        "def toListWithCosts(G):\n",
        "  new_list = []\n",
        "  for c in G:\n",
        "    l = []\n",
        "    for n in c:\n",
        "      l.append((n,1))\n",
        "    new_list.append(l)\n",
        "  return new_list"
      ],
      "execution_count": null,
      "outputs": []
    },
    {
      "cell_type": "code",
      "metadata": {
        "id": "hlcfYtjT4K8h"
      },
      "source": [
        "def dijkstra(G, s):\n",
        "  n = len(G)\n",
        "  visited = [False]*n\n",
        "  path = [None]*n\n",
        "  cost = [math.inf]*n\n",
        "  cost[s] = 0\n",
        "  queue = [(0, s)]\n",
        "  while queue:\n",
        "    g_u, u = hq.heappop(queue)\n",
        "    if not visited[u]:\n",
        "      visited[u] = True\n",
        "      for v, w in G[u]:\n",
        "        f = g_u + w\n",
        "        if f < cost[v]:\n",
        "          cost[v] = f\n",
        "          path[v] = u\n",
        "          hq.heappush(queue, (f, v))\n",
        "\n",
        "  return path, cost"
      ],
      "execution_count": null,
      "outputs": []
    },
    {
      "cell_type": "code",
      "metadata": {
        "id": "foyHnKxc4Pyp",
        "colab": {
          "base_uri": "https://localhost:8080/",
          "height": 212
        },
        "outputId": "607a0ced-a921-4bc7-b7b8-9302a7377ec9"
      },
      "source": [
        "#almac = [[0,0],[2,1]]\n",
        "#pts_entreg = [[1,0],[0,2]]\n",
        "\n",
        "ls, loc = get_ls(almacenes, entregas, 5)\n",
        "G = toListWithCosts(ls)"
      ],
      "execution_count": null,
      "outputs": [
        {
          "output_type": "error",
          "ename": "NameError",
          "evalue": "ignored",
          "traceback": [
            "\u001b[0;31m---------------------------------------------------------------------------\u001b[0m",
            "\u001b[0;31mNameError\u001b[0m                                 Traceback (most recent call last)",
            "\u001b[0;32m<ipython-input-6-2372c69dff29>\u001b[0m in \u001b[0;36m<module>\u001b[0;34m()\u001b[0m\n\u001b[1;32m      2\u001b[0m \u001b[0;31m#pts_entreg = [[1,0],[0,2]]\u001b[0m\u001b[0;34m\u001b[0m\u001b[0;34m\u001b[0m\u001b[0;34m\u001b[0m\u001b[0m\n\u001b[1;32m      3\u001b[0m \u001b[0;34m\u001b[0m\u001b[0m\n\u001b[0;32m----> 4\u001b[0;31m \u001b[0mls\u001b[0m\u001b[0;34m,\u001b[0m \u001b[0mloc\u001b[0m \u001b[0;34m=\u001b[0m \u001b[0mget_ls\u001b[0m\u001b[0;34m(\u001b[0m\u001b[0malmacenes\u001b[0m\u001b[0;34m,\u001b[0m \u001b[0mentregas\u001b[0m\u001b[0;34m,\u001b[0m \u001b[0;36m5\u001b[0m\u001b[0;34m)\u001b[0m\u001b[0;34m\u001b[0m\u001b[0;34m\u001b[0m\u001b[0m\n\u001b[0m\u001b[1;32m      5\u001b[0m \u001b[0mG\u001b[0m \u001b[0;34m=\u001b[0m \u001b[0mtoListWithCosts\u001b[0m\u001b[0;34m(\u001b[0m\u001b[0mls\u001b[0m\u001b[0;34m)\u001b[0m\u001b[0;34m\u001b[0m\u001b[0;34m\u001b[0m\u001b[0m\n",
            "\u001b[0;31mNameError\u001b[0m: name 'get_ls' is not defined"
          ]
        }
      ]
    },
    {
      "cell_type": "code",
      "metadata": {
        "id": "Y6Ku0rCe4VZx",
        "colab": {
          "base_uri": "https://localhost:8080/",
          "height": 229
        },
        "outputId": "e35029b5-b02f-436e-cebf-5aaadf31d88c"
      },
      "source": [
        "path, cost = dijkstra(G, 0)\n",
        "print(path)\n",
        "print(cost)\n",
        "# path = [None, 0, None, 0, None, None, 3, None, None] -> 0\n",
        "# path = [None, 2, 5, 4, 5, None, 3, None, None]       -> 5\n",
        "adjlShow(G, weighted=True, path=path)"
      ],
      "execution_count": null,
      "outputs": [
        {
          "output_type": "error",
          "ename": "NameError",
          "evalue": "ignored",
          "traceback": [
            "\u001b[0;31m---------------------------------------------------------------------------\u001b[0m",
            "\u001b[0;31mNameError\u001b[0m                                 Traceback (most recent call last)",
            "\u001b[0;32m<ipython-input-7-397526ae77d0>\u001b[0m in \u001b[0;36m<module>\u001b[0;34m()\u001b[0m\n\u001b[0;32m----> 1\u001b[0;31m \u001b[0mpath\u001b[0m\u001b[0;34m,\u001b[0m \u001b[0mcost\u001b[0m \u001b[0;34m=\u001b[0m \u001b[0mdijkstra\u001b[0m\u001b[0;34m(\u001b[0m\u001b[0mG\u001b[0m\u001b[0;34m,\u001b[0m \u001b[0;36m0\u001b[0m\u001b[0;34m)\u001b[0m\u001b[0;34m\u001b[0m\u001b[0;34m\u001b[0m\u001b[0m\n\u001b[0m\u001b[1;32m      2\u001b[0m \u001b[0mprint\u001b[0m\u001b[0;34m(\u001b[0m\u001b[0mpath\u001b[0m\u001b[0;34m)\u001b[0m\u001b[0;34m\u001b[0m\u001b[0;34m\u001b[0m\u001b[0m\n\u001b[1;32m      3\u001b[0m \u001b[0mprint\u001b[0m\u001b[0;34m(\u001b[0m\u001b[0mcost\u001b[0m\u001b[0;34m)\u001b[0m\u001b[0;34m\u001b[0m\u001b[0;34m\u001b[0m\u001b[0m\n\u001b[1;32m      4\u001b[0m \u001b[0;31m# path = [None, 0, None, 0, None, None, 3, None, None] -> 0\u001b[0m\u001b[0;34m\u001b[0m\u001b[0;34m\u001b[0m\u001b[0;34m\u001b[0m\u001b[0m\n\u001b[1;32m      5\u001b[0m \u001b[0;31m# path = [None, 2, 5, 4, 5, None, 3, None, None]       -> 5\u001b[0m\u001b[0;34m\u001b[0m\u001b[0;34m\u001b[0m\u001b[0;34m\u001b[0m\u001b[0m\n",
            "\u001b[0;31mNameError\u001b[0m: name 'G' is not defined"
          ]
        }
      ]
    },
    {
      "cell_type": "markdown",
      "metadata": {
        "id": "qw5YBHJs1nS5"
      },
      "source": [
        "# Dijkstra Alternativo"
      ]
    },
    {
      "cell_type": "code",
      "metadata": {
        "id": "VSDyzN781U7x"
      },
      "source": [
        "def dijkstraAlt(G, L, s):\n",
        "  n = len(G)\n",
        "  visited = [False]*n\n",
        "  path = [None]*n\n",
        "  cost = [math.inf]*n\n",
        "  cost[s] = 0\n",
        "  queue = [(0, s)]\n",
        "  while queue:\n",
        "    g_u, u = hq.heappop(queue)\n",
        "    if not visited[u]:\n",
        "      visited[u] = True\n",
        "      for v, w in G[u]:\n",
        "        f = g_u + w\n",
        "        if f < cost[v]:\n",
        "          cost[v] = f          \n",
        "          path[v] = u\n",
        "          hq.heappush(queue, (f, v))\n",
        "\n",
        "  min_path = [None]*n\n",
        "  for i, v in enumerate(L):\n",
        "      if v == 2:\n",
        "        min_path[i] = path[i]\n",
        "        m = path[i]\n",
        "        while m != s:          \n",
        "          min_path[m] = path[m]\n",
        "          m = path[m]\n",
        "\n",
        "  return min_path, cost"
      ],
      "execution_count": null,
      "outputs": []
    },
    {
      "cell_type": "code",
      "metadata": {
        "id": "SCW_Wb681cwI",
        "colab": {
          "base_uri": "https://localhost:8080/",
          "height": 212
        },
        "outputId": "ca75eead-7330-4353-960d-a41e21a3635f"
      },
      "source": [
        "almac = [[0,0],[2,1]]\n",
        "pts_entreg = [[1,0],[0,2]]\n",
        "\n",
        "ls, loc = get_ls(almac, pts_entreg, 3)\n",
        "G = toListWithCosts(ls)"
      ],
      "execution_count": null,
      "outputs": [
        {
          "output_type": "error",
          "ename": "NameError",
          "evalue": "ignored",
          "traceback": [
            "\u001b[0;31m---------------------------------------------------------------------------\u001b[0m",
            "\u001b[0;31mNameError\u001b[0m                                 Traceback (most recent call last)",
            "\u001b[0;32m<ipython-input-2-5d4ea808830c>\u001b[0m in \u001b[0;36m<module>\u001b[0;34m()\u001b[0m\n\u001b[1;32m      2\u001b[0m \u001b[0mpts_entreg\u001b[0m \u001b[0;34m=\u001b[0m \u001b[0;34m[\u001b[0m\u001b[0;34m[\u001b[0m\u001b[0;36m1\u001b[0m\u001b[0;34m,\u001b[0m\u001b[0;36m0\u001b[0m\u001b[0;34m]\u001b[0m\u001b[0;34m,\u001b[0m\u001b[0;34m[\u001b[0m\u001b[0;36m0\u001b[0m\u001b[0;34m,\u001b[0m\u001b[0;36m2\u001b[0m\u001b[0;34m]\u001b[0m\u001b[0;34m]\u001b[0m\u001b[0;34m\u001b[0m\u001b[0;34m\u001b[0m\u001b[0m\n\u001b[1;32m      3\u001b[0m \u001b[0;34m\u001b[0m\u001b[0m\n\u001b[0;32m----> 4\u001b[0;31m \u001b[0mls\u001b[0m\u001b[0;34m,\u001b[0m \u001b[0mloc\u001b[0m \u001b[0;34m=\u001b[0m \u001b[0mget_ls\u001b[0m\u001b[0;34m(\u001b[0m\u001b[0malmac\u001b[0m\u001b[0;34m,\u001b[0m \u001b[0mpts_entreg\u001b[0m\u001b[0;34m,\u001b[0m \u001b[0;36m3\u001b[0m\u001b[0;34m)\u001b[0m\u001b[0;34m\u001b[0m\u001b[0;34m\u001b[0m\u001b[0m\n\u001b[0m\u001b[1;32m      5\u001b[0m \u001b[0mG\u001b[0m \u001b[0;34m=\u001b[0m \u001b[0mtoListWithCosts\u001b[0m\u001b[0;34m(\u001b[0m\u001b[0mls\u001b[0m\u001b[0;34m)\u001b[0m\u001b[0;34m\u001b[0m\u001b[0;34m\u001b[0m\u001b[0m\n",
            "\u001b[0;31mNameError\u001b[0m: name 'get_ls' is not defined"
          ]
        }
      ]
    },
    {
      "cell_type": "code",
      "metadata": {
        "colab": {
          "base_uri": "https://localhost:8080/",
          "height": 229
        },
        "id": "_z_RL3yu1ion",
        "outputId": "4668aca1-f78b-4612-817e-c198f7327bf3"
      },
      "source": [
        "path, cost = dijkstraAlt(G, loc, 5)\n",
        "print(path)\n",
        "print(cost)\n",
        "# path = [None, 0, None, 0, None, None, 3, None, None] -> 0\n",
        "# path = [None, 2, 5, 4, 5, None, 3, None, None]       -> 5\n",
        "adjlShow(G, weighted=True, path=path)"
      ],
      "execution_count": null,
      "outputs": [
        {
          "output_type": "error",
          "ename": "NameError",
          "evalue": "ignored",
          "traceback": [
            "\u001b[0;31m---------------------------------------------------------------------------\u001b[0m",
            "\u001b[0;31mNameError\u001b[0m                                 Traceback (most recent call last)",
            "\u001b[0;32m<ipython-input-3-9d329dbdf83a>\u001b[0m in \u001b[0;36m<module>\u001b[0;34m()\u001b[0m\n\u001b[0;32m----> 1\u001b[0;31m \u001b[0mpath\u001b[0m\u001b[0;34m,\u001b[0m \u001b[0mcost\u001b[0m \u001b[0;34m=\u001b[0m \u001b[0mdijkstraAlt\u001b[0m\u001b[0;34m(\u001b[0m\u001b[0mG\u001b[0m\u001b[0;34m,\u001b[0m \u001b[0mloc\u001b[0m\u001b[0;34m,\u001b[0m \u001b[0;36m5\u001b[0m\u001b[0;34m)\u001b[0m\u001b[0;34m\u001b[0m\u001b[0;34m\u001b[0m\u001b[0m\n\u001b[0m\u001b[1;32m      2\u001b[0m \u001b[0mprint\u001b[0m\u001b[0;34m(\u001b[0m\u001b[0mpath\u001b[0m\u001b[0;34m)\u001b[0m\u001b[0;34m\u001b[0m\u001b[0;34m\u001b[0m\u001b[0m\n\u001b[1;32m      3\u001b[0m \u001b[0mprint\u001b[0m\u001b[0;34m(\u001b[0m\u001b[0mcost\u001b[0m\u001b[0;34m)\u001b[0m\u001b[0;34m\u001b[0m\u001b[0;34m\u001b[0m\u001b[0m\n\u001b[1;32m      4\u001b[0m \u001b[0;31m# path = [None, 0, None, 0, None, None, 3, None, None] -> 0\u001b[0m\u001b[0;34m\u001b[0m\u001b[0;34m\u001b[0m\u001b[0;34m\u001b[0m\u001b[0m\n\u001b[1;32m      5\u001b[0m \u001b[0;31m# path = [None, 2, 5, 4, 5, None, 3, None, None]       -> 5\u001b[0m\u001b[0;34m\u001b[0m\u001b[0;34m\u001b[0m\u001b[0;34m\u001b[0m\u001b[0m\n",
            "\u001b[0;31mNameError\u001b[0m: name 'G' is not defined"
          ]
        }
      ]
    }
  ]
}