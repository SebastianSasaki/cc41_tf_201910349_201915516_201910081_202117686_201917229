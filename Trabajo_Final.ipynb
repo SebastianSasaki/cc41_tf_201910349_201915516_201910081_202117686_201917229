{
  "nbformat": 4,
  "nbformat_minor": 0,
  "metadata": {
    "colab": {
      "name": "Trabajo_Final",
      "provenance": [],
      "collapsed_sections": [
        "VrZhTIOd-8Et",
        "iXjTl-nFkBA4"
      ],
      "include_colab_link": true
    },
    "kernelspec": {
      "name": "python3",
      "display_name": "Python 3"
    },
    "language_info": {
      "name": "python"
    }
  },
  "cells": [
    {
      "cell_type": "markdown",
      "metadata": {
        "id": "view-in-github",
        "colab_type": "text"
      },
      "source": [
        "<a href=\"https://colab.research.google.com/github/SebastianSasaki/cc41_tf_201910349_201915516_201910081_202117686_201917229/blob/main/Trabajo_Final.ipynb\" target=\"_parent\"><img src=\"https://colab.research.google.com/assets/colab-badge.svg\" alt=\"Open In Colab\"/></a>"
      ]
    },
    {
      "cell_type": "code",
      "metadata": {
        "id": "oOFKYQUX4wqe"
      },
      "source": [
        "import graphviz as gv #Graficos\n",
        "import numpy as np\n",
        "import heapq as hq\n",
        "import pandas as pd #Leer CSV\n",
        "import matplotlib.pyplot as plt # Gragicos final\n",
        "import math as math #Operaciones matematicas\n",
        "\n",
        "def readAdjl(fn, haslabels=False, weighted=False, sep=\"|\"):\n",
        "  with open(fn) as f:\n",
        "    labels = None\n",
        "    if haslabels:\n",
        "      labels = f.readline().strip().split()\n",
        "    L = []\n",
        "    for line in f:\n",
        "      if weighted:\n",
        "        L.append([tuple(map(int, p.split(sep))) for p in line.strip().split()])\n",
        "        # line => \"1|3 2|5 4|4\" ==> [(1, 3), (2, 5), (4, 4)]\n",
        "      else: \n",
        "        L.append(list(map(int, line.strip().split()))) # \"1 3 5\" => [1, 3, 5]\n",
        "        # L.append([int(x) for x in line.strip().split()])\n",
        "  return L, labels\n",
        "\n",
        "def adjlShow(L, labels=None, directed=False, weighted=False, path=[],\n",
        "             layout=\"sfdp\"):\n",
        "  g = gv.Digraph(\"G\") if directed else gv.Graph(\"G\")\n",
        "  g.graph_attr[\"layout\"] = layout\n",
        "  g.edge_attr[\"color\"] = \"gray\"\n",
        "  g.node_attr[\"color\"] = \"orangered\"\n",
        "  g.node_attr[\"width\"] = \"0.1\"\n",
        "  g.node_attr[\"height\"] = \"0.1\"\n",
        "  g.node_attr[\"fontsize\"] = \"8\"\n",
        "  g.node_attr[\"fontcolor\"] = \"mediumslateblue\"\n",
        "  g.node_attr[\"fontname\"] = \"monospace\"\n",
        "  n = len(L)\n",
        "  for u in range(n):\n",
        "    g.node(str(u), labels[u] if labels else str(u))\n",
        "  added = set()\n",
        "  for v, u in enumerate(path):\n",
        "    if u != None:\n",
        "      g.edge(str(u), str(v), dir=\"forward\", penwidth=\"2\", color=\"orange\")\n",
        "      added.add(f\"{u},{v}\")\n",
        "      added.add(f\"{v},{u}\")\n",
        "  if weighted:\n",
        "    for u in range(n):\n",
        "      for v, w in L[u]:\n",
        "        if not directed and not f\"{u},{v}\" in added:\n",
        "          added.add(f\"{u},{v}\")\n",
        "          added.add(f\"{v},{u}\")\n",
        "          g.edge(str(u), str(v), str(w))\n",
        "        elif directed:\n",
        "          g.edge(str(u), str(v), str(w))\n",
        "  else:\n",
        "    for u in range(n):\n",
        "      for v in L[u]:\n",
        "        if not directed and not f\"{u},{v}\" in added:\n",
        "          added.add(f\"{u},{v}\")\n",
        "          added.add(f\"{v},{u}\")\n",
        "          g.edge(str(u), str(v))\n",
        "        elif directed:\n",
        "          g.edge(str(u), str(v))\n",
        "  return g"
      ],
      "execution_count": null,
      "outputs": []
    },
    {
      "cell_type": "markdown",
      "metadata": {
        "id": "ZygvTjbRBk58"
      },
      "source": [
        "# Stores (Almacenes)"
      ]
    },
    {
      "cell_type": "code",
      "metadata": {
        "id": "5aAVXLWw78vk"
      },
      "source": [
        "coords_str = pd.read_csv(\"almacenes.csv\")   #AQUI SE LEE EL CSV DE LOS ALMACENES\n",
        "coords_str #SE LOS GUARDA EN LA VARIABLE"
      ],
      "execution_count": null,
      "outputs": []
    },
    {
      "cell_type": "code",
      "metadata": {
        "id": "I4KKLPf39INA"
      },
      "source": [
        "coord_sx = coords_str['coordenada X']   \n",
        "coord_sy = coords_str['coordenada Y']\n",
        "stores = []\n",
        "\n",
        "\n",
        "for i in range(len(coord_sx)):\n",
        "  stores.append([coord_sx[i], coord_sy[i]])\n",
        "\n",
        "stores"
      ],
      "execution_count": null,
      "outputs": []
    },
    {
      "cell_type": "markdown",
      "metadata": {
        "id": "YViKAu_6BwaD"
      },
      "source": [
        "#  Delivery Points (Puntos de entrega)"
      ]
    },
    {
      "cell_type": "code",
      "metadata": {
        "id": "vOloydErBpwL"
      },
      "source": [
        "coords_dp = pd.read_csv(\"puntos_entrega.csv\")\n",
        "coords_dp"
      ],
      "execution_count": null,
      "outputs": []
    },
    {
      "cell_type": "code",
      "metadata": {
        "id": "aF2_u4FICCML"
      },
      "source": [
        "coord_dx = coords_dp['coordenada X']\n",
        "coord_dy = coords_dp['coordenada Y']\n",
        "delivery_points = []\n",
        "\n",
        "for i in range(len(coord_dx)):\n",
        "  delivery_points.append([coord_dx[i], coord_dy[i]])\n",
        "\n",
        "delivery_points\n"
      ],
      "execution_count": null,
      "outputs": []
    },
    {
      "cell_type": "markdown",
      "metadata": {
        "id": "VrZhTIOd-8Et"
      },
      "source": [
        "## REPRESENTACIÓN 1\n"
      ]
    },
    {
      "cell_type": "code",
      "metadata": {
        "id": "Vk37lVQOFQQW"
      },
      "source": [
        "#Sebastian Gonzales \n",
        "NS = len(stores)\n",
        "NDP = len(delivery_points)\n",
        "Total = 1000000 - (NS+NDP+1)\n",
        "print(Total)\n",
        "\n",
        "arr = []\n",
        "for _ in range(Total):\n",
        "  arr.append([0]*3)\n",
        "\n",
        "#ALMACENES\n",
        "coord_sx = coords_str['coordenada X']   \n",
        "coord_sy = coords_str['coordenada Y']\n",
        "\n",
        "#DELIVERY POINTS\n",
        "coord_dx = coords_dp['coordenada X']\n",
        "coord_dy = coords_dp['coordenada Y']\n",
        "\n",
        "\n",
        "#1's para Storages\n",
        "for i in range(len(coord_sx)):\n",
        "  arr.append([coord_sx[i], coord_sy[i], 1])\n",
        "\n",
        "\n",
        "#-1's para Delivery Points\n",
        "for i in range(len(coord_dx)):\n",
        "  arr.append([coord_dx[i], coord_dy[i], -1] )\n",
        "\n",
        "arr"
      ],
      "execution_count": null,
      "outputs": []
    },
    {
      "cell_type": "markdown",
      "metadata": {
        "id": "iXjTl-nFkBA4"
      },
      "source": [
        "# REPRESENTACION 3"
      ]
    },
    {
      "cell_type": "code",
      "metadata": {
        "id": "rn2xS7cdkDoP"
      },
      "source": [
        "def toPosition(x, y, n):\n",
        "  return x + y*n;\n",
        "\n",
        "def adjacents(x, y, n, st, dp):\n",
        "  dir = [-1]*4\n",
        "  coords = [[x-1, y],[x, y-1],[x+1, y],[x, y+1]]\n",
        "  for i, c in enumerate(coords):\n",
        "    if c in st or c in dp:\n",
        "      dir[i] = toPosition(c[0], c[1], n)\n",
        "  return dir"
      ],
      "execution_count": null,
      "outputs": []
    },
    {
      "cell_type": "code",
      "metadata": {
        "id": "9WRy-MdSkKjZ"
      },
      "source": [
        "def makeAdjList(st, dp, n):\n",
        "  ls = []\n",
        "  for x in range(n):\n",
        "    for y in range(n):\n",
        "      tp = 0\n",
        "      if [x,y] in st:\n",
        "        tp = 1        \n",
        "      if [x,y] in dp:\n",
        "        tp = 2\n",
        "      directions = adjacents(x, y, n, st, dp)\n",
        "      ls.append([tp,[x,y], directions])\n",
        "  return ls"
      ],
      "execution_count": null,
      "outputs": []
    },
    {
      "cell_type": "markdown",
      "metadata": {
        "id": "r84qU_Nelvqy"
      },
      "source": [
        "#REPRESENTACION 4"
      ]
    },
    {
      "cell_type": "code",
      "metadata": {
        "id": "epaM-RdPl0iZ"
      },
      "source": [
        "def toPosition(x, y, n):\n",
        "  return x + y*n;\n",
        "\n",
        "def adjacents(x, y, n):\n",
        "  dir = []\n",
        "  coords = [[x, y-1],[x-1, y],[x+1, y],[x, y+1]]\n",
        "  for c in coords:\n",
        "    if c[0] != -1 and c[0] != n and c[1] != -1 and c[1] != n:\n",
        "      dir.append(toPosition(c[0], c[1], n))\n",
        "  return dir"
      ],
      "execution_count": null,
      "outputs": []
    },
    {
      "cell_type": "code",
      "metadata": {
        "id": "AhZmoxgfl3sy"
      },
      "source": [
        "# st = data almacenes, sp = data puntos de entrega\n",
        "# n = tamaño de la matriz cuadrada\n",
        "def get_ls(st, dp, n):\n",
        "  ls = []\n",
        "  locals = []\n",
        "  for y in range(n): #Caso optimizado -> Y menor - al Y Mayor\n",
        "    for x in range(n): \n",
        "      tp = 0      \n",
        "      if [x,y] in st:\n",
        "        tp = 1        \n",
        "      if [x,y] in dp:\n",
        "        tp = 2\n",
        "      ls.append(adjacents(x, y, n))\n",
        "      locals.append(tp)\n",
        "  return ls, locals"
      ],
      "execution_count": null,
      "outputs": []
    },
    {
      "cell_type": "markdown",
      "metadata": {
        "id": "UVzJWBUA_yxS"
      },
      "source": [
        "## ZONA DE PRUBAS"
      ]
    },
    {
      "cell_type": "code",
      "metadata": {
        "id": "OyHFkuOqHX62"
      },
      "source": [
        "import random as rd\n",
        "\n",
        "points = []\n",
        "\n",
        "while len(points) < 15:\n",
        "  x = rd.randint(0,5)\n",
        "  y = rd.randint(0,5)\n",
        "  if [x, y] not in points:\n",
        "    points.append([x, y])"
      ],
      "execution_count": null,
      "outputs": []
    },
    {
      "cell_type": "code",
      "metadata": {
        "id": "Cj_tQVCZMmGF"
      },
      "source": [
        "entregas = points[0:5]\n",
        "almacenes = points[5:]"
      ],
      "execution_count": null,
      "outputs": []
    },
    {
      "cell_type": "code",
      "metadata": {
        "id": "FY4h8CYbPY1H"
      },
      "source": [
        "data_test = [[9,10], [17,18], [4,12], [1,2], [9,11]]"
      ],
      "execution_count": null,
      "outputs": []
    },
    {
      "cell_type": "code",
      "metadata": {
        "id": "akWHB7Tca1j2"
      },
      "source": [
        "st = [[1,5], [1,4], [2,6], [3,8], [4,8], [7,2], [8,3]]\n",
        "dp = [[1,1], [1,3], [3,4], [4,5], [5,2], [9,9]]"
      ],
      "execution_count": null,
      "outputs": []
    },
    {
      "cell_type": "code",
      "metadata": {
        "id": "MiagiI693nJs"
      },
      "source": [
        "import random as rd\n",
        "\n",
        "points = []\n",
        "\n",
        "while len(points) < 1500:\n",
        "  x = rd.randint(0,100)\n",
        "  y = rd.randint(0,100)\n",
        "  if [x, y] not in points:\n",
        "    points.append([x, y])\n",
        "\n",
        "entregas = points[0:1000]\n",
        "almacenes = points[1000:]"
      ],
      "execution_count": null,
      "outputs": []
    },
    {
      "cell_type": "code",
      "metadata": {
        "id": "FzHuaKAUKAgV"
      },
      "source": [
        "makeAdjList(almacenes, entregas, 100)"
      ],
      "execution_count": null,
      "outputs": []
    },
    {
      "cell_type": "code",
      "metadata": {
        "colab": {
          "base_uri": "https://localhost:8080/"
        },
        "id": "B6l7vi6dmCbK",
        "outputId": "12777a05-2ff3-43d7-82e7-b11503740392"
      },
      "source": [
        "almac = [[0,0],[2,1]]\n",
        "pts_entreg = [[1,0],[0,2]]\n",
        "\n",
        "ls,loc = get_ls(almac, pts_entreg, 3)\n",
        "\n",
        "print(ls)\n",
        "print(loc)"
      ],
      "execution_count": null,
      "outputs": [
        {
          "output_type": "stream",
          "name": "stdout",
          "text": [
            "[[1, 3], [0, 2, 4], [1, 5], [0, 4, 6], [1, 3, 5, 7], [2, 4, 8], [3, 7], [4, 6, 8], [5, 7]]\n",
            "[1, 2, 0, 0, 0, 1, 2, 0, 0]\n"
          ]
        }
      ]
    },
    {
      "cell_type": "markdown",
      "metadata": {
        "id": "Ezzu2eJQ_ENH"
      },
      "source": [
        "## REPRESENTACIÓN GRAFICA (Hito 2 - Dijkstra)"
      ]
    },
    {
      "cell_type": "code",
      "metadata": {
        "id": "s3tLiDPfECZW"
      },
      "source": [
        "def toListWithCosts(G):\n",
        "  new_list = []\n",
        "  for c in G:\n",
        "    l = []\n",
        "    for n in c:\n",
        "      l.append((n,1))\n",
        "    new_list.append(l)\n",
        "  return new_list"
      ],
      "execution_count": null,
      "outputs": []
    },
    {
      "cell_type": "code",
      "metadata": {
        "id": "hlcfYtjT4K8h"
      },
      "source": [
        "def dijkstra(G, s):\n",
        "  n = len(G)\n",
        "  visited = [False]*n\n",
        "  path = [None]*n\n",
        "  cost = [math.inf]*n\n",
        "  cost[s] = 0\n",
        "  queue = [(0, s)]\n",
        "  while queue:\n",
        "    g_u, u = hq.heappop(queue)\n",
        "    if not visited[u]:\n",
        "      visited[u] = True\n",
        "      for v, w in G[u]:\n",
        "        f = g_u + w\n",
        "        if f < cost[v]:\n",
        "          cost[v] = f\n",
        "          path[v] = u\n",
        "          hq.heappush(queue, (f, v))\n",
        "\n",
        "  return path, cost"
      ],
      "execution_count": null,
      "outputs": []
    },
    {
      "cell_type": "code",
      "metadata": {
        "id": "foyHnKxc4Pyp",
        "colab": {
          "base_uri": "https://localhost:8080/"
        },
        "outputId": "920ddbe1-f37d-4721-cfe2-72c52d2be088"
      },
      "source": [
        "almac = [[0,0],[2,1]]\n",
        "pts_entreg = [[1,0],[0,2]]\n",
        "\n",
        "ls, loc = get_ls(almac, pts_entreg, 4)\n",
        "G = toListWithCosts(ls)\n",
        "print(G)"
      ],
      "execution_count": null,
      "outputs": [
        {
          "output_type": "stream",
          "name": "stdout",
          "text": [
            "[[(1, 1), (4, 1)], [(0, 1), (2, 1), (5, 1)], [(1, 1), (3, 1), (6, 1)], [(2, 1), (7, 1)], [(0, 1), (5, 1), (8, 1)], [(1, 1), (4, 1), (6, 1), (9, 1)], [(2, 1), (5, 1), (7, 1), (10, 1)], [(3, 1), (6, 1), (11, 1)], [(4, 1), (9, 1), (12, 1)], [(5, 1), (8, 1), (10, 1), (13, 1)], [(6, 1), (9, 1), (11, 1), (14, 1)], [(7, 1), (10, 1), (15, 1)], [(8, 1), (13, 1)], [(9, 1), (12, 1), (14, 1)], [(10, 1), (13, 1), (15, 1)], [(11, 1), (14, 1)]]\n"
          ]
        }
      ]
    },
    {
      "cell_type": "code",
      "metadata": {
        "id": "Y6Ku0rCe4VZx",
        "colab": {
          "base_uri": "https://localhost:8080/",
          "height": 612
        },
        "outputId": "b061b06a-bfe7-45d9-d44f-17f6673711f8"
      },
      "source": [
        "path, cost = dijkstra(G, 5)\n",
        "print(path[:40])\n",
        "print(cost[:40])\n",
        "# path = [None, 0, None, 0, None, None, 3, None, None] -> 0\n",
        "# path = [None, 2, 5, 4, 5, None, 3, None, None]       -> 5\n",
        "adjlShow(G, weighted=True, path=path)"
      ],
      "execution_count": null,
      "outputs": [
        {
          "output_type": "stream",
          "name": "stdout",
          "text": [
            "[1, 5, 1, 2, 5, None, 5, 6, 4, 5, 6, 7, 8, 9, 10, 11]\n",
            "[2, 1, 2, 3, 1, 0, 1, 2, 2, 1, 2, 3, 3, 2, 3, 4]\n"
          ]
        },
        {
          "output_type": "execute_result",
          "data": {
            "text/plain": [
              "<graphviz.dot.Graph at 0x7f7a5f42a090>"
            ],
            "image/svg+xml": "<?xml version=\"1.0\" encoding=\"UTF-8\" standalone=\"no\"?>\n<!DOCTYPE svg PUBLIC \"-//W3C//DTD SVG 1.1//EN\"\n \"http://www.w3.org/Graphics/SVG/1.1/DTD/svg11.dtd\">\n<!-- Generated by graphviz version 2.40.1 (20161225.0304)\n -->\n<!-- Title: G Pages: 1 -->\n<svg width=\"428pt\" height=\"417pt\"\n viewBox=\"0.00 0.00 427.73 416.81\" xmlns=\"http://www.w3.org/2000/svg\" xmlns:xlink=\"http://www.w3.org/1999/xlink\">\n<g id=\"graph0\" class=\"graph\" transform=\"scale(1 1) rotate(0) translate(4 412.806)\">\n<title>G</title>\n<polygon fill=\"#ffffff\" stroke=\"transparent\" points=\"-4,4 -4,-412.806 423.7281,-412.806 423.7281,4 -4,4\"/>\n<!-- 0 -->\n<g id=\"node1\" class=\"node\">\n<title>0</title>\n<ellipse fill=\"none\" stroke=\"#ff4500\" cx=\"140.9464\" cy=\"-396.7852\" rx=\"15.6129\" ry=\"12.0417\"/>\n<text text-anchor=\"middle\" x=\"140.9464\" y=\"-394.8852\" font-family=\"monospace\" font-size=\"8.00\" fill=\"#7b68ee\">0</text>\n</g>\n<!-- 4 -->\n<g id=\"node5\" class=\"node\">\n<title>4</title>\n<ellipse fill=\"none\" stroke=\"#ff4500\" cx=\"225.7438\" cy=\"-361.1093\" rx=\"15.6129\" ry=\"12.0417\"/>\n<text text-anchor=\"middle\" x=\"225.7438\" y=\"-359.2093\" font-family=\"monospace\" font-size=\"8.00\" fill=\"#7b68ee\">4</text>\n</g>\n<!-- 0&#45;&#45;4 -->\n<g id=\"edge16\" class=\"edge\">\n<title>0&#45;&#45;4</title>\n<path fill=\"none\" stroke=\"#c0c0c0\" d=\"M154.949,-390.8941C170.7547,-384.2443 196.3041,-373.4951 212.0018,-366.8908\"/>\n<text text-anchor=\"middle\" x=\"179.4754\" y=\"-382.6924\" font-family=\"Times,serif\" font-size=\"14.00\" fill=\"#000000\">1</text>\n</g>\n<!-- 1 -->\n<g id=\"node2\" class=\"node\">\n<title>1</title>\n<ellipse fill=\"none\" stroke=\"#ff4500\" cx=\"96.9009\" cy=\"-315.9782\" rx=\"15.6129\" ry=\"12.0417\"/>\n<text text-anchor=\"middle\" x=\"96.9009\" y=\"-314.0782\" font-family=\"monospace\" font-size=\"8.00\" fill=\"#7b68ee\">1</text>\n</g>\n<!-- 1&#45;&#45;0 -->\n<g id=\"edge1\" class=\"edge\">\n<title>1&#45;&#45;0</title>\n<path fill=\"none\" stroke=\"#ffa500\" stroke-width=\"2\" d=\"M103.0252,-327.2141C109.9939,-339.999 121.5102,-361.1271 130.0266,-376.7515\"/>\n<polygon fill=\"#ffa500\" stroke=\"#ffa500\" stroke-width=\"2\" points=\"127.015,-378.5395 134.8741,-385.6448 133.1613,-375.1893 127.015,-378.5395\"/>\n</g>\n<!-- 2 -->\n<g id=\"node3\" class=\"node\">\n<title>2</title>\n<ellipse fill=\"none\" stroke=\"#ff4500\" cx=\"51.7028\" cy=\"-221.9121\" rx=\"15.6129\" ry=\"12.0417\"/>\n<text text-anchor=\"middle\" x=\"51.7028\" y=\"-220.0121\" font-family=\"monospace\" font-size=\"8.00\" fill=\"#7b68ee\">2</text>\n</g>\n<!-- 1&#45;&#45;2 -->\n<g id=\"edge3\" class=\"edge\">\n<title>1&#45;&#45;2</title>\n<path fill=\"none\" stroke=\"#ffa500\" stroke-width=\"2\" d=\"M91.3587,-304.4438C83.9315,-288.9863 70.6278,-261.2987 61.4929,-242.2872\"/>\n<polygon fill=\"#ffa500\" stroke=\"#ffa500\" stroke-width=\"2\" points=\"64.6348,-240.7447 57.1491,-233.247 58.3254,-243.7763 64.6348,-240.7447\"/>\n</g>\n<!-- 3 -->\n<g id=\"node4\" class=\"node\">\n<title>3</title>\n<ellipse fill=\"none\" stroke=\"#ff4500\" cx=\"15.5563\" cy=\"-137.102\" rx=\"15.6129\" ry=\"12.0417\"/>\n<text text-anchor=\"middle\" x=\"15.5563\" y=\"-135.202\" font-family=\"monospace\" font-size=\"8.00\" fill=\"#7b68ee\">3</text>\n</g>\n<!-- 2&#45;&#45;3 -->\n<g id=\"edge4\" class=\"edge\">\n<title>2&#45;&#45;3</title>\n<path fill=\"none\" stroke=\"#ffa500\" stroke-width=\"2\" d=\"M46.8279,-210.4743C41.1149,-197.0697 31.533,-174.5879 24.4783,-158.0354\"/>\n<polygon fill=\"#ffa500\" stroke=\"#ffa500\" stroke-width=\"2\" points=\"27.61,-156.4566 20.4694,-148.6295 21.1705,-159.2012 27.61,-156.4566\"/>\n</g>\n<!-- 6 -->\n<g id=\"node7\" class=\"node\">\n<title>6</title>\n<ellipse fill=\"none\" stroke=\"#ff4500\" cx=\"136.417\" cy=\"-179.2303\" rx=\"15.6129\" ry=\"12.0417\"/>\n<text text-anchor=\"middle\" x=\"136.417\" y=\"-177.3303\" font-family=\"monospace\" font-size=\"8.00\" fill=\"#7b68ee\">6</text>\n</g>\n<!-- 2&#45;&#45;6 -->\n<g id=\"edge17\" class=\"edge\">\n<title>2&#45;&#45;6</title>\n<path fill=\"none\" stroke=\"#c0c0c0\" d=\"M64.9394,-215.2431C80.8543,-207.2246 107.3999,-193.8501 123.2733,-185.8525\"/>\n<text text-anchor=\"middle\" x=\"90.1064\" y=\"-204.3478\" font-family=\"Times,serif\" font-size=\"14.00\" fill=\"#000000\">1</text>\n</g>\n<!-- 7 -->\n<g id=\"node8\" class=\"node\">\n<title>7</title>\n<ellipse fill=\"none\" stroke=\"#ff4500\" cx=\"96.5307\" cy=\"-92.8946\" rx=\"15.6129\" ry=\"12.0417\"/>\n<text text-anchor=\"middle\" x=\"96.5307\" y=\"-90.9946\" font-family=\"monospace\" font-size=\"8.00\" fill=\"#7b68ee\">7</text>\n</g>\n<!-- 3&#45;&#45;7 -->\n<g id=\"edge18\" class=\"edge\">\n<title>3&#45;&#45;7</title>\n<path fill=\"none\" stroke=\"#c0c0c0\" d=\"M28.5663,-129.9994C43.7664,-121.701 68.7497,-108.0615 83.82,-99.8339\"/>\n<text text-anchor=\"middle\" x=\"52.1932\" y=\"-118.7166\" font-family=\"Times,serif\" font-size=\"14.00\" fill=\"#000000\">1</text>\n</g>\n<!-- 8 -->\n<g id=\"node9\" class=\"node\">\n<title>8</title>\n<ellipse fill=\"none\" stroke=\"#ff4500\" cx=\"319.6719\" cy=\"-315.7781\" rx=\"15.6129\" ry=\"12.0417\"/>\n<text text-anchor=\"middle\" x=\"319.6719\" y=\"-313.8781\" font-family=\"monospace\" font-size=\"8.00\" fill=\"#7b68ee\">8</text>\n</g>\n<!-- 4&#45;&#45;8 -->\n<g id=\"edge8\" class=\"edge\">\n<title>4&#45;&#45;8</title>\n<path fill=\"none\" stroke=\"#ffa500\" stroke-width=\"2\" d=\"M239.2014,-354.6144C254.2672,-347.3434 278.9319,-335.4399 296.9897,-326.7248\"/>\n<polygon fill=\"#ffa500\" stroke=\"#ffa500\" stroke-width=\"2\" points=\"298.7545,-329.7595 306.2393,-322.2609 295.712,-323.4553 298.7545,-329.7595\"/>\n</g>\n<!-- 5 -->\n<g id=\"node6\" class=\"node\">\n<title>5</title>\n<ellipse fill=\"none\" stroke=\"#ff4500\" cx=\"183.2056\" cy=\"-276.037\" rx=\"15.6129\" ry=\"12.0417\"/>\n<text text-anchor=\"middle\" x=\"183.2056\" y=\"-274.137\" font-family=\"monospace\" font-size=\"8.00\" fill=\"#7b68ee\">5</text>\n</g>\n<!-- 5&#45;&#45;1 -->\n<g id=\"edge2\" class=\"edge\">\n<title>5&#45;&#45;1</title>\n<path fill=\"none\" stroke=\"#ffa500\" stroke-width=\"2\" d=\"M169.7205,-282.2778C156.2935,-288.4917 135.4392,-298.143 119.4831,-305.5273\"/>\n<polygon fill=\"#ffa500\" stroke=\"#ffa500\" stroke-width=\"2\" points=\"117.8966,-302.4048 110.2913,-309.7812 120.8366,-308.7575 117.8966,-302.4048\"/>\n</g>\n<!-- 5&#45;&#45;4 -->\n<g id=\"edge5\" class=\"edge\">\n<title>5&#45;&#45;4</title>\n<path fill=\"none\" stroke=\"#ffa500\" stroke-width=\"2\" d=\"M188.9425,-287.5102C195.7671,-301.1589 207.283,-324.1894 215.6176,-340.8579\"/>\n<polygon fill=\"#ffa500\" stroke=\"#ffa500\" stroke-width=\"2\" points=\"212.4949,-342.439 220.0978,-349.8178 218.7559,-339.3083 212.4949,-342.439\"/>\n</g>\n<!-- 5&#45;&#45;6 -->\n<g id=\"edge6\" class=\"edge\">\n<title>5&#45;&#45;6</title>\n<path fill=\"none\" stroke=\"#ffa500\" stroke-width=\"2\" d=\"M177.6546,-264.5519C169.9512,-248.6134 155.8927,-219.5261 146.3552,-199.7928\"/>\n<polygon fill=\"#ffa500\" stroke=\"#ffa500\" stroke-width=\"2\" points=\"149.4637,-198.181 141.9608,-190.7005 143.1612,-201.2272 149.4637,-198.181\"/>\n</g>\n<!-- 9 -->\n<g id=\"node10\" class=\"node\">\n<title>9</title>\n<ellipse fill=\"none\" stroke=\"#ff4500\" cx=\"280.1878\" cy=\"-229.4737\" rx=\"15.6129\" ry=\"12.0417\"/>\n<text text-anchor=\"middle\" x=\"280.1878\" y=\"-227.5737\" font-family=\"monospace\" font-size=\"8.00\" fill=\"#7b68ee\">9</text>\n</g>\n<!-- 5&#45;&#45;9 -->\n<g id=\"edge9\" class=\"edge\">\n<title>5&#45;&#45;9</title>\n<path fill=\"none\" stroke=\"#ffa500\" stroke-width=\"2\" d=\"M196.6906,-269.5626C212.4689,-261.987 238.8354,-249.3279 257.7198,-240.2611\"/>\n<polygon fill=\"#ffa500\" stroke=\"#ffa500\" stroke-width=\"2\" points=\"259.3175,-243.3766 266.8174,-235.8931 256.2877,-237.0662 259.3175,-243.3766\"/>\n</g>\n<!-- 6&#45;&#45;7 -->\n<g id=\"edge7\" class=\"edge\">\n<title>6&#45;&#45;7</title>\n<path fill=\"none\" stroke=\"#ffa500\" stroke-width=\"2\" d=\"M131.0377,-167.5867C124.6386,-153.7354 113.8406,-130.3628 106.0256,-113.4468\"/>\n<polygon fill=\"#ffa500\" stroke=\"#ffa500\" stroke-width=\"2\" points=\"109.1961,-111.9639 101.8247,-104.3538 102.8414,-114.8997 109.1961,-111.9639\"/>\n</g>\n<!-- 10 -->\n<g id=\"node11\" class=\"node\">\n<title>10</title>\n<ellipse fill=\"none\" stroke=\"#ff4500\" cx=\"233.4828\" cy=\"-132.5316\" rx=\"19.1842\" ry=\"12.0417\"/>\n<text text-anchor=\"middle\" x=\"233.4828\" y=\"-130.6316\" font-family=\"monospace\" font-size=\"8.00\" fill=\"#7b68ee\">10</text>\n</g>\n<!-- 6&#45;&#45;10 -->\n<g id=\"edge10\" class=\"edge\">\n<title>6&#45;&#45;10</title>\n<path fill=\"none\" stroke=\"#ffa500\" stroke-width=\"2\" d=\"M149.9136,-172.7371C165.1732,-165.3956 190.3277,-153.2937 209.0592,-144.2819\"/>\n<polygon fill=\"#ffa500\" stroke=\"#ffa500\" stroke-width=\"2\" points=\"210.6888,-147.382 218.1827,-139.8925 207.6539,-141.074 210.6888,-147.382\"/>\n</g>\n<!-- 11 -->\n<g id=\"node12\" class=\"node\">\n<title>11</title>\n<ellipse fill=\"none\" stroke=\"#ff4500\" cx=\"190.6134\" cy=\"-47.6687\" rx=\"19.1842\" ry=\"12.0417\"/>\n<text text-anchor=\"middle\" x=\"190.6134\" y=\"-45.7687\" font-family=\"monospace\" font-size=\"8.00\" fill=\"#7b68ee\">11</text>\n</g>\n<!-- 7&#45;&#45;11 -->\n<g id=\"edge11\" class=\"edge\">\n<title>7&#45;&#45;11</title>\n<path fill=\"none\" stroke=\"#ffa500\" stroke-width=\"2\" d=\"M110.0105,-86.4148C124.5866,-79.4081 148.133,-68.0892 166.0216,-59.4901\"/>\n<polygon fill=\"#ffa500\" stroke=\"#ffa500\" stroke-width=\"2\" points=\"167.7884,-62.5242 175.2847,-55.0372 164.7556,-56.2153 167.7884,-62.5242\"/>\n</g>\n<!-- 8&#45;&#45;9 -->\n<g id=\"edge19\" class=\"edge\">\n<title>8&#45;&#45;9</title>\n<path fill=\"none\" stroke=\"#c0c0c0\" d=\"M314.3469,-304.1387C306.769,-287.5749 292.9598,-257.3907 285.4285,-240.9287\"/>\n<text text-anchor=\"middle\" x=\"295.8877\" y=\"-276.3337\" font-family=\"Times,serif\" font-size=\"14.00\" fill=\"#000000\">1</text>\n</g>\n<!-- 12 -->\n<g id=\"node13\" class=\"node\">\n<title>12</title>\n<ellipse fill=\"none\" stroke=\"#ff4500\" cx=\"400.6362\" cy=\"-271.6944\" rx=\"19.1842\" ry=\"12.0417\"/>\n<text text-anchor=\"middle\" x=\"400.6362\" y=\"-269.7944\" font-family=\"monospace\" font-size=\"8.00\" fill=\"#7b68ee\">12</text>\n</g>\n<!-- 8&#45;&#45;12 -->\n<g id=\"edge12\" class=\"edge\">\n<title>8&#45;&#45;12</title>\n<path fill=\"none\" stroke=\"#ffa500\" stroke-width=\"2\" d=\"M332.6802,-308.6953C344.6342,-302.1866 362.6396,-292.3829 377.114,-284.5019\"/>\n<polygon fill=\"#ffa500\" stroke=\"#ffa500\" stroke-width=\"2\" points=\"378.9078,-287.5104 386.0167,-279.6545 375.5604,-281.3626 378.9078,-287.5104\"/>\n</g>\n<!-- 9&#45;&#45;10 -->\n<g id=\"edge20\" class=\"edge\">\n<title>9&#45;&#45;10</title>\n<path fill=\"none\" stroke=\"#c0c0c0\" d=\"M274.6467,-217.9725C265.7063,-199.4154 248.1904,-163.0592 239.1623,-144.3202\"/>\n<text text-anchor=\"middle\" x=\"252.9045\" y=\"-184.9463\" font-family=\"Times,serif\" font-size=\"14.00\" fill=\"#000000\">1</text>\n</g>\n<!-- 13 -->\n<g id=\"node14\" class=\"node\">\n<title>13</title>\n<ellipse fill=\"none\" stroke=\"#ff4500\" cx=\"365.0951\" cy=\"-186.8869\" rx=\"19.1842\" ry=\"12.0417\"/>\n<text text-anchor=\"middle\" x=\"365.0951\" y=\"-184.9869\" font-family=\"monospace\" font-size=\"8.00\" fill=\"#7b68ee\">13</text>\n</g>\n<!-- 9&#45;&#45;13 -->\n<g id=\"edge13\" class=\"edge\">\n<title>9&#45;&#45;13</title>\n<path fill=\"none\" stroke=\"#ffa500\" stroke-width=\"2\" d=\"M293.4546,-222.8195C306.1234,-216.4652 325.5133,-206.7399 340.9273,-199.0087\"/>\n<polygon fill=\"#ffa500\" stroke=\"#ffa500\" stroke-width=\"2\" points=\"342.5459,-202.1125 349.9153,-194.5006 339.4075,-195.8555 342.5459,-202.1125\"/>\n</g>\n<!-- 10&#45;&#45;11 -->\n<g id=\"edge21\" class=\"edge\">\n<title>10&#45;&#45;11</title>\n<path fill=\"none\" stroke=\"#c0c0c0\" d=\"M227.522,-120.7318C219.3316,-104.5185 204.6872,-75.5288 196.5236,-59.3683\"/>\n<text text-anchor=\"middle\" x=\"208.0228\" y=\"-93.8501\" font-family=\"Times,serif\" font-size=\"14.00\" fill=\"#000000\">1</text>\n</g>\n<!-- 14 -->\n<g id=\"node15\" class=\"node\">\n<title>14</title>\n<ellipse fill=\"none\" stroke=\"#ff4500\" cx=\"319.8948\" cy=\"-92.7896\" rx=\"19.1842\" ry=\"12.0417\"/>\n<text text-anchor=\"middle\" x=\"319.8948\" y=\"-90.8896\" font-family=\"monospace\" font-size=\"8.00\" fill=\"#7b68ee\">14</text>\n</g>\n<!-- 10&#45;&#45;14 -->\n<g id=\"edge14\" class=\"edge\">\n<title>10&#45;&#45;14</title>\n<path fill=\"none\" stroke=\"#ffa500\" stroke-width=\"2\" d=\"M248.9315,-125.4266C261.7543,-119.5292 280.2336,-111.0303 295.1202,-104.1838\"/>\n<polygon fill=\"#ffa500\" stroke=\"#ffa500\" stroke-width=\"2\" points=\"296.6657,-107.3254 304.2884,-99.9671 293.7408,-100.9658 296.6657,-107.3254\"/>\n</g>\n<!-- 15 -->\n<g id=\"node16\" class=\"node\">\n<title>15</title>\n<ellipse fill=\"none\" stroke=\"#ff4500\" cx=\"275.6697\" cy=\"-12.0208\" rx=\"19.1842\" ry=\"12.0417\"/>\n<text text-anchor=\"middle\" x=\"275.6697\" y=\"-10.1208\" font-family=\"monospace\" font-size=\"8.00\" fill=\"#7b68ee\">15</text>\n</g>\n<!-- 11&#45;&#45;15 -->\n<g id=\"edge15\" class=\"edge\">\n<title>11&#45;&#45;15</title>\n<path fill=\"none\" stroke=\"#ffa500\" stroke-width=\"2\" d=\"M206.6119,-40.9636C218.9673,-35.7853 236.2969,-28.5223 250.5049,-22.5676\"/>\n<polygon fill=\"#ffa500\" stroke=\"#ffa500\" stroke-width=\"2\" points=\"251.8732,-25.7892 259.743,-18.6958 249.1674,-19.3333 251.8732,-25.7892\"/>\n</g>\n<!-- 12&#45;&#45;13 -->\n<g id=\"edge22\" class=\"edge\">\n<title>12&#45;&#45;13</title>\n<path fill=\"none\" stroke=\"#c0c0c0\" d=\"M395.6944,-259.9023C388.9041,-243.6996 376.763,-214.7288 369.9949,-198.5789\"/>\n<text text-anchor=\"middle\" x=\"378.8446\" y=\"-233.0406\" font-family=\"Times,serif\" font-size=\"14.00\" fill=\"#000000\">1</text>\n</g>\n<!-- 13&#45;&#45;14 -->\n<g id=\"edge23\" class=\"edge\">\n<title>13&#45;&#45;14</title>\n<path fill=\"none\" stroke=\"#c0c0c0\" d=\"M359.5526,-175.3487C350.8775,-157.2889 334.1855,-122.5399 325.4826,-104.4221\"/>\n<text text-anchor=\"middle\" x=\"338.5176\" y=\"-143.6854\" font-family=\"Times,serif\" font-size=\"14.00\" fill=\"#000000\">1</text>\n</g>\n<!-- 14&#45;&#45;15 -->\n<g id=\"edge24\" class=\"edge\">\n<title>14&#45;&#45;15</title>\n<path fill=\"none\" stroke=\"#c0c0c0\" d=\"M313.5584,-81.2174C305.1512,-65.8633 290.3956,-38.9149 281.9944,-23.5715\"/>\n<text text-anchor=\"middle\" x=\"293.7764\" y=\"-56.1945\" font-family=\"Times,serif\" font-size=\"14.00\" fill=\"#000000\">1</text>\n</g>\n</g>\n</svg>\n"
          },
          "metadata": {},
          "execution_count": 11
        }
      ]
    },
    {
      "cell_type": "markdown",
      "metadata": {
        "id": "qw5YBHJs1nS5"
      },
      "source": [
        "# Dijkstra Alternativo"
      ]
    },
    {
      "cell_type": "code",
      "metadata": {
        "id": "VSDyzN781U7x"
      },
      "source": [
        "def dijkstraAlt(G, L, s):\n",
        "  n = len(G)\n",
        "  visited = [False]*n\n",
        "  path = [None]*n\n",
        "  cost = [math.inf]*n\n",
        "  cost[s] = 0\n",
        "  queue = [(0, s)]\n",
        "  while queue:\n",
        "    g_u, u = hq.heappop(queue)\n",
        "    if not visited[u]:\n",
        "      visited[u] = True\n",
        "      for v, w in G[u]:\n",
        "        f = g_u + w\n",
        "        if f < cost[v]:\n",
        "          cost[v] = f          \n",
        "          path[v] = u\n",
        "          hq.heappush(queue, (f, v))\n",
        "\n",
        "  min_path = [None]*n\n",
        "  for i, v in enumerate(L):\n",
        "      if v == 2:\n",
        "        min_path[i] = path[i]\n",
        "        m = path[i]\n",
        "        while m != s:          \n",
        "          min_path[m] = path[m]\n",
        "          m = path[m]\n",
        "\n",
        "  return min_path, cost"
      ],
      "execution_count": null,
      "outputs": []
    },
    {
      "cell_type": "code",
      "metadata": {
        "id": "SCW_Wb681cwI",
        "colab": {
          "base_uri": "https://localhost:8080/"
        },
        "outputId": "dddb6ac4-e7b8-4156-c065-4a291642ab95"
      },
      "source": [
        "almac = [[0,0],[2,1]]\n",
        "pts_entreg = [[1,0],[0,2]]\n",
        "\n",
        "ls, loc = get_ls(almac, pts_entreg, 3)\n",
        "G = toListWithCosts(ls)\n",
        "G, loc"
      ],
      "execution_count": null,
      "outputs": [
        {
          "output_type": "execute_result",
          "data": {
            "text/plain": [
              "([[(1, 1), (3, 1)],\n",
              "  [(0, 1), (2, 1), (4, 1)],\n",
              "  [(1, 1), (5, 1)],\n",
              "  [(0, 1), (4, 1), (6, 1)],\n",
              "  [(1, 1), (3, 1), (5, 1), (7, 1)],\n",
              "  [(2, 1), (4, 1), (8, 1)],\n",
              "  [(3, 1), (7, 1)],\n",
              "  [(4, 1), (6, 1), (8, 1)],\n",
              "  [(5, 1), (7, 1)]],\n",
              " [1, 2, 0, 0, 0, 1, 2, 0, 0])"
            ]
          },
          "metadata": {},
          "execution_count": 5
        }
      ]
    },
    {
      "cell_type": "code",
      "metadata": {
        "id": "_z_RL3yu1ion",
        "colab": {
          "base_uri": "https://localhost:8080/",
          "height": 536
        },
        "outputId": "a4932bfd-559f-4564-937c-7db236215ab4"
      },
      "source": [
        "path, cost = dijkstraAlt(G, loc, 5)\n",
        "print(path)\n",
        "print(cost)\n",
        "# path = [None, 0, None, 0, None, None, 3, None, None] -> 0\n",
        "# path = [None, 2, 5, 4, 5, None, 3, None, None]       -> 5\n",
        "adjlShow(G, weighted=True, path=path)"
      ],
      "execution_count": null,
      "outputs": [
        {
          "output_type": "stream",
          "name": "stdout",
          "text": [
            "[None, 2, 5, 4, 5, None, 3, None, None]\n",
            "[3, 2, 1, 2, 1, 0, 3, 2, 1]\n"
          ]
        },
        {
          "output_type": "execute_result",
          "data": {
            "text/plain": [
              "<graphviz.dot.Graph at 0x7ff7348970d0>"
            ],
            "image/svg+xml": "<?xml version=\"1.0\" encoding=\"UTF-8\" standalone=\"no\"?>\n<!DOCTYPE svg PUBLIC \"-//W3C//DTD SVG 1.1//EN\"\n \"http://www.w3.org/Graphics/SVG/1.1/DTD/svg11.dtd\">\n<!-- Generated by graphviz version 2.40.1 (20161225.0304)\n -->\n<!-- Title: G Pages: 1 -->\n<svg width=\"368pt\" height=\"360pt\"\n viewBox=\"0.00 0.00 367.60 359.90\" xmlns=\"http://www.w3.org/2000/svg\" xmlns:xlink=\"http://www.w3.org/1999/xlink\">\n<g id=\"graph0\" class=\"graph\" transform=\"scale(1 1) rotate(0) translate(4 355.9038)\">\n<title>G</title>\n<polygon fill=\"#ffffff\" stroke=\"transparent\" points=\"-4,4 -4,-355.9038 363.6016,-355.9038 363.6016,4 -4,4\"/>\n<!-- 0 -->\n<g id=\"node1\" class=\"node\">\n<title>0</title>\n<ellipse fill=\"none\" stroke=\"#ff4500\" cx=\"344.0452\" cy=\"-150.661\" rx=\"15.6129\" ry=\"12.0417\"/>\n<text text-anchor=\"middle\" x=\"344.0452\" y=\"-148.761\" font-family=\"monospace\" font-size=\"8.00\" fill=\"#7b68ee\">0</text>\n</g>\n<!-- 1 -->\n<g id=\"node2\" class=\"node\">\n<title>1</title>\n<ellipse fill=\"none\" stroke=\"#ff4500\" cx=\"251.4781\" cy=\"-78.1721\" rx=\"15.6129\" ry=\"12.0417\"/>\n<text text-anchor=\"middle\" x=\"251.4781\" y=\"-76.2721\" font-family=\"monospace\" font-size=\"8.00\" fill=\"#7b68ee\">1</text>\n</g>\n<!-- 0&#45;&#45;1 -->\n<g id=\"edge6\" class=\"edge\">\n<title>0&#45;&#45;1</title>\n<path fill=\"none\" stroke=\"#c0c0c0\" d=\"M333.063,-142.0609C315.2477,-128.1098 280.2521,-100.7049 262.4459,-86.761\"/>\n<text text-anchor=\"middle\" x=\"293.7545\" y=\"-118.2109\" font-family=\"Times,serif\" font-size=\"14.00\" fill=\"#000000\">1</text>\n</g>\n<!-- 3 -->\n<g id=\"node4\" class=\"node\">\n<title>3</title>\n<ellipse fill=\"none\" stroke=\"#ff4500\" cx=\"277.5719\" cy=\"-247.4405\" rx=\"15.6129\" ry=\"12.0417\"/>\n<text text-anchor=\"middle\" x=\"277.5719\" y=\"-245.5405\" font-family=\"monospace\" font-size=\"8.00\" fill=\"#7b68ee\">3</text>\n</g>\n<!-- 0&#45;&#45;3 -->\n<g id=\"edge7\" class=\"edge\">\n<title>0&#45;&#45;3</title>\n<path fill=\"none\" stroke=\"#c0c0c0\" d=\"M336.6774,-161.3879C323.8999,-179.9909 297.7732,-218.0292 284.9727,-236.6656\"/>\n<text text-anchor=\"middle\" x=\"306.8251\" y=\"-202.8267\" font-family=\"Times,serif\" font-size=\"14.00\" fill=\"#000000\">1</text>\n</g>\n<!-- 4 -->\n<g id=\"node5\" class=\"node\">\n<title>4</title>\n<ellipse fill=\"none\" stroke=\"#ff4500\" cx=\"179.8381\" cy=\"-175.8304\" rx=\"15.6129\" ry=\"12.0417\"/>\n<text text-anchor=\"middle\" x=\"179.8381\" y=\"-173.9304\" font-family=\"monospace\" font-size=\"8.00\" fill=\"#7b68ee\">4</text>\n</g>\n<!-- 1&#45;&#45;4 -->\n<g id=\"edge8\" class=\"edge\">\n<title>1&#45;&#45;4</title>\n<path fill=\"none\" stroke=\"#c0c0c0\" d=\"M243.5376,-88.9964C229.6941,-107.8676 201.3112,-146.5587 187.5964,-165.2545\"/>\n<text text-anchor=\"middle\" x=\"211.567\" y=\"-130.9254\" font-family=\"Times,serif\" font-size=\"14.00\" fill=\"#000000\">1</text>\n</g>\n<!-- 2 -->\n<g id=\"node3\" class=\"node\">\n<title>2</title>\n<ellipse fill=\"none\" stroke=\"#ff4500\" cx=\"154.2872\" cy=\"-12.0208\" rx=\"15.6129\" ry=\"12.0417\"/>\n<text text-anchor=\"middle\" x=\"154.2872\" y=\"-10.1208\" font-family=\"monospace\" font-size=\"8.00\" fill=\"#7b68ee\">2</text>\n</g>\n<!-- 2&#45;&#45;1 -->\n<g id=\"edge1\" class=\"edge\">\n<title>2&#45;&#45;1</title>\n<path fill=\"none\" stroke=\"#ffa500\" stroke-width=\"2\" d=\"M166.2047,-20.1323C182.4687,-31.2021 211.8372,-51.1912 231.4982,-64.5732\"/>\n<polygon fill=\"#ffa500\" stroke=\"#ffa500\" stroke-width=\"2\" points=\"229.5305,-67.4676 239.7667,-70.2009 233.4692,-61.6808 229.5305,-67.4676\"/>\n</g>\n<!-- 6 -->\n<g id=\"node7\" class=\"node\">\n<title>6</title>\n<ellipse fill=\"none\" stroke=\"#ff4500\" cx=\"205.1602\" cy=\"-339.8829\" rx=\"15.6129\" ry=\"12.0417\"/>\n<text text-anchor=\"middle\" x=\"205.1602\" y=\"-337.9829\" font-family=\"monospace\" font-size=\"8.00\" fill=\"#7b68ee\">6</text>\n</g>\n<!-- 3&#45;&#45;6 -->\n<g id=\"edge5\" class=\"edge\">\n<title>3&#45;&#45;6</title>\n<path fill=\"none\" stroke=\"#ffa500\" stroke-width=\"2\" d=\"M269.2654,-258.0449C257.1525,-273.5084 234.4687,-302.4671 219.5905,-321.4609\"/>\n<polygon fill=\"#ffa500\" stroke=\"#ffa500\" stroke-width=\"2\" points=\"216.7811,-319.3716 213.3699,-329.4023 222.2918,-323.6882 216.7811,-319.3716\"/>\n</g>\n<!-- 4&#45;&#45;3 -->\n<g id=\"edge3\" class=\"edge\">\n<title>4&#45;&#45;3</title>\n<path fill=\"none\" stroke=\"#ffa500\" stroke-width=\"2\" d=\"M191.4333,-184.3262C207.8183,-196.3316 237.9674,-218.4221 257.8945,-233.0228\"/>\n<polygon fill=\"#ffa500\" stroke=\"#ffa500\" stroke-width=\"2\" points=\"255.8567,-235.8686 265.9918,-238.9558 259.994,-230.2221 255.8567,-235.8686\"/>\n</g>\n<!-- 7 -->\n<g id=\"node8\" class=\"node\">\n<title>7</title>\n<ellipse fill=\"none\" stroke=\"#ff4500\" cx=\"108.0851\" cy=\"-273.557\" rx=\"15.6129\" ry=\"12.0417\"/>\n<text text-anchor=\"middle\" x=\"108.0851\" y=\"-271.657\" font-family=\"monospace\" font-size=\"8.00\" fill=\"#7b68ee\">7</text>\n</g>\n<!-- 4&#45;&#45;7 -->\n<g id=\"edge9\" class=\"edge\">\n<title>4&#45;&#45;7</title>\n<path fill=\"none\" stroke=\"#c0c0c0\" d=\"M172.1593,-186.2888C158.4212,-205 129.7808,-244.0077 115.9262,-262.8774\"/>\n<text text-anchor=\"middle\" x=\"140.0427\" y=\"-228.3831\" font-family=\"Times,serif\" font-size=\"14.00\" fill=\"#000000\">1</text>\n</g>\n<!-- 5 -->\n<g id=\"node6\" class=\"node\">\n<title>5</title>\n<ellipse fill=\"none\" stroke=\"#ff4500\" cx=\"81.9439\" cy=\"-104.4241\" rx=\"15.6129\" ry=\"12.0417\"/>\n<text text-anchor=\"middle\" x=\"81.9439\" y=\"-102.5241\" font-family=\"monospace\" font-size=\"8.00\" fill=\"#7b68ee\">5</text>\n</g>\n<!-- 5&#45;&#45;2 -->\n<g id=\"edge2\" class=\"edge\">\n<title>5&#45;&#45;2</title>\n<path fill=\"none\" stroke=\"#ffa500\" stroke-width=\"2\" d=\"M90.2426,-93.8243C102.344,-78.3673 125.0064,-49.4208 139.8705,-30.4351\"/>\n<polygon fill=\"#ffa500\" stroke=\"#ffa500\" stroke-width=\"2\" points=\"142.6765,-32.5286 146.0852,-22.497 137.1648,-28.2133 142.6765,-32.5286\"/>\n</g>\n<!-- 5&#45;&#45;4 -->\n<g id=\"edge4\" class=\"edge\">\n<title>5&#45;&#45;4</title>\n<path fill=\"none\" stroke=\"#ffa500\" stroke-width=\"2\" d=\"M93.5581,-112.8957C109.97,-124.867 140.1686,-146.8945 160.1284,-161.4537\"/>\n<polygon fill=\"#ffa500\" stroke=\"#ffa500\" stroke-width=\"2\" points=\"158.0974,-164.3043 168.2391,-167.3698 162.2225,-158.649 158.0974,-164.3043\"/>\n</g>\n<!-- 8 -->\n<g id=\"node9\" class=\"node\">\n<title>8</title>\n<ellipse fill=\"none\" stroke=\"#ff4500\" cx=\"15.5563\" cy=\"-201.3188\" rx=\"15.6129\" ry=\"12.0417\"/>\n<text text-anchor=\"middle\" x=\"15.5563\" y=\"-199.4188\" font-family=\"monospace\" font-size=\"8.00\" fill=\"#7b68ee\">8</text>\n</g>\n<!-- 5&#45;&#45;8 -->\n<g id=\"edge10\" class=\"edge\">\n<title>5&#45;&#45;8</title>\n<path fill=\"none\" stroke=\"#c0c0c0\" d=\"M74.5856,-115.1637C61.8246,-133.7889 35.7316,-171.8725 22.9476,-190.5311\"/>\n<text text-anchor=\"middle\" x=\"44.7666\" y=\"-156.6474\" font-family=\"Times,serif\" font-size=\"14.00\" fill=\"#000000\">1</text>\n</g>\n<!-- 6&#45;&#45;7 -->\n<g id=\"edge11\" class=\"edge\">\n<title>6&#45;&#45;7</title>\n<path fill=\"none\" stroke=\"#c0c0c0\" d=\"M193.2569,-331.7501C174.5243,-318.9512 138.3867,-294.2604 119.7825,-281.5492\"/>\n<text text-anchor=\"middle\" x=\"152.5197\" y=\"-310.4496\" font-family=\"Times,serif\" font-size=\"14.00\" fill=\"#000000\">1</text>\n</g>\n<!-- 7&#45;&#45;8 -->\n<g id=\"edge12\" class=\"edge\">\n<title>7&#45;&#45;8</title>\n<path fill=\"none\" stroke=\"#c0c0c0\" d=\"M97.1074,-264.9866C79.2995,-251.0838 44.3185,-223.7737 26.5197,-209.878\"/>\n<text text-anchor=\"middle\" x=\"57.8136\" y=\"-241.2323\" font-family=\"Times,serif\" font-size=\"14.00\" fill=\"#000000\">1</text>\n</g>\n</g>\n</svg>\n"
          },
          "metadata": {},
          "execution_count": 8
        }
      ]
    },
    {
      "cell_type": "markdown",
      "metadata": {
        "id": "2_56UR1JIr5f"
      },
      "source": [
        "# Hito 3"
      ]
    },
    {
      "cell_type": "code",
      "metadata": {
        "id": "lra02xGYIp-n"
      },
      "source": [
        "# Fuerza Bruta\n",
        "def distance(st, dev):\n",
        "  return abs(st[0]-dev[0])  + abs(st[1]-dev[1])\n",
        "\n",
        "\n",
        "def clustering(almacenes, pnts_entrega):\n",
        "  clusters = []\n",
        "\n",
        "  for points in pnts_entrega:\n",
        "    store = []\n",
        "    a = math.inf\n",
        "    x = []\n",
        "    for strs in almacenes:      \n",
        "      b = distance(points, strs) \n",
        "      if b < a:\n",
        "        a = b\n",
        "        x = points\n",
        "    \n",
        "    store.append(x)\n",
        "    clusters.append(store)"
      ],
      "execution_count": null,
      "outputs": []
    },
    {
      "cell_type": "markdown",
      "metadata": {
        "id": "KJ9ou8RH3l5q"
      },
      "source": [
        "BFS(Sebastian Gonzales)"
      ]
    },
    {
      "cell_type": "code",
      "metadata": {
        "id": "qynfxqhp3gJj"
      },
      "source": [
        "def bfs(G, s):\n",
        "  n = len(G)\n",
        "  visited = [False]*n\n",
        "  parent = [None]*n\n",
        "  queue = [s]\n",
        "  visited[s] = True\n",
        "\n",
        "  while queue:\n",
        "    u = queue.pop(0)\n",
        "    for v in G[u]:\n",
        "      if not visited[v]:\n",
        "        visited[v] = True\n",
        "        parent[v] = u\n",
        "        queue.append(v)\n",
        "\n",
        "  return parent\n",
        "  "
      ],
      "execution_count": null,
      "outputs": []
    },
    {
      "cell_type": "code",
      "metadata": {
        "id": "IrLUsb9O4s94"
      },
      "source": [
        "def bfs2(G, s):\n",
        "  n = len(G)          #2\n",
        "  visited = [False]*n #1\n",
        "  parent = [None]*n   #1\n",
        "  queue = [s]         #1\n",
        "  visited[s] = True   #2\n",
        "  count = 0\n",
        "  \n",
        "\n",
        "\n",
        "  while queue:              #V * (        ---------------------->  O(V)\n",
        "    u = queue.pop(0)          #2 +\n",
        "    for v in G[u]:            #A (        ---------->A(6)--------> O(A)\n",
        "      if not visited[v]:          #1 + (\n",
        "        visited[v] = True           #2\n",
        "        parent[v] = u               #2\n",
        "        queue.append(v)             #1))\n",
        "      #for n in visited:                                 # En caso hallan muchos puntos de entrega como en nuestro caso se debe iterar la verificacion\n",
        "      if (visited[3] == True and visited[9] == True ):   # Verifica que se hallan visitado los vertices de puntos de entrega\n",
        "        return parent\n",
        "\n",
        "  #Por lo cual :O(V+A)\n",
        "\n",
        "  return parent"
      ],
      "execution_count": null,
      "outputs": []
    },
    {
      "cell_type": "markdown",
      "metadata": {
        "id": "ScjqnQNDQEP8"
      },
      "source": [
        "Jorge Sánchez"
      ]
    },
    {
      "cell_type": "code",
      "metadata": {
        "id": "RJs6a0Lp4YDS"
      },
      "source": [
        "# O(n^2 log n), pues los 'for' no dependen uno del otro\n",
        "def floydWarshall(G):\n",
        "  n = len(G)\n",
        "\n",
        "  cost = [[float('inf')]*n for _ in range(n)] # crea matriz, n  es numero de filas y por cada uno hay un arreglo con n elementos infinitos\n",
        "  path = [[-1]*n for _ in range(n)] # lo mismo, pero con -1 en vez de infinitos\n",
        "\n",
        "\n",
        "  for u in range(n): # armas la matriz inicial, 0 si fila == columna, peso si hay llegada directa a ese nodo, y inf si no hay\n",
        "    cost[u][u] = 0\n",
        "    for v, w in G[u]:\n",
        "      cost[u][v] = w\n",
        "      path[u][v] = u\n",
        "\n",
        "  for k in range(n): #COLUMNA\n",
        "    for i in range(n): #FILA\n",
        "      if i == k: continue\n",
        "      for j in range(n): # columna iterativa\n",
        "        if i == j or j == k: continue\n",
        "        f = cost[i][k] + cost[k][j]\n",
        "        if f < cost[i][j]: # si el costo es menor\n",
        "          cost[i][j] = f   # lo remplazas\n",
        "          path[i][j] = path[k][j] # agaregas el ultimo camino\n",
        "\n",
        "  return path, cost"
      ],
      "execution_count": null,
      "outputs": []
    },
    {
      "cell_type": "markdown",
      "metadata": {
        "id": "vxmwjBMMREtA"
      },
      "source": [
        "### Hugo Quispe Chavez (Bellman Ford)"
      ]
    },
    {
      "cell_type": "markdown",
      "metadata": {
        "id": "W3H7GIrdRVkw"
      },
      "source": [
        "Es un algoritmo para grafos cíclicos y su peculiaridad es que funciona para aristas negativas (caminos con valor negativo)\n",
        "\n",
        "Si este algoritmo encuentra ciclos alcanzables para el origen, lanza un mensaje que no es posible hallar un SP."
      ]
    },
    {
      "cell_type": "code",
      "metadata": {
        "id": "CK_8hHYD8PT5"
      },
      "source": [
        "def bellmanFord(G, s):\n",
        "  n = len(G)                # Del arreglo que obtuviste de los parametros sacas su tamaño\n",
        "  cost = [float('inf')]*n   # creas un arreglo vacio con valores super altos con tamaño de n\n",
        "  cost[s] = 0               # en la pos de S le das costo 0 para que inicie de ahi\n",
        "  path = [-1]*n             # y un arreglo de caminos con valor -1 para poder almacenar los \n",
        "                                # valores reales de los nodos.\n",
        "\n",
        "  for _ in range(n-1):      # crear un for para recorrer el arreglo\n",
        "    for u in range(n):      # para recorrer los nodos del arreglo\n",
        "      for v, w in G[u]:     # para obtener los valores de los nodos (nodo, valor)\n",
        "        if cost[u] + w < cost[v]: # condicional para ver si el peso supera o no al otro camino de v\n",
        "          cost[v] = cost[u] + w   # si es asi... actualiza el costo\n",
        "          path[v] = u             # y actualiza al padre\n",
        "\n",
        "  for u in range(n):              # este for es para ver si tiene caminos negativos\n",
        "    for v, w in G[u]:             # para obterner los valores de los nodos\n",
        "      if cost[u] + w < cost[v]:   # si ese canimo es mayor o no\n",
        "        return None, None         # retorna el none para decir que no es posible\n",
        "\n",
        "  return path, cost               # retorna el path y cost"
      ],
      "execution_count": null,
      "outputs": []
    }
  ]
}