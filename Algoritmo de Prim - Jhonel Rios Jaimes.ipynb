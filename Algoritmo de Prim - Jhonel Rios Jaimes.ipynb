{
  "nbformat": 4,
  "nbformat_minor": 0,
  "metadata": {
    "colab": {
      "name": "Algoritmo de Prim- Jhonel Rios Jaimes.ipynb",
      "provenance": [],
      "collapsed_sections": []
    },
    "kernelspec": {
      "name": "python3",
      "display_name": "Python 3"
    },
    "language_info": {
      "name": "python"
    }
  },
  "cells": [
    {
      "cell_type": "code",
      "metadata": {
        "id": "bC-LxrC5z97V"
      },
      "source": [
        "import graphviz as gv #Graficos\n",
        "import numpy as np\n",
        "import heapq as hq\n",
        "import pandas as pd #Leer CSV\n",
        "import matplotlib.pyplot as plt # Gragicos final\n",
        "import math as math #Operaciones matematicas\n",
        "from timeit import timeit\n",
        "\n",
        "def readAdjl(fn, haslabels=False, weighted=False, sep=\"|\"):\n",
        "  with open(fn) as f:\n",
        "    labels = None\n",
        "    if haslabels:\n",
        "      labels = f.readline().strip().split()\n",
        "    L = []\n",
        "    for line in f:\n",
        "      if weighted:\n",
        "        L.append([tuple(map(int, p.split(sep))) for p in line.strip().split()])\n",
        "        # line => \"1|3 2|5 4|4\" ==> [(1, 3), (2, 5), (4, 4)]\n",
        "      else: \n",
        "        L.append(list(map(int, line.strip().split()))) # \"1 3 5\" => [1, 3, 5]\n",
        "        # L.append([int(x) for x in line.strip().split()])\n",
        "  return L, labels\n",
        "\n",
        "def adjlShow(L, labels=None, directed=False, weighted=False, path=[],\n",
        "             layout=\"sfdp\"):\n",
        "  g = gv.Digraph(\"G\") if directed else gv.Graph(\"G\")\n",
        "  g.graph_attr[\"layout\"] = layout\n",
        "  g.edge_attr[\"color\"] = \"gray\"\n",
        "  g.node_attr[\"color\"] = \"orangered\"\n",
        "  g.node_attr[\"width\"] = \"0.1\"\n",
        "  g.node_attr[\"height\"] = \"0.1\"\n",
        "  g.node_attr[\"fontsize\"] = \"8\"\n",
        "  g.node_attr[\"fontcolor\"] = \"mediumslateblue\"\n",
        "  g.node_attr[\"fontname\"] = \"monospace\"\n",
        "  n = len(L)\n",
        "  for u in range(n):\n",
        "    g.node(str(u), labels[u] if labels else str(u))\n",
        "  added = set()\n",
        "  for v, u in enumerate(path):\n",
        "    if u != None:\n",
        "      g.edge(str(u), str(v), dir=\"forward\", penwidth=\"2\", color=\"orange\")\n",
        "      added.add(f\"{u},{v}\")\n",
        "      added.add(f\"{v},{u}\")\n",
        "  if weighted:\n",
        "    for u in range(n):\n",
        "      for v, w in L[u]:\n",
        "        if not directed and not f\"{u},{v}\" in added:\n",
        "          added.add(f\"{u},{v}\")\n",
        "          added.add(f\"{v},{u}\")\n",
        "          g.edge(str(u), str(v), str(w))\n",
        "        elif directed:\n",
        "          g.edge(str(u), str(v), str(w))\n",
        "  else:\n",
        "    for u in range(n):\n",
        "      for v in L[u]:\n",
        "        if not directed and not f\"{u},{v}\" in added:\n",
        "          added.add(f\"{u},{v}\")\n",
        "          added.add(f\"{v},{u}\")\n",
        "          g.edge(str(u), str(v))\n",
        "        elif directed:\n",
        "          g.edge(str(u), str(v))\n",
        "  return g"
      ],
      "execution_count": null,
      "outputs": []
    },
    {
      "cell_type": "code",
      "metadata": {
        "id": "h9ZIRR0p0GWD"
      },
      "source": [
        "%%file 1.in\n",
        "1|4 7|8 14|3\n",
        "2|7 5|7\n",
        "5|4 1|7 3|5 6|1\n",
        "2|5\n",
        "7|7\n",
        "1|7 6|1 8|5\n",
        "2|1 5|1\n",
        "0|8 4|7 8|8\n",
        "5|5 7|8 9|8 11|9 12|6\n",
        "8|8 10|8 12|9 13|7\n",
        "9|8 13|3\n",
        "8|9\n",
        "8|6 9|9 13|2 15|5\n",
        "9|7 10|13 12|2 16|9\n",
        "0|3 15|9\n",
        "12|5 14|9 17|7\n",
        "13|9 17|8\n",
        "15|7 16|8"
      ],
      "execution_count": null,
      "outputs": []
    },
    {
      "cell_type": "code",
      "metadata": {
        "id": "IFyFauRO0J_y"
      },
      "source": [
        "G, _ = readAdjl(\"1.in\", weighted=True)\n",
        "for i, edges in enumerate(G):\n",
        "  print(f\"{i:2}: {edges}\")\n",
        "adjlShow(G, weighted=True)"
      ],
      "execution_count": null,
      "outputs": []
    },
    {
      "cell_type": "markdown",
      "metadata": {
        "id": "bCYLt14n7pY0"
      },
      "source": [
        "# Analisis de complejidad\n",
        "El bucle principal se ejecuta n veces hasta haber recorrido todo el grafo, en cada iteración cada bucle interior toma O(n), por lo tanto el tiempo de ejecución del algoritmo de PRIM es de O(n^2) ."
      ]
    },
    {
      "cell_type": "code",
      "metadata": {
        "id": "aeAVLdoJ0MRp"
      },
      "source": [
        "import math\n",
        "import heapq as hq\n",
        "\n",
        "def prim(G):\n",
        "  n = len(G)                                    # 1\n",
        "  visited = [False]*n                           # 1\n",
        "  path = [-1]*n                                 # 1\n",
        "  cost = [math.inf]*n                           # 1\n",
        "  q = [(0, 0)]                                  # 1\n",
        "  while q:                                      # n * (...\n",
        "    _, u = hq.heappop(q)                            # 2\n",
        "    if not visited[u]:                              # O(n)\n",
        "      visited[u] = True                                 # 2\n",
        "      for v, w in G[u]:                                 # n * (...\n",
        "        if not visited[v] and w < cost[v]:              # 2\n",
        "          cost[v] = w                                       # 2\n",
        "          path[v] = u                                       # 2\n",
        "          hq.heappush(q, (w, v))                            # 1\n",
        "\n",
        "  return path, cost"
      ],
      "execution_count": null,
      "outputs": []
    },
    {
      "cell_type": "code",
      "metadata": {
        "id": "eQ80krh88-mr"
      },
      "source": [
        ""
      ],
      "execution_count": null,
      "outputs": []
    }
  ]
}