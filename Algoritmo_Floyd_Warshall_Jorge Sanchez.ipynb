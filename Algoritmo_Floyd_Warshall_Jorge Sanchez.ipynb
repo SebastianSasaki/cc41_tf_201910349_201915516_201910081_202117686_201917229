{
  "nbformat": 4,
  "nbformat_minor": 0,
  "metadata": {
    "colab": {
      "name": "Floyd-Warshall",
      "provenance": [],
      "collapsed_sections": []
    },
    "kernelspec": {
      "name": "python3",
      "display_name": "Python 3"
    },
    "language_info": {
      "name": "python"
    }
  },
  "cells": [
    {
      "cell_type": "code",
      "metadata": {
        "id": "8zOmy8C2CPmZ"
      },
      "source": [
        "import graphviz as gv #Graficos\n",
        "import numpy as np\n",
        "import heapq as hq\n",
        "import pandas as pd #Leer CSV\n",
        "import matplotlib.pyplot as plt # Gragicos final\n",
        "import math as math #Operaciones matematicas\n",
        "\n",
        "def readAdjl(fn, haslabels=False, weighted=False, sep=\"|\"):\n",
        "  with open(fn) as f:\n",
        "    labels = None\n",
        "    if haslabels:\n",
        "      labels = f.readline().strip().split()\n",
        "    L = []\n",
        "    for line in f:\n",
        "      if weighted:\n",
        "        L.append([tuple(map(int, p.split(sep))) for p in line.strip().split()])\n",
        "        # line => \"1|3 2|5 4|4\" ==> [(1, 3), (2, 5), (4, 4)]\n",
        "      else: \n",
        "        L.append(list(map(int, line.strip().split()))) # \"1 3 5\" => [1, 3, 5]\n",
        "        # L.append([int(x) for x in line.strip().split()])\n",
        "  return L, labels\n",
        "\n",
        "def adjlShow(L, labels=None, directed=False, weighted=False, path=[],\n",
        "             layout=\"sfdp\"):\n",
        "  g = gv.Digraph(\"G\") if directed else gv.Graph(\"G\")\n",
        "  g.graph_attr[\"layout\"] = layout\n",
        "  g.edge_attr[\"color\"] = \"gray\"\n",
        "  g.node_attr[\"color\"] = \"orangered\"\n",
        "  g.node_attr[\"width\"] = \"0.1\"\n",
        "  g.node_attr[\"height\"] = \"0.1\"\n",
        "  g.node_attr[\"fontsize\"] = \"8\"\n",
        "  g.node_attr[\"fontcolor\"] = \"mediumslateblue\"\n",
        "  g.node_attr[\"fontname\"] = \"monospace\"\n",
        "  n = len(L)\n",
        "  for u in range(n):\n",
        "    g.node(str(u), labels[u] if labels else str(u))\n",
        "  added = set()\n",
        "  for v, u in enumerate(path):\n",
        "    if u != None:\n",
        "      g.edge(str(u), str(v), dir=\"forward\", penwidth=\"2\", color=\"orange\")\n",
        "      added.add(f\"{u},{v}\")\n",
        "      added.add(f\"{v},{u}\")\n",
        "  if weighted:\n",
        "    for u in range(n):\n",
        "      for v, w in L[u]:\n",
        "        if not directed and not f\"{u},{v}\" in added:\n",
        "          added.add(f\"{u},{v}\")\n",
        "          added.add(f\"{v},{u}\")\n",
        "          g.edge(str(u), str(v), str(w))\n",
        "        elif directed:\n",
        "          g.edge(str(u), str(v), str(w))\n",
        "  else:\n",
        "    for u in range(n):\n",
        "      for v in L[u]:\n",
        "        if not directed and not f\"{u},{v}\" in added:\n",
        "          added.add(f\"{u},{v}\")\n",
        "          added.add(f\"{v},{u}\")\n",
        "          g.edge(str(u), str(v))\n",
        "        elif directed:\n",
        "          g.edge(str(u), str(v))\n",
        "  return g"
      ],
      "execution_count": 1,
      "outputs": []
    },
    {
      "cell_type": "markdown",
      "metadata": {
        "id": "NCVKYzyOjV_m"
      },
      "source": [
        "Vamos a analizar el código del Algoritmo Floyd Warshall para aproximar los tiempos que tendría para hallar la ruta mas corta de los almacenes hacia los puntos de entrega en el trabajo final. -> O(n^2 log n)"
      ]
    },
    {
      "cell_type": "code",
      "metadata": {
        "id": "lYQ6hT0RCYPy"
      },
      "source": [
        "# O(n^2 log n), pues los 'for' no dependen uno del otro\n",
        "def floydWarshall(G, places):\n",
        "  n = len(G) # 2\n",
        "  min_path = [] # 1\n",
        "\n",
        "  cost = [[float('inf')]*n for _ in range(n)] # crea matriz, n  es numero de filas y por cada uno hay un arreglo con n elementos infinitos\n",
        "  path = [[-1]*n for _ in range(n)] # lo mismo, pero con -1 en vez de infinitos\n",
        "\n",
        "\n",
        "  for u in range(n): # armas la matriz inicial, 0 si fila == columna, el peso si hay llegada directa a ese nodo, y inf si no hay # n\n",
        "    cost[u][u] = 0 # 2 + 2\n",
        "    for v, w in G[u]: # n*n\n",
        "      cost[u][v] = w # 2\n",
        "      path[u][v] = u # 2\n",
        "\n",
        "  for k in range(n): #COLUMNA # n\n",
        "    for i in range(n): #FILA # n * n\n",
        "      if i == k: continue # 1\n",
        "      for j in range(n): # columna iterativa # n * n * log n\n",
        "        if i == j or j == k: continue # 2\n",
        "        f = cost[i][k] + cost[k][j] # 4\n",
        "        if f < cost[i][j]: # si el costo es menor # 2\n",
        "          cost[i][j] = f   # lo remplazas # 2\n",
        "          path[i][j] = path[k][j] # agaregas el ultimo camino # 3\n",
        "  \n",
        "  for i, v in enumerate(places): # n\n",
        "    if v == 2: # si es un almacen # 1\n",
        "      min_path.append(path[i]) # agregar a la lista\n",
        "\n",
        "  return min_path, cost"
      ],
      "execution_count": 23,
      "outputs": []
    },
    {
      "cell_type": "code",
      "metadata": {
        "id": "KSTSYJe_EcVG"
      },
      "source": [
        "# Matriz de prueba y locales de prueba\n",
        "matriz = [[[0,0],[1,2],[2,1], [4, 3]],\n",
        "          [[1, 0], [3, 4]],\n",
        "          [[1, 1], [2, 0], [4, 1]],\n",
        "          [[0, 1], [2, 3], [3, 0], [4, 5]],\n",
        "          [[4, 0]]]\n",
        "\n",
        "# 2 = almacen, 1 = punto de entrega\n",
        "locals = [0, 1, 1, 2, 0]"
      ],
      "execution_count": 26,
      "outputs": []
    },
    {
      "cell_type": "markdown",
      "metadata": {
        "id": "Gcs2yuRbljU5"
      },
      "source": [
        "El camino que retorna el algoritmo es la ruta que sigue aquellos nodos que son un almacén"
      ]
    },
    {
      "cell_type": "code",
      "metadata": {
        "colab": {
          "base_uri": "https://localhost:8080/"
        },
        "id": "fChvL-2-D6tu",
        "outputId": "1ce2bf58-144f-4c05-cec8-99964e1d1aab"
      },
      "source": [
        "p, c = floydWarshall(matriz, locals)\n",
        "print(p)\n",
        "print(c)"
      ],
      "execution_count": 36,
      "outputs": [
        {
          "output_type": "stream",
          "name": "stdout",
          "text": [
            "[[3, 0, 0, 3, 2]]\n",
            "[[0, 2, 1, 6, 2], [5, 0, 6, 4, 7], [6, 1, 0, 5, 1], [1, 3, 2, 0, 3], [inf, inf, inf, inf, 0]]\n"
          ]
        }
      ]
    },
    {
      "cell_type": "markdown",
      "metadata": {
        "id": "2pRVelS7mw1X"
      },
      "source": [
        "![fw_inicial](https://i.postimg.cc/MTxQCSGH/fw-inicio.png)\n",
        "![fw_final](https://i.postimg.cc/KcfPyRB2/fw-fin.png)\n"
      ]
    },
    {
      "cell_type": "code",
      "metadata": {
        "colab": {
          "base_uri": "https://localhost:8080/",
          "height": 316
        },
        "id": "Jys07UqXTsCd",
        "outputId": "6fec2976-646d-49fa-d3cb-67f616de6676"
      },
      "source": [
        "adjlShow(matriz, weighted=c, path=p[0])"
      ],
      "execution_count": 31,
      "outputs": [
        {
          "output_type": "execute_result",
          "data": {
            "text/plain": [
              "<graphviz.dot.Graph at 0x7f2c7e30d390>"
            ],
            "image/svg+xml": "<?xml version=\"1.0\" encoding=\"UTF-8\" standalone=\"no\"?>\n<!DOCTYPE svg PUBLIC \"-//W3C//DTD SVG 1.1//EN\"\n \"http://www.w3.org/Graphics/SVG/1.1/DTD/svg11.dtd\">\n<!-- Generated by graphviz version 2.40.1 (20161225.0304)\n -->\n<!-- Title: G Pages: 1 -->\n<svg width=\"351pt\" height=\"221pt\"\n viewBox=\"0.00 0.00 350.80 221.39\" xmlns=\"http://www.w3.org/2000/svg\" xmlns:xlink=\"http://www.w3.org/1999/xlink\">\n<g id=\"graph0\" class=\"graph\" transform=\"scale(1 1) rotate(0) translate(4 217.3929)\">\n<title>G</title>\n<polygon fill=\"#ffffff\" stroke=\"transparent\" points=\"-4,4 -4,-217.3929 346.7975,-217.3929 346.7975,4 -4,4\"/>\n<!-- 0 -->\n<g id=\"node1\" class=\"node\">\n<title>0</title>\n<ellipse fill=\"none\" stroke=\"#ff4500\" cx=\"148.1429\" cy=\"-201.3721\" rx=\"15.6129\" ry=\"12.0417\"/>\n<text text-anchor=\"middle\" x=\"148.1429\" y=\"-199.4721\" font-family=\"monospace\" font-size=\"8.00\" fill=\"#7b68ee\">0</text>\n</g>\n<!-- 0&#45;&#45;0 -->\n<g id=\"edge6\" class=\"edge\">\n<title>0&#45;&#45;0</title>\n<path fill=\"none\" stroke=\"#c0c0c0\" d=\"M161.9305,-207.3953C171.8342,-209.3564 181.6993,-207.3487 181.6993,-201.3721 181.6993,-195.3955 171.8342,-193.3878 161.9305,-195.3488\"/>\n<text text-anchor=\"middle\" x=\"185.6993\" y=\"-197.6721\" font-family=\"Times,serif\" font-size=\"14.00\" fill=\"#000000\">0</text>\n</g>\n<!-- 1 -->\n<g id=\"node2\" class=\"node\">\n<title>1</title>\n<ellipse fill=\"none\" stroke=\"#ff4500\" cx=\"15.5563\" cy=\"-106.8924\" rx=\"15.6129\" ry=\"12.0417\"/>\n<text text-anchor=\"middle\" x=\"15.5563\" y=\"-104.9924\" font-family=\"monospace\" font-size=\"8.00\" fill=\"#7b68ee\">1</text>\n</g>\n<!-- 0&#45;&#45;1 -->\n<g id=\"edge2\" class=\"edge\">\n<title>0&#45;&#45;1</title>\n<path fill=\"none\" stroke=\"#ffa500\" stroke-width=\"2\" d=\"M136.3768,-192.9876C113.6161,-176.7686 63.3412,-140.9433 35.3491,-120.9964\"/>\n<polygon fill=\"#ffa500\" stroke=\"#ffa500\" stroke-width=\"2\" points=\"37.2819,-118.076 27.1068,-115.1231 33.2196,-123.7767 37.2819,-118.076\"/>\n</g>\n<!-- 2 -->\n<g id=\"node3\" class=\"node\">\n<title>2</title>\n<ellipse fill=\"none\" stroke=\"#ff4500\" cx=\"149.3734\" cy=\"-12.0208\" rx=\"15.6129\" ry=\"12.0417\"/>\n<text text-anchor=\"middle\" x=\"149.3734\" y=\"-10.1208\" font-family=\"monospace\" font-size=\"8.00\" fill=\"#7b68ee\">2</text>\n</g>\n<!-- 0&#45;&#45;2 -->\n<g id=\"edge3\" class=\"edge\">\n<title>0&#45;&#45;2</title>\n<path fill=\"none\" stroke=\"#ffa500\" stroke-width=\"2\" d=\"M148.2218,-189.2393C148.4244,-158.0523 148.9659,-74.7216 149.2277,-34.4388\"/>\n<polygon fill=\"#ffa500\" stroke=\"#ffa500\" stroke-width=\"2\" points=\"152.7284,-34.3202 149.2936,-24.2976 145.7286,-34.2747 152.7284,-34.3202\"/>\n</g>\n<!-- 4 -->\n<g id=\"node5\" class=\"node\">\n<title>4</title>\n<ellipse fill=\"none\" stroke=\"#ff4500\" cx=\"301.2412\" cy=\"-107.5623\" rx=\"15.6129\" ry=\"12.0417\"/>\n<text text-anchor=\"middle\" x=\"301.2412\" y=\"-105.6623\" font-family=\"monospace\" font-size=\"8.00\" fill=\"#7b68ee\">4</text>\n</g>\n<!-- 0&#45;&#45;4 -->\n<g id=\"edge7\" class=\"edge\">\n<title>0&#45;&#45;4</title>\n<path fill=\"none\" stroke=\"#c0c0c0\" d=\"M160.4128,-193.8538C189.0792,-176.2887 260.1889,-132.7168 288.9129,-115.1164\"/>\n<text text-anchor=\"middle\" x=\"220.6628\" y=\"-158.2851\" font-family=\"Times,serif\" font-size=\"14.00\" fill=\"#000000\">3</text>\n</g>\n<!-- 1&#45;&#45;1 -->\n<g id=\"edge8\" class=\"edge\">\n<title>1&#45;&#45;1</title>\n<path fill=\"none\" stroke=\"#c0c0c0\" d=\"M29.344,-112.9156C39.2476,-114.8767 49.1127,-112.8689 49.1127,-106.8924 49.1127,-100.9158 39.2476,-98.908 29.344,-100.8691\"/>\n<text text-anchor=\"middle\" x=\"53.1127\" y=\"-103.1924\" font-family=\"Times,serif\" font-size=\"14.00\" fill=\"#000000\">0</text>\n</g>\n<!-- 3 -->\n<g id=\"node4\" class=\"node\">\n<title>3</title>\n<ellipse fill=\"none\" stroke=\"#ff4500\" cx=\"174.6565\" cy=\"-107.8913\" rx=\"15.6129\" ry=\"12.0417\"/>\n<text text-anchor=\"middle\" x=\"174.6565\" y=\"-105.9913\" font-family=\"monospace\" font-size=\"8.00\" fill=\"#7b68ee\">3</text>\n</g>\n<!-- 1&#45;&#45;3 -->\n<g id=\"edge9\" class=\"edge\">\n<title>1&#45;&#45;3</title>\n<path fill=\"none\" stroke=\"#c0c0c0\" d=\"M31.3931,-106.9918C61.8894,-107.1833 128.438,-107.6011 158.8838,-107.7923\"/>\n<text text-anchor=\"middle\" x=\"91.1385\" y=\"-111.192\" font-family=\"Times,serif\" font-size=\"14.00\" fill=\"#000000\">4</text>\n</g>\n<!-- 2&#45;&#45;1 -->\n<g id=\"edge10\" class=\"edge\">\n<title>2&#45;&#45;1</title>\n<path fill=\"none\" stroke=\"#c0c0c0\" d=\"M137.498,-20.44C112.0399,-38.4889 52.4763,-80.7174 27.214,-98.6275\"/>\n<text text-anchor=\"middle\" x=\"78.356\" y=\"-63.3337\" font-family=\"Times,serif\" font-size=\"14.00\" fill=\"#000000\">1</text>\n</g>\n<!-- 2&#45;&#45;2 -->\n<g id=\"edge11\" class=\"edge\">\n<title>2&#45;&#45;2</title>\n<path fill=\"none\" stroke=\"#c0c0c0\" d=\"M163.161,-18.0441C173.0646,-20.0051 182.9297,-17.9974 182.9297,-12.0208 182.9297,-6.0443 173.0646,-4.0365 163.161,-5.9976\"/>\n<text text-anchor=\"middle\" x=\"186.9297\" y=\"-8.3208\" font-family=\"Times,serif\" font-size=\"14.00\" fill=\"#000000\">0</text>\n</g>\n<!-- 2&#45;&#45;4 -->\n<g id=\"edge5\" class=\"edge\">\n<title>2&#45;&#45;4</title>\n<path fill=\"none\" stroke=\"#ffa500\" stroke-width=\"2\" d=\"M161.5446,-19.6779C187.4258,-35.96 248.1839,-74.1835 280.3751,-94.4352\"/>\n<polygon fill=\"#ffa500\" stroke=\"#ffa500\" stroke-width=\"2\" points=\"278.6839,-97.5063 289.012,-99.8688 282.4114,-91.5813 278.6839,-97.5063\"/>\n</g>\n<!-- 3&#45;&#45;0 -->\n<g id=\"edge1\" class=\"edge\">\n<title>3&#45;&#45;0</title>\n<path fill=\"none\" stroke=\"#ffa500\" stroke-width=\"2\" d=\"M171.2986,-119.7307C167.0153,-134.8323 159.5291,-161.2271 154.2295,-179.9121\"/>\n<polygon fill=\"#ffa500\" stroke=\"#ffa500\" stroke-width=\"2\" points=\"150.8351,-179.0532 151.4736,-189.6288 157.5695,-180.9633 150.8351,-179.0532\"/>\n</g>\n<!-- 3&#45;&#45;2 -->\n<g id=\"edge12\" class=\"edge\">\n<title>3&#45;&#45;2</title>\n<path fill=\"none\" stroke=\"#c0c0c0\" d=\"M171.4544,-95.7492C166.5911,-77.3081 157.3973,-42.4467 152.5495,-24.0643\"/>\n<text text-anchor=\"middle\" x=\"158.0019\" y=\"-63.7068\" font-family=\"Times,serif\" font-size=\"14.00\" fill=\"#000000\">3</text>\n</g>\n<!-- 3&#45;&#45;3 -->\n<g id=\"edge4\" class=\"edge\">\n<title>3&#45;&#45;3</title>\n<path fill=\"none\" stroke=\"#ffa500\" stroke-width=\"2\" d=\"M188.4441,-113.9145C198.3478,-115.8756 208.2129,-113.8679 208.2129,-107.8913 208.2129,-104.0626 204.1642,-101.8626 198.6505,-101.2915\"/>\n<polygon fill=\"#ffa500\" stroke=\"#ffa500\" stroke-width=\"2\" points=\"198.2308,-97.8095 188.4441,-101.868 198.6257,-104.7984 198.2308,-97.8095\"/>\n</g>\n<!-- 3&#45;&#45;4 -->\n<g id=\"edge13\" class=\"edge\">\n<title>3&#45;&#45;4</title>\n<path fill=\"none\" stroke=\"#c0c0c0\" d=\"M190.4326,-107.8503C214.8221,-107.7869 261.3956,-107.6659 285.6639,-107.6028\"/>\n<text text-anchor=\"middle\" x=\"234.0483\" y=\"-111.5266\" font-family=\"Times,serif\" font-size=\"14.00\" fill=\"#000000\">5</text>\n</g>\n<!-- 4&#45;&#45;4 -->\n<g id=\"edge14\" class=\"edge\">\n<title>4&#45;&#45;4</title>\n<path fill=\"none\" stroke=\"#c0c0c0\" d=\"M315.0288,-113.5856C324.9324,-115.5466 334.7975,-113.5389 334.7975,-107.5623 334.7975,-101.5858 324.9324,-99.578 315.0288,-101.5391\"/>\n<text text-anchor=\"middle\" x=\"338.7975\" y=\"-103.8623\" font-family=\"Times,serif\" font-size=\"14.00\" fill=\"#000000\">0</text>\n</g>\n</g>\n</svg>\n"
          },
          "metadata": {},
          "execution_count": 31
        }
      ]
    }
  ]
}