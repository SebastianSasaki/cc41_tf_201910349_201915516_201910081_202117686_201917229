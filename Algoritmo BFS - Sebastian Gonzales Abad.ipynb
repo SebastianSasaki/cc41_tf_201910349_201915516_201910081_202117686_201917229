{
  "nbformat": 4,
  "nbformat_minor": 0,
  "metadata": {
    "colab": {
      "name": "BFS.ipynb",
      "provenance": [],
      "authorship_tag": "ABX9TyNN7NpDTgpNCuyGXv+VR19P",
      "include_colab_link": true
    },
    "kernelspec": {
      "name": "python3",
      "display_name": "Python 3"
    },
    "language_info": {
      "name": "python"
    }
  },
  "cells": [
    {
      "cell_type": "markdown",
      "metadata": {
        "id": "view-in-github",
        "colab_type": "text"
      },
      "source": [
        "<a href=\"https://colab.research.google.com/github/SebastianSasaki/cc41_tf_201910349_201915516_201910081_202117686_201917229/blob/main/Algoritmo%20BFS%20-%20Sebastian%20Gonzales%20Abad.ipynb\" target=\"_parent\"><img src=\"https://colab.research.google.com/assets/colab-badge.svg\" alt=\"Open In Colab\"/></a>"
      ]
    },
    {
      "cell_type": "code",
      "metadata": {
        "id": "sFanIzhwumqo"
      },
      "source": [
        "\n",
        "import graphviz as gv #Graficos\n",
        "import numpy as np\n",
        "import heapq as hq\n",
        "import pandas as pd #Leer CSV\n",
        "import matplotlib.pyplot as plt # Gragicos final\n",
        "import math as math #Operaciones matematicas\n",
        "from timeit import timeit\n",
        "\n",
        "\n",
        "def readAdjl(fn, haslabels=False, weighted=False, sep=\"|\"):\n",
        "  with open(fn) as f:\n",
        "    labels = None\n",
        "    if haslabels:\n",
        "      labels = f.readline().strip().split()\n",
        "    L = []\n",
        "    for line in f:\n",
        "      if weighted:\n",
        "        L.append([tuple(map(int, p.split(sep))) for p in line.strip().split()])\n",
        "        # line => \"1|3 2|5 4|4\" ==> [(1, 3), (2, 5), (4, 4)]\n",
        "      else: \n",
        "        L.append(list(map(int, line.strip().split()))) # \"1 3 5\" => [1, 3, 5]\n",
        "        # L.append([int(x) for x in line.strip().split()])\n",
        "  return L, labels\n",
        "\n",
        "def adjlShow(L, labels=None, directed=False, weighted=False, path=[],\n",
        "             layout=\"sfdp\"):\n",
        "  g = gv.Digraph(\"G\") if directed else gv.Graph(\"G\")\n",
        "  g.graph_attr[\"layout\"] = layout\n",
        "  g.edge_attr[\"color\"] = \"gray\"\n",
        "  g.node_attr[\"color\"] = \"orangered\"\n",
        "  g.node_attr[\"width\"] = \"0.1\"\n",
        "  g.node_attr[\"height\"] = \"0.1\"\n",
        "  g.node_attr[\"fontsize\"] = \"8\"\n",
        "  g.node_attr[\"fontcolor\"] = \"mediumslateblue\"\n",
        "  g.node_attr[\"fontname\"] = \"monospace\"\n",
        "  n = len(L)\n",
        "  for u in range(n):\n",
        "    g.node(str(u), labels[u] if labels else str(u))\n",
        "  added = set()\n",
        "  for v, u in enumerate(path):\n",
        "    if u != None:\n",
        "      g.edge(str(u), str(v), dir=\"forward\", penwidth=\"2\", color=\"orange\")\n",
        "      added.add(f\"{u},{v}\")\n",
        "      added.add(f\"{v},{u}\")\n",
        "  if weighted:\n",
        "    for u in range(n):\n",
        "      for v, w in L[u]:\n",
        "        if not directed and not f\"{u},{v}\" in added:\n",
        "          added.add(f\"{u},{v}\")\n",
        "          added.add(f\"{v},{u}\")\n",
        "          g.edge(str(u), str(v), str(w))\n",
        "        elif directed:\n",
        "          g.edge(str(u), str(v), str(w))\n",
        "  else:\n",
        "    for u in range(n):\n",
        "      for v in L[u]:\n",
        "        if not directed and not f\"{u},{v}\" in added:\n",
        "          added.add(f\"{u},{v}\")\n",
        "          added.add(f\"{v},{u}\")\n",
        "          g.edge(str(u), str(v))\n",
        "        elif directed:\n",
        "          g.edge(str(u), str(v))\n",
        "  return g"
      ],
      "execution_count": 9,
      "outputs": []
    },
    {
      "cell_type": "markdown",
      "metadata": {
        "id": "DPn8mR7-wJv4"
      },
      "source": [
        "Arreglo de prueba"
      ]
    },
    {
      "cell_type": "code",
      "metadata": {
        "colab": {
          "base_uri": "https://localhost:8080/"
        },
        "id": "rUIcvUpawIRx",
        "outputId": "7ec3f335-69fb-420e-f4e7-58f91903f32c"
      },
      "source": [
        "%%file 1.in\n",
        "1 2 4 7\n",
        "0 5\n",
        "0 12\n",
        "6 10\n",
        "0 \n",
        "1 4 6 8\n",
        "3 5 9\n",
        "0 8 14\n",
        "5 7\n",
        "6 10 12 13\n",
        "3 9 13 17\n",
        "12 15\n",
        "2 9 11 15 16\n",
        "9 10\n",
        "7 15\n",
        "11 12 14 16\n",
        "12 15 17\n",
        "10 16"
      ],
      "execution_count": 12,
      "outputs": [
        {
          "output_type": "stream",
          "name": "stdout",
          "text": [
            "Writing 1.in\n"
          ]
        }
      ]
    },
    {
      "cell_type": "code",
      "metadata": {
        "colab": {
          "base_uri": "https://localhost:8080/",
          "height": 757
        },
        "id": "8I3xA8UPwSAl",
        "outputId": "b948dccd-2536-4315-a4a1-326f8c9ef633"
      },
      "source": [
        "G, _ = readAdjl(\"1.in\")\n",
        "for i, edges in enumerate(G):\n",
        "  print(f\"{i:2}: {edges}\")\n",
        "adjlShow(G)"
      ],
      "execution_count": 13,
      "outputs": [
        {
          "output_type": "stream",
          "name": "stdout",
          "text": [
            " 0: [1, 2, 4, 7]\n",
            " 1: [0, 5]\n",
            " 2: [0, 12]\n",
            " 3: [6, 10]\n",
            " 4: [0]\n",
            " 5: [1, 4, 6, 8]\n",
            " 6: [3, 5, 9]\n",
            " 7: [0, 8, 14]\n",
            " 8: [5, 7]\n",
            " 9: [6, 10, 12, 13]\n",
            "10: [3, 9, 13, 17]\n",
            "11: [12, 15]\n",
            "12: [2, 9, 11, 15, 16]\n",
            "13: [9, 10]\n",
            "14: [7, 15]\n",
            "15: [11, 12, 14, 16]\n",
            "16: [12, 15, 17]\n",
            "17: [10, 16]\n"
          ]
        },
        {
          "output_type": "execute_result",
          "data": {
            "text/plain": [
              "<graphviz.dot.Graph at 0x7fb880fa2ad0>"
            ],
            "image/svg+xml": "<?xml version=\"1.0\" encoding=\"UTF-8\" standalone=\"no\"?>\n<!DOCTYPE svg PUBLIC \"-//W3C//DTD SVG 1.1//EN\"\n \"http://www.w3.org/Graphics/SVG/1.1/DTD/svg11.dtd\">\n<!-- Generated by graphviz version 2.40.1 (20161225.0304)\n -->\n<!-- Title: G Pages: 1 -->\n<svg width=\"424pt\" height=\"310pt\"\n viewBox=\"0.00 0.00 424.13 310.03\" xmlns=\"http://www.w3.org/2000/svg\" xmlns:xlink=\"http://www.w3.org/1999/xlink\">\n<g id=\"graph0\" class=\"graph\" transform=\"scale(1 1) rotate(0) translate(4 306.0315)\">\n<title>G</title>\n<polygon fill=\"#ffffff\" stroke=\"transparent\" points=\"-4,4 -4,-306.0315 420.1326,-306.0315 420.1326,4 -4,4\"/>\n<!-- 0 -->\n<g id=\"node1\" class=\"node\">\n<title>0</title>\n<ellipse fill=\"none\" stroke=\"#ff4500\" cx=\"362.2534\" cy=\"-150.8476\" rx=\"15.6129\" ry=\"12.0417\"/>\n<text text-anchor=\"middle\" x=\"362.2534\" y=\"-148.9476\" font-family=\"monospace\" font-size=\"8.00\" fill=\"#7b68ee\">0</text>\n</g>\n<!-- 1 -->\n<g id=\"node2\" class=\"node\">\n<title>1</title>\n<ellipse fill=\"none\" stroke=\"#ff4500\" cx=\"400.5763\" cy=\"-92.2735\" rx=\"15.6129\" ry=\"12.0417\"/>\n<text text-anchor=\"middle\" x=\"400.5763\" y=\"-90.3735\" font-family=\"monospace\" font-size=\"8.00\" fill=\"#7b68ee\">1</text>\n</g>\n<!-- 0&#45;&#45;1 -->\n<g id=\"edge1\" class=\"edge\">\n<title>0&#45;&#45;1</title>\n<path fill=\"none\" stroke=\"#c0c0c0\" d=\"M369.2824,-140.1042C376.1106,-129.6677 386.4308,-113.894 393.3314,-103.3468\"/>\n</g>\n<!-- 2 -->\n<g id=\"node3\" class=\"node\">\n<title>2</title>\n<ellipse fill=\"none\" stroke=\"#ff4500\" cx=\"257.4394\" cy=\"-184.8039\" rx=\"15.6129\" ry=\"12.0417\"/>\n<text text-anchor=\"middle\" x=\"257.4394\" y=\"-182.9039\" font-family=\"monospace\" font-size=\"8.00\" fill=\"#7b68ee\">2</text>\n</g>\n<!-- 0&#45;&#45;2 -->\n<g id=\"edge2\" class=\"edge\">\n<title>0&#45;&#45;2</title>\n<path fill=\"none\" stroke=\"#c0c0c0\" d=\"M347.6795,-155.5691C327.6545,-162.0565 291.8493,-173.6562 271.8896,-180.1225\"/>\n</g>\n<!-- 4 -->\n<g id=\"node5\" class=\"node\">\n<title>4</title>\n<ellipse fill=\"none\" stroke=\"#ff4500\" cx=\"379.9342\" cy=\"-62.0354\" rx=\"15.6129\" ry=\"12.0417\"/>\n<text text-anchor=\"middle\" x=\"379.9342\" y=\"-60.1354\" font-family=\"monospace\" font-size=\"8.00\" fill=\"#7b68ee\">4</text>\n</g>\n<!-- 0&#45;&#45;4 -->\n<g id=\"edge3\" class=\"edge\">\n<title>0&#45;&#45;4</title>\n<path fill=\"none\" stroke=\"#c0c0c0\" d=\"M364.6379,-138.87C368.0124,-121.9196 374.1464,-91.1083 377.531,-74.1069\"/>\n</g>\n<!-- 7 -->\n<g id=\"node8\" class=\"node\">\n<title>7</title>\n<ellipse fill=\"none\" stroke=\"#ff4500\" cx=\"336.5937\" cy=\"-221.7349\" rx=\"15.6129\" ry=\"12.0417\"/>\n<text text-anchor=\"middle\" x=\"336.5937\" y=\"-219.8349\" font-family=\"monospace\" font-size=\"8.00\" fill=\"#7b68ee\">7</text>\n</g>\n<!-- 0&#45;&#45;7 -->\n<g id=\"edge4\" class=\"edge\">\n<title>0&#45;&#45;7</title>\n<path fill=\"none\" stroke=\"#c0c0c0\" d=\"M358.0162,-162.5532C353.2903,-175.6088 345.6858,-196.6172 340.9229,-209.775\"/>\n</g>\n<!-- 5 -->\n<g id=\"node6\" class=\"node\">\n<title>5</title>\n<ellipse fill=\"none\" stroke=\"#ff4500\" cx=\"314.4073\" cy=\"-60.1079\" rx=\"15.6129\" ry=\"12.0417\"/>\n<text text-anchor=\"middle\" x=\"314.4073\" y=\"-58.2079\" font-family=\"monospace\" font-size=\"8.00\" fill=\"#7b68ee\">5</text>\n</g>\n<!-- 1&#45;&#45;5 -->\n<g id=\"edge5\" class=\"edge\">\n<title>1&#45;&#45;5</title>\n<path fill=\"none\" stroke=\"#c0c0c0\" d=\"M386.3472,-86.962C370.3815,-81.0022 344.6318,-71.3903 328.6575,-65.4273\"/>\n</g>\n<!-- 12 -->\n<g id=\"node13\" class=\"node\">\n<title>12</title>\n<ellipse fill=\"none\" stroke=\"#ff4500\" cx=\"148.3543\" cy=\"-203.5034\" rx=\"19.1842\" ry=\"12.0417\"/>\n<text text-anchor=\"middle\" x=\"148.3543\" y=\"-201.6034\" font-family=\"monospace\" font-size=\"8.00\" fill=\"#7b68ee\">12</text>\n</g>\n<!-- 2&#45;&#45;12 -->\n<g id=\"edge6\" class=\"edge\">\n<title>2&#45;&#45;12</title>\n<path fill=\"none\" stroke=\"#c0c0c0\" d=\"M241.8102,-187.4831C222.0157,-190.8763 187.9534,-196.7153 166.8745,-200.3287\"/>\n</g>\n<!-- 3 -->\n<g id=\"node4\" class=\"node\">\n<title>3</title>\n<ellipse fill=\"none\" stroke=\"#ff4500\" cx=\"110.4763\" cy=\"-12.0208\" rx=\"15.6129\" ry=\"12.0417\"/>\n<text text-anchor=\"middle\" x=\"110.4763\" y=\"-10.1208\" font-family=\"monospace\" font-size=\"8.00\" fill=\"#7b68ee\">3</text>\n</g>\n<!-- 6 -->\n<g id=\"node7\" class=\"node\">\n<title>6</title>\n<ellipse fill=\"none\" stroke=\"#ff4500\" cx=\"194.3882\" cy=\"-37.8019\" rx=\"15.6129\" ry=\"12.0417\"/>\n<text text-anchor=\"middle\" x=\"194.3882\" y=\"-35.9019\" font-family=\"monospace\" font-size=\"8.00\" fill=\"#7b68ee\">6</text>\n</g>\n<!-- 3&#45;&#45;6 -->\n<g id=\"edge7\" class=\"edge\">\n<title>3&#45;&#45;6</title>\n<path fill=\"none\" stroke=\"#c0c0c0\" d=\"M125.0926,-16.5115C140.4002,-21.2146 164.3077,-28.5599 179.6578,-33.2761\"/>\n</g>\n<!-- 10 -->\n<g id=\"node11\" class=\"node\">\n<title>10</title>\n<ellipse fill=\"none\" stroke=\"#ff4500\" cx=\"47.7609\" cy=\"-76.2303\" rx=\"19.1842\" ry=\"12.0417\"/>\n<text text-anchor=\"middle\" x=\"47.7609\" y=\"-74.3303\" font-family=\"monospace\" font-size=\"8.00\" fill=\"#7b68ee\">10</text>\n</g>\n<!-- 3&#45;&#45;10 -->\n<g id=\"edge8\" class=\"edge\">\n<title>3&#45;&#45;10</title>\n<path fill=\"none\" stroke=\"#c0c0c0\" d=\"M100.9512,-21.7729C89.3006,-33.701 69.6677,-53.8017 57.7916,-65.9607\"/>\n</g>\n<!-- 5&#45;&#45;4 -->\n<g id=\"edge9\" class=\"edge\">\n<title>5&#45;&#45;4</title>\n<path fill=\"none\" stroke=\"#c0c0c0\" d=\"M330.2695,-60.5745C340.572,-60.8775 353.9448,-61.2709 364.2181,-61.5731\"/>\n</g>\n<!-- 5&#45;&#45;6 -->\n<g id=\"edge10\" class=\"edge\">\n<title>5&#45;&#45;6</title>\n<path fill=\"none\" stroke=\"#c0c0c0\" d=\"M299.2068,-57.2828C276.2467,-53.0156 232.9543,-44.9695 209.8443,-40.6744\"/>\n</g>\n<!-- 8 -->\n<g id=\"node9\" class=\"node\">\n<title>8</title>\n<ellipse fill=\"none\" stroke=\"#ff4500\" cx=\"331.7777\" cy=\"-137.6153\" rx=\"15.6129\" ry=\"12.0417\"/>\n<text text-anchor=\"middle\" x=\"331.7777\" y=\"-135.7153\" font-family=\"monospace\" font-size=\"8.00\" fill=\"#7b68ee\">8</text>\n</g>\n<!-- 5&#45;&#45;8 -->\n<g id=\"edge11\" class=\"edge\">\n<title>5&#45;&#45;8</title>\n<path fill=\"none\" stroke=\"#c0c0c0\" d=\"M317.1214,-72.2184C320.3847,-86.7794 325.8278,-111.0668 329.0826,-125.5898\"/>\n</g>\n<!-- 9 -->\n<g id=\"node10\" class=\"node\">\n<title>9</title>\n<ellipse fill=\"none\" stroke=\"#ff4500\" cx=\"110.7536\" cy=\"-91.8416\" rx=\"15.6129\" ry=\"12.0417\"/>\n<text text-anchor=\"middle\" x=\"110.7536\" y=\"-89.9416\" font-family=\"monospace\" font-size=\"8.00\" fill=\"#7b68ee\">9</text>\n</g>\n<!-- 6&#45;&#45;9 -->\n<g id=\"edge12\" class=\"edge\">\n<title>6&#45;&#45;9</title>\n<path fill=\"none\" stroke=\"#c0c0c0\" d=\"M182.4054,-45.5444C166.5065,-55.8174 138.6019,-73.8477 122.7142,-84.1134\"/>\n</g>\n<!-- 7&#45;&#45;8 -->\n<g id=\"edge13\" class=\"edge\">\n<title>7&#45;&#45;8</title>\n<path fill=\"none\" stroke=\"#c0c0c0\" d=\"M335.9037,-209.6827C334.9881,-193.6915 333.3813,-165.6251 332.4664,-149.6453\"/>\n</g>\n<!-- 14 -->\n<g id=\"node15\" class=\"node\">\n<title>14</title>\n<ellipse fill=\"none\" stroke=\"#ff4500\" cx=\"262.4364\" cy=\"-285.682\" rx=\"19.1842\" ry=\"12.0417\"/>\n<text text-anchor=\"middle\" x=\"262.4364\" y=\"-283.782\" font-family=\"monospace\" font-size=\"8.00\" fill=\"#7b68ee\">14</text>\n</g>\n<!-- 7&#45;&#45;14 -->\n<g id=\"edge14\" class=\"edge\">\n<title>7&#45;&#45;14</title>\n<path fill=\"none\" stroke=\"#c0c0c0\" d=\"M325.9687,-230.897C312.1918,-242.777 288.2481,-263.4241 274.0184,-275.6946\"/>\n</g>\n<!-- 9&#45;&#45;10 -->\n<g id=\"edge15\" class=\"edge\">\n<title>9&#45;&#45;10</title>\n<path fill=\"none\" stroke=\"#c0c0c0\" d=\"M95.8252,-88.1419C86.8024,-85.9058 75.2436,-83.0412 65.7225,-80.6817\"/>\n</g>\n<!-- 9&#45;&#45;12 -->\n<g id=\"edge16\" class=\"edge\">\n<title>9&#45;&#45;12</title>\n<path fill=\"none\" stroke=\"#c0c0c0\" d=\"M114.7775,-103.7913C122.0146,-125.2831 137.1433,-170.2104 144.3593,-191.6396\"/>\n</g>\n<!-- 13 -->\n<g id=\"node14\" class=\"node\">\n<title>13</title>\n<ellipse fill=\"none\" stroke=\"#ff4500\" cx=\"34.7717\" cy=\"-34.9767\" rx=\"19.1842\" ry=\"12.0417\"/>\n<text text-anchor=\"middle\" x=\"34.7717\" y=\"-33.0767\" font-family=\"monospace\" font-size=\"8.00\" fill=\"#7b68ee\">13</text>\n</g>\n<!-- 9&#45;&#45;13 -->\n<g id=\"edge17\" class=\"edge\">\n<title>9&#45;&#45;13</title>\n<path fill=\"none\" stroke=\"#c0c0c0\" d=\"M99.5422,-83.451C85.5894,-73.0087 61.8312,-55.228 47.2946,-44.3488\"/>\n</g>\n<!-- 10&#45;&#45;13 -->\n<g id=\"edge18\" class=\"edge\">\n<title>10&#45;&#45;13</title>\n<path fill=\"none\" stroke=\"#c0c0c0\" d=\"M43.934,-64.076C42.2278,-58.657 40.2242,-52.2939 38.5265,-46.902\"/>\n</g>\n<!-- 17 -->\n<g id=\"node18\" class=\"node\">\n<title>17</title>\n<ellipse fill=\"none\" stroke=\"#ff4500\" cx=\"19.0919\" cy=\"-161.1457\" rx=\"19.1842\" ry=\"12.0417\"/>\n<text text-anchor=\"middle\" x=\"19.0919\" y=\"-159.2457\" font-family=\"monospace\" font-size=\"8.00\" fill=\"#7b68ee\">17</text>\n</g>\n<!-- 10&#45;&#45;17 -->\n<g id=\"edge19\" class=\"edge\">\n<title>10&#45;&#45;17</title>\n<path fill=\"none\" stroke=\"#c0c0c0\" d=\"M43.7746,-88.0374C38.3281,-104.1696 28.6137,-132.9429 23.1368,-149.1651\"/>\n</g>\n<!-- 11 -->\n<g id=\"node12\" class=\"node\">\n<title>11</title>\n<ellipse fill=\"none\" stroke=\"#ff4500\" cx=\"118.5714\" cy=\"-290.0107\" rx=\"19.1842\" ry=\"12.0417\"/>\n<text text-anchor=\"middle\" x=\"118.5714\" y=\"-288.1107\" font-family=\"monospace\" font-size=\"8.00\" fill=\"#7b68ee\">11</text>\n</g>\n<!-- 11&#45;&#45;12 -->\n<g id=\"edge20\" class=\"edge\">\n<title>11&#45;&#45;12</title>\n<path fill=\"none\" stroke=\"#c0c0c0\" d=\"M122.7126,-277.9822C128.4027,-261.4548 138.5767,-231.9033 144.2483,-215.4297\"/>\n</g>\n<!-- 15 -->\n<g id=\"node16\" class=\"node\">\n<title>15</title>\n<ellipse fill=\"none\" stroke=\"#ff4500\" cx=\"162.9814\" cy=\"-271.8486\" rx=\"19.1842\" ry=\"12.0417\"/>\n<text text-anchor=\"middle\" x=\"162.9814\" y=\"-269.9486\" font-family=\"monospace\" font-size=\"8.00\" fill=\"#7b68ee\">15</text>\n</g>\n<!-- 11&#45;&#45;15 -->\n<g id=\"edge21\" class=\"edge\">\n<title>11&#45;&#45;15</title>\n<path fill=\"none\" stroke=\"#c0c0c0\" d=\"M134.6044,-283.4537C138.5796,-281.828 142.8415,-280.085 146.8227,-278.4569\"/>\n</g>\n<!-- 12&#45;&#45;15 -->\n<g id=\"edge22\" class=\"edge\">\n<title>12&#45;&#45;15</title>\n<path fill=\"none\" stroke=\"#c0c0c0\" d=\"M150.9693,-215.7222C153.6317,-228.1623 157.7348,-247.3338 160.389,-259.7356\"/>\n</g>\n<!-- 16 -->\n<g id=\"node17\" class=\"node\">\n<title>16</title>\n<ellipse fill=\"none\" stroke=\"#ff4500\" cx=\"81.2984\" cy=\"-227.5319\" rx=\"19.1842\" ry=\"12.0417\"/>\n<text text-anchor=\"middle\" x=\"81.2984\" y=\"-225.6319\" font-family=\"monospace\" font-size=\"8.00\" fill=\"#7b68ee\">16</text>\n</g>\n<!-- 12&#45;&#45;16 -->\n<g id=\"edge23\" class=\"edge\">\n<title>12&#45;&#45;16</title>\n<path fill=\"none\" stroke=\"#c0c0c0\" d=\"M131.4332,-209.5668C121.1905,-213.2372 108.1813,-217.8988 97.9817,-221.5537\"/>\n</g>\n<!-- 14&#45;&#45;15 -->\n<g id=\"edge24\" class=\"edge\">\n<title>14&#45;&#45;15</title>\n<path fill=\"none\" stroke=\"#c0c0c0\" d=\"M243.7297,-283.08C226.0612,-280.6225 199.6937,-276.955 181.9424,-274.4859\"/>\n</g>\n<!-- 15&#45;&#45;16 -->\n<g id=\"edge25\" class=\"edge\">\n<title>15&#45;&#45;16</title>\n<path fill=\"none\" stroke=\"#c0c0c0\" d=\"M148.3781,-263.9256C133.5102,-255.8591 110.5973,-243.4279 95.7753,-235.3863\"/>\n</g>\n<!-- 16&#45;&#45;17 -->\n<g id=\"edge26\" class=\"edge\">\n<title>16&#45;&#45;17</title>\n<path fill=\"none\" stroke=\"#c0c0c0\" d=\"M71.5786,-217.1591C59.9605,-204.7603 40.6271,-184.1279 28.9487,-171.6648\"/>\n</g>\n</g>\n</svg>\n"
          },
          "metadata": {},
          "execution_count": 13
        }
      ]
    },
    {
      "cell_type": "markdown",
      "metadata": {
        "id": "OSack7Jxuqzl"
      },
      "source": [
        "# En el presente analisaremos el codigo del Algoritmo BFS, para comprobar la efectividad que tendría en la aplicación del grafo final, para la hallar la ruta mas corta de los almacenes hacia los puntos de entrega"
      ]
    },
    {
      "cell_type": "code",
      "metadata": {
        "id": "TjQ3GObEuYp7"
      },
      "source": [
        "#Donde V es el numero de vertices, y A es el numero de Aristas\n",
        "\n",
        "def bfs(G, s):\n",
        "  n = len(G)          #2\n",
        "  visited = [False]*n #1\n",
        "  parent = [None]*n   #1\n",
        "  queue = [s]         #1\n",
        "  visited[s] = True   #2\n",
        "\n",
        "  while queue:              #V * (        ---------------------->  O(V)\n",
        "    u = queue.pop(0)          #2 +\n",
        "    for v in G[u]:            #A (        ---------->A(6)--------> O(A)\n",
        "      if not visited[v]:          #1 + (\n",
        "        visited[v] = True           #2\n",
        "        parent[v] = u               #2\n",
        "        queue.append(v)             #1))\n",
        "\n",
        "  \n",
        "  #Por lo cual :O(V+A)\n",
        "\n",
        "  return parent"
      ],
      "execution_count": null,
      "outputs": []
    },
    {
      "cell_type": "markdown",
      "metadata": {
        "id": "mRVVPg0LPPIP"
      },
      "source": [
        "# Teniendo la notación O(V+A) podemos apreciar que este depende de la cantidad de vertices y de Aristas presentes en el grafo. Por lo cual podemos apreciar que el tiempo de ejecución aumentara proporcionalmente con el tamaño del grafo y las aristas que este presente"
      ]
    },
    {
      "cell_type": "markdown",
      "metadata": {
        "id": "hUBraBLRRLzy"
      },
      "source": [
        "Veremos cuantos Vertices y Aristas presenta el grafo utilizado en este proyecto\n",
        "\n",
        "*   Vertices: 1000000\n",
        "*   Aristas Esquinas(4): 4 * **2** = 8 \n",
        "*   Aristas Centrales (1000000-3996): 99604 *  **4** = 3984016\n",
        "*   Aristas Laterales (396):3969 * **3** -8  = 11980\n",
        "\n",
        "Aproximadamente la notación siguiendo el caso real : O (1000000 + 3996004)\n",
        "\n",
        "Además teniendo en cuenta que el algoritmo debe repetirse unas 60 veces (una por cada almacen existente) hace de este algoritmo una solución no tan optima\n",
        "\n"
      ]
    },
    {
      "cell_type": "markdown",
      "metadata": {
        "id": "q1q9th49Zjbh"
      },
      "source": [
        "# Por lo cual, tal vez,  una forma de mejorar este algoritmo es que se detenga cuando halla recorrido atravez de todos los puntos de entrega. Lo cual veremos a continuación: "
      ]
    },
    {
      "cell_type": "code",
      "metadata": {
        "colab": {
          "base_uri": "https://localhost:8080/"
        },
        "id": "jGqqAl73emec",
        "outputId": "d883df0c-2124-4ced-eca2-4e336d17e15a"
      },
      "source": [
        "#Crear un arreglo en donde marcaremos las posiciones en donde queremos que el algoritmo se detenga\n",
        "\n",
        "Limitvisited = [False]*10\n",
        "K = [3, 9]\n",
        "\n",
        "for i in K:\n",
        "  Limitvisited[i] = True\n",
        "\n",
        "print(Limitvisited)"
      ],
      "execution_count": null,
      "outputs": [
        {
          "output_type": "stream",
          "name": "stdout",
          "text": [
            "[False, False, False, True, False, False, False, False, False, True]\n"
          ]
        }
      ]
    },
    {
      "cell_type": "code",
      "metadata": {
        "id": "oHIEcPX_bGTC"
      },
      "source": [
        "def bfs2(G, s):\n",
        "  n = len(G)          #2\n",
        "  visited = [False]*n #1\n",
        "  parent = [None]*n   #1\n",
        "  queue = [s]         #1\n",
        "  visited[s] = True   #2\n",
        "  count = 0\n",
        "  \n",
        "\n",
        "\n",
        "  while queue:              #V * (        ---------------------->  O(V)\n",
        "    u = queue.pop(0)          #2 +\n",
        "    for v in G[u]:            #A (        ---------->A(6)--------> O(A)\n",
        "      if not visited[v]:          #1 + (\n",
        "        visited[v] = True           #2\n",
        "        parent[v] = u               #2\n",
        "        queue.append(v)             #1))\n",
        "      #for n in visited:                                 # En caso hallan muchos puntos de entrega como en nuestro caso se debe iterar la verificacion\n",
        "      if (visited[3] == True and visited[9] == True ):   # Verifica que se hallan visitado los vertices de puntos de entrega\n",
        "        return parent\n",
        "\n",
        "  #Por lo cual :O(V+A)\n",
        "\n",
        "  return parent"
      ],
      "execution_count": null,
      "outputs": []
    },
    {
      "cell_type": "code",
      "metadata": {
        "colab": {
          "base_uri": "https://localhost:8080/",
          "height": 461
        },
        "id": "f8c3axB-a2qr",
        "outputId": "cb146a78-70ff-44ab-a4b2-20635fa0cdfa"
      },
      "source": [
        "\n",
        "path = bfs2(G, 6)\n",
        "print(path)\n",
        "adjlShow(G, path=path)\n",
        "#bfs2(G, 6)\n"
      ],
      "execution_count": null,
      "outputs": [
        {
          "output_type": "stream",
          "name": "stdout",
          "text": [
            "[None, None, None, 6, None, 6, None, None, None, 6, None, None, None, None, None, None, None, None]\n"
          ]
        },
        {
          "output_type": "execute_result",
          "data": {
            "text/plain": [
              "<graphviz.dot.Graph at 0x7f177fbf7910>"
            ],
            "image/svg+xml": "<?xml version=\"1.0\" encoding=\"UTF-8\" standalone=\"no\"?>\n<!DOCTYPE svg PUBLIC \"-//W3C//DTD SVG 1.1//EN\"\n \"http://www.w3.org/Graphics/SVG/1.1/DTD/svg11.dtd\">\n<!-- Generated by graphviz version 2.40.1 (20161225.0304)\n -->\n<!-- Title: G Pages: 1 -->\n<svg width=\"426pt\" height=\"317pt\"\n viewBox=\"0.00 0.00 425.68 316.67\" xmlns=\"http://www.w3.org/2000/svg\" xmlns:xlink=\"http://www.w3.org/1999/xlink\">\n<g id=\"graph0\" class=\"graph\" transform=\"scale(1 1) rotate(0) translate(4 312.672)\">\n<title>G</title>\n<polygon fill=\"#ffffff\" stroke=\"transparent\" points=\"-4,4 -4,-312.672 421.6765,-312.672 421.6765,4 -4,4\"/>\n<!-- 0 -->\n<g id=\"node1\" class=\"node\">\n<title>0</title>\n<ellipse fill=\"none\" stroke=\"#ff4500\" cx=\"363.3233\" cy=\"-151.6323\" rx=\"15.6129\" ry=\"12.0417\"/>\n<text text-anchor=\"middle\" x=\"363.3233\" y=\"-149.7323\" font-family=\"monospace\" font-size=\"8.00\" fill=\"#7b68ee\">0</text>\n</g>\n<!-- 1 -->\n<g id=\"node2\" class=\"node\">\n<title>1</title>\n<ellipse fill=\"none\" stroke=\"#ff4500\" cx=\"402.1202\" cy=\"-93.4678\" rx=\"15.6129\" ry=\"12.0417\"/>\n<text text-anchor=\"middle\" x=\"402.1202\" y=\"-91.5678\" font-family=\"monospace\" font-size=\"8.00\" fill=\"#7b68ee\">1</text>\n</g>\n<!-- 0&#45;&#45;1 -->\n<g id=\"edge4\" class=\"edge\">\n<title>0&#45;&#45;1</title>\n<path fill=\"none\" stroke=\"#c0c0c0\" d=\"M370.6207,-140.692C377.557,-130.2931 387.9301,-114.7417 394.8555,-104.359\"/>\n</g>\n<!-- 2 -->\n<g id=\"node3\" class=\"node\">\n<title>2</title>\n<ellipse fill=\"none\" stroke=\"#ff4500\" cx=\"258.6301\" cy=\"-185.4254\" rx=\"15.6129\" ry=\"12.0417\"/>\n<text text-anchor=\"middle\" x=\"258.6301\" y=\"-183.5254\" font-family=\"monospace\" font-size=\"8.00\" fill=\"#7b68ee\">2</text>\n</g>\n<!-- 0&#45;&#45;2 -->\n<g id=\"edge5\" class=\"edge\">\n<title>0&#45;&#45;2</title>\n<path fill=\"none\" stroke=\"#c0c0c0\" d=\"M348.7662,-156.3311C328.7642,-162.7874 293.0003,-174.3313 273.0636,-180.7665\"/>\n</g>\n<!-- 4 -->\n<g id=\"node5\" class=\"node\">\n<title>4</title>\n<ellipse fill=\"none\" stroke=\"#ff4500\" cx=\"381.8438\" cy=\"-62.7173\" rx=\"15.6129\" ry=\"12.0417\"/>\n<text text-anchor=\"middle\" x=\"381.8438\" y=\"-60.8173\" font-family=\"monospace\" font-size=\"8.00\" fill=\"#7b68ee\">4</text>\n</g>\n<!-- 0&#45;&#45;4 -->\n<g id=\"edge6\" class=\"edge\">\n<title>0&#45;&#45;4</title>\n<path fill=\"none\" stroke=\"#c0c0c0\" d=\"M365.8211,-139.6409C369.3558,-122.6708 375.7811,-91.8239 379.3265,-74.8028\"/>\n</g>\n<!-- 7 -->\n<g id=\"node8\" class=\"node\">\n<title>7</title>\n<ellipse fill=\"none\" stroke=\"#ff4500\" cx=\"336.7859\" cy=\"-221.3089\" rx=\"15.6129\" ry=\"12.0417\"/>\n<text text-anchor=\"middle\" x=\"336.7859\" y=\"-219.4089\" font-family=\"monospace\" font-size=\"8.00\" fill=\"#7b68ee\">7</text>\n</g>\n<!-- 0&#45;&#45;7 -->\n<g id=\"edge7\" class=\"edge\">\n<title>0&#45;&#45;7</title>\n<path fill=\"none\" stroke=\"#c0c0c0\" d=\"M358.8216,-163.452C353.9121,-176.3423 346.1043,-196.8427 341.2212,-209.6638\"/>\n</g>\n<!-- 5 -->\n<g id=\"node6\" class=\"node\">\n<title>5</title>\n<ellipse fill=\"none\" stroke=\"#ff4500\" cx=\"316.1539\" cy=\"-60.1112\" rx=\"15.6129\" ry=\"12.0417\"/>\n<text text-anchor=\"middle\" x=\"316.1539\" y=\"-58.2112\" font-family=\"monospace\" font-size=\"8.00\" fill=\"#7b68ee\">5</text>\n</g>\n<!-- 1&#45;&#45;5 -->\n<g id=\"edge8\" class=\"edge\">\n<title>1&#45;&#45;5</title>\n<path fill=\"none\" stroke=\"#c0c0c0\" d=\"M387.9246,-87.9596C371.9011,-81.7422 345.9994,-71.6918 330.0854,-65.5169\"/>\n</g>\n<!-- 12 -->\n<g id=\"node13\" class=\"node\">\n<title>12</title>\n<ellipse fill=\"none\" stroke=\"#ff4500\" cx=\"149.4474\" cy=\"-204.3162\" rx=\"19.1842\" ry=\"12.0417\"/>\n<text text-anchor=\"middle\" x=\"149.4474\" y=\"-202.4162\" font-family=\"monospace\" font-size=\"8.00\" fill=\"#7b68ee\">12</text>\n</g>\n<!-- 2&#45;&#45;12 -->\n<g id=\"edge9\" class=\"edge\">\n<title>2&#45;&#45;12</title>\n<path fill=\"none\" stroke=\"#c0c0c0\" d=\"M243.4487,-188.052C223.7609,-191.4584 189.4304,-197.3983 168.1545,-201.0795\"/>\n</g>\n<!-- 3 -->\n<g id=\"node4\" class=\"node\">\n<title>3</title>\n<ellipse fill=\"none\" stroke=\"#ff4500\" cx=\"111.9001\" cy=\"-12.0208\" rx=\"15.6129\" ry=\"12.0417\"/>\n<text text-anchor=\"middle\" x=\"111.9001\" y=\"-10.1208\" font-family=\"monospace\" font-size=\"8.00\" fill=\"#7b68ee\">3</text>\n</g>\n<!-- 10 -->\n<g id=\"node11\" class=\"node\">\n<title>10</title>\n<ellipse fill=\"none\" stroke=\"#ff4500\" cx=\"48.8225\" cy=\"-76.0746\" rx=\"19.1842\" ry=\"12.0417\"/>\n<text text-anchor=\"middle\" x=\"48.8225\" y=\"-74.1746\" font-family=\"monospace\" font-size=\"8.00\" fill=\"#7b68ee\">10</text>\n</g>\n<!-- 3&#45;&#45;10 -->\n<g id=\"edge10\" class=\"edge\">\n<title>3&#45;&#45;10</title>\n<path fill=\"none\" stroke=\"#c0c0c0\" d=\"M102.3199,-21.7492C90.6021,-33.6484 70.8557,-53.7004 58.9111,-65.8299\"/>\n</g>\n<!-- 5&#45;&#45;4 -->\n<g id=\"edge11\" class=\"edge\">\n<title>5&#45;&#45;4</title>\n<path fill=\"none\" stroke=\"#c0c0c0\" d=\"M331.7215,-60.7288C342.0413,-61.1382 355.5421,-61.6738 365.9317,-62.086\"/>\n</g>\n<!-- 8 -->\n<g id=\"node9\" class=\"node\">\n<title>8</title>\n<ellipse fill=\"none\" stroke=\"#ff4500\" cx=\"333.0254\" cy=\"-136.978\" rx=\"15.6129\" ry=\"12.0417\"/>\n<text text-anchor=\"middle\" x=\"333.0254\" y=\"-135.078\" font-family=\"monospace\" font-size=\"8.00\" fill=\"#7b68ee\">8</text>\n</g>\n<!-- 5&#45;&#45;8 -->\n<g id=\"edge12\" class=\"edge\">\n<title>5&#45;&#45;8</title>\n<path fill=\"none\" stroke=\"#c0c0c0\" d=\"M318.7901,-72.1216C321.9597,-86.5623 327.2464,-110.6489 330.4077,-125.0519\"/>\n</g>\n<!-- 6 -->\n<g id=\"node7\" class=\"node\">\n<title>6</title>\n<ellipse fill=\"none\" stroke=\"#ff4500\" cx=\"195.9034\" cy=\"-37.9628\" rx=\"15.6129\" ry=\"12.0417\"/>\n<text text-anchor=\"middle\" x=\"195.9034\" y=\"-36.0628\" font-family=\"monospace\" font-size=\"8.00\" fill=\"#7b68ee\">6</text>\n</g>\n<!-- 6&#45;&#45;3 -->\n<g id=\"edge1\" class=\"edge\">\n<title>6&#45;&#45;3</title>\n<path fill=\"none\" stroke=\"#ffa500\" stroke-width=\"2\" d=\"M181.2712,-33.444C168.8643,-29.6125 150.8141,-24.0383 136.2359,-19.5362\"/>\n<polygon fill=\"#ffa500\" stroke=\"#ffa500\" stroke-width=\"2\" points=\"136.9522,-16.0944 126.3647,-16.4878 134.8866,-22.7827 136.9522,-16.0944\"/>\n</g>\n<!-- 6&#45;&#45;5 -->\n<g id=\"edge2\" class=\"edge\">\n<title>6&#45;&#45;5</title>\n<path fill=\"none\" stroke=\"#ffa500\" stroke-width=\"2\" d=\"M211.1332,-40.7679C231.1722,-44.4588 266.6691,-50.9968 290.7926,-55.44\"/>\n<polygon fill=\"#ffa500\" stroke=\"#ffa500\" stroke-width=\"2\" points=\"290.1994,-58.8895 300.668,-57.2589 291.4674,-52.0053 290.1994,-58.8895\"/>\n</g>\n<!-- 9 -->\n<g id=\"node10\" class=\"node\">\n<title>9</title>\n<ellipse fill=\"none\" stroke=\"#ff4500\" cx=\"112.1129\" cy=\"-92.0681\" rx=\"15.6129\" ry=\"12.0417\"/>\n<text text-anchor=\"middle\" x=\"112.1129\" y=\"-90.1681\" font-family=\"monospace\" font-size=\"8.00\" fill=\"#7b68ee\">9</text>\n</g>\n<!-- 6&#45;&#45;9 -->\n<g id=\"edge3\" class=\"edge\">\n<title>6&#45;&#45;9</title>\n<path fill=\"none\" stroke=\"#ffa500\" stroke-width=\"2\" d=\"M183.8983,-45.7148C170.583,-54.3127 148.8626,-68.338 132.796,-78.7126\"/>\n<polygon fill=\"#ffa500\" stroke=\"#ffa500\" stroke-width=\"2\" points=\"130.598,-75.9656 124.0958,-84.3305 134.3952,-81.8461 130.598,-75.9656\"/>\n</g>\n<!-- 7&#45;&#45;8 -->\n<g id=\"edge13\" class=\"edge\">\n<title>7&#45;&#45;8</title>\n<path fill=\"none\" stroke=\"#c0c0c0\" d=\"M336.2471,-209.2263C335.5323,-193.195 334.2776,-165.0581 333.5632,-149.0381\"/>\n</g>\n<!-- 14 -->\n<g id=\"node15\" class=\"node\">\n<title>14</title>\n<ellipse fill=\"none\" stroke=\"#ff4500\" cx=\"261.3979\" cy=\"-283.8624\" rx=\"19.1842\" ry=\"12.0417\"/>\n<text text-anchor=\"middle\" x=\"261.3979\" y=\"-281.9624\" font-family=\"monospace\" font-size=\"8.00\" fill=\"#7b68ee\">14</text>\n</g>\n<!-- 7&#45;&#45;14 -->\n<g id=\"edge14\" class=\"edge\">\n<title>7&#45;&#45;14</title>\n<path fill=\"none\" stroke=\"#c0c0c0\" d=\"M325.9847,-230.2713C311.9791,-241.8925 287.6381,-262.0896 273.1721,-274.0927\"/>\n</g>\n<!-- 9&#45;&#45;10 -->\n<g id=\"edge15\" class=\"edge\">\n<title>9&#45;&#45;10</title>\n<path fill=\"none\" stroke=\"#c0c0c0\" d=\"M97.1139,-88.2778C88.0485,-85.987 76.4351,-83.0523 66.869,-80.6349\"/>\n</g>\n<!-- 9&#45;&#45;12 -->\n<g id=\"edge16\" class=\"edge\">\n<title>9&#45;&#45;12</title>\n<path fill=\"none\" stroke=\"#c0c0c0\" d=\"M116.1083,-104.0806C123.2942,-125.6852 138.3158,-170.8484 145.4807,-192.39\"/>\n</g>\n<!-- 13 -->\n<g id=\"node14\" class=\"node\">\n<title>13</title>\n<ellipse fill=\"none\" stroke=\"#ff4500\" cx=\"36.5335\" cy=\"-34.626\" rx=\"19.1842\" ry=\"12.0417\"/>\n<text text-anchor=\"middle\" x=\"36.5335\" y=\"-32.726\" font-family=\"monospace\" font-size=\"8.00\" fill=\"#7b68ee\">13</text>\n</g>\n<!-- 9&#45;&#45;13 -->\n<g id=\"edge17\" class=\"edge\">\n<title>9&#45;&#45;13</title>\n<path fill=\"none\" stroke=\"#c0c0c0\" d=\"M100.9609,-83.5923C86.9998,-72.9816 63.1697,-54.8701 48.7343,-43.899\"/>\n</g>\n<!-- 10&#45;&#45;13 -->\n<g id=\"edge18\" class=\"edge\">\n<title>10&#45;&#45;13</title>\n<path fill=\"none\" stroke=\"#c0c0c0\" d=\"M45.2018,-63.8628C43.5876,-58.4183 41.6921,-52.0251 40.0859,-46.6077\"/>\n</g>\n<!-- 17 -->\n<g id=\"node18\" class=\"node\">\n<title>17</title>\n<ellipse fill=\"none\" stroke=\"#ff4500\" cx=\"19.0919\" cy=\"-160.6934\" rx=\"19.1842\" ry=\"12.0417\"/>\n<text text-anchor=\"middle\" x=\"19.0919\" y=\"-158.7934\" font-family=\"monospace\" font-size=\"8.00\" fill=\"#7b68ee\">17</text>\n</g>\n<!-- 10&#45;&#45;17 -->\n<g id=\"edge19\" class=\"edge\">\n<title>10&#45;&#45;17</title>\n<path fill=\"none\" stroke=\"#c0c0c0\" d=\"M44.6886,-87.8405C39.0404,-103.9163 28.9663,-132.5891 23.2865,-148.7547\"/>\n</g>\n<!-- 11 -->\n<g id=\"node12\" class=\"node\">\n<title>11</title>\n<ellipse fill=\"none\" stroke=\"#ff4500\" cx=\"127.1675\" cy=\"-296.6512\" rx=\"19.1842\" ry=\"12.0417\"/>\n<text text-anchor=\"middle\" x=\"127.1675\" y=\"-294.7512\" font-family=\"monospace\" font-size=\"8.00\" fill=\"#7b68ee\">11</text>\n</g>\n<!-- 11&#45;&#45;12 -->\n<g id=\"edge20\" class=\"edge\">\n<title>11&#45;&#45;12</title>\n<path fill=\"none\" stroke=\"#c0c0c0\" d=\"M130.0802,-284.58C134.3501,-266.8841 142.2637,-234.0879 146.534,-216.3903\"/>\n</g>\n<!-- 15 -->\n<g id=\"node16\" class=\"node\">\n<title>15</title>\n<ellipse fill=\"none\" stroke=\"#ff4500\" cx=\"161.6388\" cy=\"-268.9703\" rx=\"19.1842\" ry=\"12.0417\"/>\n<text text-anchor=\"middle\" x=\"161.6388\" y=\"-267.0703\" font-family=\"monospace\" font-size=\"8.00\" fill=\"#7b68ee\">15</text>\n</g>\n<!-- 11&#45;&#45;15 -->\n<g id=\"edge21\" class=\"edge\">\n<title>11&#45;&#45;15</title>\n<path fill=\"none\" stroke=\"#c0c0c0\" d=\"M139.2239,-286.9697C142.641,-284.2258 146.3574,-281.2414 149.7637,-278.5061\"/>\n</g>\n<!-- 12&#45;&#45;15 -->\n<g id=\"edge22\" class=\"edge\">\n<title>12&#45;&#45;15</title>\n<path fill=\"none\" stroke=\"#c0c0c0\" d=\"M151.7405,-216.4771C153.9202,-228.0362 157.1798,-245.3228 159.356,-256.8638\"/>\n</g>\n<!-- 16 -->\n<g id=\"node17\" class=\"node\">\n<title>16</title>\n<ellipse fill=\"none\" stroke=\"#ff4500\" cx=\"80.8815\" cy=\"-226.9676\" rx=\"19.1842\" ry=\"12.0417\"/>\n<text text-anchor=\"middle\" x=\"80.8815\" y=\"-225.0676\" font-family=\"monospace\" font-size=\"8.00\" fill=\"#7b68ee\">16</text>\n</g>\n<!-- 12&#45;&#45;16 -->\n<g id=\"edge23\" class=\"edge\">\n<title>12&#45;&#45;16</title>\n<path fill=\"none\" stroke=\"#c0c0c0\" d=\"M132.4985,-209.9154C122.0291,-213.3741 108.6329,-217.7996 98.1117,-221.2754\"/>\n</g>\n<!-- 14&#45;&#45;15 -->\n<g id=\"edge24\" class=\"edge\">\n<title>14&#45;&#45;15</title>\n<path fill=\"none\" stroke=\"#c0c0c0\" d=\"M242.634,-281.0613C224.7987,-278.3988 198.1261,-274.4171 180.3186,-271.7588\"/>\n</g>\n<!-- 15&#45;&#45;16 -->\n<g id=\"edge25\" class=\"edge\">\n<title>15&#45;&#45;16</title>\n<path fill=\"none\" stroke=\"#c0c0c0\" d=\"M146.8267,-261.2663C132.3465,-253.735 110.4146,-242.328 95.8732,-234.7649\"/>\n</g>\n<!-- 16&#45;&#45;17 -->\n<g id=\"edge26\" class=\"edge\">\n<title>16&#45;&#45;17</title>\n<path fill=\"none\" stroke=\"#c0c0c0\" d=\"M70.9539,-216.3195C59.3551,-203.8788 40.2909,-183.431 28.7911,-171.0966\"/>\n</g>\n</g>\n</svg>\n"
          },
          "metadata": {},
          "execution_count": 45
        }
      ]
    },
    {
      "cell_type": "markdown",
      "metadata": {
        "id": "n-QJk5h4tRa6"
      },
      "source": [
        "Como podemos apreciar el Funciona correctamente, sin embargo si contamos con muchos puntos de entrega, como es el caso, tendremos que iterar esta verificación (**O(V)**). Esto no significaría un problema, sin embargo, esta ya se encuentra en una iteración anterior, por lo cual implicaria una complejidad de (**O(V^2)**) en el peor de los casos. \n",
        "\n",
        "En el mejor de los casos el tiempo se reduciría ya que detenie el algoritmo apenas encontremos los puntos de entrega, pero nuestros puntos de entrega no solo estan distribuidos por el centro, sino tambien en las esquinas y bordes del grafo, y este al ser un algoritmo de busqueda por anchura no llega a los vertices de mas alto nivel. Por lo cual tampoco llega a ser una solución tan optima"
      ]
    },
    {
      "cell_type": "markdown",
      "metadata": {
        "id": "JNzB5_7Kvne9"
      },
      "source": [
        "# Como hemos podido apreciar la solución no resulta tan optima, por lo cual exploraremos otros algoritmos que posean una complejidad asistotica mucha menor. Estos algoritmos derivaran de BFS "
      ]
    },
    {
      "cell_type": "markdown",
      "metadata": {
        "id": "cbN8mgIjhJ6z"
      },
      "source": [
        "![imagen_2021-11-26_133302.png](data:image/png;base64,iVBORw0KGgoAAAANSUhEUgAAAlgAAAFzCAYAAADi5Xe0AAAgAElEQVR4nOzdd3hUddo+8HtqJnXSExJSIYFQpBcFBETBspZdXHSVlbXrWl5dxcV1eZddLPzW+lpWV9eGspZdRFFURJQgKEjvaYRAGpOE9MlMpv7+OJDkzEz6zJwp9+e6uC7nO2dmniAkN+d8z/PI7Ha7HURERETkNnKpCyAiIiIKNAxYRERERG7GgEVERETkZgxYRERERG7GgEVERETkZgxYRERERG7GgEVERETkZgxYRERERG7GgEVERETkZgxYRERERG7GgEVERETkZgxYRERERG7GgEVERETkZgxYRERERG7GgEVERETkZgxYRERERG7GgEVERETkZgxYRERERG7GgEVERETkZgxYRERERG7GgEVERETkZkqpC/C2PXv2YNOmTdDr9Rg2bBiuvfZaREREAABOnDiBdevWoaGhARkZGVi0aBGioqIkrpiIiIj8TVCdwdLpdPj888/x29/+FsuXL0d4eDi+/vprAIDNZsOaNWswd+5cPPbYY4iOjsaGDRskrpiIiIj8UVAFLLVajRtvvBGpqalQq9UYO3YsqqurAQBVVVVQKBSYMGECNBoNZs+ejYKCAokrJiIiIn8UVJcIY2JiEBMTAwBoa2vD7t27kZubCwBoaWlBZGRkx7FarRYGgwFmsxkqlUqSeomIiMg/BVXAOudf//oXioqKEBcXh4ULFwIALBYL5PLOE3rn/ttisbgMWF988QWGDBninYKDWN6GmxBWd7TjcfHFL6E59XwJKyKi/vp7+dfYWH9YtPbHtMswP3a0RBVRsJPbWhDb9gFiW9+BHKaOdX3Ur5E462O3fEZQBqzbbrsNRqMR33zzDT7++GMsWbIESqUSNput45hz/93d2asVK1Zg9+7dXqk3qH14SvQwZ861QFSyRMX4jz179mDSpElSl0GED4q3OoWrG3Jm49FZN0lUEQU1uwXmsldgLnkcdlOd09NhzZ+47aOCag9WTU0Njh8/DgDQaDSYNm0aTp48CUC4JNjU1NRxbGNjI8LCwqBUBmUG9Q31ZUB7a+fj0GiGKyI/cqyhHA/veFu0lqmJx9PTfydRRRTMLJVrYMjPg+noAy7DlTx8OKpinnLb5wVVwGpra8OaNWtQXV0Nk8mE3bt3Y+jQoQCA5ORkyOVy7Nq1C0ajEfn5+cjLy5O44iBXfUT8eMgYaeogon7Tm424ZctL0JuNHWvhKg2WZ/wC4SqNhJVRsLGe2QLDDxPQvn8xbPoSp+dlIckIGfsaQmcfQ0vIRW773KA6PZOZmYl58+bh7bffRltbG7Kysjr2YMnlctxwww345JNPsH79emRkZOD666+XuOIgp3O4i3PoeGnqIKJ+u3/7GzjWUC5ae2b6zchsDpeoIgo2tub9MB1bCmvdty6fl6miocp6AMqshyBTRrj984MqYAHAjBkzMGPGDJfPZWRk4MEHH/RyRdStUw573JJGSlMHEfXL2wWbsbb0R9HaDTmz8ZucC7Fnzx6JqqJgYdOXwFzyBCwV77g+QKaEKuMuqIY/BlmI57adBF3AIj/ieAYrmXccEfm6Q/Un8ejOd0VrY2MzuO+KPM5uboS5+K8wn3wNsBldHqNMuR6q3JWQhw/3eD0MWOS7ahwCVgr3YBH5siZTG2789lkYreaOtXCVBu9e9AD3XZHn2Iwwlz4Lc+kzsJsbXR6iiJsDdd7TkGsne60sBizyTboCoMvmWITHC7+IyGf9/odXcaq1VrT20sw7kM27f8kT7BZYKtfAVLAM9vbTLg+RR42HeuQqKBIWeLk4BizyVTWF4sfp3vtXBxH138uHN2DDSfG+yTtGLcCvstgYmNzPqvsMpoJlsLW6HmknC82EOncFlKk3AjJpog4DFvmmiv3ix9zgTuSzdugKsWL3B6K1CfHZeHLqbyWqiAKVtX4bzEXLYT2zxeXzMlU0VMP/DFXmPYBc2svSDFjkm6rFnZ8ZsIh8k87QiCXfvQCLzdqxFqeJxLsXPQClXCFhZRRIbPoSmAqWwnr6U9cHyDVQZT0A1bA/QqaK9m5x3WDAIt/keAdh6jhp6iCibllsVtyZ/w/oDOKNxa/PvhfpEQkSVUWBxN5+GqbC5ULLBbvF+QCZEsrUxVCPWAmZZqj3C+wBAxb5HrPROWCxizuRz3li73+wpeqQaG3p+F9iXup5ElVEgcJuboSl7P9gKlnVbcsFReIvoB75FOSRvvnzgQGLfE9NAWDr8i+V2EwgxP1ddolo4DaW78PzBz8Trc1JGYs/jl8oUUUUEHoZxgwA8ujpUI98Coq4OV4urn8YsMj36BzuIGT/KyKfUtp8GnfkvyxaSwmPxT9n/577rmjALJVrYC5e4XJeICAMY1aNXAVlsn+EeAYs8j2OI3J4eZDIZxitZiz57gU0mdo61pRyBd6acz+SQn1jczH5F+uZLTAdfRC25v0un5eFJAstF9JulazlwkD4T6UUPBw7uKdyyDORr/jDj2/iUP1J0drjU27E9KQRElVE/krqYcyexoBFvqfKsUUDv3ET+YL3ir7Hv4vzRWsLsy/AXaMvk6gi8ke+MozZ0xiwyLcYGoH6ss7HciUvERL5gH11pVj609uitVxtCl6ccbtEFZG/8bVhzJ7GgEW+xbE9Q9JIIWQRkWTOGFuw5LsXOMSZBsZHhzF7Gn9ykW8p3yN+zA7uRJKy2Ky4c+srLoc458WkSVQV+QUfH8bsaQxY5Fscz2BxyDORpP7f/rX4tuKAaO3u0ZdxiDP1yB+GMXtaYH5V5L84g5DIZ2ws34en968Trc0cMgorp9woUUXk6/xpGLOnMWD5G7sNsFoAuTww9yZVOPRB4QxC6obdbof17IBhpSIA/y5IrLT5NG7Z8qJoLSk0Gm/OuY/NRMmJPw5j9jR+V/IXzaeBk3uBmmLA2AIoQ4DoVCBjMpCQBShUncdaTEDxD0B7K5A1DdAO8jZXYzNQ9AOgUAJZU4GwmMG9X3caK4S7CM8JiRDG5BB10WpoRmnVMZzSlUBvbIFcJkdMZAKyhoxAetJwqJTqjmOtNgvKqotQWXsCuWnnITmu/3uGGlrqcLzyKGQyObJTRiImMt6dX06/tJuNOF5xFA0ttRiVNcljtejNRty4+TnozZ13einlCrx70QNsJkoi/jyM2dMYsPxB3Qlgz3+AfR8BuoOA1SqcwYpMBXIvAWbcDmRO6jyjdboA+OFVIDYLSJ/onhpKfwSqDgHqMGD4TEAmc8/7dlUp3ufB9gzkqKGlDj8f24Kt+z/HidPH0G42QCFXIiJUixFpE3DRpGswIecCKM/+g6OuUYfv965HfUsNsoYM7HJzTUMVNu1eC4Vcgciw30kasACgorYU+Qe+gA12zBy7ADIP/F28f/sbONZQLlp7atpNbCZKHQJhGLOnMWD5OlMbcGgDsO1lYQDy+MVAch6grwcKvgb2vguowoDIBCAhWzj+2CagthAYe1X/zl6Z2oDP/wIUbwYyZwLnLwEyJgGaKGDoeKDoW6BoC5A8AohMdP/X6rjBfSg7uFMns8WEglP7seGn99HYWovzsi/AsNRRMJnbcfTkHuwtzofNbkVcVCKyU/JgtphQXHEIR0/uxqTc2QM6ewUAFqsZTa1noFSoYLaYe3+BB4WoNBiakA2lXIn9RdsxIu08JMakuPUzXj68AWtLfxStXTdsJm7Pm+/WzyE/FUDDmD2NAcvX6YqBgk1AWy1wwb3ArDuB+CzA0ARohwBbXwCOfArkXAjEZQhnr4q3AJHJQGKOcFnv1D7h0mLicMBiBmpLAFUoMCQPiMsE1KHCZcUtrwD5zwITFgMntgEFG4DlBcLlx7RxQHQ6cGSDcAZrhAcCFmcQUg/ONNfgQMkO1DSWY3LuRfjV7FuQkZwDk7kd6QXDsW5rKwpO7cP+4h+RkZSDuiYdDpXuBABkp4yESqlG9ZlylFQcRmxUIsI0ESjXHQcApCZkIiU+A6Eh4X2qxWqzQFdfiZLKo2jRN0AuVyApdiiyhozoOMNlMrejsq4MZdWFsNqsSInPQIhKA119BVITspCRnOP0vn2pLyk2FZnJI7C7aAuOnNiNxJir3PHbCwDIrzqMFbs/EK2Njc3Acxfc6rbPIP8VaMOYPY0By9edPgbUFQFJ44DRlwOJwwDIgPBYYOQ8oPh74NBnQmhqbwVO/AxU7gEm3SQEMTuAo98AO/8FpEwUwlLlXuG9M6YLgS1zKmCzAmU7gTELgSVvC2eqXr8cKNkGjJgLxKYLZ86OfwtUHBJe08cfRn3meAaLG9ypizNNp1FWXYC4qGRMHDELWSkjIYMMoSFKjEgfh5EZE/HlzvdQUVOKVmMLqmpP4MiJXUhPzO24PFhaeQwfbH4JSTFpiItKwonqArS1tyArOQ+zJ1yJqXlzer3kZrNZcaKqEBt//g+OlO2C0aSHQq5ETGQCzh81HzPHXYqYyHgUlR/CVzs/REnlQdjtQHpiDtSqEJyuL8fFkxa6DFh9qU8bEYuM5FzkH/wcReWHMDVvLsJDIwf9+1ulr8ctW16E5eyNAwCgVYdhzcUPsZlokAvUYcyeJpe6AOpFSw2grwUSRwLRQwB0+eYflwHEZQMKmXBcYyWgKwT0OiAuC4g4u1ektQ6oKQHqTwhtDybfJJzB2vMuULYbsBiFs1h3/Be44z/Cpchj3wIyORA/THgPlQaIzQDUUULoa9a59+u0WZxbNPAMFnWhN7aiobUGsVHJSIlLh6zL34XoiDgMTciGShmCVmML6hqroWuoRE1jJWIi4xEfLVwqN7TrUXXmBHQN5YgMi8as8y5HUkwafi78FgdKfoLRZOi1joaWOvx4+BvsOLYJSTFDcdWMmzFn/NUwW0z4ZvfH2F/8E2obq/HT4W9woGQb0hNzsGDKIkRHxKGo4gBqGsuhN7a4fO++1KdUqBATmQBteBx0DeU4XV8x6N9bo9WMGzc/izNd6lLKFXhr7v8gPSJh0O9P/snWvB/GnZfAuGOuy3AlU0VDnbsCoXOKoUy/k+HKAX83fJ3VIoQPhQpwvDVaEwlotMKGd6sZaK4FWmuFYzWRwuVBu73z+OFzgBm3AKFaoEUHVO4D2uoBk0EIXABgbgPWrwC2PgtcvByIS+98fVi08HlNFcIesIRs932d1YeFr/Oc6KEA71aiLmw2KyxWMxRyBRQObRnUqhBEhEZBqVDBZrOgpa0JDS11kMlkCNNEdGx6Pyc9MReXTFmIhOhkhKg0OFy2A3pDMwzteoSGhPVYh66+EgWn9kEbFotZ512O2eOvQEtbE+x2O9ZtewPFFYcQERaF4srDiNemYM74qzF99EUoqTyCRv0ZFJza0+P796U+jToUkaHRaG5rRENLLYC8fv9+dvWHH9/EvrpS0dqyCQsxL/W8Qb0v+adgGcbsaQxYvi4sBtDEAK01gKFZ/JypTWihYLUBYbFCoLK0A8pQ4b8daVOA8BghTIVqAYVcCDV2m/C8oRF4azFwcitww2pgmkMzQYVa+GU2CIHOnaqPiB9zgzs50KjDEBUWizZjC5r1DaLnzBYT9MYWmC3tCA2JgEYdBpOlHQq5EiqF2um9IsOiERMZD5UyBGGhkVAq1LDZbbDZrU7HOjKY9GjS10MbHoeEmBQoFEpEhkcjMSYVANBmbEF9cw1aDY1I0KYgPjoZCoVwCTExOrVPAau3+hQKJVRKNVqNTTBZ2vvy29etN459g38X54vWLk2biIfH/XJQ70v+J9iGMXsaLxH6uoRsICYDqNoLVBwQemABgN0KnNoLVB0AQkKFy3dRiUJ/LJNeCEHngtM5CiUgO3cWzGGfiaUd2PwiUPQVMOtBoQfVwS+AMyc7jzHpAbNeuGvRxQ+tQXFsMMrLg+QgJjIeKfFZ0DVUoOjUQbS0NQEQGo5WnzmFwlP7oVSokKAdgjhtItTKEJitJhjNBtgc/i7I5XIozrY1kYkuNvZOqVBBowqF0dSGtrN/H01m49nLfnaolGqEa6IQogqF3tiCZn09AKDN2IrG1jN9+oze6jOb22Fo10OlUEOtDOlH9WLbqo/i0Z2rRWu52hS8Oee+Ab8n+SGbEeaSJ2D4PgvmEy+4DFeKuDkInbUPIRM+YLjqI57B8nUpo4FhswHdIWDnu8Ldg3FZwpmrI18ClbuA3MuBjIlAVDIQHifcKdhaJ1z6U/d8uaODzQoc+wqw2ICv/yasqZTAdW8C598kPG7WAfoaIGsWEKZ179dZ47DBPY0zCEksIXoIzsuehqLy/dhxdBPkcjnSEofDbDXhaNkeHCz9EVnJo3He8OnQhsdAGxEHm82KZn0DDO16hGsGvxEcABJjUjAsdTR+OvoNfjy8CVarFS2GJuwt2oqosFikJ+Uga8gIZA3Jw88Fm7H1wJeob65FRW0piisPuqWGVmMLzrToMDQ+G9ERcQN6jyp9PW7d8pJoU3u4SoP3uak9eAT5MGZPY8DydRHxwMRrhTsED3wEfPsEEJEMtDcJZ5QyZwmNRpNHAko1kDAciEgQOr8bmvoesNRhwNKfun/eZhH2bZlagcRc9/fBcmzRwIaG5CBME4HxuRegSV+PrQe/wOc/rUZMRAIsVjP0xmakxmdj/pRfY2TGOKiUIUiMHoIEbSpaDc1oaq13W8CK1yZj+uhLUF1fjn3FW1FadQQWqxntZgOmj1qAibkzMSQuDReMmY/6Zh0Ol/2M41WHEROZiPCQSBjaWwfVHNRmt6HV0CRcgoweMqA+WOc2teu6Tk4A8Nac+5GrdW9fLfJNfR7GPHSJlysLHAxY/iB1NHDhXUDqeUBNkXD2SqkBYoYCWdOB1DHCXX6A0Lk9aSxw5gTQUivceTj6UiF0ZU3r3Cg/Yq6wET5jct9CWEst0FQNxA4Xzqq54bbwDvo6IRCeo9JwyDO5lBidgnmTrkFKfAZO6oqhN3SOyhmWOgo5aWOgOfvneUhcOnLTxqGmoRI1DVVIic9AdmoeFl/yELKGjIBCIfxdyEjOwXUX3Yfk2KEIC4lw+ZnzpyyCXC5HYkwKVEo18jLGQ628C8dO7kezvh5yuQLJsWkYlTkRaUnDYLfbkZ2ahytnLEFl7QmolCqEqEJx8PgO6I1NCNc4fw6APtWnN7SgrvE0IjRaZA3JQ2RY/28Gcb2p/VosSJvQ7/ci/9KnYcw5K6DKuDPghzF7GgOWP5DJgaQcoQdWeyvQrhfOVmmixDMIASBlFJA9AzjyhdCyIWUUkDdP+NVV7oXCr746uVfoDj/iUiFg9WvXSi8cR+QkjgzMQdY0aDKZDHHaJMwYuwCTR86GoV0PuUyOME2EaAYhACTEDMGYrCn4qqYExyuPYHTWJGSnjER2iji8ZyTnuOxJ1fV9LpokbuYZGhKOMdlTMCJ9XEcNoZoIKM7+A6a+pRYHSnag+swppMRnIDl2KE5UF6Ky7gS0EQlIiHZ9lqgv9RWXH0Zx5SEMTx2L0VmT+n02rLtN7csmsDlkIOMwZu/jTzF/IpMLoUoT1f0xYTHA6MuES27HtwsNQeMHOTBZ3wAUbxXuThy1AOjmh8OAVTn0v+IdhNQLmUwGjToUGnVot8do1GEYlTkRBaf2o6j8ICpqTyBriHsvPauUaqdgBwBymRzN+nr8eORrKORKxEYmorapCu0mAy4cd2WPga4nhvY2FFceRrO+HvMn/xop/fy7zU3twafPw5hHPsWWC27GgBWI0sYBc+4X9mC5atfQb3bh8uLwmcJsQnefXap0uIMwlQGL3CMpdijmT/01KmtKoXI82+tB2ohYnD/mEsRGJeD0mQq0GBqRnTIKybFpyMuYgPj+zAgVsSMlPhOXT78RY7KnQNmPv9+nWmux5PsXuKk9SPRpGHPyNVDnrgzaYcyexoAViNRhwOgFAOzAIDbTdgiPASZcA0Dmnvdz5NiiIYV/2ck9VEo1RqafhxFpY+HWy9q9kMlkSIxJQWJMCswWE4ymNqG9gzpsUBvcQ0PCMW7YtI7P6Cu92Ygbv3XRqZ2b2gMPhzH7DAasQCWTwX0/UDwUrADh7kTHFg2cQUhuJRtUqBms7i4jDtRAvpb7t7+BQ/UnRWvLJizkpvYA05dhzOq8Z6BIutrLlQUnBiySlq4AMHc5fR09FAiPl64eogDzzIF1WFv6o2jt6sxp7NQeQDiM2Tfxd5qk5XgHITe4E7nNxvJ9WLVvrWgtLyYN/5h1l0QVkTvZmvfDdGwprHXfunxeporuuDOQLRe8jwGLpMUROUQeUdRUhVu2vCja1B6nicRHlyzlpnY/16dhzJn3Ci0XeGegZBiwSFrVDi0aOCKHaNCaTG24ftPT0He5/K6UK/Du3AeQHpEgYWU0GBzG7F8YsEhaHJFD5FYWmxVLvnsBpc3i2XJPTbsJM4eMkqgqGhSbEebSZ2EufQZ2c6PLQxRxc6Ae9TzkUdxm4SsYsEg6zaeFMTnnhETwEiHRIC3ftQZbqg6J1m7KnYvb8+ZLVBENGIcx+zUGLJJO+R7xY84fJBqU94q+x6tHvhKtTU8agecuuFWiimigOIzZ/zFgkXR0Dt840rn/imigdugK8eCPb4rWUsJj8e5FD0B5bsg7+TwOYw4cDFgknbId4se8PEg0IKdaa7HkO+cxOB9d8giSQjm41x9wGHPgYcAi6TiewUqbJE0dRH7s3BgcnUG8+fnVWXdjbGyGRFVRX3EYc+BiwCJptLc6t2jgGSyifrtj6ysuxuBci6syp0pUEfUFhzEHPgYskobj2aukkcJdhETUZ0/s/RgbTopbnSzMvgDLJiyUqCLqFYcxBw0GLJLGyZ3ixzx7RdQvHx/fhqf3rxOtjY3NwIszbpeoIuoNhzEHFwYskgbvICQasF01xbh/2+uitaTQaHx0ySMcg+ODOIw5OPH/JEmDdxASDUiVvh6LNz8Ho9XcsaZRqPD+vD8gJTxWwsrIUd+GMf8PVNkPCS0XGK4CCv9vkjQcN7hnTpOmDiI/ojcbcd2mvzvdMfjizDswJTFHoqrIUZ+GMWfcBlXSxZDFc79coGLAIu+rPgx0GUKL8HjhFxF1y2Kz4tYtLzndMbh0/C+xaNhMiaqirvo6jFmZ+XsoYmZ5uTryNgYs8r7KA+LHWdOlqYPIjzyx9z/4unyvaO2KjMl4bOIiiSqiDv0ZxhwxApCHerlAkgIDFnlfhcNGT+6/IurRe0Xf4/mDn4nWJsRn4/UL75GoIgLAYczUIwYs8r5Kh4CVxjsIibqzrfqo04zBpNBofHjJUt4xKCEOY6beMGCR950SN0ZE6jhp6iDycUVNVVjyvfOMwQ8vWcoZgxLp/zBmG2BpAtpPCvuyQlIBVRIgU3fzAXrAUie8VpUIQNZLQS2A+QygiABU3MvqSxiwyLsaK4Cud0CFRAAJw6Wrh8hHnTG2YPG3z+KMsUW0/sbsezAhPluiqoLXgIYxGwqAqv8D6t+C3WoS1mSALHwaMGQZEHMZIA/pfA+7Baj7CNC9DCTdDyT9rvfC2k8BlU/BDgVk6X8DQjh/0lfIpS6Agkz5HvHj1PHS1EHkwyw2K5Z8/wKKmqpE63+etAiXsymvV9nbT6P94O0w5Oe5DlcyJZRDf4ewi04IA5nPhau2I0DF47DXvga71QSZMgIyVSJkkMHeuhP2Uw8JYaor/WGgcQPs6kwgYlLfCgwdDkRMhaz1O6Bh4+C+WHIrBizyLsfLg/xhQeTk/u1vYFv1UdHaDTmz8fC4X0pUUfA513Kh7bssWMr/JZxdcqBIvgahs/YhZNzbkIUkdz5hMwBN3wMNHwHKGMiGPg6MLwcmVgAjNkIWcQHQXgp7wxfCWS5AuHzYsh1o/hKy0JFA2Ii+FSoLATQ5gDwa9qZvO9+PJMdLhORdjhvcGbCIRJ45sA7/Ls4Xrc0cMoozBr3FHcOYDYVA8xbYbRbI4n8DJN8FKM+e2Yq+GLCcgexkMez6H4HmbUDoSKCtAGj+DnZVOmRhY4Q9Wm1HhLNcdisQNhYwHhNCWEgWEH89EHk+IA8DNNlA+BSg+SugKV94P5IcAxZ5l1OLhtHS1EHkgz458RMe3/OxaC1Xm4J35z4ApVwhUVXBw23DmC2NgLkKCMkEIqYAyrguT8qA0FFA5Fyg8RPArBOW20sB/S4gbBIQdrZ1jbkeaMmH3bAPMpkadvOZzrdp2QJZ6l+AhMWAJhMIGwfZmbcBw1Fh47sicuC/EeQWvERI3qOvEza5n6PSsAcW0Vk7dIX4/dZXRWtxmki8f/FDiNPwh6UnWc9sgeGHCWjfv9hluJKFJCNk7GsInX2s93AFnA1Y1UKwUrq4s0+pBZSJgM0Cu+UMYG0A2k/CbioXXqNKPHug/WyBLUDUpZCN3QtZzieQhU8B2ksAwzEANuEyoTIekIfD3l4GGI8P+PeC3IdnsMh7ynaKHw8ZA8j5R5CotPk0lnz3gmiAs1KuwJp5DyFXmyJhZYGtb8OYhTsDhZYLfWUF7GYACkDm6syjvHPdbgUszYClQXisCAMU4eLD1elA1DwgfAKgTgFaLwL0u2C36iGzGQB5OKAIBRQxgLVJaAtBkuNPN/Iex/1XmRyRQ9RkasP1m552GuD8j1l3YXpSHzc6U7/0aRhz5r1Cy4Wum9f7ShENqFIBa2NncOrK2gpY6gG5HDJlnBC2rK1nPzvUeZSOIgZQxnTUBlnX1g7natYIlwVt+s73IkkxYJH3ON5ByMuDFOQsNitu3PysUzuGZROu5QBnD+jrMGZV7krIwwfRn08ZA6iGAG27gLaDgO0aYTP6OcYSQL8DUCQIlwPloUKjUKAzICm7NpKVodeGo7Y24VKjMsH5DBhJgnuwyHscN7in9bHPC1GAuueH15zaMVw3bCaWTVgoUUUBymaEueQJGL7PgvnECy7DlSJujtByYcIHgwtXABCaC0RdCJlMBnvDf4DaDwBbu/Bc636g9h3YjcVA+PlA5AVC+FJqhect9YDlTPfv7ZJdCFdmHaCIEn6R5HgGi7zD0AjUl3U+lit5BouC2qp9a0K76kcAACAASURBVPHR8W2itelJI/DKrLskqigASTWMWREBRM8HWncD9R/AXnY7ZFUrAXkkYDoOu9UAhGRBFnsNEH6e8BpVKmSqWGHTu7kW0Azr++dZWwFzLex2u3BpUpPuvq+FBowBi7zDsYP7kDHCXYREQeiD4q1Yte+/orVcbQrWzHuI7RjcRPJhzGFjgLQVkKligbo3YG8/2fnZEdOBlEeBmEs7j9cMA8LOByynAbPr/lvdsjQC5hpAGQtZ6GjXdy6S1zFgkXc4Xh5kg1EKUvlVh3Hf9tdFa0mh0fjwkqVsx+AG/R/G7EGhuUDWi0D6SsiMp4QO7+pUQJ0EyFQQ7asKHQ5ETIOs5jlhjxYAaC8EtFvEu6+UcUD6CsjS/4KOvVlth4QO7mETgYiJnv2aqM8YsMg7ynaIHw/lDEIKPscaynHD5mdhsVk71sJVGrx70QPIjhrA3WrUYUDDmL1CLtwFGB7T82HKGCBqNtC8CfaWHyEzXHq2I7urze1dNr3b2wH9XsCwG7Kkh4DIaW6unwaKAYu8w7FFQwa/CVBw0Rkacc3XT0Jv7txgrZQr8Oqsu9mOYRDs7adhKlwutFxwMS8QMiWUqYuFQcwDabngTZGTgdhrIdO9CDRt6dvIG/1RoOlb2CPmQBZ7tdDGgXwC/0+Q5xkagdou3ZG5wZ2CjN5sxDVfP+nU62rF5N/gqsypElXl3+zmRljK/g+mklXdtlxQJF8Dde5KyCP95PuNPAxI/B0QfcnZtg429HqzvyYDSPsbZMoY4fIj+QwGLPI8bnCnICb0unoOxxrKRet3jFqAe8dcIVFVfswdw5h9mSIKCO1HmwVlrPCLfA4DFnkeN7hTELt/+xvYUnVItHZFxmQ8OfW3ElXkv9w2jJnICxiwyPO4wZ2C1BN7P8a/i/NFa9OTRuD1C+9hO4Z+sJ7ZAtPRB2Fr3u/yeVlIstByIe1W7kEin8E/ieR53OBOQejtgs14ev860VquNgXvXvQAwnmJvE88N4yZyPMYsMizuMGdgtDG8n1YuuNt0VpSaDTev/ghJIV6s0WAf/L4MGYiL2DAIs/iBncKMrtqinHLlhedel29P+8PyNWmSFiZ7/PaMGYiL2DAIs9y3H/FDe4UwIqaqrB483NOva7emH0PpiTmSFiZj7MZYS59FubSZ2A3N7o8RBE3B+pRz0MexT2c5B+CLmDt3bsXmzZtQktLC9LS0vDrX/8asbHCLa4nTpzAunXr0NDQgIyMDCxatAhRUZxKPiindosfM2BRgNIZGnH9pqedel09Pf1mXM4/965JNYyZyAt66WAWWKqrq7F+/Xr85je/wf/+7/8iNjYWn34qjFWw2WxYs2YN5s6di8ceewzR0dHYsGGDxBUHAMeAlckN7hR49GYjrt/0NEqbxSFh6fhf4uaR8ySqyrdZdZ/BsHUs2g/8zmW4koVmImTcOwidtY/hivxSUAUsg8GA+fPnIz09HWq1GpMnT0ZtbS0AoKqqCgqFAhMmTIBGo8Hs2bNRUOB6Cjv1kb4OaKzofKzScIM7BZxzjUT31ZWK1m/ImY3HJi6SqCrfFWraD+OOuTDuvga2VufvsTJVNNSjXkDYnGNQDl0iQYVE7hFUlwizs7ORnZ3d8bi0tBTDhg0DALS0tCAysnOSvVarhcFggNlshkql8nqtAaFsp/jxkDHCXYREAeTOrf9waiR6adpEvDjjdokq8k3nhjFn1H8Kq6sDJBvGTOQZQfvTrrKyEjt27MC9994LALBYLJDLO0/onftvi8XiMmBdeeWV2LNnj9M6dRqyfz263jNVE5aNcv6eeQ3/fHreP6q+x9pa8e/zqPAU3KudiQP7XDfFDDZK2xnEt7wKreFzyFxEKzsUaA69HLWR98KijwMOHpegSiL3C8qA1djYiNWrV2PRokXQarUAAKVSCZvN1nHMuf/u7uzV559/jr/85S+eL9af7akSPUycfDkSJ02SqJjgsmfPHkzi77VHvXbkK6dwlatNwbrLl7PXFfo3jDkicgzYwIJ8gTv/YRp0ActoNOKtt97CggULkJPTedu0VqtFU1NTx+PGxkaEhYVBqQy63yL3OeHQoiGNP/ApMHx8fBuW7VwtWksKjcaHlyxluAr0YcxEfRRUm9ytVitWr16NiRMnYuLEiaLnkpOTIZfLsWvXLhiNRuTn5yMvL0+iSgNAfZmwyf2ckAhucKeAsLF8H37/w2uitXCVBp9e+idkRwV3V3FL5RoY8vNgOvqAy3AlDx+OyphnETrjJ4YrCnhBdXqmuLgYJSUlKCkpwZdfftmxfvPNNyMvLw833HADPvnkE6xfvx4ZGRm4/vrrJazWz51yOM2ayuaA5P926AqdurQr5Qqsnb8MeTFpElYmrf4MY27Ze8DL1RFJI6gC1siRI/H3v/+92+czMjLw4IMPerGiAObYwT1zujR1ELlJUVMVbtz8rFOX9rfm3I/pSSMkrEw6HMZM1L2gCljkReWODUYZsMh/VenrceWXK3HG2CJaf2raTbgqc6pEVUmHw5iJeseARZ7hNCKHG9zJP+kMjbjm6yecRuAsm3Atbs+bL1FV0uAwZqK+Y8Ai96s+DLS3dj4OjwdiM6Wrh2iA9GYjFm9+DkVN4pYjd4++DMsmLJSoKglwGDNRvzFgkfs5dnDP4uVB8j8WmxULv1mFXTXFovWrM6dh5ZQbJarKyziMmWjAGLDI/bj/ivycxWbFrVtewg5doWh9TspYvDnnPijlCokq8x6r7jOYCpa5nBcICMOY1bkrOC+QqBsMWOR+jg1G2aKB/MwffnwTnzmciZ2eNAJr5v0h4MOVtX4bzEXLYT2zxeXzMlU0VDkroMq4k3cGEvWAAYvcy2wU9mB1lT1DmlqIBuDRnauxuuh70VquNgXvXvQAwlWBGyjODWO2nv7U9QEcxkzULwxY5F7luwGbpfNxwnAg2EeHkN94+fAGvHrkK9FaekQCPg/g+YL29tMwFS4XWi7YLc4HyJRQpi6GeuRTbLlA1A8MWORejh3cuf+K/MRrR77Cn39+X7SWFBqN/y5YFpDhqj/DmOWRHHNF1F8MWORepdvEj9MmS1MHUT+sL/sZf961RrR2br5grjZFoqo8hMOYibyCAYvcy3FEDvdfkY9bX/az03zBcJUmIOcLWirXwFy8AjZ9icvn5eHDoc57Boqkq71cGVHgYcAi92k+DTRWdD5WaYAhvLRAvmuHrhB35L/sNLx59UUPBtR8wf4MY4aMPxaI3IF/k8h9Tjo0GE0dL4QsIh+0Q1eIhd+sgtFq7lg7N7x5Xup5ElbmPhzGTCQdBixyH8fLg9zgTj6qqKkKC79ZBb1ZvLn7+QtuDYjhzRzGTCQ9BixyHwYs8gNFTVW48suVTuFq1bSb8NvcuRJV5R4cxkzkOxiwyD1sFuCU44icadLUQtSN0ubTuPLLldAZxAOLl024FneNvkyiqtyAw5iJfA4DFrlH9WGgvbXzcVQyEJspXT1EDnSGRly/6WmncHX36MuwbMJCiaoaJA5jJvJZDFjkHqXbxY95eZB8iM7QiCu/XImipirR+t2jL8NT026SqKrB4TBmIt/GgEXu4Xh5MHumNHUQOWgytbkMV1dnTsPKKTdKVNXAcRgzkX9gwCL3cNzgnjZJmjqIutCbjbhu099dhqs359wHpVwhUWX9x2HMRP6FAYsGz9AI6LpcppArgXSOyCFp6c1GLPxmFXboCkXrl6ZN9KtwxWHMRP6JAYsGryRf/HjIGCAkQppaiNB9uJqeNMJvwhWHMRP5NwYsGjzHy4M5HBBL0rHYrFjy/Qsuw9Xa+csQ7uvTBTiMmSggMGDR4LHBKPkIi82KW7e8hG8rDojW/SVccRgzUeBgwKLBYYNR8hHnwtVnZeKZmLnaFKyZ95BPhysOYyYKPPybSoPDBqPkA3oKV59fvhxxmkiJKusZhzETBS4GLBqcYocN7rw8SF7WW7hKCvW9lgUcxkwU+BiwaHAc918N56Zb8h5/C1ccxkwUPBiwaHCcNrhz/xV5zyM73vGPcMVhzERBhwGLBq6xAqgv63ys0gCp/OFA3vHoztV4q0C8dykpNBrvX/yQ74QrDmMmCloMWDRwjgOe0yYLIYvIwx7duRqvHvlKtJYUGo3PL1+OXG2KRFWJcRgzUXBjwKKBc7w8OIwDnsnzfD1ccRgzEQEMWDQYxQ4/QHgHIXmYL4crDmMmoq4YsGhg2luFHlhdDZ8tTS0UFHw1XHEYMxG5woBFA1O6Xejifk7SSMBXNhZTwPHFcMVhzETUEwYsGhgOeCYv8blwxWHMRNQHDFg0MCXcf0We52vhisOYiaivGLCo/1wNeOb+K3Iji82Ke354DR8d3yZalypccRgzEfUXvxNQ/53azQHP5DHdjb+RIlxxGDMRDRQDFvWfww8+zh8kd/GVcMVhzEQ0WAxY1H/cf0Ue4AvhisOYichdGLCo/xwbjOZw/xUNjuThisOYicjNGLCof6oPA4YuP4BCozngmQbFaDXjzvxXnMJVrjYFn1++3LODmzmMmYg8xKMBq6WlBV9++SWOHDmClpYWREZGYvTo0bjiiisQERHhyY8mT3Ec8Mz5gzQIerMRC79ZhR26QtG6N8IVhzETkSd5LGBVVFTgwQcfRH19vWh9+/bt+O9//4sXXngBqampnvp48hTHy4PZDFg0MFKFKw5jJiJv8FjAeuWVV2AwGPDII49gypQpiIqKQktLC3bt2oWXXnoJr7zyCp588klPfTx5iuMGd/a/ogGQIlxxGDMReZPHAtahQ4dw1VVXYcGCzn0LMTExmD9/PsrLy7Fu3TpPfTR5Sm0J0Nxln0pIBJA+Wbp6yC/pDI24duMqHKo/KVqfEJ+NDy9Z6vZwxWHMRCQFjwWskJAQ1NW5ntNVU1MDjYan3v3OCYf9V5nTATnvk6C+0xkaceWXK1HUVCVan540AmvnL0O4yn3fFziMmYik5LGfjhdeeCHWr18PAJg6dSqioqLQ3NyMnTt34rvvvsOvfvUrT300eQr3X9EgVOnrcc3XT3g+XHEYMxH5AI8FrDvvvBM6nQ6bN2/G5s2bRc9dcMEFuO222zz10eQpjgGL+6+oj4qaqnDllyuhM4h7TM0cMgofXbzUbeGKw5iJyFd4LGBpNBo8+eSTKC4uFrVpGDNmDIYPZwdkv1NfJvw6R6VhB3fqk+7C1dWZ0/DmnPuglCsG/RkcxkxEvsbj32lycnKQk5Pj6Y8hTyvJFz/OnC6ELKIe7NAV4rpNf0eTqU207q5wxWHMROSr+E856huny4Pcu0I926ErxMJvVkFvFm8wv2Xkxfj79N8NKlxxGDMR+ToGLOob7r+iflhf9jPuyH8ZRqtZtH736Mvw1LSbBvy+HMZMRP6CAYt6x/1X1A+fnPgJd+S/AovNKlpfNuFaLJuwcGBvymHMRORnGLCod9x/RX302pGvsGznaqf1VdNuwl2jL+v/G3IYMxH5KQYs6h33X1EfrNq3Fqv2/Ve0ppQr8PwFt+K3uXP7/X4cxkxE/owBi3rH/VfUi0d3rsarR74SrSnlCrw1535clTm1X+/FYcxEFAgYsKhnugLuv6JuWWxW3Ln1H1hb+qNoPVylwb/nPYTZKX0fQcNhzEQUSBiwqGeO+6+Gz+H+KwIA6M1G3LrlJXxdvle0rlWH4aNLHsH0pBF9eh8OYyaiQMSART1zvDyYw/1XBDSZ2nDdpr9jh65QtJ4UGo3PL1+OXG1Kr+/BYcxEFMgYsKhnJdx/RWI6QyOu/HKl09DmXG0KPrxkKbKjejnLxGHMRBQEGLCoe5X7geYut8aHRADpk6WrhyRX1FSFa75+AlX6etH62NgM/HfBMiSF9rw3isOYiShYMGBR94od9l+NuBiQ849MsNqhK8SS715wGto8PWkE1s5fhvAe9uZxGDMRBRt+J6PuFTkM0GX/q6C1sXwfbtnyotNcwaszp+Gfs++BRqFy+ToOYyaiYMWARa7ZLM4b3PPYKTsYfVC8Ffdtf91p9E1PQ5s5jJmIgh0DFrlWtgNob+18HJUMJI2Urh6SxAsH12PF7g+c1rubK8hhzEREAgYscq1ws/jxiIulqYMkYbFZ8aef38PrRzeK1pVyBZ6adhNuz5svfgGHMRMRiTBgkWuFDntmGLCCht5sxO9/eA2fle0UrYerNHh11t3i0TccxkxE5BIDFjlrbxUuEXaVO0+aWsirdIZGLPnuBacGoq66s3MYMxFR9xiwyFlJvrDJ/ZykkUD0UOnqIa8obT6N6zc97dRANCU8Fp9e+lhHd3YOYyYi6h0DFjk79rX4cd6l0tRBXrOrphiLNz/n1OMqLyYNn176JySFRnMYMxFRPzBgkTPuvwoqX57ajdvzX3HqcTVzyCh8dPFShNka0X7wdg5jJiLqBwYsEqsvA3Rd9tTIlZw/GMDeOPYNHt252qnH1XXDZuLl6dcDZf8PbRzGTETUbwxYJHZMfFs+hs0UZhBSQLHYrPjrng/x0qEvnJ5bOv5qPBKjg3nrSA5jJiIaIAYsEnO8PMj9VwGnuzYMSrkCz+aNxqLm5TBVcxgzEdFgMGBRJ5vFOWCxPUNA0RkasXjzc9hVUyxaD1eq8K+kE7iwbg1sLl7HYcxERP3D75TUqWwH0PUusqhkIH2ydPWQWxU1VeHajatwqrVWtJ6otOF97RcYbWlweg2HMRMRDQwDFnVy3H/FuwcDRn7VYdyw+VmnOwVHKJvwYcz3SJQ7bGLnMGYiokFhwKJO7H8VkN4r+h4P/vim052Cc0Oq8bp2O8Jk4tYLHMZMRDR4DFgkaD4NnNotXsvj7Dh/1tOdgjeFlmBl5B4oZfaONQ5jJiJyn6ALWDU1NTh06BAOHz6MK664AsOHd/4r/cSJE1i3bh0aGhqQkZGBRYsWISoqSsJqvajA4fJg5nQgPF6aWmhALNZ2/GvHSmzXlaDF2I6wUht+1CsBqDuOUcrs+FPEAdwZ1tnrjMOYiYjcTy51Ad723nvvwW63w2AwwG7v/Ne7zWbDmjVrMHfuXDz22GOIjo7Ghg0bJKzUy47y8qA/q6w/gtkfXo9lhcfxeaMMW4wafNkSBhmA0Uph83qYzILXtds6wpUsNBMh495B6Kx9DFdERG4WdGewHnroIQDAoUOHROtVVVVQKBSYMGECAGD27Nl4+eWXvV6fJGwWF/uv+APXnzy4+a840u58l1+DTQ0VrMhStOKf0dsxWtnAYcxERF4QdAGrOy0tLYiMjOx4rNVqYTAYYDaboVKpJKzMCxzbM4THC5cIyS+U6HbimxZFt8/X2ELxeNQejFYboMpaxmHMRERewIB1lsVigVzeecX03H9bLBaXAevKK6/Enj17vFafJ6XsewdDujyuT56KEwHytQWDPbUf9XpMsW0oSuJfhkUfBxw87oWqiLoXKN87iXrCgHWWUqmEzdbZw/rcf3d39urzzz/HX/7yF6/U5nHfiEemxM64AbGTJklUDPWV3dyIxuKn8XLDzwDSejw2O2kyxk2Z753CiHqwZ88eTOL3F/JR7gz/DFhnabVaNDU1dTxubGxEWFgYlMoA/y1qrACqD3c+liuB0VdIVw/1zmaE+eQ/UVr4DG6qGYsyawpi5CY02NTdvmRmxmwvFkhEREF3F2F3kpOTIZfLsWvXLhiNRuTn5yMvL0/qsjzviMOdkpnTgVDuz/FVlso1MGwdi/z9T+Ky01NQaNGi3a5AlqKl29fcmhyKSZkMzURE3sSAdZZcLscNN9yAbdu24YknnkBTUxOuuCIIfigd/FT8eMwvpKmDemSt2wzDDxPQvn8x3q0Frm+ci3pbSMfze81xWBDRhkxVe8dalNyMVSOG4dnL35KiZCKioBbg17+69+CDDzqtZWRkuFwPSPo64Ke3gIJN4vWxV0tTD8F6ZgusNRtgN1ZAHjkGytQbYTc3wnRsKax138Jil+HRlin4t2GY02sXZk3DizPvQrhKg7rmk/j5wFZcPuu3EnwVREQEBHHACmpFm4G3rxdCVlfqMCA2U5qaglz7wdthKf+XaM1cvAJ2mzAnsMamwW1Ns7DHFOf02j9PWoSHx/2y43F8VAaSwkZ5tmAiIuoRLxEGG32d63AFAKY2YMNy79cU5MwnX3EKVwA6wlWBRYsFZy51ClfhKg0+uuQRUbgiIiLfwIAVbHa+6zpcnbPlBcBs9F49BHPJqh6f32VOQI1N3HE9OyoZ31/1BBakTfBkaURENEC8RBhsynb0/LzNIrRtSJ/snXqCnd0Cu7ECRrsCr+jzsNmUgmprGEYom3BTaAku15TjPGW96CUXDx2HN+fcD606TKKiiYioNwxYwSYqufdj2KbBK6y6z2AqWIY2uxK/qL8EhRZtx3M1Jg1+MCXhZnMxZqurO9aXjv8l/jh+IZTy7kfjEBGR9Biwgk32TGBrD0Oso4cCCcO9V08QstZvg7nwUVjrtwEAnmydJApXXb3dlgOdTYNwlQbPX3ArFg2b6c1SiYhogBiwgs3E64Af/wkUfe/6+ete8249QcTWWgBT4aOwnhb3HltryOjxddutw/HtL/6GvJiex+EQEZHv4Cb3YJQ9y3kteihw5xcck+MB9vbTaD94OwxbxzqFKwBotnc/4gYAUiMSGa6IiPwMz2AFo4JvxI9/8SQw/1FpagkQ9vbTsJxeC3trAWRhw6FIWABZSDLMpc/CXPoMYHN9Z+apmF9CUSOD1W7v9r1ztCmeKpuIiDyEASvYNFY430k4/WZpagkQltNrYTp4G+zmxi6rcsgUGtitbS5fI4+ejs3Rd+LOvfmw2ntui3F11jQ3VktERN7AgBVs9q8VP86e2bc7C8klW2sB2vctdnGGyuYyXMnDh0M+4u9YVdmO53d+1uv7XzdsJn6Vdb6bqiUiIm9hwAo2+/8rfjz+WmnqCBDmkie6vfzXlSwkGercFTgTvxBLvn8ZO3SFTsfkaFNgtllRoa9DXvRQ3DTiItyeN98TZRMRkYcxYAUTfR1Quk28dh6HOw+GrbGXxq0A1Dl/hmr4Y8g/XYI7PlsOnaFR9LxSrsBT025imCIiCiAMWMHkoMMlqdTxHO48QDZ9CczFf4VNX9LjcTJlOFS5K7Fq31o8c2AdLDar6PmU8Fi8O/cBTEnM8WS5RETkZQxYwWTvh+LHE3h5sL/spjqYS56A+eRrfbo0aI2aimu/WYVvKw44PXfx0HH454X3IE4T6YlSiYhIQgxYwUJfBxRvEa9NuE6aWvyRzdjRckF8t6Cg3haCLaZkFFqiMUTehnkhVRiqNOK3FQnY0iIOV0q5Ag+P+yUeHncNR94QEQUoBqxgcfAzYZDzOanjORKnL+wWWCrehanwz7C3n3Z5yGb5VDxQl456a+dfp7+1TkCqog2lFnEv36TQaLw++x7MThnj0bKJiEhaDFjBgpcHu2e3wFq3Gbbm/YAyAorY2ZBHjukYxmxrLXD5MlloJk6mLsXdP++C3iq+XNhul6PUEiFam540Am/NuR8p4bEe+1KIiMg3MGAFg8YKXh7shk1fgvb9v3W6G1CuGQKbsdrla2SqaKhyVkCVcSde/XE19Obe92I9eN7VeGzir3lJkIgoSDBgBYP9a3l50BW7Be17fy2cuXLgMlzJNVBlPQDVsD9CpooGAOyrK+3xI2QyGf598cO4LG2iW0omIiL/wIAVDBybi05ZLE0dPsZSucZluHIiU0KZuhjqkU9BFiLuem9D9zMEAUAtV+CS1HGDKZOIiPwQA1agqy9zbi46kZcHAcDWsL3XY+SxsxAy5h+QRzpvSl9f9jOKm6p6fP35SXm8LEhEFIQYsALd7jXix9kzgeih0tTiK2xGmE/+E5bK93s9NGTUc07hSm824tGdq7G66PseX6uUK7By6o2DKpWIiPwTA1ag2+dweXDS9dLU4SMslWtgLl7Rawd2AIBc4xSuDtWfxK3fv4iiXs5cpYTH4qWZd2JsbMZgyiUiIj/FgBXIKvcLv86RK4P28qC1bjNMxx7u256rs9QjHgfkmo7HLx/egBW7P3Aad6NRqPC/k67DrJQxONZQjvSIBIyNzUC4SuP4lkREFCQYsALZLofLg6MuBcLjpalFIrbm/TAdWwpr3bcun5epoiBTJ8OmL+qyqIQ6dwVU2Q8BAKr09fj9D69hS9Uhp9fnalPw5tz7O85U8YwVEREBDFiBy2Zxbi46MTAvD9r0JbA17gRsRsijp0EeOaZjGHO3+6xkSqgy7xVaLoQkw9a8H7bmA5CpoiGPntZxt+D6sp9x37Z/osnU5vQWt4y8GCun3MgzVURE5IQBK1CV5AsNRs8JiQDGLZSuHk+wW2A6thTmEy+IluXhObAZTgG2dpcvU6ZcD1XuSsjDhV5gTaY2fFBejYP1BmjVMpyfdArzUqOxdMc7+HdxvtPr4zSReGnmHbg8fbL7vyYiIgoIDFiBauc74sfjrwUC7EyLqeBRp3AFADZ9scvjFXFzoB71PORR4zvWdugKccuWF1Glr+9Ye/XIV9Ao1DBaTU7vMSdlLP4x6y6OuyEioh4xYAWi9lbn5qJTl0hTi4fYjRUuw5Ur8qjxUI9cBUXCAtF6k6nNKVyd4xiuNAoV/jzpOtw75oqBF01EREGDASsQ7f0I6DofL3ookDNHuno8wNa0B7BbejxGpoqFetRzUA51HS4/Pr7NZbhyNDY2A/+48G5uYCcioj5jwApEjpcHp/1Omjo8xFq/DabCZb0epxr2SLfhCgCONZT3+h6/yjof/7jwbmgUqn7VSEREwY0BK9DoCpxH45x/qzS1uJmttQCmwkdhPf1pn46Xa3vehG6y9XwGDAAeHHc1wxUREfUbA1ag+fld8eOcOUBspjS1uIm9/TRMhcthqXin18uC5yjiL4Yifl63z7925Ct8XLKt2+cB4W7BvGAfK0RERAPCgBVIbJaAujxoNzfCXPoszKXPADajy2NkoemwG06J1hSJv0DIeW+4PP5UODZUggAAIABJREFUay1+/8Nr2FZ9tNfPf/6C2ziomYiIBoQBK5Ac/AxoPt35ODQamODjo3FsRqHJp7ES8shxQm+qs8OYzSWPw26qc/kyefR0qEc+BUXcHNia98PasB2wWSDXToIidqbL17xx7Bus2P0B9GbnsCaTyWC32wEIZ66ev+A2XJU51X1fJxERBRUGrEDy07/Ej6cs9uneV5bTa2E6dJcoRMkj8gCbAba2MpevkYcPhzrvGSiSru5cixov6m3lqKezVlp1GFZNW4KrMqfiaEM5IlQa5MWkDeKrIiIiYsAKHPVlwLGvxWs+3PvKemYL2vdc67Ruaz3m8nhZSDLUuSugTLsVkPXtj63FZsVrR7/G43s+gtFqdnr+0rSJeO6CWzuahk5JzOnHV0BERNQ9BqxAsf2f4sfpk4VfPsp05L4+HSdTRUOV9QBUw/4IyF2fjWsytWF/XSmMVjMmJwxHnCYSRU1VuOeH17Crxrmr+7mzVr/JuXBQXwMREVF3GLACgdnovLn9wnulqaUP7OZG2FoO93yQTAZV5v90DGN2xWKz4uXDG/D43o9hsVk71iclDMeRMydhtPV+1oqIiMgTGLACwSH/2dxuN9XBXPinXo+Tx8yCetTzPR7zzIFPsWrff53W99SWOK3xrBUREXkTA1Yg2OIwk2/a73xvc7vN2NFywW5u7PVwRWzPQUhnaMQzB9b16aOvzpyGp6bdxLNWRETkNQxY/u7UbqBsh3htxp3S1OKK3QJLxbswFf4Z9vbTvR8PQKaOhyqj569hT22J6LKgK+HKELx64e/ZboGIiLyOAcvf5f+f+HHepUDSSGlqcWDVfQZTwTLYWgtcH6DUAtZWwN4ZlGSaoQgZ/x5kmp47qOsMvZ8Fu2/slQxXREQkCQYsf2U2AiX5wL6Pxete3txuN9XB1nIY8vDhHaHIWr8N5sJHYa13PYpGpoqGKmcFVBl3wqYvgbV2I+zGCsi1k6FIvAIyVXSPn/l2wWYs3/XvXmtj2wUiIpIKA5Y/+u5ZYMOfhZDVVcIwYPQVXinBbihD+4GbYT2zpWNNHjkGCEmCrW6z6xfJNR0tF86FKHnkGOF1fXCsoRz3b3/DZesFR1MSczB7yOg+vS8REZG7MWD5m6/+Cny1wvVzMd4Z6mw3N8Lw4yzYjRWidVvLYcBV+wWZEsrUxVCPfKrblgs90ZuNeObAp3jp8Be97rsChHD15pz7OEeQiIKW3SK0qZEplIBMJnE1wYkBy580VgAbH+/++ZJ8oLYESBju0TLMxX91ClfdUSRfA3Xuyj6fpXL05andePint1Glr3d6LlylwfKJi5CtHYJdNUUwWs04P2kE5g+dwHBFREHHbrGgqeAgmo8eRHttNWC1QRmpRUTuKESfNwmqSK3o+LbyMpzZkQ/teZOg1sai6fBe2GFH7OQZUEdLeNe13Q7dlo2wGvSInz4b6th46WoZBAYsf1K2E7BZun/eZgFO7vR4wLKe+a7XY7oOYx6I0ubTeGTHO/i24oDL56/ImIynp9/c0Xph/tDuZxESEQU8ux01+RtRsXY1Gn/eAnNDHWCxQx6qRsSYKUi5+kakXHFtR1ixW62o3rgOp9d/gNxHnoLVaMDJ918FbDaEZw6XNmABaC0+At3GdVBFRCFu+oWQq0MkrWcgGLD8SUsf2hw0960VwkBZKtfA1uJ6XmAHmRqhM37q0/ttrjyIbyv2o0pfj7FxGbg6czo+Pv4DXjr0hcv5gekRCVg1/SZc7sNjgIiIvK31eCFOvvcqGrZ9De3kCxEzZRYUoWFoOrwX9T98ibLXKxGakob4GfOg0GjQerwQtZu/QGh6NsLSMmFqrIep9jTsNivs5h7+Ie8NMhnizp+D6vUf4PTX6xAxfCRCU9KkrWkAGLD8Sca03o9Jm+SRj7bWbYbp2MOwNe/v9Vh51Hm9HmOxWXHrlpfwWdnOjrXPynbiib3/gd1udzpeKVfgvjG/wMPjrkG4rzVRJSKSWPXGT9F8cAfCR45H5i3/g/gZF0GhCUVL8TEU6FtQ/8NG6DZ9hqiRYxGakobTGz9Fa+EBDH/gb1DHxsPU6LwNA3Y7WkoK0FJ4GO21OsjVamhS0hAzfqpwhksmg91qQdOR/WgpKYDdbIJ27CRYWprQXlcD7diJCEtJh0wpjhotRUehLytBaGo6rIY2tJWfgFylQljGMEQOz4MiNAyRw0YiLHsE6vI3IPGSqxASn+h3Z7EYsPxJ+mQgZQxQ1c0cv8zp/7+9O4+Pqr73P/4658yamWQmeyAQlrAEBBGEQgFFKw/3ui+gpWqv3bzVamm1V7HVtuqtva12uW2t1Vosv1pc6qXu1l0UJWyyhM1ACAnZt8lk9nN+fwwhDJnMZMJIAn6ejwcPMud8zzKTk5x3vt/v+X6hdH5aD6l3bCRY8QMiTf/u9zaW8cuSlvmfTc/HhKtu8cLVnMKJ/Gb+N5jgGt7vcxBCiM8LIxSifeNHhJqbGfUf3ydn1jxMjkwAssqmkjPnTDxb1tL60dsEl9yEYrHQ8vG7qGYrWWUnY3I44+63dcNHVK/8C61r3kQP+NBDIazDSig6/ypGXrEEa34RTR++zb7/9ygdGz4ARcE1Yx7h9lZ8tVVM+MH92PKL0I4IWM1r36P22b9iKx6NEQ7h3b0NIxIhY+xExtz4PXKmz0bLcOCePofWNW/SuvZ93FOmY80v/Mw/y3RSB/sERIpMfdTeFJ8CS54ENT2ZWffuJrBxCb73pscPV4oKyhHHUkxYJtyDVnhx0v3/YetLScsU2t38acF/8soF90i4EkKIPgTbWwi1t2KEIWvytF6d2d0nn4o5twh/zV4iXZ14tm8hUL8f++jxmLNzUeI8FBTqaKN65V+oe/6vOCZOY/Q3f8jIJTcTbm+h6vFf0rJ+Db4D1VSvfILmt/4P16nzGfnVm9HsGXgqNtC1czsRbyfE+aM51N5G195dtG/4EMe4SYxY9A3M2Xk0v/UCzavfJOTpACBz/CTMrlxa139AsD1ODdsQJzVYx5Ndb0enxjncqYuio7fPvHZA4Ur3bEGxFqFYDnZ8DDYR2n0foao/gu6Pu41p+CLME34KRphI3bPondtRnWVo+eegupL3jdrX2Uh7sCthmRJnHu9d8nNcloyU35MQQnye6MEgxsEhbFSzGdTYuhNrfiGaPQMjGMbQdbr27yXc2YFz/JQ+m928e3fTsbkcxWKlZNGN5M3/EnoohK+2irrnl9O67kPQdby7t2Jy5zFy8dfJ/cJ8vHt3491dQaCuIel5Z02ZycjLv0rGyNGEvR66Kivw19cQCfgAsGTnodrs+PZsJ9KV+J4xFEnAOp68cm/s65Mvgev+nvp+jDDBnfcS3vswRrgTADXzJLSc+YRr/9HnZMxa7hlYJj+EmtXzxJ467q6UDr2mfge3r3kiabnpeaUSroQQoh8s7my0DAco4K8/gO73R18fFGhuJOL3Yc7LR7NnEPH7MMIhVJsdRYvfkBVorCfi78JaOBJr4TBUswXVbCGjpBTNkUmgvhZf7T50vw9r4QiseYWoZguO0eMw5+Sh9KN9zF4yFi3DgaKZomHKascIhw/VemlWG4qmEelsx4gMcsf7AZCAdbzY+mK0Butw5/14QLsKbFhM+MAzMct0z1Z0z9a45dWsU7CU/Tda/jkDOh5Ea63uLX+KZys/6Ff5hSOmDfhYQgjxeaJlOHCWTqJ97Ts0vfMq7mkzcY6dgKJqhDs7aP7gTYL1+3FNn4fJ6cKU4UA1mQl3tEUDTRwmhxPVZCbUGg1nhqGjoBBqbUIP+DA5MzFnuVFMZkItjYQ97RiRCIGGOiKdHujdMtiLajajdCexOGOhhjo7MIJBNKcrOmDqceb4O+PPqxeO6Dh+8iXRflcpijS82Ctc9UWxj8Yy4R5MI65L+TjdvCE/D29e1eewC/HMKhjP4nGnD/iYQgjx+aJQdO6ltG1YQ/N7L2F2Z5N96lxUa3Q4hroX/oGiqhSeexnW/ELsw0agOTLxVX9KxBe/6c1ZOpGMMRNoqtxG7fMrCDY3EOpop+WDN8HQcZ8ym+wZs6kbOZbW919h/7PL8ezaRueubXgrKzD0o39X/tpqwl0e7CXj0Oz2o9/hMSYB63iw8VmoOWJ4hAHWXvXnaUDFnIV5/E8wj/omqAMbEiGsR/j77nf52bqV1PviNzmeMXwqVZ4G9njqDy27ZvwCHpj9VRmJXQghUpA9fQ4lS77N/qf+zIF/PkHTOy+jmq34a/dgLRzBiK98h/wFZ2POzMI5fjKWvCI8Wz4m3BW/I7o1v4jiy5YQamvhwPNP0lr+PqGWRvSgn6JLridn9mlkjBhN8RXXoft9NL76DG1r38VWPBrVbEExKdG+YEcxTY+vtpqI10PWwosxZ7mP5uMZFBKwhjo9DP/6YeyyU64YUO2V3rmd8IGVSctZZzyLlrcw5f13e6PmE5Z9/DcqWqvjrp+eN5YHZn+VOYUTAaj1tlDjbWZy9kgZ40oIIQZAtVgYdu5l2AqG0751A4H6Wgw9OlVO5oSTyJ19Gtb86FywtsLhuE6eiWfLWnw11UROmo69qJiS624Gw8CaXwBA/ulno9kdtG9eh7+xDtVixV5cQv78hdGBPw2DvNmnoWoavpp90T5ao0vZ/dv7CNTVYHZFmxCPlPuF0zBlOMicOAXNEe0r5p42izE33YV9+AjMWW6McBjvnp1gGOTMmo95kEeWHwgJWEPd6kei8wt2U03w5QdS2oURqCO4427C+58AI3lHQdU9p1/7faPmE1bufo+d7bWUOPOZnl/K2zWbebt2c9zyhXY398xczOLxsc1/wx05h6a8EUIIMTAmh5P80xaSO/s0Qp52DF3H7MyMdmY/rNe5oqoUnn0xLR++RdPqf5M9Yw4ZI0ZRctX1MfvTbPbo/r4wn1BnB6rZgsmRiaJFWxjCng5qX3oOX00VrikzsBeX0PnpDoINtVgKirDmFqCae8eMnJlzyZk5N2aZe+qpuKf2DJTt2bmVzh2bcc86nawJJ6FZj78/viVgDWW+Nnjpnthlc2/s91yDRqiNUOUvCVX+T59DLhzJNOpbKKb4g84d7vY1T/Cnba8eer2hqTLuwKEANs3MrSdfzM1TLpAaKiGE+IypFivW3IKEZdxTZpD/pQupf+VZPLsrsBUU9Tlkg2q1YY0TcBRNI9BYR8PLT9P87itYC4bj3b2NSMBP8RU3YCsqJm7v9SQMXafu9VVE/F0Mv+iag/s5/kjAGspevhe8TT2v7W44tx99r3Q/oapHCO3+GUawKW4RRdEwjEjMMi33DCxlv0i6+1V7P44JV4lcM34By2ZcJTVUQggxhKhWG8MvXow1vyhpGOuLluFg5OVLyBw/Ge/eXQRbm8mcPB37iFHkzzsLa97A9gsGztIy7F+7jZwvzEOzH59D9kjAGqrqt8O7v4tddtb3Iavo0MvuMawOr3EK16wgtOsedO9u4lEd47BM+h/UrGmE9j2G3rERxexGyz8XU/G1/Tq1RyteS1rmjOFT+ekXrmVqzqh+7VMIIcSx5RwzHueo0mhH9AF2Rs8oGUtGyVj0gJ+wtxPNZkO1ZaCoA58oRlE1hp198VGd11AgAWuoeubmaAf3bjmj4cylQHSoheCOZYcmXlazTsE07ErCB57uczJmxVoUHXJh5H8cmuLGMvGnKZ2SPxLiie3/5oO6ioTlNFXl+XPvTGnfQgghBsFRBKGY3VhtWNLZTypN5zWYJGANReUrYMcRwylc/jCYbYRrVhDY+JWYVXrHRoJ9BSuzG/OYWzGX3nFUQy48/elqHtjwDPs6G5OWH+UcaLWwEEIIcWKQgDXUeJvg2Vtjl006F6ZejBFsIrjlW/3bj2LCPPo7mEvvQLEWJS8fR3ew+sWmf1LZUdfv7c4YPmVAxxNCCCFOFBKwhprnbovt2G62wRW/BUBvXX2o31Ui3ZMxq47+PW0Yz0v7ynlg/TNsbqmKu15RVIw4Q/WWOPP58czFAz6uEEIIcSKQgDWUbH0R1v4tdtl590SHZdD9hPY9mnQX5jG3YJn86wGfQrJgZdPM3FC2kG9MOoc/bHuZf+x+j/ZgFw6zjXNHzuDBOdfLJM1CCCE+9yRgDRXeJvhb7CBvFJ8CZ36XcPVjBHcswwgkb6bT8s7u1+Ferd7AH7a+zIamTxnuyKXYkUOtt5VtrfviljepGleVzufHMxdRaI9OWfDgnOt5cM711HpbZBgGIYQQ4jASsIaKFTfENg2qJvTzriPw/nT0zu392oXqLEPLOytpuYc/WcU95X8/9Lo92NXntDbdwer70y5hbFb8vlwSroQQQohYErCGgrd/DVteiFkUnlJMoPq2+OUVpdfknIolD+spTyZ9UnBDUyU/W598PsL+BCshhBDpFW5swNAjyQseJtLSjBEMprSNEQoSaWlOaRsAPRgk0pr6dhB9b0RSe2/dQvUHBrQdQKS9HcPXlbCMll/AiIceGfAx4pGANdj2roHnvx+zKOKGQFGcPlCqDfOYWzGNvJFw9Z/R28tB96O650SfFrTkJTyUPxLi5xufIZzkh/eK0vncOf1yCVZCCKD/N/3+3OhNlbvoMkL9vrnrfh+R9rZ+lTWCqYWGcGtqwSTVIBPxdqJ3evpdXpxYJGAdY0b9WvR/XI26rwolpKNnKBguA6314HoTBE4mdvomxYSp+CtYyh44NOSCpaz/Ez57Q36e3PkWD32yinpf8l9UN5YtlHA1QKH6A5iyc1EslpS3DeysoKv8I8KNDVjGjMU5/0y0nNx+bx+srqL5T7/Ft2UTWX4f+8eXkX3tDThmz0v5XD6PIu1t6H5f3+uT3FwjHYn/SjYiEcJNDQnPQe9MfkPuz027v0Ej1YCRDg6g9pgeUXweKJqGMcDaMSDpz+ZASMA6hoza9+GXp6OFepr3VK8BXohkg9YaDVeGvWcbregSLBN+ipqZ+thS9b42/rL9Df6w9SXag4mrRw833jU85WMdz3Sfj863Xyfw6S4Ui4WMGbPImDknpe2b//RbPG+8jO7zoWgaGbO+SP4tt2PK79+gq82P/Z62p1fE/IJo/ssjFP7gbhxzT0+6vX/LJmruuPnQzVIB/BVbOLBsKXk33Yb70qv7/X4S0Ts9RLy9hwoxfF1E2tvjbhPuo2o/UVCItLRgBAPx99fU0Ocv0kRNAfoAm0SEGIijveGL1BztZ/1ZfK8kYB1DxmMXoIaMuOu0VgiNgUh+9LXqnoOl7AG03DNSPk5lRx1/3PYKy3e8iT8SSmnb+cMmk2vLTPmYRyO491MirS1Yxo5Hc7lT2jbw6U6aH/s9/oqtEAljKZ1A7vXfxD5tRv+231lB3U/ujGnfb3t6BY55Cyi84x5Uuz3B1tEfyprbvkng050xy7xr3sdfsYWRf1ieNGR5XnuR1qeW91qud3qov/9u8r+/DFN2Lrrfh35EU4nu9xFubaXjn//osyai6Y+/xr95I7rf16uMEYkQaez9l1sqzTLi+CQB4LM10M9Wy8lFNadWA67lpF5rrlgsmLL7X0Pes50VLWdgDzaZ8gpQNG1g2xYOG9B2AJrLhTIIE0YrhmHEv+OLhGbOnEl5eXm/yxsdVSjLRicsExoF4VOjkzFrhRcnLLuvs5E19TsAOCVvLBNcw9nQVMnDn6zixX3lffazsmlmpuSMprxxV691ubZM3rroPkqc+f17T8EggZ0VBKurMBcNw1o2JWkgOVxX+RoafnV/tOPjQc7Tv0T+Lbf3K2h1la/hwLKlcX+RFXzvTrLOuyjh9rrPR/XXr+mz86Rj3hlknnVOTI1IpKMd/bDXXeUf49/2SZ/HUN1uNGvsZxLpaEP39d0UJQZGAsNnx5RfgKImvzH250bv8XjIys3t981dsWeguVz9K2uxYsru/81fy8lFSSHMpBpkNIcT1Xls/2AVR2fdunWceuqpadmX1GANkHXiElbvjDCtRMVpSz7bt17xB5L9elJDmdgXVByajDkeb8jPveue4k/bXo1ZXmB30eCL30QD4LJk8O2TzufbJ52Hy5LBy/s2cN9Hz7K7cx/ZWhZfLJ7KL+Zd0+/aK9+m9dQ9+FMiDT3hRM0roGjpnf1qXutuvjryhtj57puEavYz4n//gt7ehh6K1rhEGnuahcJNjRg+H82P/77PG2rjr39Ox8urUCyWXrU0/Q043tVv4139dtJyiehtbehITdCxcLThSnO5UW19/4GQ7OaqOjPRHM4EB9CS1mYm3cfBMmqSMorF0q/+ewPtL3g01q1bR1mabmBCDGUSsAbIdtKN/OgZP64MhdsvtDJnXPz4pHdsJFjxA/S6f5O0gjK/LGG4Arj746d4fMervZY3+NpRDBOGEo5ZPtyRwy1TLuT6soXYNDMA+/a1E/jZ//HEnp4JpTstu1hdOZ6Lvv6lZGdJqP4ANXcthUBsSNGbGqi9aylFy36KluUGPXKodircGu1To/uizVydH7zb5w0x8OlOPj336DpmG5EI/ootR7UP0Ztqt0e/t0dIdEM391G1rzozUZ3xg4KWnYvax40/Ua1DoqYA1dy/0CGEEOkgAesotXcZ3Pucn99eZ2dcoXpoue7dTWjXvYRr/oYSAusm6Mx24mztYy5BBcLz/ithLVdlR13ccNXt8HA1NWcUN0+9kMvGfBHTYVX7wTDs+uEdTGncGLOtM9jO5JV38qpxD2eePZ5Ie/uhp6K6w1F3x+OmdZuwBPqoAdIjVN5/Hxlhb4J3klxENaHp4eQFj4KBgsLRtZAHNRuWiL/P9SHVgllP/JSW15SJI9z3U2GR4WNw5mej2jPQsmKbSrr7Q1Sueh13W/zpjQJmB8Nv/CaW4uJeNTSKpqHFqVVRbfaU+8MJIYToIX2wBuis++MHiCxTM1cVPMi5uY9hUf2oHrBuBLULvj3sXX7b+iVM/t7B4f1h5/Njo+8BQDusW6l3vEyHJfGo7s7QBIZ7vkxmcBKqESE70Igr2IIj1IEz2E6Rbx/nVj3V5/Zt1jyygq2oRt/NLa3WArIDfT/SGtDsWCNH18eowT6cAl/fD3O3W3NxBRI/EVbjGEOxd0+f63e4pzGxbVOf67tMTrbmziKs9NSWeCwuAlrPYK4t1iKu2/5gn/v4v7Ff46PC2NH1O83umH2M7NzNneU3xf3MG+zD+dmsR2PKx1PUVc0P1n8XZyi2mVhXNB6bfCflBak/LCGEEJ83V089wDe+PC4t+5IarDRRMLiy8Bdcmv9rHFo7GGDeDZZKwIA9psnsNGawKHsny/SvMKFrI+ZIiDZbLk/Zb+P5yH/22mdE9dFsW0Njxhv4TXVkBccnPY85tSZu3vRLXMGWXjdbgG05MxNu7w40ccAximHe+LUhALqSuM+ZriTubdZqy8ca9pER7qM2D6h2jiMj7CWgRWtc2i05hNVoE2erNZ+qzAmcXvsvirriT/HTaXbx17IfYNWjtUvNtsLD1vUEnO9sXsbUpg/j7mPluJv4cNg5Cd8LgDvYxJf3/LVXQFpbeCavlCxK+nlUO8fx0Cm/4PqKB8n198w3uT17Bk+U3Z40XAHUZYzkx7P/woV7ljOufQtmPUB15jheLVlEtTM9vyyEEEL0nwSsw+zZs4d//vOftLa2MmrUKK666iqysrLilv13UyY+u521joX8t/I4Tq2NrxT9BACtASw7orVW3SxEb/TeiMJdzKC6oIQWm87oDiuFnQVg7SnrM1fTaH+HFvuHRJSesYAmtoZY25MT4vpiXUPCWhtnuCPJpwAmPfHQDjXOMeT66/tcX5057tBUPs226ICl3TU/IdVKs7WA7GAzV+z+Y9ztu0xOnh53E622xE8zfuqewnc33t4rqIVUC09Mup2qrIkJtwd4dPIyLv30Uc6seT7m+P0NVwAvjbqWne5pzKx/i2LvHlqt+WzMn8/6/NP6tT3ATvc07vziCoq9e8jx17PfUZr0/R+p0+ziqQk3p7SNEEKIz4Y0ER6k6zr3338/F1xwAZMmTeKFF14gFAqxePHi+Bvc0lOL0+7O5tcFv+SH2tcw7QO1j+5HV+SuYWPer2iyq73WLdg/CoUF7HE9S1Vm/B0sqVCodXTyRokj7voz9ntZ9rGOO9AUdz3AXtckRrdX9LleVzQa7cNot+TSZc7EpzkOhaN2cw5h1UKjfTi3bro9bt8iXdH4xYyHqcya3OcxAFQjwuKdv+P02lUxyzvNLh6f/F9szZmVcPtu2f5GLty7nDEdFZj1AFVZE3lh9HXUZYzs1/bdMsKdjPLsxGdyUOMYQ0g9tk9WCSGEGHzSRPgZqK2tRdM0pk+fDsCCBQv43e9+169tXW2tfE+9BUtLHwUceXD1H/G//UjccAXwfnEVozueoCoz/nrNgHxfM1/bFq2tOTJknVbTxbKPm3EHYpupTPkFaNm5aC4XpuxcpjoyaXixBnswfk1Wy2lXMe/u7yZ4t1DXbvCr++/hms0/j2mG7DI5+cfEW7jjtlNjOvzH8+72MPc+913WFp7BpNb1ZAVaqM4cR3nBGTjz3LzwdTt2S+KmyEfeCLLyo3yeLFvaa92ccRr3XZW4aS2iw61P+thWo9NlclKRHTs46bfOsnDlbHPCfTR6DG581Eenv/ffKZoKDy+xM7k48WexqSrC91bE7yif41D489ftuDISfxbL3wvx1/fid6afNkrjV9cmb2YU4lhI5zhDQqTbunV9D3eUKglYB3k8HjIze8aAcrlc+Hw+QqEQZnPimyxARjBOfyLVBLOvx7jgZzRt2cb7WQnmOVPAFQgCsTfCgq4wl+/u4OLKTvJ80fD089UNbN5uZWtutF2xrDXIKY1+FFUl7/t3YRs3EVN2bp+PpIdPOY3GB+/B6W2MWd425Qxm3/HtpO+1yKVw7U0L+N2zk3BXb2K4t5IG+wiaRszgG5cPSxquAE4vM3HLOQaPvnUKO93TDi0fV6hy1yXWpOEK4IYFFoIReL48tknz9DITS89PXgMjlfiDAAAJ+ElEQVSlqXDvFTYe/FeAtZWRmOVfmWfhslnJv+/5mQoPLrbx36sC7GvWDy13ZSjceq4labiCaAC68yIrv3ktGBPUxuSr/PAia9JwBXDtPDO+oMGza0NEek6DOeM0ll5g7XtDIYQQnwlpIjxo8+bNvPfee9x0000AhMNh7rzzTu69917s8UYnvyX2pmeYoHuUhIih8EZzNm/UF1EacjDLolKda+Wr5ySe4++k5sCh0DT3gI/zd3cwYV8XdRGD+ohBTQTKTAoLrfFvuM/4dZ7x6XHXHcmhwGnuYYyyOuiKBNnY1cFmb4oDYqoWTHlT0TJLiHjriDRtxAin9vSgYnGh5U5Fy8gn0rabcMs2SPAEY9zTcBZjyp4MmoVwyzb0jr77oPVFyy7DlDOJiK+ZSGsFhq8x+UYxJ5GGz8LsjH4WjqLoZ9G6A5IM8dDrNBzDUF3jUS2ZhFt3oLfvTml7IYT4PFu8eDFLl/ZuFRkIqcE6yGQyoes94aT76z5rr34Tm0sPjzwacPbBf92mw2c+nvcPD/4TQgghxOBK3n7xOeFyuWhv72l7bWtrIyMjA5NJMqgQQgghUiMB66CioiJUVWXt2rX4/X7eeecdJk2aNNinJYQQQgwJoQgxfTxFYtIH6zBVVVU899xztLS0MGrUKBYtWoSzj7nShBBCiBNdKAKbqmFvE3T4DFRVwWWDiUUwqTi2ewxAZQN8VAnnnQzuw6YF3bwfvAGYU9qzbOM+2FUPF08HywnYWHQCvqWBGzVqFLfddttgn4YQQggx6AzgxU3w2jaDXY0QjETHkHaYDaYMhwunKSw4bDzniA4ry2Hj/mjA6tbogSdWQ4ffYE5pTyTz+OGR9wxGZCt88QSccEIClhBCCCF62VYLT3xo0OyFM8ZD2TCFiA7rq+CDPdDYaTC+UGG4u6f8WzsNzjtJwZ0Rrc2qaob1++CjKgPDiIa27og1vQSybPD3j+HkkeA4wUaUkYAlhBBCiF6eXguNnfCFEoXr58HYfNANmDZCYW9LtFbr9a1w3bxocHp6LXiDcGZZdPvyvfDGdqhqOTR7WgynDeaOVVi12aB8b2xt2IlAOrkLIYQQIkYoAh9URlPRZadCaQEoSnQg5mklMGNktB7qvYND7R1ogw/2GBRnKUyMTkHLuAI49yRYnGDmszMmRpsWX/jks3w3g0NqsFKUyoTQQnzWGhoa2Lx5M1u2bOGCCy5g3LiejgxyrYrBtn79el5//XU8Hg8jR47kyiuvJCcnB5Drc6hr7ozWRgFMizO165yx8GoFVLcaRHSFT6rBF4IJhWA7OHzkjNHRf/Ud8Kf34x+nbDioCnxSY+DxK2Qeo1m91q1bx+uvv47X66W0tJQrrrji0ENt6bo2pQYrBbqus2LFCs4880zuuusu3G43L7744mCflvgce/LJJzEMA5/Px+EPBMu1KgbbgQMHWLVqFYsXL+ZHP/oROTk5PP/884Bcn8eDQLjn63hP+BW5YstVHpz8oiDFHOK0gsOi0BmA+vRNA5hQfX09//rXv1iyZAl33303DoeDV155BUjvtSkBKwWHTwhts9lYsGAB27dvH+zTEp9jS5cuZeHChVitsb1D5VoVg83n83H22WdTUlKCxWJh5syZNDZG78JyfQ59uU4wadGva+NMQ9LQEf2/MFNBU6HrYG2XPfkUrr1013h1pTYz2IBZLBauvfZaiouLsVgsTJ06lQMHDgDpvTYlYKUg0YTQQgwlcq2KwTZ27Fjmzp176HVlZSWlpdFBkOT6HPqcVphYEO1n9eoW8B/2rWn3wVs7ol9PP9h82P0EYFtXascJRsAbNGL28VnLzs5m/PjxAHR1dVFeXs6ECROA9F6b0gcrBeFwGFXtyaTdX4fD4b7nLBRiEMi1KoaSmpoa1qxZw3e+8x1Ars/jxaJZ8MAr8MpWA4dVYUxutEN6RR2s2WtQkAkXTIuWLcmN/r+3ObVjNHmiNVc2M+Qf4y54f/7zn9m5cye5ublcfvnlQHqvTQlYKUh5QmghBolcq2KoaGtrY/ny5Vx11VW4XNGOO3J9Hh/mj4fFTQqvbTNYvsZghBvCEdjfDqV5cOHJClOKo2WnFkf7au1tgYgB2pFDvPdh38FAdtKwY9fBvduNN96I3+/ntddeY+XKlVx33XVpvTYlYKVAJoQWxwu5VsVQ4Pf7efzxxznnnHMONcmAXJ/HC4sJrpwFJbkKe5sM2n3RJ/6+ZIeyIoVTx/QMGjoiB6YOU1i/36C2VWFkTs9+nFb41mnRr4/MXRXRrk+cM7n3us9KQ0MDHo+H0tJSbDYbs2fP5pFHHgHSe21KH6wUyITQ4ngh16oYbJFIhOXLlzNjxgxmzJgRs06uz+NHpg0WToYlcxW+OlfhunkKS+YqzB0P1sMyh6rAlaeCWYV/b4vdh8Ma3X7J3NgI1emH93fDuHyYXcox09XVxYoVKzhw4ADBYJDy8nJGjBgBpPfalMmeUyQTQouh6KGHHuLCCy+MqSWQa1UMpu3bt/P444/3Wn7DDTcwadIkuT5PQP4Q3PcC7Kg3+N9rFfIzE5d/Yxvc/wosXQjnn5y4bLqtXr2ad955h66uLsaMGcPll1+O2x2d8ydd16YELCGEEEKkxfYD8FGlwfknJw9Yaz6FPU1w0Skn3jyEIAFLCCGEEGmkG9Emw2SMgzM/H6u+V8eaBCwhhBBCiDSTTu5CCCGEEGkmAUsIIYQQIs0kYAkhhBBCpJkELCGEEEKINJOAJYQQQgiRZhKwhBBCCCHSTAKWEEIIIUSaScASQgghhEgzCVhCCCGEEGkmAUsIIYQQIs0kYAkhhBBCpJkELCGEEEKINJOAJYQQQgiRZhKwhBBCCCHSTAKWEEIIIUSaScASQgghhEgzCVhCCCGEEGkmAUsIIYQQIs0kYAkhhBBCpJkELCGEEEKINJOAJYQQQgiRZhKwhBBCCCHSTAKWEEIIIUSaScASQog4XnrpJc466yx+85vfsGjRIi677DJee+21wT4tIcRxQgKWEEIksGPHDq6++mo0TeP3v//9YJ+OEOI4IQFLCCESuOaaa7j00kuZNWsWHo8Hj8cz2KckhDgOSMASQoh+UNXor8tQKDTIZyKEOB5IwBJCCCGESDMJWEIIIYQQaSYBSwghhBAizRTDMIzBPgkhhBBCiBOJ1GAJIYQQQqSZBCwhhBBCiDSTgCWEEEIIkWYSsIQQQggh0kwClhBCCCFEmknAEkIIIYRIMwlYQgghhBBpJgFLCCGEECLNJGAJIYQQQqSZBCwhhBBCiDSTgCWEEEIIkWYSsIQQQggh0kwClhBCCCFEmknAEkIIIYRIMwlYQgghhBBpJgFLCCGEECLNJGAJIYQQQqSZBCwhhBBCiDSTgCWEEEIIkWYSsIQQQggh0kwClhBCCCFEmv1/bhNCsxqrZX4AAAAASUVORK5CYII=)"
      ]
    },
    {
      "cell_type": "markdown",
      "metadata": {
        "id": "_6mgBFOrhep3"
      },
      "source": [
        "Como podemos observar en la imagen,  nuestra anterior variación de BFS se encontraría aproximadamente en O(n^2), lo que hace compleja la solución. Por lo cual utilizaremos un algoritmo que posea una notación mucho menor. Como lo puede ser el algoritmo de KRUSKAL, que como hemos trabajado en clase utiliza de base al algoritmo BFS. "
      ]
    },
    {
      "cell_type": "code",
      "metadata": {
        "id": "HEf3wycInBsG"
      },
      "source": [
        "import heapq as hq\n",
        "def kruskal(G):\n",
        "  n = len(G)\n",
        "  edges = []\n",
        "  for u in range(n):\n",
        "    for v, w in G[u]:\n",
        "      hq.heappush(edges, (w, u, v))\n",
        "\n",
        "  uf = ds.DisjointSet(n)\n",
        "\n",
        "  T = []\n",
        "  while edges and n > 0:\n",
        "    w, u, v = hq.heappop(edges)\n",
        "    if not uf.sameset(u, v):\n",
        "      uf.union(u, v)\n",
        "      T.append((u, v, w))\n",
        "      n -= 1\n",
        "\n",
        "  return T"
      ],
      "execution_count": 10,
      "outputs": []
    },
    {
      "cell_type": "code",
      "metadata": {
        "id": "58NZB3H2nPbM"
      },
      "source": [
        "T = kruskal(G)\n",
        "print(T)\n",
        "n = len(G)\n",
        "Gp = [[] for _ in range(n)]\n",
        "for u, v, _ in T:\n",
        "  Gp[u].append(v)\n",
        "  Gp[v].append(u)\n",
        "\n",
        "path = ga.bfs(Gp, 0)\n",
        "print(path)\n",
        "util.adjlShow(G, weighted=True, path=path)"
      ],
      "execution_count": null,
      "outputs": []
    },
    {
      "cell_type": "markdown",
      "metadata": {
        "id": "opyDy3D5oC-u"
      },
      "source": [
        "# Este algoritmo posee una complejidad algoritmica de O(n log(m)) Donde m es el numero de aristas, y n el numero de vertices. Este algortimo puede ser de gran utilidad ya que la notación Big O, resulta mucho menor que la variación realizada en BFS. Además dado que todos los nodos cuentan con un peso de 1, este tomara mucho menos tiempo en los calculos. "
      ]
    }
  ]
}